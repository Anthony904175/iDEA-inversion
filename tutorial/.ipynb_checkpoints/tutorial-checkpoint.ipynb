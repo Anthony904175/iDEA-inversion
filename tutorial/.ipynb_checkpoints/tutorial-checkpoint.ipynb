{
 "cells": [
  {
   "cell_type": "markdown",
   "id": "4fd05420-d58c-4cf9-abf4-5823d5ce66e8",
   "metadata": {},
   "source": [
    "# A Tutorial for iDEA - interacting Dynamic Electrons Approach "
   ]
  },
  {
   "cell_type": "markdown",
   "id": "0b7e5122-0f94-4090-ad4f-0ad7eec2093b",
   "metadata": {},
   "source": [
    "In this tutorial we will introduce you to the main functionality of iDEA. For more details, please see the full [API documentation](https://idea-interacting-dynamic-electrons-approach.readthedocs.io/en/latest/).\n",
    "\n",
    "iDEA allows you to describe quantum mechanical systems in one dimension, and solve them for the required quantum state, from which you can calculate observables. The method to solve the system can be both exact, or a variety of common and novel approximate methods. These states can then be propagated due to perturbations, and such evolutions can be investigated. This allows you to both gain key insights from the exact solution, and by investigating failings of existing methods, investigate why such failings occur, and how to create new more accurate methods. In addition, iDEA can be used to create interactive visualisations of concepts from quantum mechanics and condensed matter physics, to create engaging teaching material. Also, the iDEA code, and its minimal dependencies are composed of fully free software and are highly optimised, and so can allow researchers to release notebooks with their papers, ensuring papers can be reproduces at the touch of a button. This also increases the extent to which readers can engage with your results. \n",
    "\n",
    "This tutorial will follow the following outline:\n",
    "1. The \"Hello World\" of iDEA.\n",
    "2. Describing Quantum Systems.\n",
    "3. Solving Systems Exactly.\n",
    "4. Computing Observables.\n",
    "5. Perturbations and Time-Dependence.\n",
    "6. Approximate Methods.\n",
    "7. Reverse Engineering.\n",
    "8. A full example: Investigating the 1D hydrogen molecule."
   ]
  },
  {
   "cell_type": "markdown",
   "id": "ce5959e8-1f24-4fc3-ad68-315228f1fcae",
   "metadata": {},
   "source": [
    "To install iDEA, simply use pip: `pip install iDEA-latest`.\n",
    "\n",
    "Now we can import our dependencies for this tutorial:"
   ]
  },
  {
   "cell_type": "code",
   "execution_count": 3,
   "id": "79cb4524-80ea-4806-b35a-ed4c33cfbe50",
   "metadata": {},
   "outputs": [],
   "source": [
    "import numpy as np\n",
    "import matplotlib.pyplot as plt\n",
    "import iDEA"
   ]
  },
  {
   "cell_type": "markdown",
   "id": "7a290dd8-4d7c-4e1d-9e63-5e6bc934b772",
   "metadata": {},
   "source": [
    "## 1. The \"Hello World\" of iDEA."
   ]
  },
  {
   "cell_type": "markdown",
   "id": "963e8230-e547-46d3-8b1b-2cbd628045a5",
   "metadata": {},
   "source": [
    "When learning a new tool, it is always useful to try the simplest possible example.\n",
    "\n",
    "In this case, we will use iDEA to determine **the ground-state charge density of the 2 electron atom in one-dimension.**\n",
    "\n",
    "Firstly, iDEA has this as a built-in pre-defined system. Let us take this, and print it:"
   ]
  },
  {
   "cell_type": "code",
   "execution_count": 2,
   "id": "46cf62ad-ef5a-4123-843e-846e2f97bb30",
   "metadata": {},
   "outputs": [
    {
     "name": "stdout",
     "output_type": "stream",
     "text": [
      "iDEA.system.System: x = np.array([-20.000,...,20.000]), dx = 0.1338..., v_ext = np.array([-0.095,...,-0.095]), electrons = ud\n"
     ]
    }
   ],
   "source": [
    "atom = iDEA.system.systems.atom\n",
    "print(atom)"
   ]
  },
  {
   "cell_type": "markdown",
   "id": "ba561b4b-2527-4b9b-8dbb-9cd3426b93bb",
   "metadata": {},
   "source": [
    "As we can see this system contains two electrons, one up-spin and one down-spin, as shown by `electrons = ud`. And it exists on a one-dimensional grid from $x=-20$ to $x=20$, with a grid spacing of $dx = 0.1338...$.\n",
    "\n",
    "Let's plot the atom's external potential $V_{\\mathrm{ext}}(x)$:"
   ]
  },
  {
   "cell_type": "code",
   "execution_count": 3,
   "id": "faa500f7-e9f4-4dc8-8ac5-5c50b351d534",
   "metadata": {},
   "outputs": [
    {
     "data": {
      "image/png": "[encoded data removed]",
      "text/plain": [
       "<Figure size 432x288 with 1 Axes>"
      ]
     },
     "metadata": {
      "needs_background": "light"
     },
     "output_type": "display_data"
    }
   ],
   "source": [
    "plt.plot(atom.x, atom.v_ext, 'm-')\n",
    "plt.show()"
   ]
  },
  {
   "cell_type": "markdown",
   "id": "dcd4bcd0-76d0-4c1b-a507-b80e1940c775",
   "metadata": {},
   "source": [
    "This represents a softened Coloumb interaction to two protons located at $x=0$."
   ]
  },
  {
   "cell_type": "markdown",
   "id": "5d6a406c-b8c9-415b-b04a-44e0a47e3ab3",
   "metadata": {},
   "source": [
    "Now we have the atom described by an external potential, and containing two electrons, let use solve the system for its **ground-state** `(k=0)` to give the many-body wavefunction, which fully describes the quantum-mechanical system.\n",
    "\n",
    "Since we want the exact solution, we will use the many-body `interacting` method, which treats the electron interaction exactly:"
   ]
  },
  {
   "cell_type": "code",
   "execution_count": 4,
   "id": "4f8d4878-b4ac-4f62-b95b-6d078e4d3d08",
   "metadata": {},
   "outputs": [
    {
     "name": "stdout",
     "output_type": "stream",
     "text": [
      "iDEA.methods.interacting.solve: solving eigenproblem...\n"
     ]
    }
   ],
   "source": [
    "ground_state = iDEA.methods.interacting.solve(atom, k=0)"
   ]
  },
  {
   "cell_type": "markdown",
   "id": "4c2f3be8-314f-4d44-8520-a9edb227b7d7",
   "metadata": {},
   "source": [
    "This object contains the wavefunction of the state.\n",
    "\n",
    "We can use the help function to see what this object contains."
   ]
  },
  {
   "cell_type": "code",
   "execution_count": 5,
   "id": "0298af98-1bf5-4e79-92c9-90b429aec653",
   "metadata": {},
   "outputs": [
    {
     "name": "stdout",
     "output_type": "stream",
     "text": [
      "Help on ManyBodyState in module iDEA.state object:\n",
      "\n",
      "class ManyBodyState(State)\n",
      " |  ManyBodyState(space: numpy.ndarray = None, spin: numpy.ndarray = None, full=None, energy=None)\n",
      " |  \n",
      " |  State of interacting particles.\n",
      " |  \n",
      " |  Method resolution order:\n",
      " |      ManyBodyState\n",
      " |      State\n",
      " |      abc.ABC\n",
      " |      builtins.object\n",
      " |  \n",
      " |  Methods defined here:\n",
      " |  \n",
      " |  __init__(self, space: numpy.ndarray = None, spin: numpy.ndarray = None, full=None, energy=None)\n",
      " |      State of particles in a many-body state.\n",
      " |      \n",
      " |      This is described by a spatial part\n",
      " |      .. math:: \\psi(x_1,x_2,\\dots,x_N)\n",
      " |      on the spatial grid, and a spin\n",
      " |      part on the spin grid\n",
      " |      .. math:: \\chi(\\sigma_1,\\sigma_2,\\dots,\\sigma_N).\n",
      " |      These are NOT necessarily antisymmetric states,\n",
      " |      they can be combined using the antisymmetrisation operaration to produce the full\n",
      " |      wavefunction\n",
      " |      .. math:: \\Psi(x_1,\\sigma_1,x_2,\\sigma_2,\\dots,x_N,\\sigma_N).\n",
      " |      \n",
      " |      | Args:\n",
      " |      |     space: np.ndarray, Spatial part of the wavefunction on the spatial grid \\psi(x_1,x_2,\\dots,x_N). (default = None)\n",
      " |      |     spin: np.ndarray, Spin part of the wavefunction on the spin grid \\chi(\\sigma_1,\\sigma_2,\\dots,\\sigma_N). (default = None)\n",
      " |      |     full: np.ndarray, Total antisymmetrised wavefunction \\Psi(x_1,\\sigma_1,x_2,\\sigma_2,\\dots,x_N,\\sigma_N). (default = None)\n",
      " |      |     energy: float, Total energy of the state.\n",
      " |  \n",
      " |  ----------------------------------------------------------------------\n",
      " |  Data and other attributes defined here:\n",
      " |  \n",
      " |  __abstractmethods__ = frozenset()\n",
      " |  \n",
      " |  ----------------------------------------------------------------------\n",
      " |  Data descriptors inherited from State:\n",
      " |  \n",
      " |  __dict__\n",
      " |      dictionary for instance variables (if defined)\n",
      " |  \n",
      " |  __weakref__\n",
      " |      list of weak references to the object (if defined)\n",
      "\n"
     ]
    }
   ],
   "source": [
    "help(ground_state)"
   ]
  },
  {
   "cell_type": "markdown",
   "id": "947dd21d-6537-47e7-a884-bde3163db2ca",
   "metadata": {},
   "source": [
    "As we can see, it contains three arrays: the space, spin and fully antisymmetrised wavefunction:"
   ]
  },
  {
   "cell_type": "code",
   "execution_count": 6,
   "id": "92666f45-8158-423a-8e2d-47a2f11e7636",
   "metadata": {},
   "outputs": [
    {
     "name": "stdout",
     "output_type": "stream",
     "text": [
      "(300, 300)\n",
      "(2, 2)\n",
      "(300, 2, 300, 2)\n"
     ]
    }
   ],
   "source": [
    "print(ground_state.space.shape)\n",
    "print(ground_state.spin.shape)\n",
    "print(ground_state.full.shape)"
   ]
  },
  {
   "cell_type": "markdown",
   "id": "0ee93450-ab5e-4e84-9652-44a4255cbff7",
   "metadata": {},
   "source": [
    "As there are 300 grid points in our system, and 2 possibilities for spin, these shapes are what we expect."
   ]
  },
  {
   "cell_type": "markdown",
   "id": "7301a5e8-fd65-4af8-baa6-2f7f97cc9855",
   "metadata": {},
   "source": [
    "We would now like to calculate our observable of interest: the charge density for the atom in it's ground-state. This is simply done as follows:"
   ]
  },
  {
   "cell_type": "code",
   "execution_count": 7,
   "id": "940ef74d-b45f-4121-bb53-623fb79814d7",
   "metadata": {},
   "outputs": [],
   "source": [
    "n = iDEA.observables.density(atom, state=ground_state)"
   ]
  },
  {
   "cell_type": "markdown",
   "id": "82aaf0bd-a9d8-4735-adcd-99b66a103740",
   "metadata": {},
   "source": [
    "Let's add that to our plot:"
   ]
  },
  {
   "cell_type": "code",
   "execution_count": 8,
   "id": "24b6ed6a-fd86-4d57-b9f4-a7d2f4205dc6",
   "metadata": {},
   "outputs": [
    {
     "data": {
      "image/png": "[encoded data removed]",
      "text/plain": [
       "<Figure size 432x288 with 1 Axes>"
      ]
     },
     "metadata": {
      "needs_background": "light"
     },
     "output_type": "display_data"
    }
   ],
   "source": [
    "plt.plot(atom.x, atom.v_ext, 'm-', label='v_ext(x)')\n",
    "plt.plot(atom.x, n, 'k-', label='n(x)')\n",
    "plt.legend()\n",
    "plt.show()"
   ]
  },
  {
   "cell_type": "markdown",
   "id": "f4329f2d-14de-4c6f-b4d4-dfff1292aeb2",
   "metadata": {},
   "source": [
    "We can also compute the up and down spin-densities separately, and of course they are the same for this system:"
   ]
  },
  {
   "cell_type": "code",
   "execution_count": 9,
   "id": "8243b240-426d-406d-86ce-95b29a0ebfce",
   "metadata": {},
   "outputs": [],
   "source": [
    "n, up_n, down_n = iDEA.observables.density(atom, state=ground_state, return_spins=True)"
   ]
  },
  {
   "cell_type": "code",
   "execution_count": 10,
   "id": "6f2ccc10-f512-4cb5-82d3-4f43f11fec97",
   "metadata": {},
   "outputs": [
    {
     "data": {
      "image/png": "[encoded data removed]",
      "text/plain": [
       "<Figure size 432x288 with 1 Axes>"
      ]
     },
     "metadata": {
      "needs_background": "light"
     },
     "output_type": "display_data"
    }
   ],
   "source": [
    "plt.plot(atom.x, n, 'k-', label='n(x)')\n",
    "plt.plot(atom.x, up_n, 'r-', label='n_up(x)')\n",
    "plt.plot(atom.x, down_n, 'g--', label='n_down(x)')\n",
    "plt.xlim([-5.0, 5.0])\n",
    "plt.legend()\n",
    "plt.show()"
   ]
  },
  {
   "cell_type": "markdown",
   "id": "0d4d55e2-b3d8-46c2-9691-6862d19409fb",
   "metadata": {},
   "source": [
    "There are many more observables we could compute. To see the full listing of any iDEA module, use the `dir` function:"
   ]
  },
  {
   "cell_type": "code",
   "execution_count": 11,
   "id": "1cbd4518-d377-4423-be6b-64546228b98d",
   "metadata": {},
   "outputs": [
    {
     "data": {
      "text/plain": [
       "['Union',\n",
       " '__builtins__',\n",
       " '__cached__',\n",
       " '__doc__',\n",
       " '__file__',\n",
       " '__loader__',\n",
       " '__name__',\n",
       " '__package__',\n",
       " '__spec__',\n",
       " '_placeholder',\n",
       " 'copy',\n",
       " 'density',\n",
       " 'density_matrix',\n",
       " 'exchange_energy',\n",
       " 'exchange_potential',\n",
       " 'external_energy',\n",
       " 'external_potential',\n",
       " 'hartree_energy',\n",
       " 'hartree_potential',\n",
       " 'iDEA',\n",
       " 'itertools',\n",
       " 'kinetic_energy',\n",
       " 'np',\n",
       " 'observable',\n",
       " 'single_particle_energy',\n",
       " 'string']"
      ]
     },
     "execution_count": 11,
     "metadata": {},
     "output_type": "execute_result"
    }
   ],
   "source": [
    "dir(iDEA.observables)"
   ]
  },
  {
   "cell_type": "markdown",
   "id": "f7aeb6ef-5959-4800-b295-789d0b5f9397",
   "metadata": {},
   "source": [
    "If you would like to analyse the source code of any particular part of iDEA, we can use `inspect`:"
   ]
  },
  {
   "cell_type": "code",
   "execution_count": 12,
   "id": "5156d31c-8687-4988-b76f-47ba4fa2b2c2",
   "metadata": {},
   "outputs": [
    {
     "name": "stdout",
     "output_type": "stream",
     "text": [
      "def hartree_potential(s: iDEA.system.System, n: np.ndarray) -> np.ndarray:\n",
      "    r\"\"\"\n",
      "    Compute the Hartree potential from a density.\n",
      "\n",
      "    | Args:\n",
      "    |     s: iDEA.system.System, System object.\n",
      "    |     n: np.ndarray, Charge density of the system.\n",
      "\n",
      "    | Returns:\n",
      "    |     v_h: np.ndarray, Hartree potential, or evolution of Hartree potential.\n",
      "    \"\"\"\n",
      "    if len(n.shape) == 1:\n",
      "        v_h = np.dot(n, s.v_int) * s.dx\n",
      "        return v_h\n",
      "\n",
      "    elif len(n.shape) == 2:\n",
      "        v_h = np.zeros_like(n)\n",
      "        for j in range(v_h.shape[0]):\n",
      "            v_h[j, :] = np.dot(n[j, :], s.v_int[:, :]) * s.dx\n",
      "        return v_h\n",
      "\n",
      "    else:\n",
      "        raise AttributeError(f\"Expected array of shape 1 or 2, got {n.shape} instead.\")\n",
      "\n"
     ]
    }
   ],
   "source": [
    "import inspect\n",
    "print(inspect.getsource(iDEA.observables.hartree_potential))"
   ]
  },
  {
   "cell_type": "markdown",
   "id": "396c9e1a-410e-4a4f-b1e8-88ce06c81827",
   "metadata": {},
   "source": [
    "## 2. Describing Quantum Systems."
   ]
  },
  {
   "cell_type": "markdown",
   "id": "71c946af-5cd1-4810-bbe5-0bdeedccb6f8",
   "metadata": {},
   "source": [
    "In the simple example in the last section we used a pre-defined system. In this section, we will show you how to define any custom 1D quantum system. \n",
    "\n",
    "In iDEA, a quantum system is defined by:\n",
    "- A spatial grid.\n",
    "- An external potential.\n",
    "- An electronic interaction.\n",
    "- A given number of up and down spin electrons.\n",
    "\n",
    "We can see the details using the `help` function:"
   ]
  },
  {
   "cell_type": "code",
   "execution_count": 13,
   "id": "cd8114c1-2c8a-4e70-9901-2bcb5beac075",
   "metadata": {},
   "outputs": [
    {
     "name": "stdout",
     "output_type": "stream",
     "text": [
      "Help on class System in module iDEA.system:\n",
      "\n",
      "class System(builtins.object)\n",
      " |  System(x: numpy.ndarray, v_ext: numpy.ndarray, v_int: numpy.ndarray, electrons: str, stencil: int = 13)\n",
      " |  \n",
      " |  Model system, containing all defining properties.\n",
      " |  \n",
      " |  Methods defined here:\n",
      " |  \n",
      " |  __init__(self, x: numpy.ndarray, v_ext: numpy.ndarray, v_int: numpy.ndarray, electrons: str, stencil: int = 13)\n",
      " |      Model system, containing all defining properties.\n",
      " |      \n",
      " |      | Args:\n",
      " |      |     x: np.ndarray, Grid of x values in 1D space.\n",
      " |      |     v_ext: np.ndarray, External potential on the grid of x values.\n",
      " |      |     v_int: np.ndarray, Interaction potential on the grid of x values.\n",
      " |      |     electrons: string, Electrons contained in the system.\n",
      " |      |     stencil: int, Stencil to use for derivatives on the grid of x values. (default = 13)\n",
      " |      \n",
      " |      | Raises:\n",
      " |      |     AssertionError.\n",
      " |  \n",
      " |  __str__(self)\n",
      " |      Return str(self).\n",
      " |  \n",
      " |  check(self)\n",
      " |      Performs checks on system properties. Raises AssertionError if any check fails.\n",
      " |  \n",
      " |  ----------------------------------------------------------------------\n",
      " |  Data descriptors defined here:\n",
      " |  \n",
      " |  __dict__\n",
      " |      dictionary for instance variables (if defined)\n",
      " |  \n",
      " |  __weakref__\n",
      " |      list of weak references to the object (if defined)\n",
      " |  \n",
      " |  dx\n",
      " |  \n",
      " |  electrons\n",
      " |  \n",
      " |  x\n",
      "\n"
     ]
    }
   ],
   "source": [
    "help(iDEA.system.System)"
   ]
  },
  {
   "cell_type": "markdown",
   "id": "b2ef480d-bb7b-4522-9f8b-370b8a1e3091",
   "metadata": {},
   "source": [
    "Let us define a system `s`, which contains two electrons (both spin-up) in a quantum harmonic oscillator (QHO).\n",
    "\n",
    "First, let us define a x-grid from $x=-10$ to $x=10$ with $150$ grid points:"
   ]
  },
  {
   "cell_type": "code",
   "execution_count": 14,
   "id": "38fc9a10-82ed-45f5-8533-9312be57a60e",
   "metadata": {},
   "outputs": [],
   "source": [
    "x = np.linspace(-10, 10, 150)"
   ]
  },
  {
   "cell_type": "markdown",
   "id": "67adc168-37ff-4f54-a2e9-32db04e1056a",
   "metadata": {},
   "source": [
    "Now we can define the external potential of the QHO:\n",
    "\n",
    "$V_\\mathrm{ext}(x) = \\frac{1}{2} \\omega^2 x^2$ where $\\omega=0.25$"
   ]
  },
  {
   "cell_type": "code",
   "execution_count": 15,
   "id": "492ce275-b2e9-4b36-8b23-bcecd99439f0",
   "metadata": {},
   "outputs": [],
   "source": [
    "v_ext = 0.5 * 0.25**2 * x**2"
   ]
  },
  {
   "cell_type": "markdown",
   "id": "0b877a7d-ed65-4b41-bfe2-f0c758f1679d",
   "metadata": {},
   "source": [
    "Now we will choose an interaction for our electrons on our grid. As this is 1D we choose the softened interaction, but other options are available *(including custom interactions to build hubbard systems.)*"
   ]
  },
  {
   "cell_type": "code",
   "execution_count": 16,
   "id": "77fec3b1-45e3-4883-956a-94d1dbc7b4fc",
   "metadata": {},
   "outputs": [],
   "source": [
    "v_int = iDEA.interactions.softened_interaction(x)"
   ]
  },
  {
   "cell_type": "markdown",
   "id": "0fedd042-4e24-42e6-873b-c3d7b566caf8",
   "metadata": {},
   "source": [
    "We can now build our system:"
   ]
  },
  {
   "cell_type": "code",
   "execution_count": 17,
   "id": "aef64773-3a0b-45dd-a19b-7d4a87a03700",
   "metadata": {},
   "outputs": [
    {
     "name": "stdout",
     "output_type": "stream",
     "text": [
      "iDEA.system.System: x = np.array([-10.000,...,10.000]), dx = 0.1342..., v_ext = np.array([3.125,...,3.125]), electrons = uu\n",
      "number of electrons = 2\n"
     ]
    }
   ],
   "source": [
    "s = iDEA.system.System(x, v_ext, v_int, electrons='uu')\n",
    "print(s)\n",
    "print(\"number of electrons =\", s.count)"
   ]
  },
  {
   "cell_type": "markdown",
   "id": "04e1e3a3-aeec-41f1-a46a-376946306183",
   "metadata": {},
   "source": [
    "We can now plot our external potential:"
   ]
  },
  {
   "cell_type": "code",
   "execution_count": 18,
   "id": "68e3c868-6176-4804-8a7b-faf5c91b9745",
   "metadata": {},
   "outputs": [
    {
     "data": {
      "image/png": "[encoded data removed]",
      "text/plain": [
       "<Figure size 432x288 with 1 Axes>"
      ]
     },
     "metadata": {
      "needs_background": "light"
     },
     "output_type": "display_data"
    }
   ],
   "source": [
    "plt.plot(s.x, s.v_ext, 'm-')\n",
    "plt.show()"
   ]
  },
  {
   "cell_type": "markdown",
   "id": "671c3082-a4f0-4d85-a1ed-b0c43b46e928",
   "metadata": {},
   "source": [
    "And our interaction $V_\\mathrm{int}(x,x')$:"
   ]
  },
  {
   "cell_type": "code",
   "execution_count": 19,
   "id": "96be77af-6225-4b8c-88e9-23af912569fd",
   "metadata": {},
   "outputs": [
    {
     "data": {
      "image/png": "[encoded data removed]",
      "text/plain": [
       "<Figure size 432x288 with 1 Axes>"
      ]
     },
     "metadata": {
      "needs_background": "light"
     },
     "output_type": "display_data"
    }
   ],
   "source": [
    "plt.imshow(v_int)\n",
    "plt.show()"
   ]
  },
  {
   "cell_type": "markdown",
   "id": "6542e7d0-b98e-4af7-8544-c59e709154d4",
   "metadata": {},
   "source": [
    "And to summarise, the code we used to build our system:"
   ]
  },
  {
   "cell_type": "code",
   "execution_count": 20,
   "id": "5ee96fd5-e07b-4a11-985a-bdc4765b09fb",
   "metadata": {},
   "outputs": [],
   "source": [
    "x = np.linspace(-10, 10, 150)\n",
    "v_ext = 0.5 * 0.25**2 * x**2\n",
    "v_int = iDEA.interactions.softened_interaction(x)\n",
    "s = iDEA.system.System(x, v_ext, v_int, electrons='uu')"
   ]
  },
  {
   "cell_type": "markdown",
   "id": "913b8a18-a9f0-4585-bd27-a91f779cf881",
   "metadata": {},
   "source": [
    "## 3. Solving Quantum Systems Exacly."
   ]
  },
  {
   "cell_type": "markdown",
   "id": "e692b8e7-3630-4a6f-bb93-546b66b560b2",
   "metadata": {},
   "source": [
    "Now we have the description of our quantum system, we can use iDEA to solve the Schrödinger equation for the ground-state (`k=0`) of this system using the `interacting` module:"
   ]
  },
  {
   "cell_type": "code",
   "execution_count": 21,
   "id": "713ea7fa-7756-4e04-b882-0d67b84080e8",
   "metadata": {},
   "outputs": [
    {
     "name": "stdout",
     "output_type": "stream",
     "text": [
      "iDEA.methods.interacting.solve: solving eigenproblem...\n"
     ]
    }
   ],
   "source": [
    "ground_state = iDEA.methods.interacting.solve(s, k=0)"
   ]
  },
  {
   "cell_type": "markdown",
   "id": "56159b5a-84e7-454e-9e52-4d5fd9189a30",
   "metadata": {},
   "source": [
    "We can now use the spatial, spin and full wavefunctions to do any analysis we need:"
   ]
  },
  {
   "cell_type": "code",
   "execution_count": 22,
   "id": "97cd5a4e-ab24-4734-b548-e53f8712011c",
   "metadata": {},
   "outputs": [
    {
     "name": "stdout",
     "output_type": "stream",
     "text": [
      "(150, 150)\n",
      "(2, 2)\n",
      "(150, 2, 150, 2)\n"
     ]
    }
   ],
   "source": [
    "print(ground_state.space.shape)\n",
    "print(ground_state.spin.shape)\n",
    "print(ground_state.full.shape)"
   ]
  },
  {
   "cell_type": "markdown",
   "id": "e492f151-692d-4f7f-b917-66b64756aebf",
   "metadata": {},
   "source": [
    "Since this is a two-electron system, we can actually plot the spacial part of the wavefunction directly in 2D:"
   ]
  },
  {
   "cell_type": "code",
   "execution_count": 23,
   "id": "8f380f68-f085-4f09-b346-1e2100eaea81",
   "metadata": {},
   "outputs": [
    {
     "data": {
      "image/png": "[encoded data removed]",
      "text/plain": [
       "<Figure size 432x288 with 1 Axes>"
      ]
     },
     "metadata": {
      "needs_background": "light"
     },
     "output_type": "display_data"
    }
   ],
   "source": [
    "plt.imshow(ground_state.space.real, cmap=\"seismic\", vmax=np.max(ground_state.space.real), vmin=-np.max(ground_state.space.real))\n",
    "plt.show()"
   ]
  },
  {
   "cell_type": "markdown",
   "id": "ee261938-67c8-44df-82df-c1e54b6bf898",
   "metadata": {},
   "source": [
    "Note that this is zero along the diagonal, owing to the Pauli exclusion principle. (As an exercise, show this is not zero if the electrons have opposite spin. Hint: when building the system use `electrons = \"ud\"` instead of `\"uu\"`)"
   ]
  },
  {
   "cell_type": "markdown",
   "id": "e75770ad-9a25-45cb-99ae-f3fde907652a",
   "metadata": {},
   "source": [
    "We can test that the wavefunction is antisymmetrised:"
   ]
  },
  {
   "cell_type": "code",
   "execution_count": 24,
   "id": "1fa6a794-984c-4be8-9378-065a8fc1f9fb",
   "metadata": {},
   "outputs": [
    {
     "data": {
      "text/plain": [
       "True"
      ]
     },
     "execution_count": 24,
     "metadata": {},
     "output_type": "execute_result"
    }
   ],
   "source": [
    "np.allclose(ground_state.full.real[80,0,50,0], -ground_state.full.real[50,0,80,0])"
   ]
  },
  {
   "cell_type": "markdown",
   "id": "d46e82b9-a25e-4c08-a53a-0bf36205f2a9",
   "metadata": {},
   "source": [
    "From this object we can also get the total energy:"
   ]
  },
  {
   "cell_type": "code",
   "execution_count": 25,
   "id": "e8cb9c38-b52c-4715-8f78-9fca14d22e74",
   "metadata": {},
   "outputs": [
    {
     "name": "stdout",
     "output_type": "stream",
     "text": [
      "0.7531779444676872\n"
     ]
    }
   ],
   "source": [
    "print(ground_state.energy)"
   ]
  },
  {
   "cell_type": "markdown",
   "id": "2e4f54ae-8f84-4d7b-a328-28a469083d9c",
   "metadata": {},
   "source": [
    "We can also compute **any excited state** we would like. For example, the first excited state:"
   ]
  },
  {
   "cell_type": "code",
   "execution_count": 26,
   "id": "0cdffa71-97f6-41a4-ae83-89cff38356ce",
   "metadata": {},
   "outputs": [
    {
     "name": "stdout",
     "output_type": "stream",
     "text": [
      "iDEA.methods.interacting.solve: solving eigenproblem...\n"
     ]
    }
   ],
   "source": [
    "first_state = iDEA.methods.interacting.solve(s, k=1)"
   ]
  },
  {
   "cell_type": "code",
   "execution_count": 27,
   "id": "f76dd082-5b79-48a2-bd12-c4ef07a31f62",
   "metadata": {},
   "outputs": [
    {
     "data": {
      "image/png": "[encoded data removed]",
      "text/plain": [
       "<Figure size 432x288 with 1 Axes>"
      ]
     },
     "metadata": {
      "needs_background": "light"
     },
     "output_type": "display_data"
    }
   ],
   "source": [
    "plt.imshow(first_state.space.real, cmap=\"seismic\", vmax=np.max(first_state.space.real), vmin=-np.max(first_state.space.real))\n",
    "plt.show()"
   ]
  },
  {
   "cell_type": "markdown",
   "id": "f3d4bc1c-b6c6-44f9-8f4f-7705fd80934b",
   "metadata": {},
   "source": [
    "We could use this to compute the **optical gap** of the system:"
   ]
  },
  {
   "cell_type": "code",
   "execution_count": 28,
   "id": "df9830e7-1532-4418-856c-e75d22e41142",
   "metadata": {},
   "outputs": [
    {
     "name": "stdout",
     "output_type": "stream",
     "text": [
      "optical gap = 0.250000039590218\n"
     ]
    }
   ],
   "source": [
    "print(\"optical gap =\", first_state.energy - ground_state.energy)"
   ]
  },
  {
   "cell_type": "markdown",
   "id": "df007d46-7b84-44b3-92a2-e9a659f53f20",
   "metadata": {},
   "source": [
    "## 4. Computing Observables."
   ]
  },
  {
   "cell_type": "markdown",
   "id": "471e227c-8389-4fd6-8a0e-f1ec7c123297",
   "metadata": {},
   "source": [
    "Let us now turn to computing some common observables of our system, and visualising them:"
   ]
  },
  {
   "cell_type": "code",
   "execution_count": 29,
   "id": "dd21c7bd-0beb-483b-b608-932ce5453994",
   "metadata": {},
   "outputs": [
    {
     "name": "stdout",
     "output_type": "stream",
     "text": [
      "hartree energy = 0.7585662970835485 , exchange energy = -0.5146141349952208\n"
     ]
    }
   ],
   "source": [
    "n = iDEA.observables.density(s, state=ground_state)\n",
    "v_h = iDEA.observables.hartree_potential(s, n)\n",
    "E_h = iDEA.observables.hartree_energy(s, n, v_h)\n",
    "\n",
    "\n",
    "p = iDEA.observables.density_matrix(s, state=ground_state)\n",
    "v_x = iDEA.observables.exchange_potential(s, p)\n",
    "E_x = iDEA.observables.exchange_energy(s, p, v_x)\n",
    "\n",
    "\n",
    "print(\"hartree energy =\", E_h, \", exchange energy =\", E_x)"
   ]
  },
  {
   "cell_type": "code",
   "execution_count": 30,
   "id": "94d49d31-4ed2-469f-ba01-44bbf8ec31f4",
   "metadata": {},
   "outputs": [
    {
     "data": {
      "image/png": "[encoded data removed]",
      "text/plain": [
       "<Figure size 432x288 with 1 Axes>"
      ]
     },
     "metadata": {
      "needs_background": "light"
     },
     "output_type": "display_data"
    }
   ],
   "source": [
    "plt.plot(s.x, n, 'k-', label=\"density\")\n",
    "plt.plot(s.x, s.v_ext, 'm-', label=\"external potential\")\n",
    "plt.plot(s.x, v_h, 'g-', label=\"hartree potential\")\n",
    "plt.legend()\n",
    "plt.xlabel(\"x\")\n",
    "plt.title(\"Ground state QHO\")\n",
    "plt.show()"
   ]
  },
  {
   "cell_type": "code",
   "execution_count": 31,
   "id": "a248f5f7-13fc-4c9a-96b8-53133ab96402",
   "metadata": {},
   "outputs": [
    {
     "data": {
      "image/png": "[encoded data removed]",
      "text/plain": [
       "<Figure size 432x288 with 1 Axes>"
      ]
     },
     "metadata": {
      "needs_background": "light"
     },
     "output_type": "display_data"
    }
   ],
   "source": [
    "plt.imshow(p, cmap=\"seismic\", vmax=np.max(p), vmin=-np.max(p))\n",
    "plt.title(\"Density matrix of ground-state QHO\")\n",
    "plt.show()"
   ]
  },
  {
   "cell_type": "code",
   "execution_count": 32,
   "id": "4e92698d-f6b9-4837-9934-b81619a64189",
   "metadata": {},
   "outputs": [
    {
     "data": {
      "image/png": "[encoded data removed]",
      "text/plain": [
       "<Figure size 432x288 with 1 Axes>"
      ]
     },
     "metadata": {
      "needs_background": "light"
     },
     "output_type": "display_data"
    }
   ],
   "source": [
    "plt.imshow(v_x, cmap=\"seismic\", vmax=np.max(v_x), vmin=-np.max(v_x))\n",
    "plt.title(\"Exchange potential of ground-state QHO\")\n",
    "plt.show()"
   ]
  },
  {
   "cell_type": "markdown",
   "id": "d36e5edf-28a2-49dc-9fe4-45b5c7fe8b03",
   "metadata": {},
   "source": [
    "And we can of course repeat the above for the first excited-state:"
   ]
  },
  {
   "cell_type": "code",
   "execution_count": 33,
   "id": "e17f1102-aad8-4d02-a12a-facf34288347",
   "metadata": {},
   "outputs": [
    {
     "name": "stdout",
     "output_type": "stream",
     "text": [
      "hartree energy = 0.6990259617571019 , exchange energy = -0.43974894134460124\n"
     ]
    }
   ],
   "source": [
    "n = iDEA.observables.density(s, state=first_state)\n",
    "v_h = iDEA.observables.hartree_potential(s, n)\n",
    "E_h = iDEA.observables.hartree_energy(s, n, v_h)\n",
    "\n",
    "\n",
    "p = iDEA.observables.density_matrix(s, state=first_state)\n",
    "v_x = iDEA.observables.exchange_potential(s, p)\n",
    "E_x = iDEA.observables.exchange_energy(s, p, v_x)\n",
    "\n",
    "\n",
    "print(\"hartree energy =\", E_h, \", exchange energy =\", E_x)"
   ]
  },
  {
   "cell_type": "code",
   "execution_count": 34,
   "id": "8eb775b7-d6b9-4a29-8c00-dd6b91a59b7e",
   "metadata": {},
   "outputs": [
    {
     "data": {
      "image/png": "[encoded data removed]",
      "text/plain": [
       "<Figure size 432x288 with 1 Axes>"
      ]
     },
     "metadata": {
      "needs_background": "light"
     },
     "output_type": "display_data"
    }
   ],
   "source": [
    "plt.plot(s.x, n, 'k-', label=\"density\")\n",
    "plt.plot(s.x, s.v_ext, 'm-', label=\"external potential\")\n",
    "plt.plot(s.x, v_h, 'g-', label=\"hartree potential\")\n",
    "plt.legend()\n",
    "plt.xlabel(\"x\")\n",
    "plt.title(\"First excited-state QHO\")\n",
    "plt.show()"
   ]
  },
  {
   "cell_type": "code",
   "execution_count": 35,
   "id": "3971b9cb-9eee-4d20-8fea-0417dc4332be",
   "metadata": {},
   "outputs": [
    {
     "data": {
      "image/png": "[encoded data removed]",
      "text/plain": [
       "<Figure size 432x288 with 1 Axes>"
      ]
     },
     "metadata": {
      "needs_background": "light"
     },
     "output_type": "display_data"
    }
   ],
   "source": [
    "plt.imshow(p, cmap=\"seismic\", vmax=np.max(p), vmin=-np.max(p))\n",
    "plt.title(\"Density matrix of first excited-state QHO\")\n",
    "plt.show()"
   ]
  },
  {
   "cell_type": "code",
   "execution_count": 36,
   "id": "538870c3-98e0-44f9-b9f2-b663e81b8c20",
   "metadata": {},
   "outputs": [
    {
     "data": {
      "image/png": "[encoded data removed]",
      "text/plain": [
       "<Figure size 432x288 with 1 Axes>"
      ]
     },
     "metadata": {
      "needs_background": "light"
     },
     "output_type": "display_data"
    }
   ],
   "source": [
    "plt.imshow(v_x, cmap=\"seismic\", vmax=np.max(v_x), vmin=-np.max(v_x))\n",
    "plt.title(\"Exchange potential of first excited-state QHO\")\n",
    "plt.show()"
   ]
  },
  {
   "cell_type": "markdown",
   "id": "8a8a3138-ed3f-45ba-9640-e3f03871f7f1",
   "metadata": {},
   "source": [
    "## 5. Perturbations and Time-Dependence."
   ]
  },
  {
   "cell_type": "markdown",
   "id": "96f0e288-b0ba-49b8-97ab-955064767d87",
   "metadata": {},
   "source": [
    "Now we know how to; describe systems, solve them for given states, and compute observables, we can now look at driving these systems out of thier stationary states using a external perturbation."
   ]
  },
  {
   "cell_type": "markdown",
   "id": "611a1645-7c79-4182-b67b-87883b0265a9",
   "metadata": {},
   "source": [
    "First we define a time grid $t=0 \\rightarrow t=100$: wih $1000$ timesteps:"
   ]
  },
  {
   "cell_type": "code",
   "execution_count": 37,
   "id": "21f9048d-47a2-40a2-b8c7-c272c6863eff",
   "metadata": {},
   "outputs": [],
   "source": [
    "t = np.linspace(0, 50, 500)"
   ]
  },
  {
   "cell_type": "markdown",
   "id": "4905e03f-c525-4463-9fae-0b1a4a6b63d7",
   "metadata": {},
   "source": [
    "For our perturbation, we choose a oscillating linear electric field:"
   ]
  },
  {
   "cell_type": "code",
   "execution_count": 38,
   "id": "7992dbb8-ae1e-4121-a68e-d329996b1fb0",
   "metadata": {},
   "outputs": [],
   "source": [
    "v_ptrb = np.zeros(shape=t.shape+x.shape)\n",
    "for j, ti in enumerate(t):\n",
    "    v_ptrb[j,:] = -0.1 * x * np.sin(0.5*ti)"
   ]
  },
  {
   "cell_type": "markdown",
   "id": "0f680b90-bf8a-41b4-a0e0-416c2d945f1a",
   "metadata": {},
   "source": [
    "We can animate our field:"
   ]
  },
  {
   "cell_type": "code",
   "execution_count": 39,
   "id": "06716ac8-ef81-4221-a1bf-f9cf2e243fc9",
   "metadata": {},
   "outputs": [
    {
     "data": {
      "text/html": [
       "<video width=\"432\" height=\"288\" controls autoplay loop>\n",
       "  <source type=\"video/mp4\" src=\"data:video/mp4;base64,AAAAHGZ0eXBNNFYgAAACAGlzb21pc28yYXZjMQAAAAhmcmVlAABc+G1kYXQAAAKuBgX//6rcRem9\n",
       "5tlIt5Ys2CDZI+7veDI2NCAtIGNvcmUgMTU1IHIyOTE3IDBhODRkOTggLSBILjI2NC9NUEVHLTQg\n",
       "QVZDIGNvZGVjIC0gQ29weWxlZnQgMjAwMy0yMDE4IC0gaHR0cDovL3d3dy52aWRlb2xhbi5vcmcv\n",
       "eDI2NC5odG1sIC0gb3B0aW9uczogY2FiYWM9MSByZWY9MyBkZWJsb2NrPTE6MDowIGFuYWx5c2U9\n",
       "MHgzOjB4MTEzIG1lPWhleCBzdWJtZT03IHBzeT0xIHBzeV9yZD0xLjAwOjAuMDAgbWl4ZWRfcmVm\n",
       "PTEgbWVfcmFuZ2U9MTYgY2hyb21hX21lPTEgdHJlbGxpcz0xIDh4OGRjdD0xIGNxbT0wIGRlYWR6\n",
       "b25lPTIxLDExIGZhc3RfcHNraXA9MSBjaHJvbWFfcXBfb2Zmc2V0PS0yIHRocmVhZHM9OSBsb29r\n",
       "YWhlYWRfdGhyZWFkcz0xIHNsaWNlZF90aHJlYWRzPTAgbnI9MCBkZWNpbWF0ZT0xIGludGVybGFj\n",
       "ZWQ9MCBibHVyYXlfY29tcGF0PTAgY29uc3RyYWluZWRfaW50cmE9MCBiZnJhbWVzPTMgYl9weXJh\n",
       "bWlkPTIgYl9hZGFwdD0xIGJfYmlhcz0wIGRpcmVjdD0xIHdlaWdodGI9MSBvcGVuX2dvcD0wIHdl\n",
       "aWdodHA9MiBrZXlpbnQ9MjUwIGtleWludF9taW49MjUgc2NlbmVjdXQ9NDAgaW50cmFfcmVmcmVz\n",
       "aD0wIHJjX2xvb2thaGVhZD00MCByYz1jcmYgbWJ0cmVlPTEgY3JmPTIzLjAgcWNvbXA9MC42MCBx\n",
       "cG1pbj0wIHFwbWF4PTY5IHFwc3RlcD00IGlwX3JhdGlvPTEuNDAgYXE9MToxLjAwAIAAAAmmZYiE\n",
       "ACf//vWxfApqyfOKDOgyLuGXJMmutiLibQDAAAADAAVQU9eBiH/MBP1aFioLMocHty2rZGB3GXDn\n",
       "YZWCairtzfSFne2+SYIAAAMAak3/vcE97DVfTPu8AFRj7DTC2HDCLQ4mMIPBDTspEaG+CUEz3ndb\n",
       "DTRVmQJ7BpH/9Xc1CRA2cV0fH5OVm5p0KBAGAcSjw3P7W99CDgJ6B8fFecxl4agABGBAJ95JbIYV\n",
       "gjo12EKxTBxjA8ck4cZCEwA1p/Egca/d4BgHZghCaTcce6JrrVyZ2phbCyGk6R27JIk1GWyKQMq3\n",
       "B+6iQ8BUvA3Xu4Wp5hgoFmu7FSvfhmy6O+d+y+YOG5Mm/YC7JDUUBBtsLdL7i4IVFtfxolObDqn5\n",
       "39XY5cAIRAppQZBFOb5SciKtBzUqwy4GJMadtmjywf7KAIg5sSN+lJi5+WuMh9NO3sAOI04OVHWN\n",
       "dP+v+zUaXGbJ+JMdfz7A+1dH//WviouxoFZ4gsQ3Vu7ohQAc/H/AoR8jOkWpk65ffLonAmGe4+Hy\n",
       "XHnLF8FfOYcNY0zo4YypaEZ+EtmqcVY/OF1Ak3rPtBhLUenAJMbx+uk2F0eG1e+fDgcj3Ycw+17Y\n",
       "KSlVepq6M1aHVTcS24c/IwM9WU1BhNM5ifzPO2dBFBydcTe+V39g6tdnIEkCVzDh5q8trs9biW2x\n",
       "gWWNREvCsjR3Y8qDem601NSC9qXApDc61fwv3uOKg7dTbCsHieBVmGz9YBI9poHCXP66HK3upVul\n",
       "pQBHAJL4X1fIKDlEUCoaMTuF5x3YSCJRGatz2nqBdIFKol9s3A5HBCVHoqJzAAbWY1ZfbsnieWL+\n",
       "hhJvH5AhVqcR8hEDFa23y5KWZmRbe1QytHFD5/Juyo/rUKji2Qbnk2rq4jHdm/y9IEWW0zLmuLHk\n",
       "Yx6q9U5XAiA+1HhIm+1DC8xN314ES5nMgWOa8PkxMg7JZJxutsFsCj7A/SGy/QnCneaC2Kb+W6yg\n",
       "FTZuCYp5DSzjWpWvEUPGiVaUfsOw0RaZDLU9qozQB6/ut6Z36Nm8tw93RGDjVc2fFkd8f7essVIU\n",
       "zkS8w/OCTFfRbHd38Nidp1jO8fM+096k3sGobfza6XHcue0TGKMh5l9gNtC6DxvVxhatWqIKmbvp\n",
       "iUNFlME8GnfEK7pFKWoHGDACcohUQjh1nMFpoH1yefnxn0Xce3XJf8SWC1+H6+arWo+em+ctVvDm\n",
       "jI4+fwG3ZCytSus8ko8Y/98YZ9J8UeeFTQuu1om9opWbKAUKIzffMdnFrSKmGF/Cw0VYQe3qcblc\n",
       "caO/wcVrELIuLOMcYIwHCuZUABfpTrfeNPAayfHaRzSimRKh/MT0mi5NUAlOr7Ywc47mrbebWeIQ\n",
       "5sgAiF9TOfqFM+NQGYxQi0TMnXVCoF3YfCRiWwoAN8a3mhVgcbF/vndP9jWWY0SPc2//18B3xr5k\n",
       "PBNMYX54CN+WouyWz+1GNfPPi6DFxJ1kFN9bym3KKvZ0IFw8Iz4A7XqVPxK1sqUBdgvsgMRkXB2l\n",
       "8mH/BoWGO2hXdgUZh/AwDoE5gzp6av+zoS5i30uHjX97NeO1yQH6Fe+NVZujo7mO1wq/h1fLOx28\n",
       "0F7tCs3LAlWxNrGtURm2so3bWNiyfoPEVf5Q3Mpn5uwXL2cMiqynM+I8LOfPQPGxwiJBbhrmjizQ\n",
       "pdkyUDDGrQd1HWVNLWwoCDqep09T3XNUWph5nQie3mVZDUKwwxRGIolgbZH/jxwWBXbE6kSFPAPd\n",
       "oH0zPpIINUlwRbYVFnzC3Phjn98+CAZudpO8luQVh/IgI8eM1nmH2/47sjGWrGwk+qyWkdRnUqE4\n",
       "YyuQwnjlF934lGYpIbUehy66M75q5DHTe6plkawQXLsM7y8upTJPbtdRrNSeJDgqHFqwXZ44k+42\n",
       "/9cJOnM2hHvv1ikGcb08tXJA8vDEkBaSk2CD27ojbu/uHZLbSSivJWRYlD4fMBr3ubMQYOs5zVRh\n",
       "C8h3Jtgkz6QtStI4W1/5sDtsC1c0D6fhFoXb/LAj9PBpTB6XXWOcadVa/Bod0oslrGlyzrMMh7Yo\n",
       "N3FkhslNvrSaNuPJtlU+ruBmDHTz1ajOFUK5MZ0F1juTtXfDq/9MFGD5hR14znzDckLtSAu6S0XK\n",
       "W9+xMlyI22v1kIKlYCHuUxKIxexxKZC7R3rrcQjI1owl+LwEafyMDVsuBhz9PgySoV0XJdd3tS13\n",
       "A7vlIVBbvA3fK6l3IItH/7Jpka+106ex7RlITGgdE7QqOQvrRnEQ6r/xrhM4Uuiny510ubypTJtk\n",
       "+Z0gw54yITtOwL+lYyCQ+qLT2vtIJ2lwkBU3j4H9jjcfMpf8FHbrcytIsocpWkFP8ukkmh4TDdGu\n",
       "yAhXc/k/txiLCFOzdA3/Jf+guiHQPAf0p8fcATHkcg1f33xt+uw3U2zB44J50syuSXG4PT5Wr9y5\n",
       "rd0ujJVhVmoSaKS9ctj48DKJb3ZcgfYwyigQrwYbaJqSVZrc8gPom880yttD8YRvu9Lfs8vn1jH/\n",
       "vWfndQGXJJ5G88MHzDPyamf0Tom5xfN4+HTPTniczUym14Yr5XkO0ta0dY7+ovKvProIl2ad+tm9\n",
       "VVnsDtMEJpL+WL4kJYUItS1FRzK4BVQ1mgujs5GjYe4fAUm/DQOtbMM8Ihp/vKFUhF+hyfK+sZu3\n",
       "nNNLVxkO8HLi7d65LymONAyy9DhX6mgAoAZT5Hk2JET2opuFciY5tjFkPhDTMpTaMEZU5K51BE6t\n",
       "YTlFXEhCP4UVwRO4op2A4NB8EbG13qCVKWlJNqrWu89VlEF72d+sVebniFOsnrjd0IcuSX2NDrV/\n",
       "OH8cnT9cTMEh7bRb7tncdDMuhkbC7R3z7RlKgVwD/YoSYKT6m7aebyh4qR/Mi+WqiUXxc/jxFY0w\n",
       "U+U7XnvfjmJ3dcLBn9T4hKwy2FkC8Fz+5P8NVokhwZiwIpDRdriGq/RGtfN5tIqjacmDu3FrRFMj\n",
       "7zxa3H7ZAekbNTL1dDEGbKaff7E02I12WkeLVVmZIR2FPKIX4Bqj4/F+zYRzMVNiyICNRrCv4hJ9\n",
       "Ge5ssod3tTkNX7Kz89Q8MNG4qjYw5tuVUfwXMQMCJ9uOinwgjaG2y3G4bMXyFi1xWMZtLZDrxbt6\n",
       "EtvZtroaU6rUYPNVEBDw3vg4Otfw9fs5CNlcf8MYx+RKsT/ZRln6KkYgCzHomD1AkDoNSsaCDqKK\n",
       "01KJn7B/DOcnmNbvMwlvw1Ri+RdTCrpOh9PEi9QzIOz986UALx3KOSAiifWrq9+jI7xRkNFAtgAA\n",
       "s6app84DUkljTvkm4ABHwQAAAw5BmiRsQj/94QVm6q9ywOoHa0ZYUkaunQAAC3OT+gAazuRtidTA\n",
       "SFN/VziWjwqOI/8DAjses5jchjOvIBxRUGBh+AuqaPdE7OFVRD9Uy8heyw8h6cEDAfOaRNSDWsiq\n",
       "2cW069QZA789iN+Js/0aOU1ybDlwFX0sw/5KevG9F9mEIKgEYIcbb+XKEskxLyv0UbXisiTpapiv\n",
       "Rp5y323SETaejvjeMOO/Hf2Wrjh57a2X7eLMJshcTDiFcslMPds79boSo9HG0JW+hcDhYgWjpne1\n",
       "N5uHmTyYfIU38rDOQ/P6VtiqfXExUARHltF5WUHEWA5R7dy/QPoJeI97lXGOY91VXBXL9WFkI09p\n",
       "Vvb2uoNz0OfGzOmaXfXEsO6WL8Dxi5LcsF5iN5X28RlPWxv0w3zF42bQOHg8FLmKpSXokN87n4Pm\n",
       "APSPWUekbS24De8RzcZ/twPuXiN8miCK11LXk+jQoAZjZiuTlz16PlSDyMGp3K2Lj4Xvx7pJs3iI\n",
       "uWXQC4YKwYwClI0DOS+mkYvtmzJ+N4rBJoxxrivXviYhURgUlenpOCOxc+rNLiaZalG6AJWVclfX\n",
       "xrB3AAlhNoZMg3+G8svBXfDfxcV4+pTosBA2bkSpRl8vS/V4da83bss1RWu+Rj/c6DKDlFtTelZs\n",
       "VSD5oHGIFF2KJWbmKVp6GdxlVea7ceXZGgfkp93o6es6/V+zshsemrzSBf8/tvmT0YUOk7zYDfwJ\n",
       "DtzpsJdIH2wkrBBI4ZbupXikWxrUvfI5evUz4OsRG6F8xyUIg5sknUqc9uyrbneimybjWjKo14kd\n",
       "PkjrSQuWOILCDPsnEMbxnBs7HItH9ynUt/yY0QXijknDndohLGLn7IQiYTqfS4Z0WKNWVtb2t1pE\n",
       "mVImR6g+dIFkEuFkZAXmJdbTKWgsuL79BKYS1bpKZKs8zgQiHZxgfJehU94XYlvIenU43YREaMbs\n",
       "UoE4LdaFjtQck1LZbYbN2qGUbzmaE/S6sG3CVmz5qU0HHOzOg9F1OSUAeyD8/uhcoq4hYztSS6fO\n",
       "WRNt2wAAAQJBnkJ4jf8Jg5C4ftgjicc8VAAEtvh2kfltUssXyBJPXyDzWOW7AgBN/t2DDY0f+NEO\n",
       "b0Xn2X/mbHY7Ifnxn+VrvbT/AbGR/h3f3/rayjI/P/JGyDAgpAHJXI4z20C8KMFfAC4m7Gx1b8JR\n",
       "RnfZpsROVeD1hAU9HAn5EKIHW6ux8RrNr57cQ8BykfAvQmVr7qIuIHmBdHCWnS3c2n4+WgkMSw06\n",
       "27JbaBdn9IYqjTPCZPhXrECeHMxpO1G+A1U7Ld5TNSwMWRvPNVENFOYBbmBJD/d6cvqeu5Oq3pKP\n",
       "tWglkOutU5TtcARCXhcaRHID8liMiqUt6BnhcWywS8kuGm+ZDgcAAACLAZ5hdEX/C85LpLqrmw8A\n",
       "AAMAABvz61KsMaQtZmxKBomdgAQ+Lee+1Gkwu3/BqQiDXz2iAK2VgOWQPcHkAXiOEfkDDXJu7c8H\n",
       "0PZe8UTtpP5HYf0WjG8ZYwkAcrOtYUxmwDU4BxmxLi90YQU9nvUZLr7IEIBDaOggKzNR4APb147g\n",
       "czYXRI22P2ozIAAAAHEBnmNqRf8LJ0vUfOX6bbDfxAFcfDeVfACCdmV5RvQwxtIEVXo1jIdU9rFB\n",
       "QSD9GssnnkmMQBNsKF91Lnu9r+47w70rRgB5lOWWzY13RzIcQVCmD/OQZ/RfZE/N5X6VwS9Jyao0\n",
       "5pCY1Pn6xQRNnCT9oQAAAc1BmmdJqEFomUwIR//94QCadbLDz0VSPrzACKctvWihup1QnE7Mm9DT\n",
       "ikcu9J1GSqFbUMz5itBYNHhd6QfU9eIz5y+5MamBOypSu9heYrGcEJJsYLh9T2OuooqcemyMeM4d\n",
       "Z3hI/Hnyz0jNZ9KduCKHaVR9lNWkU8u/n86M3PzazBa3AWoge+5eBvJL5609JaN2RXq9BV7rsCc9\n",
       "e0gLMW8zPbXZbhl2x9IzxL9VIvZ9lV2p8TkuwK1MMSwmf+Wg2hmmgT353aQKbHOdjbVYcn4qMX3x\n",
       "iKEoMovJVYtFRG6a7204P9uvJ1odNVfv4KdjZfDye8lPSCh64btgrJ5g2CljenDoT8TRM9Dw2cbR\n",
       "5WHpA2ECq3nM/3rtJJBQttIdyeHSxf5VOgHJ/TTdXsa8ywtHcdKIb5LYXSjw1XNyGVk4NJf8NURV\n",
       "CquETo4bgV6KKmnFGCGHomocqL9TT/SYSwR4YrxC8vmRWxe5mNHHHNqez/n1ShKWxKlfpP5v2KUO\n",
       "e9DhNsSJJO/HX1WZaA/3ni/T4bYJ0X1jahWM3GucwWc4GtkWPtPE3eTh0+zrD25/slcRZAkSl8ml\n",
       "a2rAo/8lSQ5xFzXb+66Kq5T61YmtYQAAAIhBnoVFESxfCy1u+26NBaYrD3BECqtF5eu+8/WouIOq\n",
       "CHbYnO1LXxkHPJ46pRERnetnafA5vdieP8WxTHVlNsjsaPkLbq/ml2aSkivd7rkACWvTE4/xfo1e\n",
       "ARSYZp8rmEYKDpqeF5E+fIG2qpnW8o6UjXdT5swtxXY2j0dz0AY/GSRx1Iq6yJWRAAAAZwGepmpF\n",
       "/wsnS8Kb2/3OtzcBbnz/ZO4tlUf4NC2c2KvPAB3Ll9jrRx0xhh2MR6tnq/xLlulHoo3YINbQFHUI\n",
       "8joTjKJmMk80uy+WqnPEdQp/1IvenK+/GxG6NW/jeLjJcs1vMp69ix8AAAGgQZqoSahBbJlMCE//\n",
       "/fEAQcKu7QPFjoXsqxpu3D7wgj3YrdkjJw59cGrjGMhAfLBdzaXlhr9RP7mvGi26pl8G1erL1jCs\n",
       "92HqQJdG2EJwsgYK+VkAVmT46i3eK4HcoEY1dPCKf1So2UE5//CZHjxQnF2QzmPS34VGjJEj8RVv\n",
       "sOpzXZ5ReFclUivzcmw2FRoW0tVEiA7JMVgHTKaC+DVpkpoDyqKBpDXojvQgUoDK/G7dFgqLHeal\n",
       "0UiUF7/DIFB9XbE0crYxcy7FAVuNBPzv3lnVpVLOMcw636+KT3xpcAoEJKls8K1x40ySR6NT8+Lt\n",
       "GWkyqRbHAiEr8EzN1IARm0Smp2HkH32hM2MyqBpNereazadUAV3mq9zl+ktTc5z32HDQx8ZSI+Pd\n",
       "8iSmPo+dRZ9rHDAQZTJzerM8cHdJ/r8Mzu5ZGIOz/q6fhiBXhzBBV6CAv5uMR43GEBwi9Kfw+IYl\n",
       "uS/KRhFM6KhnL39ioGX6n2st5qzuQ6BVzwM7MUJbWZX0lGpSi6NUvMoX7Ae0LNBVDbJzt4rEic5D\n",
       "cLbVC8AAAAIJQZrMSeEKUmUwIR/94QADNsj316AI4Bif5+/rZ4sC3WiHDb/U8rud+xi2eaCt+gkL\n",
       "O/Px2DSQdLnVdmlsXDH3xTR5SwVGxpVc5Gr2qYxFB7NeyI1Uy6N9ExOJIKk7WQMMJ2Dt8+HfMV/P\n",
       "9ZaJvyCq6+fZw+6BSSgj/dp2dZo2VIRMco7b2xETcvkH7LZjjFTLqJSwDQhrIBPV3CTRldWTPDpy\n",
       "IY0ftdzVrvnopfN4InPHSjecdA6k59MILwBuPbaCyRU6O9xDujNb+WTPyvUIZCSFul6JgBNzujHi\n",
       "9KQ3jHFLFYtdzJFAs94/bj7rHmXt0lzW3cEySZky6F/OchYOErUHjF6WV88FcI7MJ75q8BavHHQ7\n",
       "Uet3QlgrK+q8zqrR4Olp9Q2V05b3bSD6ko+36Kh9B/MW6hVxt4jLNGO7wtQuHp7G2ArzE55jaVno\n",
       "dl3VOzS60j9oehoovK1ARd/tRDaZyDhtSHp5ItVW6+LnChuotWeAAzWF4z6hIcp52fD/fpyNpM80\n",
       "vNNLQ8Fw8p3Epq8PNcaD/IUT8v58ZkyohYuW5zHIDLlkS0NA383wME6/E90FcDTib8OAcnqxwuRV\n",
       "rJ0SLRbksHBa38QjNOlLb/1VXQcd8Spvffjc+nqkSwedg7D+/3bDGCIXBwtdTi5cKcw05s2QYKko\n",
       "5W2x5dUYhDtOkGLPRa/MLUAAAACgQZ7qRTRMbwjsP0IGuAUlzrXjGI+CrFN370RWShyfxQAS3qHL\n",
       "taaDNXLmrVGMIgVUkDonKcrI7jvOhfSZ/iw2hSM8z+My8nNR2i7cX8ge5cgZ2EqAwVulfaQfAITq\n",
       "Jobb6StVsv9Ez/3o4KLWys9X/vmdNkEZ8VEkqfy2MTzOJGOC++M1ipCEg6QA+TPiwIzvoqq6G8e7\n",
       "ixBdpFSQtbIcRQAAAHoBnwl0Rf8LGkiTzLvNAnCXaPylBiFM+1BexY+It7Jk8i3GACU1U4v4oY53\n",
       "//eJainqAHQ5XqDWF2LDXkOGlIgBGDZCq09xYP7Mi+HkKPPeI5KUzkcoljvaR0c64BEYY22OoU05\n",
       "s5ixEkzBEM0nrLP4l6YNwhSvcBLsIAAAAG0BnwtqRf8LJ0N9vkTujc2NQAfT264zpSLKjdwjpp8o\n",
       "FWRmYXtfXF/o4RrzYup4MVQdx5JKvfj8Nfbwot/C/wFba4wKgtydb9ccWSQIU+UF9JA2Zrmbknkw\n",
       "6zlW4G4/+BNa/Exk+vHV1VX55NtwAAABwUGbDUmoQWiZTAhH//3hAAM4eCiOoOlABWJDHLjfZgou\n",
       "f8x23oIcGRFi6QHKJPvW/X3k3EbjztmuLpWwSAbyLVG7CLkwRTabczcnUFVRM/0h95rT+GqbVUI1\n",
       "/H7jpx5DXhuB3oO/Es/YzsPtqgalQiZ3Wg/gnyfDZfI76MgA2Zq9er43QH41w3bV35WTdD6AAypE\n",
       "I6rXy/kLqCD4tzHrlt3ioHcZmb3zgaut5wExqj4+Er64meBUUVv3ZhS3IbvNidQdloJCtvH9wSnE\n",
       "Pz6Z41wZ7dxvxgdd6Fjhx82lwW+KAl7k0TPvDNrI44D/DqlEWAaCt1l5Ek3JB0DnUQ1b3r303sIR\n",
       "CdCGgV8PtnfhUQwPevxo1RbNJc3NWLAh8wmidWUundOQnFJodV9unrSZ7Ec61y7n0cdbVHV5Bp2m\n",
       "EjqNu3e56roQfHS6IpKlBqrbUK2UA1tgi+3yb6tZn9WBLa5qeID8aD6J9brksuBVnwkYrVFN4pP/\n",
       "+88PJVUHJs7jU5W7zHnlqLI0mR5T4GFR20qPodDqmRoe8b7zG6hzkEA9phd/ig7mAAAsh6AxOr3n\n",
       "tyy0Vd6+JkJrNH+4YvCUikvhAAABuEGbL0nhClJlMFESwn/98QACDfNxR8ji8QZu9gBso8EkQfgg\n",
       "IRJ+CDcQW4WwXVXM4IhyB2bxTPUx6KJ8UDhB3LB5iQahY6c3jDBmgpsrckNMtmXXN8FvIdhOlAbc\n",
       "pZTSsBl/SFdDfm57iWI5MAriBMLhRq/pRnPcKP7P40iyxk2i+CwdWMU4SDmeOogNbMuiXSLZ9rUF\n",
       "1Lqc9GKrK7qr0TGxpTnmYnKkSauFSYmj1W1aQLnP35hedB+6DOohOXqKHJETBDQcuTMhlf+NCyyz\n",
       "uxTdTDY/mHrAOBOxpvkWaTxdOYW6OAWlaIhXL3MdOnK2K+3npDIXmuDvlvYlc9ell/4oivq/9xps\n",
       "vGyzl2puZj2GrGUawZimhT4JN6pvI6XK0nPRWjIguz89j8EEjQQLkKP3UHnOgOzMnFMkiCQtx4dl\n",
       "wPCab4Ws+eeV1aIwlDkJvxLmLYGxT4hdykHQhKo8FuxiGlrztvvjUMq/ftzMuiZzlAfHVOtxKfid\n",
       "3nj1z/azVWOHzhCa9nPGFCN6ocLAE5uXuxKKMWU7aJArTYX5+NjDLt2K8WC/MzEOofiV76bnVOua\n",
       "d6XhOLZNAAAAbwGfTmpF/wAtY0MzhI7r2qZ3oAAPArwzILkdBpQwn/OdwNLVdYg8b6bPt/pAYyNw\n",
       "DB0fpGa/lkzKb2jTSKAD1ccz+8+i4nqg3OEW66gSR4wHtK5ZzYGaGbdR1WEvm9oyCApSGOepIUdK\n",
       "tNvBnc0CkwAAAdJBm1FJ4Q6JlMFEwn/98QAB/ESlcf9wASKe6sUrceK441qlRcXh8RRQvWRbKZeR\n",
       "5FQqjKqbRzOlj1233KkQ7v1P05EgO/xEaX+in7mx57pXnhOpjvsCVBExcI0dja/D9hVt85gLJX80\n",
       "/82zCZzXOzslfZShzzRdJ/oS+EZ3fTMXZkifkCD31x35qG/lb+Xf5kZT25g2n14Y+AHH7InnXLFR\n",
       "yMW5M6KKZ1A0y3TJTixDSuYlRDf5MZOdJw6pxzin3xWUUknphEhSLM56Oh5P9t1SD+TF07SYzG0y\n",
       "8mp/T0zgBjQu+0TY9/WhivaK7Xw24pwEWsf1tm7OwXQMP/+vUUgz3nDm7heEEr/VNJlKlqBSMiE3\n",
       "dizsBJ3NOccngf9OcA+HXsNJFU0Wd2Uqq4l2lnfiVPJCFEMQ0BudeQqEsilFnNp0sXzM5NER3VDU\n",
       "+M5nE32MvbDPhbk1xjj5ZGhQCC1HzWfZLlNkw4KG1BGlN2kXW9Z1WYZieRzMoaigyGuQO6jxovvT\n",
       "UZ3iqnygvUzvNeBqPEZVRWS0Dm6dVc3MVukGnzOkOH0xSC97qjdSQMOYw4yECIA/j9TYhvSVoDfZ\n",
       "TxqujEdpDpyHJfDjSMDKYnzO6W1IAAAAagGfcGpF/wAtebeZln7cKAD2lZeMmpGL3o8PMBvYKBEP\n",
       "Y2/kLB2mbO9I9Va0gAdIUY/CkybmgMQH1KIl8S96TMQjKqAwYy6IwWHvDrPfkNJVKWRhklJn9phO\n",
       "gGn1UGiitdzyPn3FMnbhSygAAAH1QZt0SeEPJlMCE//98QACDfNzwJS5AC0LPZL5eoUXl+XyQRxj\n",
       "YevGOSF+wJz5oft4kh+ekm41+gyP7/HlEMTipv5BpdMUSCBDbDqgDUcULlC6ABvTDyaLXYbD7GaA\n",
       "0f3KoCzuF5DOlbwcsid/sZlaCQfa6mhUcIzxuaqqvpw5y3/XUeZVUejOghRD79VdBiz6FT+E8edA\n",
       "rC2QmawqVu2pzMAEAIjdvA1cHC41lgiQBSRPGy57liUS9HjiTH/mPP7t2RVPKG25DOJI/Yl7CQun\n",
       "UtYAENv4p7eTuyFozENIavugUvcRIEFlmJmCcSaBPzab1ZePF3dEQvwnIWKnMieUULYhRzz1A8S0\n",
       "3Ofl+AyXujx/doLK9q2I1FNG2CcXiL7Z0v+cG7eZafjQMS/lthq9PfE6aWKfljUns4SzPA6oxpat\n",
       "X68j4MwHTnWrp2N6qQLF1mc0oda2uALVK0xBwFsywVQTVOvz1C3toyfHY5f/Uek3+rno3YTqstOu\n",
       "6pVWutQiHv+yE1k8IY1Sgk9k1WYo81eUHNYVqlyoLj9AO6U9IMMq2TW1uHghyxh3QYmrbLeK3dFP\n",
       "GAUZBQrK8QB9hSiwvlRwbUEV6lj88h/OjcZfwzoc+Ft1PSz2N7C2k5mXdE7c7OSN2bsaJb4GHBE5\n",
       "MMxnajtLbN+BAAAAl0GfkkURPF8ALYc7SB8JO79VRnYUxMAJJfV9d7TkdUCGDXXZxu3VmhfmCj/7\n",
       "HwoX2+cfUrzc5wQFLPYekmdj6xbUpTOvg3FZMaZOiNTwj63A1BtYEcwfpvXmQGNRJRsxYRkVqWVF\n",
       "v2RflQlERrbmgvCACxEUmBUoVMmBGkhPz07bg/lLZawcn/25REsTiPMwZUvkVqZV21AAAABiAZ+z\n",
       "akX/AFaOvkIUIdZCOgk8jDF738mSjJlzE10skkuc18YicAM1qqZvBYylWs9ZHbv1M+x0vaMEfigB\n",
       "J6Pw2dF7QSnF8yMIG3piKS/vsC+UAhU9QmOqdGD6yILGYS0WKmAAAAH1QZu4SahBaJlMCE///fEA\n",
       "A/en5/cvABbPLRW5prB7m5aTB0R2JcLgoM5u4qTA2bLBJPhomhkCpM3nUr6MKWRp0fvzs25soMdL\n",
       "BCv320t5YzGN9pmv39QZ8YjJhzKEyRUyzNUjnZVFN6bl92/jkEXXfX+0WispZXdmQrji7DRBm7OA\n",
       "5A+UxV+dwqECPjR9EG/XEntYEzs5vpNhap6dmZTdU4a+A/FDyN16dOvXGsnxsjswmY1gKoLF0qFi\n",
       "yjU1df79oQeekMTDDBFgvpzyhXrm0iwe57iNCoGpPYqrb/A8cbJnN1AmCved8kWVN9zCupTp1832\n",
       "Cg+3VuhYIfLimOsgSj8lRj0wKxMFNjadaboYHb/utJNlhN/S5wXuqOkQwRHOGfv3bNTfjjIeNOFU\n",
       "czGtqJ36EDdfHkYEeQA2rUCIzQY7gtvmDbMM7sZ2O1W9aDuXD2df0SeppGZyNub7MHqiycNZXZni\n",
       "X66p4O6+CJ2yUFa3wL/hJ10lRReU8wMnJjxm2o3xA8uC2UsLXh6NV8USgaHcYMZHcSRHzbRiqsee\n",
       "ZuyWtlgEi+pJRY5wQNa6MIXjtyxjgsfAljf+x5hig+63YKRLM8rkUO1acF6wd6Cq9m35BPGXcNhv\n",
       "LBDj4bQBsYboxhPxlulYOFKUMuW/8pmm29x61mFNAAAApUGf1kURLG8ARGqX2TangAfznG0w/eZs\n",
       "K0SDchJ48QXcTeqN+yKOiigl5QaYUyFu78bGlQQf+NnGEmaBYh5M0ru5WdvZUg15dYA+GLX6J3uS\n",
       "y5N2rCqOg3s3KwXgHcLKVCVtChe5gVd5/JIQvdWVql6p5bFcjQMaSrpAdB7etplaKV/JrWYkF9PB\n",
       "MvPwnBntrbNMhVHOGCVxtaUolideOOdYdb01rAAAAG0Bn/V0Rf8AV8Wh7SuYO5//zUc1aVH37qqf\n",
       "Y4AEqoFiAK1nb/elpsOOrLrQWBmOjYblyzg9aWUjLb6yl3i2KrYgErQk5U+qawfjvqkQb89n5eXu\n",
       "zo0YoDTZSzHS0I7z5dayuL4feY6DtIDaR7dxAAAAZwGf92pF/wBXyE08D36L9ZbcJex1ACWCt+Y7\n",
       "bb0J8UMzSVzYf8bx0Z7g7Wsu68XMrHVuDw7tUdZHywWBSDkkJH8X90WUUjcR1BSWPKH1j6baOGVn\n",
       "VQ8xRy5O2pXPYgNyPz5zVGhIBe0AAAH5QZv8SahBbJlMCE///fEAA/eoysFmABcXxsJKIrW2QyXq\n",
       "NJ3NDIWG73knd9kEjgWgiUKVuZbm6CC2kO5DbXzmyc1dShEmAh7ovhTzlI/bBUHURcPolnQXYmF3\n",
       "LHF0Nqs1IBtdTMm1zxPR8sSHPb2dpQ1bWTVCVWOuZpkiLf+jgyBVTI2SEeQNRpeYcqlsIIibyV2B\n",
       "5GJouEMwus6inCZcMquf/dfCWZk/WA+gxP2krt0+9HxXR6DVpJePKxnOf83SQCnicrP5xT1Z9yP/\n",
       "iEUB9cKrZeBvLWk6tg9VkzBAnKg0d0RXhaj54coxFNZJiCiGFmbgPFvZ1KkuARGdV/3WtDI0NpwY\n",
       "FSQJC8sX70cbfEWTvM2yaBSF+bgKqj550T7sjXhXAz3kHf7Y1UYn9KWooRt153N1xQiVA3nDrh5N\n",
       "uVRVDSSbTL3FFVMohE4SiApbVqmH6sXrqeFjIPS4mw4Y3Pm5wSFMHXTFGMYMTIje2NMv6rTDKUb4\n",
       "SgcsFiwt0kGR4gSGx3T2cJlX/zscfohPO2BZsWHO464+AlbkIdYc0cooosXW6GMdkTzAqjCmDo7u\n",
       "90XNhkkddV7N60vnUfHsZCEel07nTTesaEEVMgeXc33F+0GXIE2pfUkbOQm6tovNyo72C6Yci8Ms\n",
       "EXsE/kmHbwQBpq0RQGja1AAAAIpBnhpFFSxvAERqlf+rtm4ABablc2XG3w8W2jbGe6p9GWESKZOc\n",
       "8fU3o/j1nFs7M9+8298AUmv/pGrfKv6OwoYeOWZyvte5EfHIuZlKUTyuw7RoFTAtn11SB7VZwkXW\n",
       "Q6IAZjgY0t4aA1eJzfK4VWnzlwaGuNk6Mji8iM9H0hPQnoTS5mqjVWIaOUEAAABWAZ45dEX/AFYr\n",
       "ZHgNTEyDdPFdHLYGrqjts97ay8ylFiccfUPRlpzDPsr45QAfp7M9oSXYtX2v7qvFjS0/jwId9Fry\n",
       "nyXC5gQYixThjmJOxgBQfWAWkVAAAAA+AZ47akX/AFY3zJT+okOZdGm7oALp0uXdJEWVdeStJK3J\n",
       "g4XfLBdBuGWiUKr6nlPf8Jg2a/jjr5Zv3KVUZsEAAAD1QZogSahBbJlMCE///fEAA/en078AD6lv\n",
       "qmjejnsNasGZGwHyJv4XZa4xC16DNhNm645s/cG0iodqG0MSR284dZ9mgkM96j7u/8rTloJsFuzT\n",
       "0dugLEFxSgek6cd2Bf/5EHAvNKLJWU+H0/Cr18zsf4RUdbxS84TxlXH3Q4N0XieioQNLDwI5MbQU\n",
       "Rv3Tr2tCBUFz9KWIGkRu31B5VALzAaL/g1qnfivat3L+ih/FtQD58+7cDQYcl/7I8gPf3KQeWBFD\n",
       "AQZKipzOVUqgut6/zJrra0hLzNb/2FjqpltxibQvzdS696ool+Y0+Qn3OYBfKWJQitEAAAA9QZ5e\n",
       "RRUsbwBFW1va0Z1EU4OqFdYlqfQu4i1hBgTbRIUQkRwNW3fwdQT2uFr0E6A8NwqEeNe+jTzAqid+\n",
       "kAAAACwBnn10Rf8AVjEQF1EHS6OMlEFOi96W67CO65d78mD58TdO1JXE0AUu9r1DTgAAACIBnn9q\n",
       "Rf8AVAcMRBqI9skJewpIC0tBOIOeFkoU5r/p1UJXAAAA40GaZEmoQWyZTAhP//3xAAP4zvuimEAE\n",
       "QL2V/Y63K8pUhAedUzP7O+0lp7ODUDG2/JqcwTaitkYR2b4fIUoIMzsbKzr8TqncD+SAQPTFlXCH\n",
       "zRWApO+2QkacZbDMVl97pzgnJgeiUYN0Yu+319gOUbPKVGLAXiyUyrz/RFCf562N0em7BKrPc9nB\n",
       "OBfg+/U2AaDgIQWsUJevfHGdjbrtLVLaVL+QFCHzo8+ySQVCycCYC6C3ESZnFXvuKi/9lulE3P6e\n",
       "vwPAjxR2RYgnPdLDJ06Fuk8wstD2EAh6xwptxBs73CzgAAAASEGegkUVLG8ARGqjeLzWNqt/z5eR\n",
       "41mCpgp6GznM11fF74z1ZpAqRtIbf7jt0SWLiKQSLhMnZbwlFyqMAgzLEoQbuvaXrh71zwAAACEB\n",
       "nqF0Rf8AUMu04h1poSWfO4bDutg1j7VRtKkhljDSmoAAAAAvAZ6jakX/AFZt1eTQXILPD+1AvYgQ\n",
       "qzFarBOnQBZf/iIQv75aXg+Q5dbK+8B5WH8AAAFjQZqoSahBbJlMCE///fEAA/ene6KzAAaDTFab\n",
       "7O+T6qmcMRSiSRL1+Ei92Lt285gOMmVP6xBJdLz98JOOie9zURZs1l3osnRdFJAliWXCZ56UUlHc\n",
       "DltKZgN+3RS5rky4SxXh5I76k0lBKABGTJf7AOfPbvQrvhvewEuc5JX+qaDOztebj2KJ0KZW+9qu\n",
       "JxUCrOW1Z8AKH9RpP0oMD3BP4EUQJFtYDvdKuBYHJ005Lxo6XuH1iblIKd9M9KTGd3okvQ1fWPSL\n",
       "v50HHyUYGO5BfFHuenfrQR4p8fhjnr3tILp1xkmXoA2+ce5o0wOZDJbYpb+tCxyv2UlJbLg0HGJp\n",
       "ILpt9SjS7sfHCvKr5qajF38QXm6kuRozfYSFKPz8kyLX7ySiHzJtkOKu7NcAlitXoC/y/+D02bAo\n",
       "DcQsNGeEgouVt9Pw3+XR9Q/8z7H654EtV3hZV+jP3CO/cM4P4anbxph7QQAAAMBBnsZFFSxvAERw\n",
       "KmmyAAh8ejrcQ67g+xWR2AUBQFzCChmkmv9B0CTFodYa2ipX95UePSNDUFfky3PECVeVZIFxqVdk\n",
       "CACGlv0QQvr0AIK668G4PTbdZ1XqRY/vRdmprbZf7LQuB0LbhBQdgFLsffJ7JKgSB1PftE9vyRNX\n",
       "LC567BSIFlSMF6uSh7qJP8o1f7Um5xrLAOA1pXzXCeB5Cko7pkyFkCzIsc+bRFx7vYgpGL3WUOCd\n",
       "XH9RVWNpBINFtMEAAABDAZ7ldEX/AFZZWy3MJad7Tq4riZvNM2t8wgfg7R758ymE2A2AjPpfvnnQ\n",
       "wx50XKGFJTBWzeCpGjYqcQTgzUcf8IsV0QAAAG8BnudqRf8AVjPJMJdPYjgQIOQAJX4liyP7aWPy\n",
       "buBonSAhAHtRImObWeMKTAMuvOclWyehfGFmzLuqNAUddJe944F8ihghRZZ3xwmHY7aPNia6wxEE\n",
       "IEzYfmm8YB4cKIYBJty5tEPueR5FoNNYH7AAAAFrQZrrSahBbJlMCE///fEAA/fGosWYATuKRPJj\n",
       "Ro6G62/5T1scfwDVf3t+gSStFmbQqNPwOF/apNtbs/KxduDgowcgSR3yIY7RShsabXKLGxgT5B1z\n",
       "eS4l+6/k7YxM5uUC/XO/chHWIxOG0bXCEirhMqyeCIt4x1zSn4S84rqQy3fHBkUWUk33d6APldQR\n",
       "5myBZiickBUpkqCFCLSCG9d+uEKBE/xN1EwCkegVMFkcns7vBwWYDZiSnd1iSIGLkUooNOWdsfRF\n",
       "EalMsXpfWHiUGa2j44gvqm9Kn4nO8ORmLY0iBU5Xc4MD92DNdtV1SKK4GyrVhVhf3thpmmz8IcMz\n",
       "ZxqsH3Pnz55iQFiBJb4o17o7TV0ollhDva5yDOhUHGJcWTwj/Ct/4DEdBK8YM9LJxJi6YVTxICM4\n",
       "BYy/RWGmy9vwI2UNIYRJBjfNLhg4HH6IC8dWDo7I3QtxRk0QjAsD8RLhwQ1nDPqzucXAAAAAiUGf\n",
       "CUUVLF8AV+CSDjQyObZrnHRgBoNa6PL64PTGAFIElsJXmHXNHYtfbLDAc/aAUYqavi48P55i1gfj\n",
       "HUe3lAabZKto3Ku/YZYVv1uJFMJxjFj3XAe5vdIgMlYFo6p0frmY0wifsmRZAsoRPsiRbA7Fj5yK\n",
       "bCIVaguOn9kfJug7Or6IPyZlH2tBAAAAbQGfKmpF/wBUTr77wV6/iWnUjQhKABKK3n6Jp8ieBpHm\n",
       "1sNCWhISA+zABk4NVH2udRKUokibWh51D3r9PPuvNQYq31QYYAqp3S4zeQpNUPGM49kUjfI+YmgS\n",
       "x2YFwAGH2gAL4NYXXx+LankTmDAAAAE4QZstSahBbJlMFEwn//3xAAH78Q9Fj66CTy50IVMB4ATI\n",
       "wnpDKqD9NBz8r/yN4aGL6vcKl3NDjEGMLETW14/OkxYKkSQuZQNMfFxGZXMT2LwtqmM/F6O2WUY/\n",
       "972oaDZaOQg6C/HQuMJ64gRSvmxh2N+kBlkizl4/dVSz+2urTZap2qJtpKeqTYdH+mH8Pka8dsI9\n",
       "5L6rwZCi41mIq1X0VvaExhA8dIQei3u3DfDEjJPq7nUAQaIULYBsrYYxPBc4jBcZq1ars7yHGOoh\n",
       "fy5zbQdKlZJ0IIzFWEJf7H9Ed8BrWr9G2XvGnxaWnCSiXgRKtg+m+M6nbdziro0YjHML9O1Cf/1H\n",
       "cTecAOOaJjbRxmjXeXBf+/IW3p9vCWpSrPOivXeAuhNeZ4VpJe8QnrvXKNM/ew4HeTwgAAAAYwGf\n",
       "TGpF/wAsXljqc3ak6l5uhgBI7izB9KtN/8TZINrpynGN0OnhgbIyOsbbAb0uOyx96PG0IGvUVSJV\n",
       "lEQNwIX51VRdbpIVJ+9f2CcQERVCbzjYOUjoV/3ucksXUpIfqef28QAAATZBm09J4QpSZTBSwn/9\n",
       "8QAB++9BN3YpAAyedRfOQO5x9C7Bdx4EGcIRkojCOTjEBslUUFuDJzeTrlRM7bGIenMJ0plPEcSu\n",
       "/Ia2dXpexpKOaovEonmaNVR9lyLoySaan6otsJCVMnLUU3gteU3pQEOxei+FSNsZ9rvgwKw5IKhf\n",
       "Qt1Ftvt8riDwiDEbhOu5W44DG+wBwXw9IUB1w/aNhsyM1EmhHpFtNAF2N7jxz4L10BUYg6NaV5pz\n",
       "ZkPXRwbT5QpkhPe6AahmhzQkj7mvkWCocZRSOFHItbtwFlMsGZ0e44MUwCgm0JkL1xVHuZUxAFty\n",
       "R6/xNjdObKmZEYd/l+scO1/Buhan3PWcKG0vp03AusR/tnH6urwZZGw3tMQGBbwNTXx5GV3Y6cUQ\n",
       "Tw3X2j+JNhODdI1xAAAAbwGfbmpF/wAsJ19sz58j48AHmpDP972LBygKK8qibzoupyGMS5gTi0Ps\n",
       "+CLcKQVZWp5QbC5Jdw6xtefuVwPuP5DjpOi16lyqMEMnKudySbq88Vkvc3gIXyISm/4E5Uo9MByY\n",
       "/EIJ0S6EctfIwKfgYQAAAYNBm3NJ4Q6JlMCE//3xAAH8/pSutyoAMs2MJUKHBGdFlbX4JKB63X9b\n",
       "LzgTxAyAiWF7vyKZuihr+UzD7q8wBN7LMUAXJrawbkpxtDdeir3yekVoAoPhooyclEc45ztNsjZK\n",
       "kKVrb4keFwB6DDPl2epP7WtEW0MKpeRwrFstjAYpLKxNtSfhHtYspWUHOB4Ug91CWonaCQ9W70Y8\n",
       "a/Ygo3AcfR5ANqGnG674F/hvNAn0SDnomqogV1noF92zffEHVzF2JJQtxMxNgRHruk4FXEN2qoMZ\n",
       "KemEgVpE2mt8WPf25+BnP6enMoPNIGycfGKypWA6pIcPrYyV/bHsuPpkW+oXPiNSi0p2C0dwY/T1\n",
       "c2loCec+GmQQyrdrJ68yjOteB5sGUbS57i/3v0guKHACskGIlEDQ3SJoxyMs+OI8OVZgArKTlUzE\n",
       "2sAIabuQkae/RaAVmuMLTZvF0TXyRmfe+/RlEHMvUTGXxGrfH51eR9OmAbDy3d633ytw5LXiLBly\n",
       "us4Dw0AAAACyQZ+RRRU8bwAitptvQAkOG4y7SGwfBpGLzej7Lx4STmr2EfMzUT8UoLTHuQFEjAZC\n",
       "Erxq11OoYgZTuoF97kpwszA8sls6eyPt83rhgVtBTFfW6cnuMxj9FKdDjqNg4vK15/NJi2CInunx\n",
       "MAupdaEPjtyFet4NbMxAGIhmyUw9M+xixjlkiiqSFBCCTjEkSa47J8qM6WaMhdnrs2mO5IEH7bPT\n",
       "NrzPa1veJiQ9BlYSk+MCgAAAAHYBn7B0Rf8ALGgtjWvrodTjdgBI8ufw7AjSOHUC5nbuLXHemrIJ\n",
       "V2/zxKjLcDmwHx5ZM6dAvbhsORkXhdUfCUwUWe+dzMySs1jROhCTPc+EMVu17RQBng3mILwA542o\n",
       "GwjR9nFeY7zRvL/AQnQyTSFG4YZ7UOJnAAAAlAGfsmpF/wAsaRqI/DvO+KrwGAARrZA14B5nyODR\n",
       "RwrM49LuCgVCySRMgSLHRtpbIKRM4oZeF7WUhWcsf2aOHQaDhYUu8fxYZ5j7wLgEBe7hCqZpdQUv\n",
       "SvH/rpTTytozxJSEwKV5Asx3UGneZpgnx+Ml6A5pLTOcLTr18qGpIZIxXiBZYZVdpbH+ricwhP9q\n",
       "2BrpBVQAAAFPQZu3SahBaJlMCE///fEAAf30+AA1t4zW7M/3+HqmJ9ecPgAzc7FOqWsx2yMfftsz\n",
       "WFxdeO2IJT+7Cu5Ad4R5RQRP3B/OedgDvsB8T1ajNfDEQFJgpks2QQxfFzmzun8ptSBV16nLSXld\n",
       "nV2TCL6c0gD5/bekHYiSqGA/h3CTRVnp1PgKDYuKmQOUoGDnPlM3MaPlMX2SbN/y7lDRhspjm3sp\n",
       "UeIW16f3tAqyB2PxtF3f9AL/sx0GtNNfh0eDB0pI59f8btc9DJVt2KedWygfP0ENqosfifBKSE91\n",
       "EgeTk0qkKpYv4I5E11UrVaJE8j7dB2T9wbrAp6OwDAksT9ddkAp6G8ocQXSDZhklUP8yY96ZcNSj\n",
       "uSODRCZj5Q7X9IXjOdWbHg5hnm5SKvDVVg21gN1KcFvcxP2BXyDs9M+lHkJ8D2TvBkoSgL5eaWsY\n",
       "PfwAAADIQZ/VRREsbwBBW8P8Xy2oAGbR3Sgr9L3F+LQEOZWXbexwAM7nQMhSv92XFAChDygKUcWQ\n",
       "H7Je28CAgrCVNkVixKQFgOPHGnTW9TBdBHoZi6HTRkgfkfL2XqLRzgPwRy89Q+r9Yn4+NUaSlnQ+\n",
       "4FvRWjKNzB25bFAu/q87yM9X1AIgVwHd20cBRsvoVgovKhOfZv2I0o01cj7xf0dx13QpTzFfuaYY\n",
       "mgDCuuFK7QVnu38FaogmShPKJBx9mO7kfltYwTGejtMx08kAAAB9AZ/0dEX/AFP3IQhJXMKmr88C\n",
       "zD6AeAqUlIU6Wz1xoASXxoOjGFgmokgSGyjL5CtMpGDD7DIk/A4XV7SkG3aMSr1iT702Zm5ms79A\n",
       "LI4Xo6CoT5Hz5EC0CTR8Y4HjSKmd9fVC6roQKkNrgi0QbHAThfH3PNCNfwEwRD9gb8AAAAB/AZ/2\n",
       "akX/ACxeN5EARP4Cj4h4zi9Tv4YhsCLf2yhQKkpVKYw0VIGZwbXvYYfhudACT2iOiWIomX1Wi4ym\n",
       "/aW1/fvovHpXo/BcQkSe2SYGPN4fNX7g1uhq+MEKa57K8DB2xeddnNtZyYWcEBpSjSv8uwfKd8z7\n",
       "gIcUmKgJ2qDMOQAAAURBm/tJqEFsmUwIT//98QABsfTdyepwizrM1SmfkAF0Rw/awQNoP8CQK64V\n",
       "0uRF35lTa03d6LMmFc06C2m3my/PIhOG9IVyssGiyoy5CXibvgU1aKUPfcl8FEeNl9mNBxSdXg2N\n",
       "U7trHWLhJHWTbX5m/cZn+9QjVkViKfLDRD2GEM5DARC4jv8kwnT3tq+GNjwGeKXEIFTxzbRsH3l0\n",
       "qRRy/Dvs7Xx5z6qd2XACoGA12AIRGfLHI2oZOmS4aBsl7ES51oBpcWb7euQcMhOEU1ejPRKcPbzG\n",
       "ntRlJoVaHgFqngQMsWyXrJgB/rO/MD3+Jg5TLiXA4ACwby76QD+EChdFYWFmn+VOrS+k+pPYH4xY\n",
       "dEr1RX47sEbgSMMkI50lxUEoGTI5z0XzDwiq83VoWd5vO7lw5bZFFKqlzYUbUWWpysQaooEAAAC/\n",
       "QZ4ZRRUsbwAewHqC8O9UGp4gBIpwUF2tkWI47qfsHIqND3bJoHP1G5Vi6XOiw/ea2GQv9kXoqVOR\n",
       "ljMGIL2gtMelyKk828RhglZoNwoTx/LB4ZqEsYGV6+BB+ttzpDzi4xmy+ERXM8C/qjmhYkl/7Sfk\n",
       "xmEmNdEcwOJFwydx6H7XvFVP45LETeausWWjEXqG5C+p6BinHOhDH5myqZbpysA2fpvxLDV31x2q\n",
       "6Rpudw9/KGDhaWbujA1JPPi3hhwAAAB9AZ44dEX/ACql3RRlNLSIByz5n6AAHjYaHVyKcEiMxpjF\n",
       "Jl6V7ivEbwTqtHmSacPGRsUP/YaP6L/xHYtCRPagAvnDjDAzxHk31fSn0z193jTBoT3OHs2EOdhg\n",
       "sQngN7Oqn49ZFFBi4ZLktPva9ubViO0AhrsOJ5c3mxwOqYEAAABwAZ46akX/ACjjYmb/XN38AyM2\n",
       "rmWvbNe2RiABKieugZjDKXGfz2s3Ummf9bfG+jFWDUzK0Lxi97f88CijvRXRIQFDFyg5MG/PQHyV\n",
       "U8Ekor7e085kCE2oJfs7+FDQAfdJjtI1Zgq2QZQoJ8yfiseJOAAAAd1Bmj9JqEFsmUwIT//98QAA\n",
       "/SQni/xhCYjbgAtTtx25zj5t+3PWIuETS5gjYKQwM7nWWTuoRcMuW0Y1CACRYteZYvjXDfHkaACW\n",
       "F/iY8eRQyrH1KZsUM5gCMx+R1Mj/vWSrdOkFP+RIApS4DOotKpv0l9vtcguUWYrkBUMd4pvtHMmc\n",
       "KP7jQC2+/C9v5Oy5aw+Ubk4147FxzyuMEGuawaqHgaJ7dywUp2toH83nhKibGmhPe7AwtGOarXl5\n",
       "itq7L0CP7PBZ01miSBQmrr7rS38cr/tkVnWXUp5lK34QVc6LjJhd/nPi7fT/G+CQJM4ELGC2DdCv\n",
       "CJ5wSI6T+S2ksCOjE/uQtWfA+bPE/izo7U51Wi7pwCO3knsNQ58BjKjOK7Bi1F2cAuiCX6T5+3Ow\n",
       "8hK9xDCwmbt3InOFRXndmZCHqn2GP8dxhJ2sxvEN7edez+0fQP3pq8TFSejEQ5nRPeuj98KN2cbK\n",
       "NzIUck5kSyQkIvGBikVo5Shl92S6ROPOHiDt2XkHysaUawdpDJhqJOY9T7SBlPwn606HX2K9Bxj+\n",
       "DBPE9UJ7PA7VMwur9bwhjJRWUlJBv9p+hWfBryMYNQvEiPDHohHtKPStvQE7L7bvbdnn9klHs3mc\n",
       "q4YQQcEAAADCQZ5dRRUsbwAfH7hdLCYkfU4AIOHSUg00/p8TzJ2isoxE2cw4svtQRJmj0dDyP6rR\n",
       "XROC6uBfiEAiUPy9ZaEXZ5+Zp0R9k/i9dgVgS4OV/vAvOBnSb6OkQPz13uUVSTnnWW1TKFWqiXCb\n",
       "dwtCqTDBCUjbSnwC0oRhM52eGDi/g0JFrcsMoa6/TZLMCKtuAEyVXTFY4Wbo/sc3PomWtH6T4hLb\n",
       "/YRphae2Ae/YvHD2l/VSQqRI7AxX+BcigaLU3daV5rkAAAB2AZ58dEX/ACe8F78M8ExiyAEEfiwX\n",
       "9Tho6/qOGLCsB8lM2QM4SZwtzfYSOwO7MjbIx4ksHr0YHTh3DdVI7BRB2aena2HLeC3PloiM9H4K\n",
       "xM0SmWG7tEU1wnMMa5K+G0XXgQ4DzF+StnVusMvYNGON9K5xKleRdwAAAG8Bnn5qRf8AJ9nn+tkM\n",
       "OgBCifabqZnHU6ZVdOQgf7okEyYY4XkJnqg2p2hogIAcOKApNhIxw5pgT0u2308/p6aUN1wdHD9x\n",
       "fGD6hopt8VXD8NJfwgNdixEZgzVGiPMlDFb/dCyAovaiZ01k7YxKloAAAAIpQZpjSahBbJlMCEf/\n",
       "/eEAAZxN1uF1ABay4G9jc92HWZzEfDDNZN2iwlt1kaucHdNOHyXaFcNZ6tFC3VbAgoR2mFOFP4PF\n",
       "zum3soFyw4JyTjZNf6YsdbmUKBYGfTPupSbiVH33Zp2Uhtb51YVeCpTNqKpDnWW/iVpFgQZ86SbQ\n",
       "EzTkSiocowWGEc1eyNAWPVe0OhaPlOyWApEZJelssK/gOgLf/BdnHWWUm9ueHsEnIxR3WvSUFYR1\n",
       "Qi8bdn771Ex0hiCTXwRArSFlqo3Z3FZ/GPdCYI6R5sm3mBnBQ+Rzq1AhURW7ZbtQUauN/a9pBmbH\n",
       "y8cmG2YRWi+SnT9bBY95T8x5/TLsepgnHM9OZ6KAFMnWiP4BfCG0Kh3g8d6gs2bOu0rJ64ZFEX6Z\n",
       "BYvuOA4eeelfSR09IPr+bfBBI56zTowW6NWOV7QwtF88tehzgTzoVXmQFyIMS+pz2t3qcrlS0BP6\n",
       "Q2651bLJaZ9D/5zLMfHvAsN6YmOdJj6M/PBAnb8wqorS/MYElgbW7yiOP8NbVOcVLLTRbE5IR3nI\n",
       "vozkNTciNdMTsbhINJeDMe+06Bh+FidiFVq3uSgxjyMRFDcEBf59WPYdr46M644B1ygL1RqlpbiI\n",
       "hwNUc6lKY+1MEPFjta3ZS1h7gfthCHN4nj4c2gIlUmw5NTBdvsBene89aVRwFSPqkTQe7L2XUqu9\n",
       "R0cXKTs9vLg8I1U6k5n9WWcxjEnPOeSHiv6niQAAAMtBnoFFFSxvAB8fuHhFoPBRzcAowz4OKpVj\n",
       "UmRp9x5diLL+RHDW3ZZ8HAP3fNR9E4Vw9I6q5Q0Ai6Gwyo1DMf9U9jvGBNoj8M/ZwWyMsyDjAmGI\n",
       "utbPuJQddpIIsFELlpKmWxxo814eeohBlTfIfY8po/u8sHts7ZEXzepm1Iki0YWB7W7BF+118QUG\n",
       "ulEnBYqaFY2lSjYr4f28/3EVlZyhYVBIvwmZroIvUXDD5u/AkvzA/pJgNU0Y8uv6EZakuGzKqGT8\n",
       "Fud5EWu1cAAAAHQBnqB0Rf8AJ7wYmlk/43O0AgElIGcoXOgmvZAmj67WofMc0/etiYGLH0PcMcs4\n",
       "CPKhqT+BHwkl4xjpqGTvilkYMOMWfCp7Gy9K78Uul7345UPYYCLGm7QuSiEeGG2F1p1eYy0FvLh6\n",
       "HBu7OXn+XXXGKHtjQQAAAGMBnqJqRf8AJ9nj1wzXvw7rn/Bcda6uFACYi94Fm3GnAa+OSUthBYtQ\n",
       "YOCDzytXYYmCHxJWEEUICnc27+PXRAxQNpFeOQH7s9nKFPDVg7LywXPj/N5PNgYdnXW1J2TgfR8g\n",
       "m8AAAAHUQZqlSahBbJlMFEwn//3xAADY/03y1S16KxQGy/MLV3HsGjR5Q0IYCNAgi5tIDB4wo4X1\n",
       "3fMPICF+2Dtdc+YsMmSq6Fbj4WIr+Sa2ZemR9tm9vwHsR7IHFosRL2hr/ZFiZ/FxSWdsMiuvTNi8\n",
       "i/n0qRTO+OsIX2TP73EFm+kY4Q8B2J/HVYyH0t01NSzbMh4jJ9umuo+WlF9gG3C+7qvyN4V26zQB\n",
       "S4W/vRsM8D/UPPLBgOtF3Ll2vYenAqOcwt5G9c45dD9S4PhnxoqeS1ke5CvgRyUE/q3bzGelsNLY\n",
       "t/ggE86/Ri59RJkDWyVTQly1iHYNeUedfi6/Ozt9dO44kqJqASS8h7wsFV6P9nQv1hYhD6PtpWEa\n",
       "89aXjZlY9DRlAjxTc6iy1NCEx19tTO4wT7MmpSAJEnmIlxfZCGA4cxF0JrrKuXbX7TqxXMvj7y7U\n",
       "JZ/aAfup/DplqINV5lD4lU7PBqC+fW3fysXLw2iy4wjgMy4l6amxOHNfVXQ1/EN/WFAjyjnEfJoU\n",
       "uvkQXWC/VCY1qZLlTOAMyt9ve7ufio3MZQb431/G0dYLdmlhp+cN9TtxEUuxXSiObpXB2ObZqujg\n",
       "v4fdjGbEAJHA+9980xdhtRXBAAAAZQGexGpF/wAn528elljUi4uraRhOnyO20KG2ecJ6bwAedpKa\n",
       "CWSoxFUiVPrrrohxgiCTBzsGvkOwkVSDrEWt1vgK3XvThFlCOcdqyrMgzAJ9JZXwTgmMobdvQVxb\n",
       "WZIIp6JFIzJBAAACFUGayEnhClJlMCE//fEAAUj+y2GA9lopziN078kZBgBuebfPxYrXUcXGjW1y\n",
       "FREiVith42HuQUzuUguxMZ5wruQ2PgSveXKYWo59hU57OtGzuWyhl8iPpks6YklNWEUM9O8NF6Yc\n",
       "cS5005ompFe0VtmFLm6SX0aSSYJ5O9OLPWk7WrEvWErp2QkVFtW5bPt7D0L0J3JVQ1hxPh5dkW7N\n",
       "5WfWCVK4KnZI2q9aqCorDpZWsCU5sTIk/2moL/VMG3XwtrVL5ENOnY7QwcrRW9UF7+TfkOBr+5Ty\n",
       "MyL65MJSDiKGB1BLnFxjZD3vZ+g49RV/DSFSJM0JiuFikod5pYhNOjWOOiSaOS7VDkqVvjoJVe7/\n",
       "lVKBPaQA7Wy/r7oHzPjLtwPwVl68Wb+GCiWev80qdQw1AIOUew68mGjduKzIBRK8Vd2h14IuIs8J\n",
       "fSneNQ/XPIOL8TN0FOg5evZeo25sxAjJ58AI9Us5U/GrLJaEDOW/+Vdo7FDvhoYW7dcZ+2QitOSw\n",
       "DVfZ32J61qSx4C491SfKkxhYuzhqmNFxOL36ySXI1b19jDxMraRGdp47E2kUts1ptCGbN2q1vaGa\n",
       "mJFfa7WdU+wCTrK6Ql9hqBfHx0WxKETjWenTpzt9g3mbPbz/+Y1GQT4rwKqaRX/t6mdBg9PzwGFc\n",
       "9s1sRqixoEbXtdA1PoGdOEF1z6nrtXTckC0qwSt6ZPI1AAAAgEGe5kU0TF8AJ+C/crGcuv2sgo/k\n",
       "s8Cd4DWxI3++ADwR6Z2IXJRIdPB3fxsiYj9tN0pHXIPVONSuvh5gwoPJw0XOKSdvyUFI5zln/5Ek\n",
       "gELGjgAki3yLFfmqSmSs/Le8F7pHHtEELjdCwSv+Xf7J1cUYez2P0f5G/MBwE4gTQafZAAAAiAGf\n",
       "B2pF/wAn2fJXeMomytfrav+fCHGgtx02AATWTqS7SMO8RSCpyEMnIqFynfib/7kobcoqm1w1Xg2x\n",
       "pI28qFf5WLRawnCXZcht9bCANbg4+7g6oBKHZ7b3zuf2CIEgjWROY5/Cm17WgNsLYNMcVMFh0NgU\n",
       "JpdSypFWi26rNZidJ3k5H8Kr924AAAHCQZsKSahBaJlMFPCf/fEAAU/6GMYInxaQZhnJcY15HGxR\n",
       "C5mr5nJlMrNN9wdslvJy3dODhUGaJ8HLwDWcYYxTbn+8Um9XWZVWlYrna5A6FllUfGfzveW/1o9v\n",
       "y92LzB6givrFM18a+dWL0MwhA5RIHa/Lfd4kCzF0Yly/SQTYztckwGpuvod7oaYOPL6njlj+XyDu\n",
       "GuQq/JA4dHhXNIJ0q23soCBBZVImTuWXt4doOvRYZWSKavwfeAoum45bdWQpUPj8WDF9MKSEH87h\n",
       "wiSIqw4k6ES7J763VxSj25capM/A8hevkYBusmfG8+t6bmJK/5b+oUf8goKJgyO09UxF8a6OnQUO\n",
       "cIQeJHzuwKLQRf5E8fCUW8WoCNXxQuuszwvrL2dxEdJDzrPJ+FeuWFQIKuH1uGC9dn40LRMHMejY\n",
       "QCo53nwH9jx9eQHYrW74LZU0Kb0bcNa5vIHAxaOIb0zcvmYYki1dfY3+inx4iD0GABd9q+zlZSTm\n",
       "iOsVRPgte7bx1G4ekBkR/TScbKlv8mBtxKKBfmnDPqmFIoJddHXfRzYpl7QLiTFmI6901cD8RAHO\n",
       "kcRD3L/W3DEwnLQiVi9yRVwgAAAAegGfKWpF/wAnwxux5VFHNJK/feS9mGlzN06ykTzH0pshWgBK\n",
       "qAYLYYq1VQwqG9YIJAmkV0Rjn6bDRyhJQpOqOhyVZse5qeNWWHCiznLJ1A9S3DfR3HD7PuuQs6mJ\n",
       "gQr8xy9D23+PY6CaMCgzLwTq5+CJvZPHoe/d71+BAAAByUGbLEnhClJlMFLCf/3xAAFj5PtoXdDa\n",
       "kvi3CNVwCfiNA293wYDiKkBTdtsHNWgIi58aWUbmC1YtZYt0UYPjMs14eNcY73YnvPynHqBiI0rN\n",
       "UTzrk7qgUIRehKiG+XeSQZPngRewIHvXBI1kH/2J1QFoHAmVVJ3w8odlD32w2m5qheXyXDOY6ULP\n",
       "/uoZbPQxabU6Gn26iNo4mUp58uuYAOFU7ITrKnXvFTHF1r2TUugRMIP+JiTmKx/qhNu4UfMqU9xv\n",
       "+Z5wH0H7+Z23Jz2Ib9klb8fbLGiIevsVdRtpym9b7SJrZ+o18boWdx0LW5DRJGtzjzErISFGxHee\n",
       "qSYAt7izfhx3qYn4YS0gRcdKE6aIVOW+3ICVXGqAUkAp7qk1BQZsGHbQTkGDiYAqMTsRvguwnhKb\n",
       "fxUzIcT6mYbyZFwakIZVm/vZ11qVRc573iDESeSz5eduvBJeIpeQQt2hTWvNYrSRXccgL2odkmXU\n",
       "l+hHCX7C2u1fF8nflSRGeszAe39eJdBudcEuotHoHxSw+16VTSc1IWqWJ92CwPnVSo640QNtpvI6\n",
       "PoYHnVWLkRDUP3Y2n+Z/M9kWdvHBTFU8jz2CFRmnfBZIqUEAAABjAZ9LakX/ABxWoCVgYrmEq5oD\n",
       "kkUJ9DhxwmByLvACVp78wcii13aYdMWX4BjhvlHcahFsK2znE5pLfM08fiaiM+FKVyTbSXubdSiS\n",
       "JQCdW2VwZJvD0sHuyWEvMg1tky0DAqRYAAACBkGbUEnhDomUwIT//fEAAm3RNp8ZCLEo2TMI8PJs\n",
       "c0wKKhstJjt2hcUcQFMQC/pEBaZHNFamdKVG4w4zAwPUjKdrAwVisVOjmexZQiqpCBwy/XdQB85D\n",
       "iKn1Imogok4Xhn0DfppRss4aAjE8N75DbU92daNVxfwaQjG/VKRCMPdfQSQM0aPkGqx0r7K7AjwU\n",
       "I9hc/ANV3ayvqRx0kkGZsbxM3A7s7WEP8aSmQzH9yehsMBUccnOJDMTX8qh2ALUU83kfQJ1i25Hs\n",
       "KslgHp46wIIhwRHYsex8JG0UKfDpm3OpicDoFGg8L5ty7ledGR4xRAkgADWm8i+vL2szPgHa1k2s\n",
       "L6Kf3BhKgv+FEJN7kB1mHc7ogsczyIB74vPu67sNtcZO3s2txWk/tpsaAJsIoMdOuxKdrQfWICdR\n",
       "dbZICU8V/2p4a/Ofi1/F5nv8ISM97556DdJrDOdKs8jY/DkjcRa9ElMPAERz00uWF/6wKSru9tqS\n",
       "1yOrWXTszdoPeiiwKp+QX2bLtlS3sbd6LkPERtHx6lCNzeWQ0qfcbOOqHIDiSMkNpGkdgh1NuI0p\n",
       "xUvO+G2S0l9mWfJe/ShGFyygec23HkGWONdqAG6OZIY5oE9U7Z0DgnxKEz59TFgwnbh7Qskhk39U\n",
       "H4kepacEtD2XK1UGLoAEnwL1tp8Qs6L/BK93dbecIYeBAAAAkkGfbkUVPG8AGIlCSpBfm5FwGG8t\n",
       "ubOI2pAXM/19uEQ9ps5H+CYK/i5YE1+AFiSq2TPZaJogGSPbyNh680AlCCXA6kCtLEMoaz2aat+d\n",
       "6TWL6SLNqyvCSB30qK/iW2qSU4An8h4YkdHpd6pygB8cs3WTyZSoK7NuzEgWGT63ez5SS2D+VQ55\n",
       "wBgptZncUFPNqyIhAAAAZgGfjXRF/wAea6hrzsT9Zxxjh0hMAkOoncz0OqCS3KaD8j1gAnd6X4cg\n",
       "2G5SXvcXv32ssyPuVmsJakbaotrmoIw8OnsX3Nubmt63cipZoC6AjdcSHhE5sfPr3xkJX83siLE3\n",
       "1eoS8QAAAFoBn49qRf8AHnDxnbaWAsh0HcygKABJ8Msa9XKDV97cc+e3prPzyN7l0Z7ZLEpIpdOX\n",
       "r0SF6N2VaAKnQFV9F+xF04MQO4IZtvG5upY1AAeOo9sUZXv8+jTpCroAAAHTQZuUSahBaJlMCE//\n",
       "/fEAAmmxfX0BRp1oBt7zKm3uUXQSJkQi3P05Xe5AY+V0kERpS6XJu0XstvoWUUyz0ETAFgP+halB\n",
       "lRxkbOdTd01RnU6X+PAh4GLv9PAWoFKH46BNgRhdWIJGRXH+qJbUb7LG/HhfrypjUQqjh3Jw/CrD\n",
       "jfGYHoxZtleMIewL93LCKpFNMTBE8tvcvWzvzPhQWuFG1bSTrKCfZoHL0zzwTas45uWpe6vXKqoY\n",
       "xtRK/CjX13r5XgcwEX+AaerQDU4wre8h+A9VMEEH/4w7avYD/ne8MvWxFAVWrCiT7Gx9BCO61v1n\n",
       "hhTerDY3vT/8GruZoNy9JX63CQ9Y02MSlBrDcxrNTs4PJCWwmBa7UtoAN640d0VFCpLsQTDT6zuH\n",
       "9jiNm8346Egq4EcjyCKNbGEF7Nw+jBnizHxRgdjpweLHoXC3FFtyJ3BsOB38jmBWBU1tlv82W29D\n",
       "gglfs6kWcKI8dmHbP00see4Z8SNvOoYLhIg5MhV6fK/oHz3vFmAxiqyB5UvZtLgJWtYJ8x6I8Y+q\n",
       "+/n+vZjkD71O0iapdIhnqaqLi75x1atSpCeCZQtlwKikp++DvFHcJaLjYAAFKjH/kK+l205Y4ygA\n",
       "AACkQZ+yRREsbwAqJUgL1VIwyeOfYoFACNDYIYFMQr7aBvNrjfUdyrK7n9EQ00JS/UCVnRmBxgQz\n",
       "FKS7EncX+LBLh/yN/sTTNgV1+Bvsd4ObK8nkSUbt/7iCMg7a/4EtxIhUPS02b3zh5t8sE/ZGIFGK\n",
       "UGF343fvu2ayR6t6QSTm411H6hxEwlml8RowLg6CaWMVly8mcJh1pQQkRMMR8FKf4yF70oEAAABY\n",
       "AZ/RdEX/ADYZeq/BQNcfvsAxSjmCNgASrAPQx/VJYoi5qlLiD7LFXbSLrHqoi/tV1dGa88qRcXea\n",
       "Ux4Qzc83OwLZEKY2FCuWHq7BPcQ3FQs/LS7fxPlZLwAAAFIBn9NqRf8ANNHcrD7box5Log8oVACS\n",
       "D858aks1jIxU7Gx8fMzG1VlpEDE2IfseLy4AOsR+L7RxMer0qtf+4HwhWMbtw8ABxhK6Tfaw1ref\n",
       "LobAAAABpEGb2EmoQWyZTAhP//3xAAJ6PuwsmSN5WUe+C0+bPGlwDgERNYfKolCj7OrSnqh3TqWD\n",
       "kX3+tK+r2T969TMtC2ITFZNJtDUach92C8EWV1soXIelBGu4i8jIkEZuGYMAAtqWGHgK6E4V/bPJ\n",
       "YWVdFzpW7SWnfKewT/Loq/A0jhincmbitR2bQ792Sy9S4X5g2VfcwGAD4Livv4XATQnjGDk1/zcd\n",
       "4ecI+G4jqdNB3mV6TNtyLZVfqP1gaqTWMg1oY23cfMxk0ZLUWglWwn10kARLq8GmSS7aFGA4QNnD\n",
       "/HVdeCiIE3mloMNXHJraFWKViU/OPQ8DIWlsYmgMshSWXLIbuVxKWoZeRyxs0qRl+ahGMuZmgu5Y\n",
       "K0j4g7ugSPUU0IxvTRaz4NWywpqaqrG6l8mI561R3sIs0C2IlGD2mN1YH3ECD29eNExXewliwRwG\n",
       "51lrrv0UpUN6Ok8ZDEj+tFB5L0xz3GPnInHRiGE3bqiHmNFeniUZeUpscmvs+QWhIHmEt48rXCUM\n",
       "FAwP+K05EGO8O6gQ/D3XBYtmsLj7aReq7OCJ+QAAAJBBn/ZFFSxvACl/WfHRFZm7tR+wwQANHmT0\n",
       "lv1WbFqpJwgP8FGuLYm+47UwOWVU9vDB/0WbD4S1LoyFS/n68dW01ipCtOBMRXQYbtB4otR0kYZV\n",
       "2k50pztyBmas++bJ/jPzJS3dB565X0jIN++T5csc77PcpO+Zzr9ra3Yq23djC9dPHFBbqwrWgw0C\n",
       "jHBzXIQAAABQAZ4VdEX/ADdaGBjvuyD98pLUXgAgLIfP2FYAEo04QCTuOlfaJKOp1KGz0MbEall/\n",
       "Wlo4kCyoZ97VinpTBT3xPVcZWfhvQ5mLYIvwu7ppkXEAAABIAZ4XakX/ADSubTBADDtYBRZ5aWxT\n",
       "9z/wnZ3UX45tsoA21moeTToJpQMlgASofnph3nuM686aA1DNo3Rk7Ibc71f8LzU08+EhAAABVUGa\n",
       "HEmoQWyZTAhH//3hAAPiDR7V14BNeirnl+OjUHflB9xkEPGS5rlZxXGM7Dpd8KHrL8eviq+FwbWp\n",
       "KLctqPRhduRYEkg3P3CzxhTL+n9cQcYN/H6amOTFR78uHZZPpBMctDZFcl+dScRHOphFOeskkOT/\n",
       "dlFA7NH20H0qQmf+5oQ+87edx25BPG/hawtHOklomCGFwSJ7eyGbOny/fENasf53Jgi0GPyIRj0q\n",
       "77+q8tumcHReT83FV1qKzYX5TGluCr82Sxk2V+yaP/eeDmH42aiq//se87zGOUD6+Zucbj8hmhaQ\n",
       "ndAKNHYNRP3+Te8FnBHaAeRHV9ctSU0tkxHVFjGLYqhKy8qFyVttExSXaXCxp6kDMRU67xnrMSqS\n",
       "IditwBCOk5QzVtu6gxk06Alx7RtAZy2Tos0eJnpE/IReqdiyX1pCW0k6jZcF/sP3ObHkXgM6AAAA\n",
       "WkGeOkUVLG8ALXjEx8IlBPOETXlqDbioSZf4invi2PxJ3CpRLK2ECZsYd0R6IcN/vMgAjXAWtx+o\n",
       "dmuVgVSGljXnkYYbD6mm4qJGoyzaUk5gnu/DyPVYgEEkPwAAADgBnll0Rf8AOLimci4EzWLxc0V2\n",
       "hNgTDcfJOcszkM05huLNEnbmACVVGjtrjsrFUlmUtaVrNVBLZgAAACwBnltqRf8AOMJBH8Rtr5rK\n",
       "JLhy5JfTQi1JFhGMBYYRAlnAqLDDaWT74VSUcQAAABpBmkBJqEFsmUwI//yEAAio+bsi+uM6b4fh\n",
       "XQAAAEBBnn5FFSxvAC1/9Ss3tWNiH3cvGgAjRsaF90jpP1BeLFuYhM5vqoFAAfTfJZUBEBaxfWmX\n",
       "sPowp4sXbcyPvlfrAAAAIQGenXRF/wA39WCH+SzPA5SR1glB/jKENtegvhiZoR/QeAAAACABnp9q\n",
       "Rf8AN/VfQYWJk0KEF/CPS+X2Ip2FhlQXsE0EDQAAAGxBmoNJqEFsmUwIv/pYAB3CwKCiWwADwtsz\n",
       "II2I7tC+vIMBm18Ih0NUxUzlj7omEHm5kJQdZyAGRge6ldTJylVyk9iVHIz3F6QIdKLXv/padpx+\n",
       "mu0hVGYYBpVFvEshNsbfhca4ODHRg5hpTdgAAAAuQZ6hRRUsXwBpddNZhhbS9BcH5e+DQ9QRHEm0\n",
       "FSWSflQk0Pt5COTIMAwyKzKrOQAAACwBnsJqRf8AN/Vl21MPOxTeWP1xAIBpUjBH5ufWhmr/X+sg\n",
       "Aza9MljqoIDz1AAAB7Ztb292AAAAbG12aGQAAAAAAAAAAAAAAAAAAAPoAAAD6AABAAABAAAAAAAA\n",
       "AAAAAAAAAQAAAAAAAAAAAAAAAAAAAAEAAAAAAAAAAAAAAAAAAEAAAAAAAAAAAAAAAAAAAAAAAAAA\n",
       "AAAAAAAAAAAAAAACAAAG4HRyYWsAAABcdGtoZAAAAAMAAAAAAAAAAAAAAAEAAAAAAAAD6AAAAAAA\n",
       "AAAAAAAAAAAAAAAAAQAAAAAAAAAAAAAAAAAAAAEAAAAAAAAAAAAAAAAAAEAAAAABsAAAASAAAAAA\n",
       "ACRlZHRzAAAAHGVsc3QAAAAAAAAAAQAAA+gAAAEAAAEAAAAABlhtZGlhAAAAIG1kaGQAAAAAAAAA\n",
       "AAAAAAAAADIAAAAyAFXEAAAAAAAtaGRscgAAAAAAAAAAdmlkZQAAAAAAAAAAAAAAAFZpZGVvSGFu\n",
       "ZGxlcgAAAAYDbWluZgAAABR2bWhkAAAAAQAAAAAAAAAAAAAAJGRpbmYAAAAcZHJlZgAAAAAAAAAB\n",
       "AAAADHVybCAAAAABAAAFw3N0YmwAAACzc3RzZAAAAAAAAAABAAAAo2F2YzEAAAAAAAAAAQAAAAAA\n",
       "AAAAAAAAAAAAAAABsAEgAEgAAABIAAAAAAAAAAEAAAAAAAAAAAAAAAAAAAAAAAAAAAAAAAAAAAAA\n",
       "AAAAAAAY//8AAAAxYXZjQwFkAB//4QAYZ2QAH6zZQbCWhAAAAwAEAAADAyA8YMZYAQAGaOvjyyLA\n",
       "AAAAHHV1aWRraEDyXyRPxbo5pRvPAyPzAAAAAAAAABhzdHRzAAAAAAAAAAEAAABkAAAAgAAAABRz\n",
       "dHNzAAAAAAAAAAEAAAABAAADCGN0dHMAAAAAAAAAXwAAAAEAAAEAAAAAAQAAAoAAAAABAAABAAAA\n",
       "AAEAAAAAAAAAAQAAAIAAAAABAAACAAAAAAIAAACAAAAAAQAAAQAAAAABAAACgAAAAAEAAAEAAAAA\n",
       "AQAAAAAAAAABAAAAgAAAAAEAAAEAAAAAAQAAAYAAAAABAAAAgAAAAAEAAAGAAAAAAQAAAIAAAAAB\n",
       "AAACAAAAAAIAAACAAAAAAQAAAoAAAAABAAABAAAAAAEAAAAAAAAAAQAAAIAAAAABAAACgAAAAAEA\n",
       "AAEAAAAAAQAAAAAAAAABAAAAgAAAAAEAAAKAAAAAAQAAAQAAAAABAAAAAAAAAAEAAACAAAAAAQAA\n",
       "AoAAAAABAAABAAAAAAEAAAAAAAAAAQAAAIAAAAABAAACgAAAAAEAAAEAAAAAAQAAAAAAAAABAAAA\n",
       "gAAAAAEAAAIAAAAAAgAAAIAAAAABAAABgAAAAAEAAACAAAAAAQAAAYAAAAABAAAAgAAAAAEAAAKA\n",
       "AAAAAQAAAQAAAAABAAAAAAAAAAEAAACAAAAAAQAAAoAAAAABAAABAAAAAAEAAAAAAAAAAQAAAIAA\n",
       "AAABAAACgAAAAAEAAAEAAAAAAQAAAAAAAAABAAAAgAAAAAEAAAKAAAAAAQAAAQAAAAABAAAAAAAA\n",
       "AAEAAACAAAAAAQAAAoAAAAABAAABAAAAAAEAAAAAAAAAAQAAAIAAAAABAAABgAAAAAEAAACAAAAA\n",
       "AQAAAgAAAAACAAAAgAAAAAEAAAGAAAAAAQAAAIAAAAABAAABgAAAAAEAAACAAAAAAQAAAoAAAAAB\n",
       "AAABAAAAAAEAAAAAAAAAAQAAAIAAAAABAAACgAAAAAEAAAEAAAAAAQAAAAAAAAABAAAAgAAAAAEA\n",
       "AAKAAAAAAQAAAQAAAAABAAAAAAAAAAEAAACAAAAAAQAAAoAAAAABAAABAAAAAAEAAAAAAAAAAQAA\n",
       "AIAAAAABAAACgAAAAAEAAAEAAAAAAQAAAAAAAAABAAAAgAAAAAEAAAIAAAAAAgAAAIAAAAAcc3Rz\n",
       "YwAAAAAAAAABAAAAAQAAAGQAAAABAAABpHN0c3oAAAAAAAAAAAAAAGQAAAxcAAADEgAAAQYAAACP\n",
       "AAAAdQAAAdEAAACMAAAAawAAAaQAAAINAAAApAAAAH4AAABxAAABxQAAAbwAAABzAAAB1gAAAG4A\n",
       "AAH5AAAAmwAAAGYAAAH5AAAAqQAAAHEAAABrAAAB/QAAAI4AAABaAAAAQgAAAPkAAABBAAAAMAAA\n",
       "ACYAAADnAAAATAAAACUAAAAzAAABZwAAAMQAAABHAAAAcwAAAW8AAACNAAAAcQAAATwAAABnAAAB\n",
       "OgAAAHMAAAGHAAAAtgAAAHoAAACYAAABUwAAAMwAAACBAAAAgwAAAUgAAADDAAAAgQAAAHQAAAHh\n",
       "AAAAxgAAAHoAAABzAAACLQAAAM8AAAB4AAAAZwAAAdgAAABpAAACGQAAAIQAAACMAAABxgAAAH4A\n",
       "AAHNAAAAZwAAAgoAAACWAAAAagAAAF4AAAHXAAAAqAAAAFwAAABWAAABqAAAAJQAAABUAAAATAAA\n",
       "AVkAAABeAAAAPAAAADAAAAAeAAAARAAAACUAAAAkAAAAcAAAADIAAAAwAAAAFHN0Y28AAAAAAAAA\n",
       "AQAAACwAAABidWR0YQAAAFptZXRhAAAAAAAAACFoZGxyAAAAAAAAAABtZGlyYXBwbAAAAAAAAAAA\n",
       "AAAAAC1pbHN0AAAAJal0b28AAAAdZGF0YQAAAAEAAAAATGF2ZjU4LjI5LjEwMA==\n",
       "\">\n",
       "  Your browser does not support the video tag.\n",
       "</video>"
      ],
      "text/plain": [
       "<IPython.core.display.HTML object>"
      ]
     },
     "execution_count": 39,
     "metadata": {},
     "output_type": "execute_result"
    },
    {
     "data": {
      "image/png": "[encoded data removed]",
      "text/plain": [
       "<Figure size 432x288 with 1 Axes>"
      ]
     },
     "metadata": {
      "needs_background": "light"
     },
     "output_type": "display_data"
    }
   ],
   "source": [
    "from matplotlib.animation import FuncAnimation\n",
    "from IPython.display import HTML\n",
    "fig = plt.figure()\n",
    "ax = plt.axes(xlim=(s.x[0], s.x[-1]), ylim=(-3.0, 3.0))\n",
    "line1, = ax.plot([], [], lw=2, c='m')\n",
    "line2, = ax.plot([], [], lw=2, c='r', ls='--')\n",
    "def init():\n",
    "    line1.set_data([], [])\n",
    "    line2.set_data([], [])\n",
    "    return line1, line2\n",
    "def animate(i):\n",
    "    line1.set_data(s.x, v_ptrb[i,:])\n",
    "    line2.set_data(s.x, v_ptrb[i,:])\n",
    "    return line1, line2\n",
    "anim = FuncAnimation(fig, animate, init_func=init, frames=100, interval=10, blit=True)\n",
    "HTML(anim.to_html5_video())"
   ]
  },
  {
   "cell_type": "markdown",
   "id": "1e83a614-e91f-4c25-acae-101bda5881ea",
   "metadata": {},
   "source": [
    "To propagate our ground-state, due to this perturbation: *(this can take some time on slower machine, to speed up simply reduce the number of timesteps)*"
   ]
  },
  {
   "cell_type": "code",
   "execution_count": 40,
   "id": "1ac06da7-8f0c-4d1f-b575-a63042c6048b",
   "metadata": {},
   "outputs": [
    {
     "name": "stderr",
     "output_type": "stream",
     "text": [
      "iDEA.methods.interacting.propagate: propagating state: 100%|██████████████████████████████████████████████████████████████████████████| 500/500 [02:54<00:00,  2.87it/s]\n"
     ]
    }
   ],
   "source": [
    "evolution = iDEA.methods.interacting.propagate(s, ground_state, v_ptrb, t)"
   ]
  },
  {
   "cell_type": "markdown",
   "id": "9a924c77-140e-4c1f-aee5-bf0a2f4f66fd",
   "metadata": {},
   "source": [
    "From this evolution, we can compute dynamic observables in much the same way as previously."
   ]
  },
  {
   "cell_type": "code",
   "execution_count": 41,
   "id": "5f4f5d5f-081a-4d84-9ea9-2ea774cb265d",
   "metadata": {},
   "outputs": [],
   "source": [
    "n = iDEA.observables.density(s, evolution=evolution)\n",
    "v_h = iDEA.observables.hartree_potential(s, n)\n",
    "E_h = iDEA.observables.hartree_energy(s, n, v_h)\n",
    "\n",
    "\n",
    "p = iDEA.observables.density_matrix(s, evolution=evolution)\n",
    "v_x = iDEA.observables.exchange_potential(s, p)\n",
    "E_x = iDEA.observables.exchange_energy(s, p, v_x)"
   ]
  },
  {
   "cell_type": "code",
   "execution_count": 42,
   "id": "dc14e513-c81a-4e5a-ae7b-9ead9da098aa",
   "metadata": {},
   "outputs": [
    {
     "data": {
      "text/html": [
       "<video width=\"432\" height=\"288\" controls autoplay loop>\n",
       "  <source type=\"video/mp4\" src=\"data:video/mp4;base64,AAAAHGZ0eXBNNFYgAAACAGlzb21pc28yYXZjMQAAAAhmcmVlAABYHm1kYXQAAAKuBgX//6rcRem9\n",
       "5tlIt5Ys2CDZI+7veDI2NCAtIGNvcmUgMTU1IHIyOTE3IDBhODRkOTggLSBILjI2NC9NUEVHLTQg\n",
       "QVZDIGNvZGVjIC0gQ29weWxlZnQgMjAwMy0yMDE4IC0gaHR0cDovL3d3dy52aWRlb2xhbi5vcmcv\n",
       "eDI2NC5odG1sIC0gb3B0aW9uczogY2FiYWM9MSByZWY9MyBkZWJsb2NrPTE6MDowIGFuYWx5c2U9\n",
       "MHgzOjB4MTEzIG1lPWhleCBzdWJtZT03IHBzeT0xIHBzeV9yZD0xLjAwOjAuMDAgbWl4ZWRfcmVm\n",
       "PTEgbWVfcmFuZ2U9MTYgY2hyb21hX21lPTEgdHJlbGxpcz0xIDh4OGRjdD0xIGNxbT0wIGRlYWR6\n",
       "b25lPTIxLDExIGZhc3RfcHNraXA9MSBjaHJvbWFfcXBfb2Zmc2V0PS0yIHRocmVhZHM9OSBsb29r\n",
       "YWhlYWRfdGhyZWFkcz0xIHNsaWNlZF90aHJlYWRzPTAgbnI9MCBkZWNpbWF0ZT0xIGludGVybGFj\n",
       "ZWQ9MCBibHVyYXlfY29tcGF0PTAgY29uc3RyYWluZWRfaW50cmE9MCBiZnJhbWVzPTMgYl9weXJh\n",
       "bWlkPTIgYl9hZGFwdD0xIGJfYmlhcz0wIGRpcmVjdD0xIHdlaWdodGI9MSBvcGVuX2dvcD0wIHdl\n",
       "aWdodHA9MiBrZXlpbnQ9MjUwIGtleWludF9taW49MjUgc2NlbmVjdXQ9NDAgaW50cmFfcmVmcmVz\n",
       "aD0wIHJjX2xvb2thaGVhZD00MCByYz1jcmYgbWJ0cmVlPTEgY3JmPTIzLjAgcWNvbXA9MC42MCBx\n",
       "cG1pbj0wIHFwbWF4PTY5IHFwc3RlcD00IGlwX3JhdGlvPTEuNDAgYXE9MToxLjAwAIAAABZiZYiE\n",
       "ACf//vWxfApqyfOKDOgyLuGXJMmutiLibQDAAAADAAVQU9eBiH/MBP1aFioLMocHty2rZGB3GXDn\n",
       "YZWCairtzfSFne2+SYIAAAMAak3/vcE97DVfTPu8AFRj7DTC2HDCLQ4mMIPBDTspEaG+CUEz3ndb\n",
       "DTRVmQJ7BpH/9p7tQoFfJ6hxSGncIcld5gD48Ww1+nwWZEiDIeny1kXEfn5q7RAu49lWR7PooBIv\n",
       "2kMrtgJLnYqhxvQyOZMliXq4hPOpdxc44gFzCISopqJeT3zN5bIyzYYpYHzJ6E76AUhE9bzB3/fn\n",
       "RBgrdbAU3u2IhiEkRvBJbApU94WVtm45yeeteQu3ejtuBJSM8kF7qOgrW89EZPHLc8y1CPDq6/j9\n",
       "aKJmSMUhryfCGTIy5R7/0lzX6o4tcc3bUy0Mvga+xMoCaneaUK78ZGaBpTDTU7cHTb8l/TYDn2Rr\n",
       "JBb2wwCt/EJoVnmpq6nSEwub7RznkLMr9tKUYk1EichfeN3MtaC6UjQy6vHZr0RkAABY6OEkfhgG\n",
       "IJRL7YGJAwhySVvanp44HX2AWNnzR5YayVBKUM+iAo8b6BOMVlrcsT0bBD3HwGCiSSnY2auOD4XB\n",
       "/jvv5L0cAo/th9PADSxxhDw4lDAQMXoUA8cak5ZSJebXumPz+CpSQ6CmR9Jue6l//vPLBOdwtONo\n",
       "nmmjurfPRyzNYD7MFVNbM5/DmT5ET6LcsHDgAVXJhqcCLgg22HKMwUGVl2Ybo4flItVFJCSMRsBH\n",
       "sfP5ef1HmxSEGPU9FjXkDjZSlHqnJEWv+vIdW+4WHvI9oFKdwzLWtQT1PYXm3RoMEuYVHJDG5zTm\n",
       "m29GH550wztoNEQJLd+TISVIAV9t1XrtEO7Nf1ApwBLl1FuI3h9bFSLJfBIfbops1CMaV9d0eYTH\n",
       "CnvcbyrlDNMzKzxkO+lcme0Qd97Sa3FXsz6D/d1ef196nw/rK/IBYNEDxEPfv4LoQqKUKSJLsSDP\n",
       "jg+O7gx4YE3ThX6veB3szk+umRxfn7a8qMnLAMWshwOOTs5rlCrbOZuhVykYUlcXrfwJ1LxICIfs\n",
       "C/hDOAEMrCrlDdpD1DAAwwNtkdGfd5XwV+2K0Gmfuw8B/oRXf9sx/qPzOBesf2FAHu5dbkX4v85O\n",
       "cF/svVS0CPabumWKj6kfxrpj/+QLn1wjWXTV3XkyuJAgmtbU5fEsaeaoD7qtJtkBVjSkXEEWXtqm\n",
       "S9vNvYMo+JxOACRrbxi6bgQJJpgvGAAwDwdZBslfErX6+bcCsRKl+xR2LPW3EXyqAz26lCwJZUBc\n",
       "Lj/bPDLi4Wi01tAUBcZrVqkHh2xSBpjE7ShYT7v+I/FuILDcx9UJENZZEXnzc/OZ7TmZkD2GhNgl\n",
       "7+n0RdRkwJTpD6QmDqKA68Jo6G2RfScBWxCPvQw7kyOxoN9xkSwwD68cbE8djOByK14ccg/csZIY\n",
       "4Tm/30/mRUdJ8KVjAtTLWQ1ieKtbOd6Fw3xnt8ZZk72HAwTz2/53wc6XVOFv0Rzc0rmcowZDpUtX\n",
       "F9K2PBKK2b/BDUiWVPbpyZ7PmlJWz2yTWp3ob7cZr0jKgBigm23IFvS5yL77yMFC3DKFOFw4bCq1\n",
       "WI2AYugSrLXMnLdhbM7ymgIUAAQgir0jhP/VG3ALM7Gsp4dx/em4Mn+hD4o1nGzmOW6rujkwr+he\n",
       "OMUCMH3Fbo0WKSctsk4L0gEadJhRUT6cQi5H+qpADrksWzhiE8cJ69s7RfXsRckoggRP/4OcRfm6\n",
       "29skxd9aBkBMtBR2StF3EtOrTyx1GzKIEpJWuvukghbg/ErQrhOZDFCiwYY6rfTX+MV6qh6hP9ez\n",
       "9gyjXgTzlP9k/uZ/mGxBzuEjSEblgkMY5BVj//NmF4oO3+Z/Vb2oZI2x0sguP3oEn4iqV3ozxe59\n",
       "Esi6xEy/2xFQ34r0wC8EfdFI10lm+NVIiYVHfWBeBsDNEeKpq0oRSGPwWDFobsJQlsu0eW6YXh1Z\n",
       "KeSA+KOp9EO3Thk7L7YvGPrwnspXPPoj7G9MeHy4Y0fH3wV3g9QjV8b7mzLYyB2Bk1lKXbjAyGOU\n",
       "5vPiTgO3XwV7p1sUdfzHRa//5fjOpGNKYwsDDJiTAPaAdhlVjYDxhiQrgDa33sjdqwQQt6AsMiOV\n",
       "X3TB9r+7uYvwWT2u4gBj0KWyVUV5ENQTZ2iexODQmMlAGOmzcEfulOO6lc/KNAScbd2RW0/YkBKE\n",
       "B/MEYb3N6e8hgp9ajAQHsE9KZ+4bcfj6yt9yYSlgLRaHFId2hT+xMHa0gID0q+FNWKjLfW1pye0e\n",
       "7TN8/gxO7sL2QMea21xJKQ+qIFxFW7bOsuxPs+ESjGExynCjJCLnOOqqvvULqrWeRSecpwTOUgkz\n",
       "WrrtxvyOqwaA7tKcuZNK88iZOuX3y6JwJhnuPh8lx5yxfBXzmHDWNM6OGJJ/s79tmiAeBE+egvyx\n",
       "hUm1o1tasscVwJmAhQiJv3SSp0nreVtnRq4H4ueObqtCdrYHByxPDL4c81RT5gxLYrgK1PfT9ct9\n",
       "AhoBnjYRB11b8rgM+pO8BK76JiG5MkqelMgAosOUtRQKlnQ5LzsPbGGZPWrD2W1jcAHYAA+OzQEK\n",
       "TGDSWlgkmwB7TJqqMnT9D6ixFLcYClw+oz4iyUUaP/TE3QtpMVXIpYaYfSzzjolmIBfkhP5ifIr/\n",
       "ZPQ547EEebGhfFu9khQuiEeOlyATvp90G9cwbzwtY/qG3cJpckUud26rB3E0w3lP4NoZMdkSxSIv\n",
       "6eGLChBrO4mqGcSFEGcvKt2jL3iPli/pL+QiUPywZJHm0d/ue3FFm0IpZ19AOwu4Cig52Nb3B7qs\n",
       "5kR3l49QYGqCDcZrCV87y76oGS/4N/J14mYsWtVmpxMNk58KcbBz2IXSan7gfvkZiq+wo7tH2tIA\n",
       "ozqLUKACWb6qsISeK9UZ2xVPndgTGg05VF7QeOLkUpo7IDLYKdVYbCO2J/Df1A0/22wmSvpW38Zk\n",
       "J23gWpyvTl85RqMj4znf//IiuUEv8KKzXhiun9OFZQDRxK/0cr+GMct8e5fC7fb/cMds2yPr7P6w\n",
       "HyCk87LSgF8W53tIouDvYO16L9/yEmkeUO0Jhr7AU0ARqI76yebP+wHHP8fxAVfSz1KPxpY0MkzV\n",
       "y5IER3oejtSEqDkWMrQfq2eCkuA6Dg2sxBLtxuF3b65ae7Iz2LReeELOQS/GBQttx4xs8OY7IgDg\n",
       "tAwLnMzSITsVrlcCI2n4P6ayKgx+hDUKnUuKEoykGVIBBcgnrz/kKYKNIUqvTCA4pcFXhjU2K/z+\n",
       "2V1aBVTDDRTXbjNwE5UQD8ceFCb55BwGZATt4wacKprZBZt9vdN8vNqRE/ACbt2YuTxQmPS20fNP\n",
       "WpJBDN7h49SWvmbrV+661r2adC7UGEC6MyK3R746tn+6TRxYNDmJ2MHzRw75g2K8TG4j42DYFtml\n",
       "LELzw2Y9WQ7YGvqCM+P2N2qBYdUXIpyvE9x+LSdfwj6OYxU2XpAAZyG1Hsx7GP1QPT+bYPBiv+nY\n",
       "8Rzc6fifXFUMaWQAb3mzzZ6C7lgDVpjbcpipX931/UaeUdZUDn5N0EX9st5NQS4WQVv5SS1vYk1n\n",
       "/EF+J9Pxi30NHmTKnYAMqBYVGH42b5FNfMOmcsaqgZ7uJb2kvHlSGEIZZ4BWJnnQn8ARqFpFzcWy\n",
       "1QEHNjsyJwa7ULdGA4p+MoVsdcWY3+7U2v5IjZKhwV9ueIqxtysVaEggjXCadHwrYwHkNA3i3kRg\n",
       "28+Nf65AeE0sJMDk3fmJwAS9ySwvQj36+n2J3wU8bMx/QSUQU83EkpFSjSwVEHgG8IJfhMMNLtvp\n",
       "Kq1GmlCLN66XebnXKyKPQXY6eX3lPlGW3vxhyOq15ZfLC/nZgYI0jhIOGTmN/wdCP73JaUXEMpgA\n",
       "DVZgOfr0nbfqgIPbCF/g5ULzN5W509Uq+BoJ/WhY5jEk/+T/gwyqonrXiieN6eQtoJtAI8ogNn6c\n",
       "kzJngvYIGJ44b5VLAADmrMxygRRx1toOz/+b8yjP4xAMSuBip7xbRNlsZuYXuhtZcEgg6KlE5RFj\n",
       "z4zugyQ9gpQwYqZIdEjz1n92MMxuy9bySrtagfySRuGY9wRlhm5vbviFSFrkb8THFUNUtwwLupTT\n",
       "HDoB3F3DUjZbwU1aJZkuyGegB3n579H2kiReSer45qTuYq2iqi7sPELk9SpZ9a43xqo0OYAc+YGu\n",
       "xrc0m+AWl10DBYDS/n9MGCOQVDAzDWxcLJqEP0b6rWao3SwY6pUSmpUJ79EnAAOHa6K3USUHkYQo\n",
       "6JYgaQHyMucE4vNNBaMgTZP8QN9jZrRtjNc2axYmsVWie9QXRtdkEgNlbYb+Be2vIv8/m+UQ6yv7\n",
       "FF1eEiEQ501KVOXY3krgUs0heou1Ez4Y7wa9StMkU78gtv8IGUooVeoSbVhhtjRW3p8MZEaZWmSh\n",
       "yJPhpsPYxc7bj9OU483BAWVlNOthXiXKJqJs/bBE2IO7viqZrzuwAJaq8XsvPG5axSoHZcpXhBSW\n",
       "k2tiTBsEsqdnRf2nJ+MxSpTq05SPstnQuLrLdGnwEN2XW9Sf92M3rPxzcS1ODB6/X+ex2bT1e1ug\n",
       "lClGFRQEDr34uA2+5cvbfUKHbLNnK/G6VBuXDW0d3FjdEK2dGtWZRzGhbZ8iWTcWviA9anCElbZw\n",
       "QvoaD7ZSWT6DPCcKScwaTp/lOE+Wmqv9jd6o7T4ccsFpiL4X1Wp40lN6YvTfmAChAWckh4JNdcAx\n",
       "FCGTiPyscGsQEL3KrJihg5jRK2Okt4PNfLdzWS7paLu6SgD6Fs9xJBox5YakvtHeULn+dIJyyh+L\n",
       "w9pCLl33jqekCIYMAFqeiayE5Pp+9HcUbJtThTDChQYjwjfl6VWySc2JM8FhKIXBqGu2+Mx37jsd\n",
       "pYgOF5l/3bW3jzYp0/rm+K9WbLZdF+aCTDHOJpRPSixU5W1FVWD/dM3YG2nJ+DLwTJ5vyKpwDbMt\n",
       "ysG8ezoLRIW09mCiev9L6moJrOpa9X48zgL4s+QMWWg/58jImcDaPavXKVoqBt5OYelvL7qA3sAK\n",
       "xTzomqvrgAEmGC73Hi6Zdv1q5/RKPWfEG6Fh0ukDSvMnFXbDB2oSQLE1zjeLkf8Dhfo4XZlOJXiA\n",
       "sy6wfW46zE2WVCMcQJxpgvzTvOtB/SZSz7z46XEUR/eTd75Q5+7+zSnZho5rpimfspoj+4u0z8fP\n",
       "yfUrZflHvRH6s9SrLVbFQJ+APK5uuRKH4jCJU/NFywGZzv8FzMMDpge93r79mlSQYsLMRpowsxPz\n",
       "ZnvohWHGD3mplzJkD3AFrGZKOspiHqVwlMMbTZMMIeKGgonYoptf25rC9hK85ocd6B5l4L57vuF/\n",
       "zIzNV6jtDOILP7XkYsd6JwQ/2/pYtUSSIy8M/bRBtJCSO95DXXOovWdgjn2AoIUvlRi++fgZAGZP\n",
       "A1oFPSZfuoy5YQprLILfCKyVAot0r8ODqvG2oT/3B2Vxq7HwXC4FthjSv2QVsHfRD/48JbeGUV95\n",
       "UKAQWll6YRqZwhD4iVPCmKN95LOGAyCOFY1K49HgY8j9TrBfYksY8NZXk7RAHZjkYG5nFutoQJU3\n",
       "Wm/UjfpPKt4q17EFVSp1OjLsBVAcynQ8sJe2OnQkKJBl1gjUL/0AmoAbmmZanUWfiAAMbpDS5knE\n",
       "kCG89lDI2jkarzvxlyPjXvBoXgbui+wEw5hoS+I0p1lNQWk99aprMTCHUnDnw4G8xlZJ5+tB4sbM\n",
       "SSRi3vf1RuNRqcXyK3scLWRFWC/qRyo/vD+uu45/UTs2Qhgtu9OPPSO7V6G8VB98GN0Xe7eBGaQX\n",
       "Pfb51CjU1zYFKCOqiN2Lw3qxV/VqWhLFb5cvPcN3m//bDTdl7d31ASXyoMNaLKr6dshC+dkzLRov\n",
       "jVAjeWhBWz4XagtG+/TeL3DprdZmLSxKctM+iz5lr2mpy5qR66Tbr2NP6oz9x279XYR7hRvYUG34\n",
       "N4QF7RaGb2OSTpXWOtBtt8jveId1zAr2UZiOz0tgrsDXOQfO/t1arT4N7MXu6WIHR+Wy/3eaa3AU\n",
       "h/7om67jMbb2amx4fQ3fKAs1mn3SMoz6Prq6VFsVkC9L+BTnc96epx1f7Fp2t0FGDHGt+6iD3Egy\n",
       "yLD1QLfVTWBk3Aq7zSxlgwLiUJtSteUjy0rY9r7Ly/BT9Ds2i4pXhH/9j/mGVsn4WFfCYn7sD+ON\n",
       "izyPnaIiggaojSgUH+9VlM1kxJe0Q1UIwpOFLlrx+MMECPqqgSkuXXhjrHP45BGYEdNCZjnEQDY5\n",
       "xNXPjJy86sCZ8bTa9KVlq11jINoq4IhZX971Tu3v/hrzPQ4QEzK+eCxsVnBZZwgCLD/EENj33D0h\n",
       "BB0zD1STuAvDs6eW2FegzwJ86zng533Koe1kCZMKQDawLbQqv/6m1TBAhIcjcxO3bwXtRP6Q1JiH\n",
       "15G7gfCz/5+I+9pkNizpmVPSAWmbsm7xVfw0fyF1sECo2EXO4CaSFA/i++/EEQNqicQHCLgZlDd5\n",
       "2rvgMEZ12XFrAKtkjLW4xwVGVS7HHKAlwh05BLu/PFq1NK9tvacxRq1WwmTR+1LP3zad/YwdcUtp\n",
       "26xr5Kzh0JloK05/Ip9WlJ4jN8ZL277S4zJ5Jqp20Nvn6y7F5JjsZyfjMWy2wLIy6Vyzdi5ehDqd\n",
       "BVa5Mbsz2f/oCW0gN69UufoJ7cRo3p4UgKWpgSJicKfm5ZBCsHclxxnajUBoS54S6nYFs5AJp8Ep\n",
       "q2v5TeutVA2Kvp2Dk20jg5gT314QC5SendSzc/k+4WXXwNC1jl/3P9zPR1SwKcRSrgitORk6UBq3\n",
       "fufZyGzBBVeI3V7023i2hvqMy9VGyL1vv5ITgbwhyziW3rt5S78QApCYW6G7/UZCvBh9agySrNeQ\n",
       "x+1ttUhzSZB3+63Ht+zy+f+x1AhZ+d1ByR3BGztuuuH2fk1M/qd8iiFSJ4+Jpr4UKPdSFNpxa+PJ\n",
       "kO0to2UQVnyiiFKuCPTkE5khyWOMk8RrB5Wmnb8nheiNoP4RS29EXjXfzf7exafweuoX3NmC42i5\n",
       "E9oDxxPKfdz/oOk6P65Lmig2jVNwdQOap2PboqGuONJSASyORIEDd5kEzgK1oc4zUYCJMd9htu6j\n",
       "xvobLPCnldhRpkXZtRcarUWzJoj8UIoHchZ+9nd9Ubm+/Lmrmmr4jiV1fAy/P3n3WrNZDLX4IUF0\n",
       "2jIFPr2KWtqR6QucTAzI1l/kYNMfxpVP1xYy5j6X7eU5rk9J8hngT833P9Ux4ubvyXE2gDSk+pu2\n",
       "nvDlX4LJoxjxHv0HrFKhFY0wVCsTw1SPHMTu64YKL/TY6gdVIFzj2IP9S/y0C+w+KBbH/oBk8Omw\n",
       "ENwzGljgCzvMlcmC5Qq9ZmvQSfoj7tDGGN3radj+LAdlflauE2hS0ZnRsuOvnkYJO0GL11x78kM6\n",
       "Dgr9mwqZMuksE1MDVncK3mwfQhHzZkF04l8TZ3Je8vjC2BquMn+BLBT6sgunwfSgI0kZQStPHYmk\n",
       "9GnRmyhe6Plyh2TTllvLoWjPO3s201BFxZZB5qogNiHCeTKzM+KHn2rw9ePWRxgLizAZObOoWSt6\n",
       "SzM3RHW+vcq4G+Ahn7MAgOj9gnNC/hUdnOTzGt4Cx634aoxfMIKavUnQ+niREv/TrqZFxwSolWFD\n",
       "EBFE+tXWJkK3zVC7h1TiQAEybGAAW7rsrfmBAAACW0GaI2xCf/3xAEeZhd+KU6gBF2xyJNp+MyP/\n",
       "+/uUw1/F5wZFxvGsqjgNw79RYNdNbOb0LQcbtZDsbR3bL38u/DvfpbPQveGmuaK2dm3OmU3222Bp\n",
       "n9YVAioCKBvvwvYIt3qBV9UjTf/XNG89Mv4s3TmjF4btqmaGN1vgrBF8oBX0XxoxsQvmBIQGQc7B\n",
       "zCkv61aS68oEsL+F6qhnDgc9d1T3BwXekCAyVzFQ6kI+UfRDpZJ8C7R2dKdKPjZnMr5Ze7Q87A3q\n",
       "BRerE1dqqwAZxkuRCzdLYU6PyI0RcaZZw4/OpbL3w4hUC8a9qpZ5aq5MZNrkFkYA7QXz9Rwj9TNv\n",
       "dGUd83TJUER0YsCTKl0iBXSaPg4Zn4DTvadRmFu8P9SwyXPoO/g+96vfZmQKyJiEdU4TUsQaDIYN\n",
       "Udaa5i+SZQr2H3wVrKblV59iVFRNHQcUQAqcfaZcjt2Lf/8kc043CIVBjwqomuRK2H801zl/ZXkv\n",
       "CWXBpDopreLXSiDKOhXDga0pf+pt+n0CFjmz1itvqHIowGmYSAQ4vm+n1IinaAByRgmCcgO1lHnS\n",
       "lkh8lrI3cm4VRKUkts+69/cTCBZJseo7aZTozQijZFi/v8d4pwEhKu4mgtC4f+d1IaMk7yxE6R/i\n",
       "T94EevcDmas54Bao3LcX5+5zAAVcuZ8diJvBAQthcZsdiFujLHzewj04qSFGFKLtrd9ECW3ppFrZ\n",
       "720AM86Mda63+vwmbP1I00KXO8fOYvaWzETMi/WcrbMd3USf7x+849Tm+bpzkI41Gri4b7sAQZ+A\n",
       "LfCYlXgZMAAAAIxBnkF4i/8LmfzEWE7mCeveJfvVQwAAAwFWcS3mAD+daprfKVPRSR2s+oSu2p6R\n",
       "Ym4IqAoDLyFhHDhVzXNJzyEgw/VJ1cya4ms83F+cFv8weyXPoaGrtZCU/2A4246iIXGmPxEw7ZhZ\n",
       "HmUQVGMviujhRFSO0mVvyUCdVe5w0MbeLVtR3cWd3ucldBp5jwAAAHoBnmJqRf8LzkyLCtzPSIeY\n",
       "AAADAABDtjVF2Jsc2oh72Ly/AByLNMUK+FXl4ANnX8x0++Y10liQczMNv7EB2gvIaZwsBigCN+NH\n",
       "2l3a/FRx5dbEvy0rwZboV8mmH42wLLbEiCDPW+rSi5MMvXcoqJtIOsNCI+DxCg+ysAAAAd9BmmdJ\n",
       "qEFomUwIT//98QNzYiN4niYDZTKzS89XoaAAClJ93dStAIEwvo2Cv1VS2sVKg9LGinJW/dKkLm+h\n",
       "pXoEi6FGQzXshpnttU2nJjmwxDYdF0XEh6/lkJB3NR/j/qYFmk58RewFBAqlEAF7IHfDEstpQO1P\n",
       "olM1Jf9H9KS1KLAzYWUlHD125NE8udHBbBxg+X80tBxcfaf989o5+fS9Hx+pfZ6LgiXiCCCAAs35\n",
       "k0aH71cIHB0dQ/0DldNbmQyKRWR7Qo1E6wU4l+Hq9+Y7pLfeDKd4ddWphYUhgMLCrKjOVQi8gfHu\n",
       "8ws1+l/RNPLoxl4KfhoDEQFUHSlrcosXctZ3AtV3oZs+XhI50EAdmP3+d76mxS06yHpz9qKySs7s\n",
       "+qSnPDj+HzyLtc5Yt1Rb0eBuR/JKQjtggTpXNLJughJ70G0NdaMZhOaFyjITHCzxXOB1p2MtUa1S\n",
       "IZp31e9RU0ndytMKgI4RTF7+xnRLEnvpXH/t0ZIr7boH8j6tBYM6MNSxlSnnXAMrl5L5ViJ7bZav\n",
       "kci84SQVXW99mAqdre/wvPubr3JWGXmaO3xUMzkCrIMKouWgtJj/mgCiGO8Z1gbeHWiZE/pXoCR7\n",
       "KPos7Ea+dQAAKEfpfsU43bF7cQAAAI1BnoVFESxvCbL2Rz1QEKQAABrvb3XwHCy1K2MyuaSj8rPC\n",
       "fAA/aaGpM5vCG38nxvIIuqFDH9zovnE7AE6edoDCJjdzxBOXllK5VJDhwlokwzNJ8hL3r4Wmg0j4\n",
       "mCsKAQq4ct3Vgq3GnSRyBxzdiNqRaN1sKAeZx7b0TK3WmwLrp8N8PIX5ajgB5bnFoJ0AAABuAZ6k\n",
       "dEX/C1jIj0s4Ww8AAAMABudg7wFUzSKGS/R0lO8QAhyOtef+A1SgnPAt+30mUjo3LSJ7/jzcf2Je\n",
       "4cpEPmPKz0acK9drQD+hEG+f4cekIFOh0XYzKg+Mu/271DixhY7CI1Rnb2dKF3duAKEAAABZAZ6m\n",
       "akX/C1jJy0zZ/Jou52F5n3MsoxMXkHnKRjjK1nUHKIZZQEa6KCLJt8pizgLPFq1Mcy+deGhL4/TB\n",
       "yRvnGpcrez5pvS86yeJwIvSBmYs0uMy8n4LKeJMAAAFtQZqqSahBbJlMCE///fEAYrk7FB3Tgsxk\n",
       "V1mxRBeISZ9fLbnEK1aCa2G+3JylKMyry7nqXmlCAOu4uB6QTgomdMPPN5jP2q++WsXZcWXpvvCB\n",
       "HpZz1K47uz2Vs3XOtJleqMa6sLl3iLwscEkYOVbkmV6wGqTyBYnhl7j+u8pXnTO2IJNrQTmPihVW\n",
       "zHNdC6SuVE6WCvmxDjHnnAkF8HZc90hwNNZMXGsh2bXLCkrr2qDau03MXCrpKmbZJCo4z6k5nUfN\n",
       "yVIPO1ZcnwqW9RI7qOuaBPelsjiRAYvtHkISPf/MXAGNpA6jUrce9w9TPKql70GvZydnzVEC89+p\n",
       "0rccxwHzXYC5k1+XKQ8pnDAk8PYWzv0uBZBp9+XqIUvLdRAjU8RkIFpXdCZUM93Vo94QZZQ+3T/p\n",
       "NJTL1R8iVTXtoGxAEm4pMjB/g8pjlFZOzloNmoARStoq+S+MqrA/gPEMSaDkAZNJdDHyDkNP5/gA\n",
       "AABpQZ7IRRUsXwtYyctM2ksTLU9udPQHkBOYXHBI1mNC1eJbr4LDAl1iJD7yEOT2bLMvLSJ/g6AY\n",
       "J8xqlq+uW8pj5euyaH3FlNdTCi0hsyQ57JdapdvOAiGc+1A7E3J4+U41aTmYQ0M9g+lgAAAAQwGe\n",
       "6WpF/waWTldGQM9ak6METNNv7OGEmClIjwSzZNvKuI7o9NJxCKwGBAi3LzRDppiYqqsEk3tCvKvP\n",
       "P6BfOVWAW0EAAAFvQZrtSahBbJlMCE///fEARJ4lFNKTvoj6WtX5MAH94z37a+21311gMLULKaGy\n",
       "y4xoXTGdhVtCBqnRQlK/usGmz4aVTwTtQ2WTkLf6AcwuyFbGvyUAvbVMf2qU3qeIwpulwfgX9TED\n",
       "X/eTr/hUN+VoDvqy6ffaqGE71D0CjEoxreeYI9BZ2U1UWRyO3hS9IDB8W5kYg8zdX7a0SO0aO/Jt\n",
       "HX4reLJc2xJoGYc97nfYoY7IZt6Pmsc3Rqly/zTYJOZd+v/Bv05q0ddK2xZnfAc3yrY5K9kSRkOy\n",
       "BhbvaSVVbv19v7fRzeHr9tzMQ76BlP60YhF5hhR0/LWMVhGhABNXHkxAhFDwUOJV8sVgtLMU50On\n",
       "2ankU2QbxhAxMW89sDLrIPBz/NgbksCcBOr+4YxgPf1Hgu8ICEXdkCBkUam5UbSqtxLSKq2K1VPD\n",
       "8/MyswV/hjBPR54pR2CUdE6iKnLuz0bIf+Tbh8x/VOXoloxh/AAAAGNBnwtFFSxfC1jJ0eQoLgrx\n",
       "LIqUP5gAU84SZKS2o8d8LfvalummOBR42E5dXFCOYabIwhNlCG2O4+t54bm3QSZt10C7K5ULgAeN\n",
       "eAQdUZmQUZNqbiRag4LMEOIIB2uhPEAAekAAAABEAZ8sakX/BpZOV0Hz3z7bxsU+ZvUqnpAVUIFI\n",
       "KzCFiikM6C6wT0WJ2jY4atwwF/k0bVXPiovljlAhNIDvFcgMI3fATsEAAAFhQZsvSahBbJlMFEwn\n",
       "//3xAGK5OxMEbvlE2Zd1yO5wAgL7Gk8dCdh6++mY57AV8qy8sSd5VeJl4Jq0u8cgaxkJF3dip0aF\n",
       "sxQz0Z+3u6G3WDh1Pt06TGcFV282hYtX5YrztsvaUt3S10jzkUSqRkztLVy5Cf2JTAT0DHvlcAXv\n",
       "/jsactKR5T+xUTXeRZr8AfI5fGz9UuexfBSRBTkWTlDwc+SYOzubnkvgObPJFNDYa+Y+yi++ODem\n",
       "bkS2HWxjWagyrXayWnFToKxJwk6FzoxPGVW3AJ1BMfSno959ZpWZtFiOU3E7pvHt/8M5Sf7YF0RF\n",
       "JCB34QygIjePJ1voal8CAfXAgQdqi45RShFSrWvsZULxYmw24azNarDv/gdwT46kpadwmY4a9TBB\n",
       "NljX5oGXbyoFs4xTg0+nJiYmsd89WKVcrnc0ZAIXjPTmdzelalV525YW4BynXWsTlthdpkj79EEA\n",
       "AABHAZ9OakX/C1jJ0eQoo/V3YA2Wl4EyXbEj2325wUR14ym0t4xyjT+ou6puPup9t0kW0PCcmv2y\n",
       "tEIuJy/PsdmXFH18Cm0ye50AAAGtQZtTSeEKUmUwIT/98QBouTsE0Y/L0ANwyOevaslLU8YggcQn\n",
       "5j+2PffUccTBSravO72fRxHQrADwTRvlsrMYEfBJeK8wzfVC7tU320tfW5rkMI8ktOJdD2aOv7qm\n",
       "lGXWG4zQE2eLF0GbcSmRBnwM7m4kTIhxpUG3b9XU9dQWJpwLl7F0ri7wKbaea6R84HLwXvOBKTrG\n",
       "9/nDMoO9JgVJnse+ydpJ7z3VXNxDKlrZ5DhXH/iRUf2iFgYd1Q+03c3gknMTcFs8skwRYgXx+VhW\n",
       "1teqiKwFM/6Efy/9rY4lpM9z17Z5NZI64V9r46D/UBSQO3iFIIcEoki7IKPSP64Z+xIMmCWgdYvc\n",
       "BxTT7YPzvDQ5aYdG5mm0cQbFMRUx+YG1kV5+DT3JfPLODmrYJ4YUIoFkjPTZk5HpnlDcRZy88UHY\n",
       "MpussJ0Hk9dFWnoyKW/WsOh+xdXSmL9yA8OVDnBT3SfumTMDOG7cWn2aA7WcfVouCMGXvcua0wf8\n",
       "cgNZ3PZp5xi23WTYHhczXd6AuyWNp2jIP1NUBxmzOFYSaTPa7iMqklYGBoewqgr5t5DwAAAAbkGf\n",
       "cUU0TG8JG5D9kpA/Rsc3v7wubQ5iYBiSRPom1Tm4Kv5hga0t5afEIfN9LuCDQmWfSyzXN7CgjznH\n",
       "gj4D7stFxz4q4MvLOfwGRWX7SSzN8z2HiQHcufIABDlvd3hcdFFnd55jt9yhtxakWAAwAAAAQQGf\n",
       "kHRF/wuKLI91G8NIkPnz6e8yxY6HdDcQQ0O2UPsnWU+/HymqSRvwH3+D4+1mMurNgvCcPSuPYAZM\n",
       "4TwJVgUxAAAARQGfkmpF/wuXMrsdrDwB3tL128ySYqIdvidT4PvtplWkw4QlEqpjuLs5EAy3Ser0\n",
       "5KZ2F/lBFGKyk83NbevThcO4UByMswAAAcpBm5dJqEFomUwIT//98QBFbPO+BLOYBPysb1XYhdka\n",
       "tldCd3Bf6jr4HtZzylwScBHsAC5sbn5XuTfl7r4X2zqm+fSygzy8gAAQL/yAXzzF4jr0mtGsJUZg\n",
       "pMXAxu5JM/LqjmRHShNYZuOHVyRCs5oxBKEZejPgc7VoKcxLuG/Wb4kl+3p9FIkKl4htFS8W/PHi\n",
       "lYsy1HB8SBB+5asNFNWhFVoEsHWcGx0s/H3voimXnUf3ZFd8AGzEpevo/fNyybyz4Rr3sf0nNdiA\n",
       "N8KsMc9B/f2URovs2Hl+94+La4oa7e4Au0VbAMNu5JN/Nx22L7y2Zn5401VY/b2Ey69CvY3mc+EV\n",
       "rYW6Ut4fDGi/6cmyJJqIZ8qbKXT+n3HJ7KhAg/WEOAyUGJsoCUJT5+4spDjlHRzj7kgYUjBw8ntl\n",
       "C9FwlVf8Y1BgTvPHxb9GWriOzBXJpTOyouk3D9Q5VFXS+a7yzZ9hbR4y+DMirHRf6nsxjyj+tlph\n",
       "PtAO4A5jRW90gSE/aPiNklNR1dociaXpR3TFr7R9b/6iARJI324hfFgW4Jn5se9WH8pNZctb0pX+\n",
       "sktQNRVu7x+8YoHuy1hGn+5y1DsBjh1Pw812xAAAAFZBn7VFESxvCVYUuCYeaE+cQuu9hbgjaQN7\n",
       "xzpnVPmJhiGZPxMIYVvprf7nvV9jeM6SKKGFPUKBYi99WFWRqjsz9vQ7cyDk9D0vV6m2wCnvX2nA\n",
       "CCctwQAAADgBn9R0Rf8LihAvZ1d1OWR+ewkLvbI5Dn5Zxz9bLePUVp81ei849YL3FYVZ5YW3Q8j4\n",
       "HDWzAiolUgAAADoBn9ZqRf8LlynfuqK9iWhv7VG4fm5ap3pVuEPEP41acSSMXwhIx/7izUntcYZq\n",
       "bfI7gxR5J2kLTzFhAAABMUGb20moQWyZTAhP//3xAGi5OvvSeaXAE5LcA+MRNpoe7dn75KoI9fAm\n",
       "mDLlxQeH1YFkLuXdzh9pKDIbrwN/YV/TzA04fCSwcN5aGOQgjvTI3E3oPbsNEQGbzazsZhyKARNT\n",
       "hgNeiR32i1FGQM7fi0s1ni9JmaqXQzVFL07YoUJXRxin3SGUJEEqmoNKCUrRpvl+ZqTA6SDS1cHM\n",
       "7Ypskd0qC3u09Ie2MSgsnhLBQKXh3o2Ji5w1rgtl7M+cQ8S1uRqrXtJuRVZltuluQc9kDC3xAg5I\n",
       "/FJG9adKf24o2g/WBYKB+5JfMmLWB39GPAYBzmGaKtRU8y1nALHMO1ojKhgmRUUNrMPdPr0Oa9Rc\n",
       "xCw4PI7CIx7DQcB+2hfXWq45nwZ58WQ6phCScfMN8mHjQUGVAAAAWEGf+UUVLG8JVhP47MOWej2E\n",
       "4i0rheP/FD3CwoypYgARviHZukOlhobH9lgywSyBhh2kU/upsopG3IusizfarSsw4I2BahbJWY/E\n",
       "0HXIR+zakHNA4v8aUSAAAAA3AZ4YdEX/C4oP1NynWxDJDlpAaZYWACrs/RgxRzmwB1Y4gaFr3YL6\n",
       "LPK+NGX82b45Y7wBqqGncQAAACgBnhpqRf8LlymMq/1N/8nUIE18jjRZ0zB34NPCHjj99iqZZAlz\n",
       "bhPKAAABB0GaH0moQWyZTAhP//3xAvGAagJHIQ58QnS8gE6+mMdQyRro3F1r6MlbW+APjw+5Y4P3\n",
       "IEH5+yFQ3denBuUkwQ7CL2gAAAMBr9oCPuiGvjA/nnRfeR3/s/YZO6T+mSFcY+hp/JbBl8Zx8e4p\n",
       "ODBCzSCQMDXWzQpl0tgcckn6GwzGLBp6jAw5k7+E47mQ/uLb8VQLBqcAwvf4P+Hs/NaCz7ikrgJh\n",
       "p792PDW2Sxw83aobANE2q14PDu3ImoszGkN5eqN8AZuCrNtTetKh2MmRg64LO7/bmL4Qc32Bjpr/\n",
       "ayDG0y4KeKC53Qc/8nD/Azt/gBwnQty7Lrs2PWYcaLKA90NUPqx1ijxhAAAAP0GePUUVLG8JSvvj\n",
       "aImF10OdGqaf6QmLUCEMZNzFgUR7M5LeEz21bo0UEvj1t2i2EUfBzeCcE9reKAEamllmJQAAACUB\n",
       "nlx0Rf8LihA0XMQTgvYLthaeCdM6ZTHOOj6w5MoAFvewfWCAAAAAIgGeXmpF/wsnRYwXBddUP4UM\n",
       "jGku9O40KWEC360E/60v44IAAAEXQZpDSahBbJlMCE///fEAaLk6+9C4NMfP1YAOtcjUcLQfQ3bh\n",
       "p0xKoG4qRG6jujBpoB5vsTYn6pSGiKmbrBnPAxLkr0o7ArDYsypJWVgVodHOpdpJsO77WZhEty1m\n",
       "UdWy/OS0abMnWb3ZluNIsp8q7qVVf4e29YzvtfgOgISq+CfMuqQWqgcByoxqkNWioufoHRBQR7B2\n",
       "ogIrkkP6uOmrv8GsRELcGuzwjdXcbE594rlQb9emKsna1ACLTjao8+Z5NoFqc3ad16rrf9WX5K5C\n",
       "GckBh7EyHRm5HlVBjVXvG/PzahVQVBWylgiAR2zB7aCXPFI+gFfqbAP41AM8WQmHdUIAfYHoKpnx\n",
       "IrCL5SnuqpQ5TzzkeFdBAAAAOUGeYUUVLG8I7hwgJg8s10vmS+J5/4uaiPAF6ZKT6m1nK+EMD9Gz\n",
       "tD4XivLrVwI58Dr7lH8BpUPuhgAAAB0BnoB0Rf8LGlT4Qzq/ALRhqRuB7yCleAE6DtYqIQAAABkB\n",
       "noJqRf8LJ0PUW8sn6jZCFKRMIcwR3CXmAAABM0Gah0moQWyZTAhP//3xAEGJ3lr+CaE6rbIZflMo\n",
       "avk3M8wPtIAiQAAAAwC6+OFQgxUNYYTgXuj8gAEewUuZy37VDqddeOZMMsF9W7tmTbq1qqU1Jkjn\n",
       "GSjGhrd7iTQTI3Qe3cL3oVP+fuAgk9SFLCHaehDsHVcC+guUyI9v+66UOFdXGdb6nlgtWHh32mKy\n",
       "a/pdnZiucQYq9grAlwv6OMvD2j28S7uLbY5eIQaHr7jYwRdyLFf80kfx3N9lTgGj/5qTKpiGwB/h\n",
       "eYw5VFZyQXiHTZieXHQT802vGOibtIzwv7vufVyonRrCl6HToBlmiGkXCcsPHDOovYEyAQfAPfs+\n",
       "cPqy5NnQrlw1cPIJtZsKllsv3TYZ/oXmm5oVdrkTshOi+C/MixPTtCfDUxTGcSIDpisAAABUQZ6l\n",
       "RRUsbwjuGlvPycZbA//sLYcaUf3wSV09Fo1RWr+h/5e5++QDARqgYBaeBJVMePtxrWUyE6R6sZkx\n",
       "qBKkXGZ7Nkp/48VDtXQQ82G/ODksRwWbAAAAJQGexHRF/wsaS06s+ncDMCCfJFw2hdEf4/yUZ6Ep\n",
       "lS/GRe4Ag4EAAAAvAZ7GakX/CydCBWld3201vK/b6rrHboidUajHMTZ8gs3AEgFsSbTQQBPfO3yp\n",
       "G9kAAAFyQZrLSahBbJlMCE///fEARSgEFNoZM8GNGsa0ZVN87TtR5fpG2z3FfvrcxSABGMR91a2H\n",
       "bhNCfYor6U89KXMasgq+qcbHLYFYIMyqa/Kbs33gqAZnOEL/PDhQHDew+RYgkt/aBDpkXr20kRvU\n",
       "Z3HnIQIGf/7cbmPbyJ3HDt2uDxMi5Pc8GtQDCnlP0CRb1LHkX2FcRCqVzNt2ybPv2DJN/ArrCvRL\n",
       "sMmPpu+/KZOqTgi0uXgn9PzcRoaHGgTyS8DpjSe52k9+/n8OeGLr7wX0uviDsIt1Q6a4YQPoowPo\n",
       "9YRE+9ltQXgCxbtIA9AwiYgFFaY0uZlcSSy5KxHIkWIxHPAqr1GpKGQ/74slNi4goUhP5ojcn86M\n",
       "dclbR41As0xwUKzUaSlSBHS/J+2MFRrkbkTQpKRcmHTI/6HaTctuudmt9CnaTO2zvWZAWIQgir8N\n",
       "b50Adjhdz93lvIwTGjpYVn8UhmyBtRsoh0DylM/mxGyOAwAAAGJBnulFFSxvCO4bRFCE7ishJEjJ\n",
       "ongJbXnTpuSrAylNhBZOBq2eGrzz8yL8ir/CwR3qwFmETDYXlTazg+fz2ubpnI9x+KygCCTLb9ef\n",
       "HD4J2HoL2SJvT63N+BEf0iyFIMM14AAAADYBnwh0Rf8LGk7Hy4fiWbr+GgArqTEMUSc5MQIxU+vQ\n",
       "WI8w/DcVQyHh+uFguq3zqp+AK6VEs4EAAABCAZ8KakX/CydH63nmsXcDcg3RxJ6c7hMbh1HgY0Aa\n",
       "AcYT+UGHoA+zH0v3k4gYvmGU5VCZeepQ4ZbdhvCwGkH3METEAAABZUGbDkmoQWyZTAhP//3xAESg\n",
       "Fqp0gQApHaoJYSGpl3PpyPkEf2MGIdHUtchEJkzWuEhQJAPi7uYBw/w7JaZFXfUyEIuRyxbl+PO/\n",
       "MHEdRgFG4FHTdjD/sr9YmEeVSiQHfng+o4LiGEkDOVQnbAVLKnYnjFlsar/ec9BQHsyyV5RWrnoE\n",
       "D0Jzh2vvc5nxzbVJfjGtX+N7fzVFtX1/SBtjAn6CB1HVlCxlvzU8bF2yGUoC4kssljF6gVtIuHbA\n",
       "iLq3rBa5FwNbVdaASHmfc1zkSIgjruaLbGGQasGW/ZzfnN6VjgnzJxsBPUtbiiSfIMT2d4p1Q3Tc\n",
       "RHBNGRZxs40qCQ4HTmyK/YCF5lPOumlMX1iJBd5O/kDaYSBGRy/DG8QZ0kVRgAfp5PYi+mdhEjpp\n",
       "dFgu9gtV2hI4Upk9l6NQ3eKWPxzrIH5NNfEqndC+8sWZX8/xQLae6m275Iu/bZ8PitsR61joHQAA\n",
       "AFBBnyxFFSxfCy1tsikzsig5EBRzIIwfDP42h31wtSfj4XPXnsxx1GIyL3XM/8kL2zvZF5wXoJP1\n",
       "9JPIuC8i/4SCw0+OSMfFuJ3SosMNP4V6vwAAAD0Bn01qRf8K6Mm/MNLo642uPGO4wNpyf3OCMh4g\n",
       "bEjedY2iuqDbwQxUjfe7ARo/4bligdwBgn1DmEIgkjRdAAABjkGbUUmoQWyZTAhP//3xAEUwPjff\n",
       "eLABn+wrQL5YrEQgt3MAAAMAAMwu2l4MopzlXF448dSVTapp/2414A0jbjLCAkAvJBc2Yu2FMC1E\n",
       "gMNfDUnLVP2O51NgpmxeKTHGLqtNBH5f4WP0i6bSa2inAAPqVt4lTRKwKMcXuS85m8nsmJK1o1b0\n",
       "GxJ8Mr7sigBDib22Oh7mDBGH9JMOZ7DX25g41CxXyrvBivWQmDpwrxtF7JFsynaqkq91yyw3Al+t\n",
       "HvEba1BUn5yF+UOIlNDhX214fIWwW8w7++XhRCOLQAbzd2Rudr4+Tz68X7TyMkUhKUBqJ5zyZ88A\n",
       "dbIZscHwUsJ2fMXgQqen63ICBITaXi+5IV6HeGxdhTiatKJVzBl17YXaC/h4PrKm/NUKzfx155T7\n",
       "ekE0fKwKv4Av/P61WuPQDmxrpFDC/Egkq5KofCCol1DDGtXHvUGBsYMcL4TOQENyfv8jevFZd5A1\n",
       "Mh5hSREGzuBcQaNCKSbd5R8ajxAuiC4EwtrDaoSQGSanKtdBAAAAVEGfb0UVLF8FY3eiSujBcmK6\n",
       "feqKMAcvL/YPeQeOZoLwz393V6stsL/3GQDpU/WsEgUxEYBJfrpaTrHBflJ+TrZqu8Lij5PTdFAI\n",
       "/KzJDqrggQqnggAAAEcBn5BqRf8FY6DoZu3ep1k3wmp7OxhNQNwA+Wo7RGwetDvhCi3f5JptQRfK\n",
       "5r+4Ji1G0TZGd+8LC85VuX8QYQwIyQG34B6wjQAAAZpBm5RJqEFsmUwIT//98QBEneYPACqZXb8R\n",
       "XPqUnejH+PwomduF9QZU0ykxwZsG/yACak0wKdsKoCcgUaxArNeTYmi0n7ZCrsEsP/YrUHjfauQh\n",
       "qLxM81obbWZn4LuopHL8A4VDoIPYL7wBZHdN6X0ivn07ifehBckg1Tc0uUGLAJ32zvLUbRW3R1ht\n",
       "Af98TOn7yOBATaVcTZQVRDVnmR5XyPDTC3B2hiW2IpLGNUySbCVjiz7UVV8rbRQjSD4Gqv/a9jYH\n",
       "oo43MgAYxGiqhBE/CJS1Us0c0ThHdokDG0NuSyskSBM7oZSeklVIgxAXA317iSSS0x3ZEJmkBead\n",
       "PeMcOvASnXWWiZNK2vs/vkFG6cm9PHJXDa7h6C0toClAhcYjlvJnVXcpYof31YTUJqAgCors5Vzy\n",
       "1wRME1aA4x8TXBdCw7PJnuqQZNG+rtCU5r1nGVN3ebsZZsyTcnAoEKIQT1c7lwXdU0PZOXiT628R\n",
       "W/xvNwHIx2TGkJ/fiy/SYlDufrlC3ytAZ4xq8sHWhFjTMbEtbWQPgKDNgQAAAGtBn7JFFSxfBWNu\n",
       "m2I/c9+D3u4f5+p9TDWMQJf+4cBw5b/9Dj2SjbkGng3iHe0xmF5157NY0RrsaIu1cQgPGH0iTDa8\n",
       "VVu+7Y9fwflmfn5AUAJEEI1hdT6U51wd+m1HkrVNBHqdoBGu1kd0QAAAAE8Bn9NqRf8K6Mm/hRcr\n",
       "v5SiC3428FNg9LNm3czTXX4Y7BD2roavvkZ3Uiq6Fvk5Ndshtf4dEYDc9GwfNn/DFM82dQSt+8Mx\n",
       "Y+nAE1AdWmN5AAABk0Gb10moQWyZTAhP//3xAESeDxG0Z1G+GB4QPLvIzbWkbcAM1huvQEhsiukq\n",
       "DpCpZfksFOQdEap4itz1KYPaKHnonqNw9I/PyvUpbkJt865PPLPWqtczcEIWF7WZAAJTqU06RDzj\n",
       "EiNZck4SUbGOGxsydx5S+HTigSYbhQ8JyTZGFLZcLFve+zMLsTa6QFkzyNj34Zo6O1Xn9Fi4LwG3\n",
       "CASRy1wLcYK2yCRD+JZTk4oBu/qbNFMXLqrUZHd+m2eWgHYVOfot1lHIlNdKdSljXfGXrT6/8VYt\n",
       "35EOrvOnOU4blA2W237qk3a2MZ6MoqHU5msK/HahqTzNo8uHhXbWfHeqoO1b8TLH+Zg9pedpyA9B\n",
       "z9l6RzgHYE/qjs6rnobJaCBpqT6LPQ/lokTZmxhN5tG6b0YPi/IXUMK0K+wWoAvWGgCqmmgnQLHp\n",
       "LPgSYuhMZyvzPVnq3dCC0lFyw6fCnQKXrlnnzA6uXB4SQgP8IOlUTt6a6zoTVhtAUgJ0lUsbWm/l\n",
       "3svnyF/Ld/Ik85i5VgTd7gkAAABmQZ/1RRUsXwVm45J1R8qeHWFw/0Ck67s9VO2ZO3kIXGDyA1zn\n",
       "EY0e66auGTFiOhutId/p+gjN8UWHsAwYcjgaxtv8vQpVGGODuntZYeOT0E1F2StwghblyJ7zz5Km\n",
       "FZwC8/01/DSwAAAAVgGeFmpF/wroydUb4IkmcWEiYZ3bjakzpq57Yxzwkh2dSVDpOri4PZq7Jn+R\n",
       "mrsNbwDpmCvj4sCrgDBQ4zJW0Aao/92WdKd/GPiDk2vEbvJymQ7wGOCBAAABnEGaGkmoQWyZTAhP\n",
       "//3xAES/DMAfjyjDjyNnJDwAExa5tH4uN2517BNPCaXAx6jsmiwwNcKnhVNEqCmpJoNtYw8FO/VB\n",
       "N/8IxTu1HFSShzDgl2D90q2sRKdnbaQ57XjCqgTkcHhRYDPPq1Z5XW7RiBmClQAAAwALAp69zu7h\n",
       "gR6VpuG/uwx48XNxm710Iy3ymuDShswsA51fgHhWLP506XtFbThZV/prziYTCIS1LIrm0GQWmlC6\n",
       "8EPDPg2k33gaMpqVABic54g8F5IMwQN2OCdf9XQBkdr3QUOSESyzB3Rjbbya91457e4kpU6jwTd6\n",
       "amf8gJWIuNAAlTBoqd6O0bK6H6Zah2r+U3uBhXc5oOyZHRKIAPnJv8EXnCGF/Q2ck39tuBp+af3A\n",
       "QjCA+A6c/jeG3ObKB6+7FUVg0A8+l2IoWSciCKW7br81Vlho9yH3C5qSlh+TW0GWdqH7rPR5BXOI\n",
       "bwKHjwsHnwc5owVvYQQe5bQ/mlulb2d2WYzzquLzajJTgI983mAOysIZJalB7Fc3E08Uq4vW2b8X\n",
       "gX8AAAB6QZ44RRUsXwZaO4eUbtMbajFHr5iFDkDDLw8MN5tGlx/LwANAsfj6egQFdPiKGe9m+em2\n",
       "NAosBTS8ErQAvfGjfJG8KbQb/6UxFJEUwjv6UIRt3HCjw6Sozz4/E91KRTbxxt2h00Kg4cz0vr4H\n",
       "rrYr8JU3AhiuVSu+ZCAAAABYAZ5ZakX/BpMSMFNxcxhr5KLb7RW1bTP5Zv9FOIR2HeDghNYgbAY9\n",
       "gBalsW04ANnUvg9PO6jxqWUu2uS6DHXOII70HI+e8wINQU06Ev8DbKMbU0D1/7DRNwAAAa1Bml1J\n",
       "qEFsmUwIT//98QBHxruABEHL8efiPm47SJiYEVq22FRWz9rpmWUne2wy/u3uspw+1XgcvI/L7nMC\n",
       "/ff9D7kM5ddBo88qeM7x6kcEbVOaCxhGf6hJQrVPBD/eg+Dkt6XcjvvJPPSgfYlhq6dLOM/dMJ9I\n",
       "LIrsXikYcxq0Rd7Y7L+UIbk2/JomAer1dVyntKNaKugKeABLsb1a6z1dPLfxYDT5IBX8IijF1Jzj\n",
       "uZa55A3LKs4iQlpX09wd5VbzerqWIcnu15l/AbMlimtL4GuLZwDoBPVWv8/CWrSfAuVrXn88VLY7\n",
       "8BMt3zueq+T14+R34c20QJI3DCALjz3uRQJi8XBODgoReDOXIAz3JQJ/14CHVyBL7Mx/5lpbgJNL\n",
       "fqgtpj6OWPd3htcls4QQE1e6djC8yFIomNDPrVcmKjqHKgjofMmrX/UXcTkcNYnbqATsEjnRw50W\n",
       "2Iu3LID7tdbphnOLJXglDzH0dBb8dutGN8seYxW/FpWZz0w3DxMXRp8TdtU9q+LXfqGStIfxgYgb\n",
       "PpqvSbst3XQlh8dg8k5hA2Q7KC44D/FeXpIAAAB3QZ57RRUsXwZaO4qWum95GOzDbnVdgALnog3h\n",
       "nRNyeBMnekSUjL+dRVI0DDjA+fa6ZoMCkBsJnpi9dEsmh5PQTtQDXnn8M2V23Qt55K6cavSQhuaI\n",
       "FUThLBFdHGDPH7zYlDtwgG284IkFYPDyYfnaEZAv2b+AgYEAAABOAZ6cakX/BXdfHyKk7spUcY9a\n",
       "AA2dfzUC/6CQqgr2X9gtqokNyyHypax3WQU+GlORZrOqBd5mn7fiDHi7znsokfmAhprPjw7UmdC4\n",
       "ymG9AAABhUGagEmoQWyZTAhP//3xAEgTZLPABukWcZIIf8VRy5XPuBM4teHKdGflbmCoqdbdDLpj\n",
       "u+Bw6tHpp3qIhTsNf57fiJ6Ax6041P5BHHOXE5bOG1+Ze006DT56DsPG7j2j5ExzdTmhDcN+IArJ\n",
       "/Ico+OauiyUI+IOFJ8NT3PvP62e1wmeEJwsX1UvSjV/c5H8ReJ0O+nTk6bby43YLx5pm6F+Q/zHu\n",
       "cxsuxJbdMZ6oN0/c2iQLAok29L2+ck/70/JcDPUslSg1V876y6Ub2LiLcejX3vFdhiY7Rqn6bb0q\n",
       "hE3SkB/bLPbQtTRT4zBue4J0jnw73nV4Z6SsJ6Sis/Pr/KkXJVW0a+ZgXzQSDt8fgdVf89ZPUpR3\n",
       "/zfK7Yvi9J12B5DkqyigqC4TllchMlIVb4Y5S1MruNirbIAeYcKG5+Y/7VqLjymPECjZbM1zLUgt\n",
       "8rgyPfOUHagMs5SfhawOw1VRGEf+tPVGk8exbWgWcjK1ReBFI7S/IH1CJqPUa8BfPRQOh2d8AAAA\n",
       "dEGevkUVLF8Gl1jaJZ+2bhuqiaP+rwAlhFkV7lR2UxMGVplMeWVPhzbGsUHmPGmuwTpBWfVnwxAW\n",
       "lfg9B/2gN6lFAiaUpE9VRcXIvRrbKmghkMnO5muOa70iJrCOwZXcMrtnaToYb549qVOIACp5gA5t\n",
       "HiDgAAAAUgGe32pF/wwjpKJ8abavOyRYjgmk6tw9KA269erRasZRIS8mxVaJvGq3+/mNGspFnkII\n",
       "RBsBTLZ8t+FBa1tTSB1tThWAyiuxXLucWcd8tgiVSIEAAAHRQZrESahBbJlMCE///fEAYrk7IUMM\n",
       "UegAnHO7VZte4k1Q5kfd8yktkRnkRdy8SbuH0gx+z8/JORFTq5UtDO+Ov2oo7nxCFRqtoKTdkKmt\n",
       "x4WwmdAH4o5eylLt9muEF761PiINQ/PnDEBKQAD9bWpSkhWzXinltPAZ4eaRR759LehYNrUjtVos\n",
       "sqXmJlsW4plIKbS/EyOWdSONmGfuNisNHRsQooVK+yorK18hRuMac5wa29WhRYxRHCdnPQ1b4g45\n",
       "/MBY+tn7V9ZM7ffxNekhF+iNaX90EHve3wMCuaABbgOdfsGlPYzLr0GOmqNBFGDGhZ7ZDwVEP1Fh\n",
       "tbEFHw4Ty6BrBXfPL0XyVn/exHfa5E4hqWAH5ZVJHd5qsN1OvJbCWKPKGJV7S48hCfpq7pSir+xd\n",
       "rOhc0lksvroA8Hps4lwrVa7coMIRa3OuLE0JJrKfimHWINWU4Hh5TGZ+CE4sawzRkKUhHpwQp/kp\n",
       "EmvgwPTvXb85fh/CQU5sh1gipbbQkDJhFXoH4A7XF8P+ObNhqvF3ACZSD4pYqnUob1VtcngaujZv\n",
       "TN9zqwC2iy1HR3K9WPfRJMcvqF9Bl0pDiqaMCzTxxSa8ASwWXVJtCl8r3WOuAAAAokGe4kUVLG8J\n",
       "g48mvzxUt6BynAATsTqek2EX69+EQK73PHZ9B4wOke+vpY2VRLJf8PPGStFP/4O0rdJrmy82ztTV\n",
       "w/MiPlp3MN3Dd97dSqc6HHHKd9+caEMetfpB6tfdNq91E8UUZYMLcLf9mk//750fU3XrtUIdwWuT\n",
       "2xa9SyG6SEP4EqKZXtgSfoz6kOqDlNVv2GFFTxS1VZeHCgH4f20yQQAAAFUBnwF0Rf8LzkunYFz8\n",
       "WK27LqiQloRkME3w+5VLKutRhTEK8644KxIR++XE2QMilP3rBhaLc7XqUdnwQDE1qoeBof0DAuxO\n",
       "vXC9JQkbRaylEd8AbXukAAAAWAGfA2pF/wvOTFJBSm0nv8ZywRaGI6gjCqTMThBYNDi1A8hVtxr5\n",
       "Xdt9X+rL08Y9eTOuehQRBhVMnjYLQzh8dVlfNj+Jr/93U8USa89BYeFiW8/Atg6XipEAAAG2QZsI\n",
       "SahBbJlMCE///fEAR5Sc3+y+vt0AK5n/2LdBQLDvahzZebVk4emKounk2Il/PdH/2vli+VV4qxcr\n",
       "O6kPbxqdNPyAGnCjnWHW7n9IWXOfVCK591uj8zQtq5hgEYCWdoa3ZrqrHDusVXMugBB5snG017SP\n",
       "+75BXAItFflYKUcVHttW0AwG1UM916vbTHnAWM2FDaoGXX2BSpF/9mC36iajsDRg7OxBALnZycS0\n",
       "3mVETtNetjrwphAWH36INB02gV7jY84D5pvs5ThzFEKV1vyQmtOMxF2Ulfq2dJlnkiXx2+iTWEJD\n",
       "um7pmukXCc1Ak6o5kBJQemUloJfZbXhvRa6KT31oJ6MOnIUxHon6TNU683XjyvpITegMJOyAAKVk\n",
       "lyu2eI/IBgPGJ+b4AfYLo/rZzfKli7FDyUezgWmYgltUouqnNfhNxjGg9qQ7inf5U9/gTsOvBfUx\n",
       "ifdZkqc3MbV1Tc1hBBXCoY/UwLX9K+wX32C/lH0xzy6TKFT+7BgPcpYTT1ztGe/Z76NEqF9FHeyD\n",
       "Zm5JwLkSN6xT6EEuYXbY+j0UtuTnBXwfjUfRWuszefxwIIOBAAAAhUGfJkUVLG8JVhtASXFyB1v4\n",
       "8AdLYlKV2r0IVG4e1f0PNbbcu6QasYlp7zpCW/rHw5GFlkuP0ZhbqMlHFcSMfFOhUAHcO2+YPCfH\n",
       "Kvmud8J/QxnfFESPL0mS1Q2WMADY0d+/lhYLFW66ub+f1KAQSigZpAJbZpwi2c+NPPBIwGNkH3UB\n",
       "XGEAAABZAZ9FdEX/C85LqICMkoZJ7MWw3sBG5q+5jmVnMNz8JZH5siHoIjESegVBY6W41EntWh1M\n",
       "SynVnJm9FRGVMH0bPIoqqGkXRpwXvIdiukMO4FC/6r+bELo9fJEAAABTAZ9HakX/C85MUr9fkrv+\n",
       "qNWfNqrZaXy4UFPAnaeh3UnPLdCLTytQh1IXdB3M/Svcvi1tUE3Obu6XGTRJR+As8HkvuIet6Chr\n",
       "RcoHK3sVdI1UyDcAAAGAQZtKSahBbJlMFEwn//3xAEhxZlt72FuWFIgCCGpYFQmrlQBSAWWlAfKH\n",
       "s7Q7hy6K6t41tfNYKEswUWweMsDYl9jeQnTt3mc9lKB0pI6IAAADAbsF4Z3bE6GWlraNhXKm9Uxq\n",
       "S+MCe+25QSObNc9dvZIUEZxjiygfmEMeFtHEO6jguEHI+ka+haZKqgnOTYhkbu7+KVKw6Mj9FdJD\n",
       "SsTESWkMPE8qvK92puF5zn1TnXyy51QpZAbJlKjucyScyGyol3OG8KobGbBUXoeomktlAaSBbdBy\n",
       "qO/UKbXBSUry/nnmUvRN4rV8nRm8hhsdJ0UzXjbWS/NXmmHFa7VNpq8xkHSJgMYnJH8Y1vkEnw0F\n",
       "taadb43FEgOBXZh0YZPOE1VviU8FoztGaHUyQ90AdRppQj7lI2YWnsMYsQ3CUxilywDEw/TaagOf\n",
       "MVVG6NOukxgHiLJPy/o1TPw+JXT+CdJVtCE+vLkynCmOuyFEN6jPbM5+BVq6qmnvZAbSMKZ2yoiA\n",
       "AAAASQGfaWpF/wudblwxlXdpxIO4WEKVSQ4OrleCheofui71XPX+ewaBaYK5vWh0napNMkKEZ7N5\n",
       "smAuPnO1OHdvXmSmd5rBHeZSBIEAAAGtQZtuSeEKUmUwIT/98QBouTpjSvOykLd1/L7SuhQsxech\n",
       "yIgxADPRIA94jbf9JRzWDLfCXQ5/ZbSNwfheu4LL9VPUmPQs/Ka40Te2hRkofvDq9Ub4QmrbLKMu\n",
       "QLPPac4qVqEq5pqUq854Rqek7mkU8SRJgsREpmdgOs7YTiH1NzQlMV+ZkfQ3ftQiKrDe1DOJG/hv\n",
       "RNa/vmnG3wbCFXuGUAPcj0RuRVPSuGcPusjJCxP9ZyVCxgrLpQ/YokSi0389vAvC4kD6HMJFL+Ir\n",
       "QmRwDNAPwRadJutIDRRdayVI7iPHcGhHnYxhmI3TQMpyDwXwJtrBJorXLaO9iASGw5N7+Q1+d0HA\n",
       "wWJ9BxlMljGmROgAZgHjV59fZQbworU3BlTk27+5V5KOg2KC1hgtLwE01WkbaeGxgY8VDGEs6FYF\n",
       "AlXSZgZ8s6YfoJwKI1cMhvEkGHNUi8Gl5bUTVWj4ubZMr7uTrLATMbCw24gRguUaV3xHHVVzFKfz\n",
       "JZCYa8FB7HBInVXPTu7liGngWKntxdFWAj5TV4st1JfIVlPcxo0QGtjJKeEset/xBgVZJErAAAAA\n",
       "ckGfjEU0TG8JVD/+/fJMh2luGtGPbni1KXDS6yKHTQkZpKspZX7Z3YgcAXBpWZuq+wwMW762eVJG\n",
       "gr0jcxSzvXTBOK0Np5u+t3dR5UUY9mGXoiWAfJsAAhUAS5AeSLRqokZFLLgsYM6dQJwFCIfgGaxK\n",
       "cAAAAEABn6t0Rf8LWMnRkVPLxLSTvIL7v10mOW4CJYHsfNaQvVEYqqcyBJXi9CI5Px29rvrXWuM+\n",
       "9Lv+riELMpo+j+OPAAAATwGfrWpF/wtYydFqLIwdCSaql7lFosHnhyf1qYK3vNW9zkXtQMvDQiSA\n",
       "V6vDOXEMHukuQ2yPPR+orBHAKsXjOnu2WgkXOmh63TIA8gP0NiEAAAGSQZuySahBaJlMCE///fEA\n",
       "KTnsUYLyHkw1VKejONWBxvDcm5YujXSdJiAt7oXRWdMV+RgvlK4iuJSjs/glqpSWESgV87qZsdLq\n",
       "ILk096lBleYfdHou9OWy/7zGo9ZN65OL1lEm7CcMARicpYvRzmeBLwJyaI8VqgDdKbLI+CipG2Vd\n",
       "GhYUZvLjBjWwwrHQ/ZRAYDmFdlvXKiim7IH4IWJ4grGxmJ2NT9ilCkXfbcg1kTc+WjHDnzp98QZi\n",
       "kYYAi6gc3qUTxGZF2h5EbHFVCkKfSvnFaiYEIlga+a5oKJbz2Fd+ohcYUcNcbB7CwV8oX4L1WwUo\n",
       "0mED1fCUc6CGvtva67abskAz6mX1bDDk7rrbMJTYfvNFNREvpmmz62rkLuLaabo908YhKLyrBrQ1\n",
       "4DKM3Rzq5gTIxih2sV2lNDwgIMKfP2Um5ioHV4Uln3U4KJ9gbrdwmb4IXqjG4vKioBgpcZfFbGC4\n",
       "aEbWEKq+YPTL0ghuVb1/gfu5QTFeaIbMYbAU1dWE4UhX+7S7ySeho9n82FJBAAAAYUGf0EURLG8J\n",
       "G5GqA8UJgxiEx/eUyZJRXitYtJS4Q4vvW5/8tHO48RLJkXMf73XY7WiIhRldiE1sg8kbYjh/e2hP\n",
       "Ga/bJmsRAQ5B5mdFZzw30J+TjSKEKBANkHrbg2h/6mwAAABCAZ/vdEX/C4pU2xUF1s70CyiNyfu2\n",
       "UUSbYhCZksJ1CePxLloVSWIbjY7t2tjMUlfODE4UEnaYRuN35cP0AmmL8GXAAAAARwGf8WpF/wuX\n",
       "TMzAyIa0ioMRt0HZCNYerG62HKCScg71rsWyOZjiC79N1UC+S6bcumDUwuul6YXE7gnSpHWf1z/U\n",
       "57IOuSXBAAABV0Gb9kmoQWyZTAhP//3xAvGAafQA0nmRmdEl4p+AGZUnynK9vwPnQnEjdJkQN4ku\n",
       "AjyHbIVcvaMofwoHvDsfeaCs4yn2qY/Ml9uo8BGQ0HRiZUzm++dYy1nSCnEleWMRQAof+wkiDSDM\n",
       "p2E3OOQ8MY5PsxFqAnCLMy+vlH95djf9pecjm3AUuWilXK0BreWgy1ENWW7MipY/q8kP+dy6HGGG\n",
       "0+HjhwPueR/KguqZZQUormrNeKDLPcEcZwED0VEwCLmSKZYFu9cldxbBsngX+lZea20APxaX+21+\n",
       "moPaJ+656SxkbHc2GmDIuqk5wXDiB5A7D9EXn80lFCg+J0BVjdH8rEPNPCIZ9Th7XuxrBCcHv5Ys\n",
       "IImDxjoiVweBDy4BGnpCdVt439V6dVaD01akIiwe1HO/ftbm5M3uNj9rfjPQRD/Z0CgExpWBQ5wL\n",
       "e665ue1xVritgoAAAABNQZ4URRUsbwlLIiDrId0rcJO+UFdxhvBNprE5jRpfD+x+UCdUiYOFh7ku\n",
       "D+py5pRz6pT1fAhouYdtGHP3Dt+Ce12yBbTKwyekpjct0oAAAAA6AZ4zdEX/C5Jt+xuZ2TA6Z5xs\n",
       "LcS47/o02qtM3cPAeycOI9ViMpQIuhLCn5/DUpmTJdyzRiAWumrXUQAAADABnjVqRf8Lje0AnwFn\n",
       "6YWgE8KVlWBpcI8e9aZlim+QWP5r//3sq9sf7z+FP4BDK+AAAADWQZo6SahBbJlMCE///fEAKO+4\n",
       "jIx5S6fAAJbJTRfsyGZU3T44qzNXWx8yNaGh0tKu16IwcUVFYAtXdT/5zh0betST9HQkw3T3zOlO\n",
       "vFJlMLxPuynEit68pQPwzaqiSZWKykLGDHMU6NvwUY7VHYYbz0Lb0BYpN0NbwtUrn+m9xJgNsO1Z\n",
       "ojEzVw3PYBAbBSeXHBnmdvyGAf/s+NI2VeTfBHuKiUM+pAXRx+rTTBG+z2d0q8opNTQmgsqSO+dL\n",
       "u6+KpG93/K3PlfwnnkQfmy+d1eTwG7PEwQAAAEtBnlhFFSxvBViq0ijcOWAQRlVg3IY+FHWSDa6S\n",
       "sKM82UgvLArZDsqz1ZdgjjXSb8Fv13XixFwW5wFm+Vge40o2XqFFOBhXlpR5RX0AAAAzAZ53dEX/\n",
       "BrnphtSmdR8IFm1BiYYZ77kvXERXNuphdi84F2CEEz3kM9e+JBTxF8ATEV5yAAAAJgGeeWpF/wa+\n",
       "SDVWFAOaDtnbnv502FPRgA2JocHV8CUASZpgAYoVAAAAmkGafkmoQWyZTAhH//3hAD8E54l8He0j\n",
       "xpFu1fdYAWkororbbOeZl8VzRhREu2dWNrP6A2vWikseEYx3jbJHkb9i1ZWtVGc5QFeHgkr+2BIW\n",
       "ECfsiK3P32U4ogsl/RkOxaDSrSP7XnBixmLGmhsrAGirmd3tV5y1JGHaDSKeABndsdch7eSsNWCE\n",
       "IGOA1ee2rQnkZte1NEVQtrAAAAA3QZ6cRRUsbwVGQ80M+Y2BZmrMeNs08vQqbws9t1IVOGo6qwqO\n",
       "tRgeKtKFcN7sYD2cQylC9tigoQAAABYBnrt0Rf8Gueycw5iWBGUinmyCDVJ1AAAAHgGevWpF/wa+\n",
       "SDmiEUEazIQ+T5XhmBx7vyugBAqOoAAAAIBBmqJJqEFsmUwI3/pYAegg4T3au11ONk843IeQykJl\n",
       "HbfBKrZhKm7XmBc3Ws9PKCE4r4fNwLmjW6EXd4gmi7ACEAw/ulQiUQG74ve7+KqOs2yK+V2qjRwD\n",
       "4XMnnWMiihakoZywJJBiIXib7m8m7xJMHpKUwVYDAqEb917RdMKo4AAAAD1BnsBFFSxvBXsEK2j4\n",
       "bBIJiYIRMPraFFfjSglkaOA2I32+2rJuA9xiO33abhFtDeCu4ds5/AQsi/FdfRzBAAAAGwGe/3RF\n",
       "/wa56qkTtNztvtk+jmrnFkksAU4N6AAAACABnuFqRf8GvkcGu+dYFWYrMOmDeH3xa8ZSOgDxV6/H\n",
       "wQAAAEpBmuNJqEFsmUwIv/pYAO35odlzjQJc0nnO3EsF/hTDtQehk8mn1yeyaAEFiusjprzmMSaO\n",
       "/haGKCwLZ36qYEcT4JFOopVhlmi6/wAAB45tb292AAAAbG12aGQAAAAAAAAAAAAAAAAAAAPoAAAD\n",
       "6AABAAABAAAAAAAAAAAAAAAAAQAAAAAAAAAAAAAAAAAAAAEAAAAAAAAAAAAAAAAAAEAAAAAAAAAA\n",
       "AAAAAAAAAAAAAAAAAAAAAAAAAAAAAAACAAAGuHRyYWsAAABcdGtoZAAAAAMAAAAAAAAAAAAAAAEA\n",
       "AAAAAAAD6AAAAAAAAAAAAAAAAAAAAAAAAQAAAAAAAAAAAAAAAAAAAAEAAAAAAAAAAAAAAAAAAEAA\n",
       "AAABsAAAASAAAAAAACRlZHRzAAAAHGVsc3QAAAAAAAAAAQAAA+gAAAEAAAEAAAAABjBtZGlhAAAA\n",
       "IG1kaGQAAAAAAAAAAAAAAAAAADIAAAAyAFXEAAAAAAAtaGRscgAAAAAAAAAAdmlkZQAAAAAAAAAA\n",
       "AAAAAFZpZGVvSGFuZGxlcgAAAAXbbWluZgAAABR2bWhkAAAAAQAAAAAAAAAAAAAAJGRpbmYAAAAc\n",
       "ZHJlZgAAAAAAAAABAAAADHVybCAAAAABAAAFm3N0YmwAAACzc3RzZAAAAAAAAAABAAAAo2F2YzEA\n",
       "AAAAAAAAAQAAAAAAAAAAAAAAAAAAAAABsAEgAEgAAABIAAAAAAAAAAEAAAAAAAAAAAAAAAAAAAAA\n",
       "AAAAAAAAAAAAAAAAAAAAAAAY//8AAAAxYXZjQwFkAB//4QAYZ2QAH6zZQbCWhAAAAwAEAAADAyA8\n",
       "YMZYAQAGaOvjyyLAAAAAHHV1aWRraEDyXyRPxbo5pRvPAyPzAAAAAAAAABhzdHRzAAAAAAAAAAEA\n",
       "AABkAAAAgAAAABRzdHNzAAAAAAAAAAEAAAABAAAC4GN0dHMAAAAAAAAAWgAAAAEAAAEAAAAAAQAA\n",
       "AgAAAAACAAAAgAAAAAEAAAKAAAAAAQAAAQAAAAABAAAAAAAAAAEAAACAAAAAAQAAAgAAAAACAAAA\n",
       "gAAAAAEAAAIAAAAAAgAAAIAAAAABAAABgAAAAAEAAACAAAAAAQAAAoAAAAABAAABAAAAAAEAAAAA\n",
       "AAAAAQAAAIAAAAABAAACgAAAAAEAAAEAAAAAAQAAAAAAAAABAAAAgAAAAAEAAAKAAAAAAQAAAQAA\n",
       "AAABAAAAAAAAAAEAAACAAAAAAQAAAoAAAAABAAABAAAAAAEAAAAAAAAAAQAAAIAAAAABAAACgAAA\n",
       "AAEAAAEAAAAAAQAAAAAAAAABAAAAgAAAAAEAAAKAAAAAAQAAAQAAAAABAAAAAAAAAAEAAACAAAAA\n",
       "AQAAAoAAAAABAAABAAAAAAEAAAAAAAAAAQAAAIAAAAABAAACAAAAAAIAAACAAAAAAQAAAgAAAAAC\n",
       "AAAAgAAAAAEAAAIAAAAAAgAAAIAAAAABAAACAAAAAAIAAACAAAAAAQAAAgAAAAACAAAAgAAAAAEA\n",
       "AAIAAAAAAgAAAIAAAAABAAACAAAAAAIAAACAAAAAAQAAAoAAAAABAAABAAAAAAEAAAAAAAAAAQAA\n",
       "AIAAAAABAAACgAAAAAEAAAEAAAAAAQAAAAAAAAABAAAAgAAAAAEAAAGAAAAAAQAAAIAAAAABAAAC\n",
       "gAAAAAEAAAEAAAAAAQAAAAAAAAABAAAAgAAAAAEAAAKAAAAAAQAAAQAAAAABAAAAAAAAAAEAAACA\n",
       "AAAAAQAAAoAAAAABAAABAAAAAAEAAAAAAAAAAQAAAIAAAAABAAACgAAAAAEAAAEAAAAAAQAAAAAA\n",
       "AAABAAAAgAAAAAEAAAKAAAAAAQAAAQAAAAABAAAAAAAAAAEAAACAAAAAAQAAAoAAAAABAAABAAAA\n",
       "AAEAAAAAAAAAAQAAAIAAAAABAAABAAAAABxzdHNjAAAAAAAAAAEAAAABAAAAZAAAAAEAAAGkc3Rz\n",
       "egAAAAAAAAAAAAAAZAAAGRgAAAJfAAAAkAAAAH4AAAHjAAAAkQAAAHIAAABdAAABcQAAAG0AAABH\n",
       "AAABcwAAAGcAAABIAAABZQAAAEsAAAGxAAAAcgAAAEUAAABJAAABzgAAAFoAAAA8AAAAPgAAATUA\n",
       "AABcAAAAOwAAACwAAAELAAAAQwAAACkAAAAmAAABGwAAAD0AAAAhAAAAHQAAATcAAABYAAAAKQAA\n",
       "ADMAAAF2AAAAZgAAADoAAABGAAABaQAAAFQAAABBAAABkgAAAFgAAABLAAABngAAAG8AAABTAAAB\n",
       "lwAAAGoAAABaAAABoAAAAH4AAABcAAABsQAAAHsAAABSAAABiQAAAHgAAABWAAAB1QAAAKYAAABZ\n",
       "AAAAXAAAAboAAACJAAAAXQAAAFcAAAGEAAAATQAAAbEAAAB2AAAARAAAAFMAAAGWAAAAZQAAAEYA\n",
       "AABLAAABWwAAAFEAAAA+AAAANAAAANoAAABPAAAANwAAACoAAACeAAAAOwAAABoAAAAiAAAAhAAA\n",
       "AEEAAAAfAAAAJAAAAE4AAAAUc3RjbwAAAAAAAAABAAAALAAAAGJ1ZHRhAAAAWm1ldGEAAAAAAAAA\n",
       "IWhkbHIAAAAAAAAAAG1kaXJhcHBsAAAAAAAAAAAAAAAALWlsc3QAAAAlqXRvbwAAAB1kYXRhAAAA\n",
       "AQAAAABMYXZmNTguMjkuMTAw\n",
       "\">\n",
       "  Your browser does not support the video tag.\n",
       "</video>"
      ],
      "text/plain": [
       "<IPython.core.display.HTML object>"
      ]
     },
     "execution_count": 42,
     "metadata": {},
     "output_type": "execute_result"
    },
    {
     "data": {
      "image/png": "[encoded data removed]",
      "text/plain": [
       "<Figure size 432x288 with 1 Axes>"
      ]
     },
     "metadata": {
      "needs_background": "light"
     },
     "output_type": "display_data"
    }
   ],
   "source": [
    "fig = plt.figure()\n",
    "ax = plt.axes(xlim=(s.x[0], s.x[-1]), ylim=(-3.0, 3.0))\n",
    "line1, = ax.plot([], [], lw=2, c='m', label=\"driving potential\")\n",
    "line2, = ax.plot([], [], lw=2, c='k', label=\"density\")\n",
    "line3, = ax.plot([], [], lw=2, c='g', label=\"hartree potential\")\n",
    "def init():\n",
    "    line1.set_data([], [])\n",
    "    line2.set_data([], [])\n",
    "    line3.set_data([], [])\n",
    "    return line1, line2, line3\n",
    "def animate(i):\n",
    "    line1.set_data(s.x, s.v_ext[:] + v_ptrb[i,:])\n",
    "    line2.set_data(s.x, n[i,:])\n",
    "    line3.set_data(s.x, v_h[i,:])\n",
    "    return line1, line2, line3\n",
    "plt.legend()\n",
    "anim = FuncAnimation(fig, animate, init_func=init, frames=100, interval=10, blit=True)\n",
    "HTML(anim.to_html5_video())"
   ]
  },
  {
   "cell_type": "markdown",
   "id": "c59430f7-b6d8-4f7b-a8f7-06825e3725d3",
   "metadata": {},
   "source": [
    "## 6. Approximate Methods."
   ]
  },
  {
   "cell_type": "markdown",
   "id": "e2eee005-c9cd-40c6-b8a7-7e100de19c93",
   "metadata": {},
   "source": [
    "As well as the exact solution, we can also compute everything we have in the previous sections, but with common approximations. To see the current list of approximations (more are added each release!) we can use the `dir` function."
   ]
  },
  {
   "cell_type": "code",
   "execution_count": 43,
   "id": "23f80fdd-aaea-4830-8f18-841a576924c7",
   "metadata": {},
   "outputs": [
    {
     "data": {
      "text/plain": [
       "['Enum',\n",
       " 'Methods',\n",
       " '__builtins__',\n",
       " '__cached__',\n",
       " '__doc__',\n",
       " '__file__',\n",
       " '__loader__',\n",
       " '__name__',\n",
       " '__package__',\n",
       " '__path__',\n",
       " '__spec__',\n",
       " 'hartree',\n",
       " 'hartree_fock',\n",
       " 'hybrid',\n",
       " 'interacting',\n",
       " 'lda',\n",
       " 'non_interacting']"
      ]
     },
     "execution_count": 43,
     "metadata": {},
     "output_type": "execute_result"
    }
   ],
   "source": [
    "dir(iDEA.methods)"
   ]
  },
  {
   "cell_type": "markdown",
   "id": "ea833c6b-b8f5-4e75-9266-033e10d1ca0c",
   "metadata": {},
   "source": [
    "We can investigate a given method in a little more detail:"
   ]
  },
  {
   "cell_type": "code",
   "execution_count": 44,
   "id": "ff7dcf47-ccd0-4b37-bcaf-b79e679c66fd",
   "metadata": {},
   "outputs": [
    {
     "name": "stdout",
     "output_type": "stream",
     "text": [
      "Help on module iDEA.methods.hartree_fock in iDEA.methods:\n",
      "\n",
      "NAME\n",
      "    iDEA.methods.hartree_fock - Contains all Hartree Fock functionality and solvers.\n",
      "\n",
      "FUNCTIONS\n",
      "    exchange_potential_operator(s: iDEA.system.System, p: numpy.ndarray) -> numpy.ndarray\n",
      "        Compute the exchange potential operator.\n",
      "        \n",
      "        | Args:\n",
      "        |     s: iDEA.system.System, System object.\n",
      "        |     p: np.ndarray, Charge density matrix.\n",
      "        \n",
      "        | Returns:\n",
      "        |     Vx: np.ndarray, Exchange potential energy operator.\n",
      "    \n",
      "    hamiltonian(s: iDEA.system.System, up_n: numpy.ndarray, down_n: numpy.ndarray, up_p: numpy.ndarray, down_p: numpy.ndarray, K: numpy.ndarray = None, Vext: numpy.ndarray = None) -> numpy.ndarray\n",
      "        Compute the Hamiltonian from the kinetic and potential terms.\n",
      "        \n",
      "        | Args:\n",
      "        |     s: iDEA.system.System, System object.\n",
      "        |     up_n: np.ndarray, Charge density of up electrons.\n",
      "        |     down_n: np.ndarray, Charge density of down electrons.\n",
      "        |     up_p: np.ndarray, Charge density matrix of up electrons.\n",
      "        |     down_p: np.ndarray, Charge density matrix of down electrons.\n",
      "        |     K: np.ndarray, Single-particle kinetic energy operator [If None this will be computed from s]. (default = None)\n",
      "        |     Vext: np.ndarray, Potential energy operator [If None this will be computed from s]. (default = None)\n",
      "        \n",
      "        | Returns:\n",
      "        |     H: np.ndarray, Hamiltonian, up Hamiltonian, down Hamiltonian.\n",
      "    \n",
      "    propagate(s: iDEA.system.System, state: iDEA.state.SingleBodyState, v_ptrb: numpy.ndarray, t: numpy.ndarray, hamiltonian_function: collections.abc.Callable = None, restricted: bool = False) -> iDEA.state.SingleBodyEvolution\n",
      "        Propagate a set of orbitals forward in time due to a dynamic local pertubation.\n",
      "        \n",
      "        | Args:\n",
      "        |     s: iDEA.system.System, System object.\n",
      "        |     state: iDEA.state.SingleBodyState, State to be propigated.\n",
      "        |     v_ptrb: np.ndarray, Local perturbing potential on the grid of t and x values, indexed as v_ptrb[time,space].\n",
      "        |     t: np.ndarray, Grid of time values.\n",
      "        |     hamiltonian_function: Callable, Hamiltonian function [If None this will be the non_interacting function]. (default = None)\n",
      "        |     restricted: bool, Is the calculation restricted (r) on unrestricted (u). (default=False)\n",
      "        \n",
      "        | Returns:\n",
      "        |     evolution: iDEA.state.SingleBodyEvolution, Solved time-dependent evolution.\n",
      "    \n",
      "    solve(s: iDEA.system.System, k: int = 0, restricted: bool = False, mixing: float = 0.5, tol: float = 1e-10, initial: tuple = None, silent: bool = False) -> iDEA.state.SingleBodyState\n",
      "        Solves the Schrodinger equation for the given system.\n",
      "        \n",
      "        | Args:\n",
      "        |     s: iDEA.system.System, System object.\n",
      "        |     k: int, Energy state to solve for. (default = 0, the ground-state)\n",
      "        |     restricted: bool, Is the calculation restricted (r) on unrestricted (u). (default=False)\n",
      "        |     mixing: float, Mixing parameter. (default = 0.5)\n",
      "        |     tol: float, Tollerance of convergence. (default = 1e-10)\n",
      "        |     initial: tuple. Tuple of initial values used to begin the self-consistency (n, up_n, down_n, p, up_p, down_p). (default = None)\n",
      "        |     silent: bool, Set to true to prevent printing. (default = False)\n",
      "        \n",
      "        | Returns:\n",
      "        |     state: iDEA.state.SingleBodyState, Solved state.\n",
      "    \n",
      "    total_energy(s: iDEA.system.System, state: iDEA.state.SingleBodyState) -> float\n",
      "        Compute the total energy.\n",
      "        \n",
      "        | Args:\n",
      "        |     s: iDEA.system.System, System object.\n",
      "        |     state: iDEA.state.SingleBodyState, State. (default = None)\n",
      "        \n",
      "        | Returns:\n",
      "        |     E: float, Total energy.\n",
      "\n",
      "DATA\n",
      "    name = 'hartree_fock'\n",
      "\n",
      "FILE\n",
      "    /home/mjph501/.local/lib/python3.8/site-packages/iDEA/methods/hartree_fock.py\n",
      "\n",
      "\n"
     ]
    }
   ],
   "source": [
    "help(iDEA.methods.hartree_fock)"
   ]
  },
  {
   "cell_type": "markdown",
   "id": "a6196509-990e-45e9-9afb-43ff1df2ad74",
   "metadata": {},
   "source": [
    "We can solve our system using **LDA** and compare this to our exact result:"
   ]
  },
  {
   "cell_type": "code",
   "execution_count": 45,
   "id": "822036cb-3652-4114-b5d7-908faead067c",
   "metadata": {},
   "outputs": [
    {
     "name": "stdout",
     "output_type": "stream",
     "text": [
      "iDEA.methods.lda.solve: convergence = 6.9313e-11, tolerance = 1e-10\n"
     ]
    }
   ],
   "source": [
    "ground_state_lda = iDEA.methods.lda.solve(s, k=0)"
   ]
  },
  {
   "cell_type": "code",
   "execution_count": 46,
   "id": "5a5856da-d1c7-4a59-8ce4-a9c7649439cb",
   "metadata": {},
   "outputs": [],
   "source": [
    "n_exact = iDEA.observables.density(s, state=ground_state)"
   ]
  },
  {
   "cell_type": "code",
   "execution_count": 47,
   "id": "831de8bb-cfcc-49e9-8a3f-11d3849d1aa8",
   "metadata": {},
   "outputs": [],
   "source": [
    "n_lda = iDEA.observables.density(s, state=ground_state_lda)"
   ]
  },
  {
   "cell_type": "code",
   "execution_count": 48,
   "id": "7b5043c4-7c22-4100-b2f7-0a250336dd62",
   "metadata": {},
   "outputs": [
    {
     "data": {
      "image/png": "[encoded data removed]",
      "text/plain": [
       "<Figure size 432x288 with 1 Axes>"
      ]
     },
     "metadata": {
      "needs_background": "light"
     },
     "output_type": "display_data"
    }
   ],
   "source": [
    "plt.plot(s.x, n_exact, \"k-\", label=\"density (exact)\")\n",
    "plt.plot(s.x, n_lda, \"r--\", label=\"density (LDA)\")\n",
    "plt.legend()\n",
    "plt.show()"
   ]
  },
  {
   "cell_type": "markdown",
   "id": "7fc503e8-10c0-4f81-a107-a2eb49ae86f0",
   "metadata": {},
   "source": [
    "`iDEA` makes it easy to compare many different approximations. For example, **we can compare the first-excited state charge density, for the two electron (ud) QHO for all of the methods using the following simple code:**"
   ]
  },
  {
   "cell_type": "code",
   "execution_count": 49,
   "id": "279f6731-5ea0-49a3-a03c-72bf21e2b378",
   "metadata": {},
   "outputs": [
    {
     "name": "stdout",
     "output_type": "stream",
     "text": [
      "iDEA.methods.interacting.solve: solving eigenproblem...\n",
      "iDEA.methods.non_interacting.solve: convergence = 9.0251e-12, tolerance = 1e-06\n",
      "iDEA.methods.hartree.solve: convergence = 7.6079e-07, tolerance = 1e-06\n",
      "iDEA.methods.hartree_fock.solve: convergence = 7.9506e-07, tolerance = 1e-06\n",
      "iDEA.methods.lda.solve: convergence = 9.5944e-07, tolerance = 1e-06\n",
      "iDEA.methods.hybrid.solve: convergence = 8.8926e-07, tolerance = 1e-06\n"
     ]
    },
    {
     "data": {
      "image/png": "[encoded data removed]",
      "text/plain": [
       "<Figure size 432x288 with 1 Axes>"
      ]
     },
     "metadata": {
      "needs_background": "light"
     },
     "output_type": "display_data"
    }
   ],
   "source": [
    "x = np.linspace(-15, 15, 200)\n",
    "v_ext = 0.5 * 0.25**2 * x**2\n",
    "v_int = iDEA.interactions.softened_interaction(x)\n",
    "s = iDEA.system.System(x, v_ext, v_int, electrons='ud')\n",
    "\n",
    "\n",
    "state_exact = iDEA.methods.interacting.solve(s, k=1)\n",
    "n_exact = iDEA.observables.density(s, state_exact)\n",
    "plt.plot(s.x, n_exact, label=\"exact\")\n",
    "\n",
    "for method in iDEA.iterate_sb_methods:\n",
    "    state = method.solve(s, k=1, tol=1e-6)\n",
    "    n = iDEA.observables.density(s, state)\n",
    "    plt.plot(s.x, n, label=method.name)\n",
    "plt.title(\"Comparing different approximations\")\n",
    "plt.legend()\n",
    "plt.show()"
   ]
  },
  {
   "cell_type": "markdown",
   "id": "ceaccf84-033b-460d-ac08-210e9a58d32a",
   "metadata": {},
   "source": [
    "## 7. Reverse Engineering."
   ]
  },
  {
   "cell_type": "markdown",
   "id": "1ccfddcd-d694-4f30-8b57-11bf5efca6eb",
   "metadata": {},
   "source": [
    "`iDEA` also gives you the ability to reverse-engineer charge densities. **This tells you what fictitious system would need to be solved using a given method, to reproduce a target density.**\n",
    "\n",
    "The reverse function provides this functionality:"
   ]
  },
  {
   "cell_type": "code",
   "execution_count": 50,
   "id": "8c5a818c-faa8-4771-8cf4-72a0f4d2da2b",
   "metadata": {},
   "outputs": [
    {
     "name": "stdout",
     "output_type": "stream",
     "text": [
      "Help on function reverse in module iDEA.reverse_engineering:\n",
      "\n",
      "reverse(s: iDEA.system.System, target_n: numpy.ndarray, method: collections.abc.Container, v_guess: numpy.ndarray = None, mu: float = 1.0, pe: float = 0.1, tol: float = 1e-12, silent: bool = False, **kwargs) -> iDEA.state.State\n",
      "    Determines what ficticious system is needed for a given method, when solving the system, to produce a given target density.\n",
      "    If the given target density is from solving the interacting electron problem (iDEA.methods.interacting), and the method is the non-interacting electron solver (iDEA.methods.non_interacting)\n",
      "    the output is the Kohn-Sham system.\n",
      "    \n",
      "    The iterative method used is defined by the following formula:\n",
      "    .. math:: \\mathrm{V}_\\mathrm{ext} \\rightarrow \\mu * (\\mathrm{n}^p - \\mathrm{target_n}^p)\n",
      "    \n",
      "    | Args:\n",
      "    |     s: iDEA.system.System, System object.\n",
      "    |     target_n: np.ndarray, Target density to reverse engineer.\n",
      "    |     method: Container, The method used to solve the system.\n",
      "    |     v_guess: np.ndarray, The initial guess of the fictitious potential. (default = None)\n",
      "    |     mu: float = 1.0, Reverse engineering parameter mu. (default = 1.0)\n",
      "    |     pe: float = 0.1, Reverse engineering parameter p. (default = 0.1)\n",
      "    |     tol: float, Tollerance of convergence. (default = 1e-12)\n",
      "    |     silent: bool, Set to true to prevent printing. (default = False)\n",
      "    |     kwargs: Other arguments that will be given to the method's solve function.\n",
      "    \n",
      "    | Returns:\n",
      "    |     s_fictitious: iDEA.system.System, fictitious system object.\n",
      "\n"
     ]
    }
   ],
   "source": [
    "help(iDEA.reverse_engineering.reverse)"
   ]
  },
  {
   "cell_type": "markdown",
   "id": "d6eade5e-4063-4f32-8df0-1cd527930602",
   "metadata": {},
   "source": [
    "This is a general method, but can be used to perform many common tasks in condensed matter physics."
   ]
  },
  {
   "cell_type": "markdown",
   "id": "dc77c517-c358-465f-b125-e8e926482f3d",
   "metadata": {},
   "source": [
    "For example, we can determine the exact Kohn-Sham (KS) and exchange-correlation (xc) potential of a system, by asking: **What fictitious system, when solved with the non-interacting method, gives us the same density as that solved by the interacting method.** The external potential of this fictitious system is none other than the exact KS potential, from which the exact xc potential can be found:"
   ]
  },
  {
   "cell_type": "code",
   "execution_count": 51,
   "id": "f2b25329-3650-440e-b7b6-628058ff978a",
   "metadata": {},
   "outputs": [
    {
     "name": "stdout",
     "output_type": "stream",
     "text": [
      "iDEA.methods.interacting.solve: solving eigenproblem...\n",
      "iDEA.reverse_engineering.reverse: convergence = 1.0135e-12, tolerance = 1e-12\n",
      "iDEA.methods.non_interacting.solve: convergence = 6.8035e-12, tolerance = 1e-10\n"
     ]
    },
    {
     "data": {
      "image/png": "[encoded data removed]",
      "text/plain": [
       "<Figure size 432x288 with 1 Axes>"
      ]
     },
     "metadata": {
      "needs_background": "light"
     },
     "output_type": "display_data"
    }
   ],
   "source": [
    "x = np.linspace(-15, 15, 200)\n",
    "v_ext = 0.5 * 0.25**2 * x**2\n",
    "v_int = iDEA.interactions.softened_interaction(x)\n",
    "s = iDEA.system.System(x, v_ext, v_int, electrons='uu')\n",
    "\n",
    "\n",
    "state = iDEA.methods.interacting.solve(s, k=0)\n",
    "n = iDEA.observables.density(s, state)\n",
    "\n",
    "\n",
    "s_fictitious = iDEA.reverse_engineering.reverse(s, target_n=n, method=iDEA.methods.non_interacting)\n",
    "state_fictitious = iDEA.methods.non_interacting.solve(s_fictitious, k=0)\n",
    "\n",
    "\n",
    "v_ks = s_fictitious.v_ext\n",
    "n_fictitious = iDEA.observables.density(s, state_fictitious)\n",
    "v_h = iDEA.observables.hartree_potential(s_fictitious, n_fictitious)\n",
    "v_xc = v_ks - s.v_ext - v_h\n",
    "\n",
    "\n",
    "plt.plot(s_fictitious.x, s.v_ext, 'm-', label=\"V_ext\")\n",
    "plt.plot(s_fictitious.x, v_ks, 'r-', label=\"V_ks\")\n",
    "plt.plot(s_fictitious.x, v_h, 'g-', label=\"V_h\")\n",
    "plt.plot(s_fictitious.x, v_xc, 'c-', label=\"V_xc\")\n",
    "plt.legend()\n",
    "plt.ylim([-1.5, 2.0])\n",
    "plt.show()"
   ]
  },
  {
   "cell_type": "markdown",
   "id": "b14f21a8-83e2-48fe-8e76-7a20552ce305",
   "metadata": {},
   "source": [
    "Reverse-engineering can also be used to determine what time-dependent potential is needed in a fictitious evolution, in order to recover a given target density. A full example of this is shown below:"
   ]
  },
  {
   "cell_type": "code",
   "execution_count": 4,
   "id": "b62d3572-305c-4e7c-ba97-bdd33b649490",
   "metadata": {},
   "outputs": [
    {
     "name": "stdout",
     "output_type": "stream",
     "text": [
      "iDEA.methods.interacting.solve: solving eigenproblem...\n",
      "iDEA.reverse_engineering.reverse: convergence = 1.0093e-12, tolerance = 1e-12\n",
      "iDEA.methods.non_interacting.solve: convergence = 2.7436e-11, tolerance = 1e-10\n"
     ]
    },
    {
     "name": "stderr",
     "output_type": "stream",
     "text": [
      "iDEA.methods.interacting.propagate: propagating state: 100%|██████████████████████████████████████████████████████████████████████████| 100/100 [00:01<00:00, 58.52it/s]\n"
     ]
    },
    {
     "ename": "AttributeError",
     "evalue": "module 'numpy' has no attribute 'complex'.\n`np.complex` was a deprecated alias for the builtin `complex`. To avoid this error in existing code, use `complex` by itself. Doing this will not modify any behavior and is safe. If you specifically wanted the numpy scalar type, use `np.complex128` here.\nThe aliases was originally deprecated in NumPy 1.20; for more details and guidance see the original release note at:\n    https://numpy.org/devdocs/release/1.20.0-notes.html#deprecations",
     "output_type": "error",
     "traceback": [
      "\u001b[0;31m---------------------------------------------------------------------------\u001b[0m",
      "\u001b[0;31mAttributeError\u001b[0m                            Traceback (most recent call last)",
      "Input \u001b[0;32mIn [4]\u001b[0m, in \u001b[0;36m<cell line: 24>\u001b[0;34m()\u001b[0m\n\u001b[1;32m     22\u001b[0m evolution \u001b[38;5;241m=\u001b[39m iDEA\u001b[38;5;241m.\u001b[39mmethods\u001b[38;5;241m.\u001b[39minteracting\u001b[38;5;241m.\u001b[39mpropagate(s, state, v_ptrb, t)\n\u001b[1;32m     23\u001b[0m target_n \u001b[38;5;241m=\u001b[39m iDEA\u001b[38;5;241m.\u001b[39mobservables\u001b[38;5;241m.\u001b[39mdensity(s, evolution\u001b[38;5;241m=\u001b[39mevolution)\n\u001b[0;32m---> 24\u001b[0m evolution_fictitious, error \u001b[38;5;241m=\u001b[39m \u001b[43miDEA\u001b[49m\u001b[38;5;241;43m.\u001b[39;49m\u001b[43mreverse_engineering\u001b[49m\u001b[38;5;241;43m.\u001b[39;49m\u001b[43mreverse_propagation\u001b[49m\u001b[43m(\u001b[49m\u001b[43ms_fictitious\u001b[49m\u001b[43m,\u001b[49m\u001b[43m \u001b[49m\u001b[43mstate_fictitious\u001b[49m\u001b[43m,\u001b[49m\u001b[43m \u001b[49m\u001b[43mtarget_n\u001b[49m\u001b[43m,\u001b[49m\u001b[43m \u001b[49m\u001b[43miDEA\u001b[49m\u001b[38;5;241;43m.\u001b[39;49m\u001b[43mmethods\u001b[49m\u001b[38;5;241;43m.\u001b[39;49m\u001b[43mnon_interacting\u001b[49m\u001b[43m,\u001b[49m\u001b[43m \u001b[49m\u001b[43mv_ptrb\u001b[49m\u001b[43m,\u001b[49m\u001b[43m \u001b[49m\u001b[43mt\u001b[49m\u001b[43m)\u001b[49m\n\u001b[1;32m     25\u001b[0m evolution_fictitious \u001b[38;5;241m=\u001b[39m iDEA\u001b[38;5;241m.\u001b[39mmethods\u001b[38;5;241m.\u001b[39mnon_interacting\u001b[38;5;241m.\u001b[39mpropagate(s_fictitious, state_fictitious, evolution_fictitious\u001b[38;5;241m.\u001b[39mv_ptrb, t)\n\u001b[1;32m     28\u001b[0m \u001b[38;5;28;01mfor\u001b[39;00m ti \u001b[38;5;129;01min\u001b[39;00m \u001b[38;5;28mrange\u001b[39m( \u001b[38;5;28mlen\u001b[39m(t) ):\n",
      "File \u001b[0;32m~/.local/lib/python3.8/site-packages/iDEA/reverse_engineering.py:198\u001b[0m, in \u001b[0;36mreverse_propagation\u001b[0;34m(s_fictitious, state_fictitious, target_n, method, v_ptrb, t, restricted, tol, **kwargs)\u001b[0m\n\u001b[1;32m    190\u001b[0m \u001b[38;5;66;03m# Initilise the single-body time-dependent evolution.\u001b[39;00m\n\u001b[1;32m    191\u001b[0m evolution_fictitious \u001b[38;5;241m=\u001b[39m iDEA\u001b[38;5;241m.\u001b[39mstate\u001b[38;5;241m.\u001b[39mSingleBodyEvolution(state_fictitious)\n\u001b[1;32m    192\u001b[0m evolution_fictitious\u001b[38;5;241m.\u001b[39mup\u001b[38;5;241m.\u001b[39mtd_orbitals \u001b[38;5;241m=\u001b[39m np\u001b[38;5;241m.\u001b[39mzeros(\n\u001b[1;32m    193\u001b[0m     shape\u001b[38;5;241m=\u001b[39m(\n\u001b[1;32m    194\u001b[0m         t\u001b[38;5;241m.\u001b[39mshape[\u001b[38;5;241m0\u001b[39m],\n\u001b[1;32m    195\u001b[0m         s_fictitious\u001b[38;5;241m.\u001b[39mx\u001b[38;5;241m.\u001b[39mshape[\u001b[38;5;241m0\u001b[39m],\n\u001b[1;32m    196\u001b[0m         state_fictitious\u001b[38;5;241m.\u001b[39mup\u001b[38;5;241m.\u001b[39moccupied\u001b[38;5;241m.\u001b[39mshape[\u001b[38;5;241m0\u001b[39m],\n\u001b[1;32m    197\u001b[0m     ),\n\u001b[0;32m--> 198\u001b[0m     dtype\u001b[38;5;241m=\u001b[39m\u001b[43mnp\u001b[49m\u001b[38;5;241;43m.\u001b[39;49m\u001b[43mcomplex\u001b[49m,\n\u001b[1;32m    199\u001b[0m )\n\u001b[1;32m    200\u001b[0m evolution_fictitious\u001b[38;5;241m.\u001b[39mdown\u001b[38;5;241m.\u001b[39mtd_orbitals \u001b[38;5;241m=\u001b[39m np\u001b[38;5;241m.\u001b[39mzeros(\n\u001b[1;32m    201\u001b[0m     shape\u001b[38;5;241m=\u001b[39m(\n\u001b[1;32m    202\u001b[0m         t\u001b[38;5;241m.\u001b[39mshape[\u001b[38;5;241m0\u001b[39m],\n\u001b[0;32m   (...)\u001b[0m\n\u001b[1;32m    206\u001b[0m     dtype\u001b[38;5;241m=\u001b[39mnp\u001b[38;5;241m.\u001b[39mcomplex,\n\u001b[1;32m    207\u001b[0m )\n\u001b[1;32m    208\u001b[0m evolution_fictitious\u001b[38;5;241m.\u001b[39mup\u001b[38;5;241m.\u001b[39mtd_orbitals[\u001b[38;5;241m0\u001b[39m, :, :] \u001b[38;5;241m=\u001b[39m state_fictitious\u001b[38;5;241m.\u001b[39mup\u001b[38;5;241m.\u001b[39morbitals[\n\u001b[1;32m    209\u001b[0m     :, state_fictitious\u001b[38;5;241m.\u001b[39mup\u001b[38;5;241m.\u001b[39moccupied\n\u001b[1;32m    210\u001b[0m ]\n",
      "File \u001b[0;32m~/.local/lib/python3.8/site-packages/numpy/__init__.py:305\u001b[0m, in \u001b[0;36m__getattr__\u001b[0;34m(attr)\u001b[0m\n\u001b[1;32m    300\u001b[0m     warnings\u001b[38;5;241m.\u001b[39mwarn(\n\u001b[1;32m    301\u001b[0m         \u001b[38;5;124mf\u001b[39m\u001b[38;5;124m\"\u001b[39m\u001b[38;5;124mIn the future `np.\u001b[39m\u001b[38;5;132;01m{\u001b[39;00mattr\u001b[38;5;132;01m}\u001b[39;00m\u001b[38;5;124m` will be defined as the \u001b[39m\u001b[38;5;124m\"\u001b[39m\n\u001b[1;32m    302\u001b[0m         \u001b[38;5;124m\"\u001b[39m\u001b[38;5;124mcorresponding NumPy scalar.\u001b[39m\u001b[38;5;124m\"\u001b[39m, \u001b[38;5;167;01mFutureWarning\u001b[39;00m, stacklevel\u001b[38;5;241m=\u001b[39m\u001b[38;5;241m2\u001b[39m)\n\u001b[1;32m    304\u001b[0m \u001b[38;5;28;01mif\u001b[39;00m attr \u001b[38;5;129;01min\u001b[39;00m __former_attrs__:\n\u001b[0;32m--> 305\u001b[0m     \u001b[38;5;28;01mraise\u001b[39;00m \u001b[38;5;167;01mAttributeError\u001b[39;00m(__former_attrs__[attr])\n\u001b[1;32m    307\u001b[0m \u001b[38;5;66;03m# Importing Tester requires importing all of UnitTest which is not a\u001b[39;00m\n\u001b[1;32m    308\u001b[0m \u001b[38;5;66;03m# cheap import Since it is mainly used in test suits, we lazy import it\u001b[39;00m\n\u001b[1;32m    309\u001b[0m \u001b[38;5;66;03m# here to save on the order of 10 ms of import time for most users\u001b[39;00m\n\u001b[1;32m    310\u001b[0m \u001b[38;5;66;03m#\u001b[39;00m\n\u001b[1;32m    311\u001b[0m \u001b[38;5;66;03m# The previous way Tester was imported also had a side effect of adding\u001b[39;00m\n\u001b[1;32m    312\u001b[0m \u001b[38;5;66;03m# the full `numpy.testing` namespace\u001b[39;00m\n\u001b[1;32m    313\u001b[0m \u001b[38;5;28;01mif\u001b[39;00m attr \u001b[38;5;241m==\u001b[39m \u001b[38;5;124m'\u001b[39m\u001b[38;5;124mtesting\u001b[39m\u001b[38;5;124m'\u001b[39m:\n",
      "\u001b[0;31mAttributeError\u001b[0m: module 'numpy' has no attribute 'complex'.\n`np.complex` was a deprecated alias for the builtin `complex`. To avoid this error in existing code, use `complex` by itself. Doing this will not modify any behavior and is safe. If you specifically wanted the numpy scalar type, use `np.complex128` here.\nThe aliases was originally deprecated in NumPy 1.20; for more details and guidance see the original release note at:\n    https://numpy.org/devdocs/release/1.20.0-notes.html#deprecations"
     ]
    }
   ],
   "source": [
    "import scipy.special as spspec\n",
    "\n",
    "x = np.linspace(-10, 10, 100)\n",
    "v_ext = -2.0 / (abs(x) + 1.0)\n",
    "v_int = iDEA.interactions.softened_interaction(x)\n",
    "electrons = 'uu'\n",
    "s = iDEA.system.System(x, v_ext, v_int, electrons)\n",
    "\n",
    "\n",
    "t = np.linspace(0, 10, 100)\n",
    "v_ptrb = np.zeros(shape=t.shape+x.shape)\n",
    "for j, ti in enumerate(t):\n",
    "    v_ptrb[j,:] = -0.1 * x * 0.5*(spspec.erf(ti - 2.0) + 1.0)\n",
    "\n",
    "\n",
    "state = iDEA.methods.interacting.solve(s, k=0)\n",
    "target_n = iDEA.observables.density(s, state=state)\n",
    "s_fictitious = iDEA.reverse_engineering.reverse(s, target_n, method=iDEA.methods.non_interacting)\n",
    "state_fictitious = iDEA.methods.non_interacting.solve(s_fictitious)\n",
    "\n",
    "\n",
    "evolution = iDEA.methods.interacting.propagate(s, state, v_ptrb, t)\n",
    "target_n = iDEA.observables.density(s, evolution=evolution)\n",
    "evolution_fictitious, error = iDEA.reverse_engineering.reverse_propagation(s_fictitious, state_fictitious, target_n, iDEA.methods.non_interacting, v_ptrb, t)\n",
    "evolution_fictitious = iDEA.methods.non_interacting.propagate(s_fictitious, state_fictitious, evolution_fictitious.v_ptrb, t)\n",
    "\n",
    "\n",
    "for ti in range( len(t) ):\n",
    "    evolution_fictitious.v_ptrb[ti,:] -= evolution_fictitious.v_ptrb[ti,int(0.5*len(x))]\n",
    "\n",
    "\n",
    "n = iDEA.observables.density(s, evolution=evolution_fictitious)\n",
    "v_ext = iDEA.observables.external_potential(s)\n",
    "v_h = iDEA.observables.hartree_potential(s, n)\n",
    "\n",
    "\n",
    "fig = plt.figure()\n",
    "ax = plt.axes(xlim=(s.x[0], s.x[-1]), ylim=(-3.0, 3.0))\n",
    "line1, = ax.plot([], [], lw=2, c=\"k\", label=\"target density\")\n",
    "line2, = ax.plot([], [], lw=2, c=\"r\", ls=\"--\", label=\"fictitious density\")\n",
    "line3, = ax.plot([], [], lw=2, c=\"c\", label=\"exact KS potential\")\n",
    "line4, = ax.plot([], [], lw=2, c=\"g\", ls=\"--\", label=\"driving potential\")\n",
    "def init():\n",
    "    line1.set_data([], [])\n",
    "    line2.set_data([], [])\n",
    "    line3.set_data([], [])\n",
    "    line4.set_data([], [])\n",
    "    return line1, line2, line3, line4\n",
    "def animate(i):\n",
    "    line1.set_data(s.x, n[i,:])\n",
    "    line2.set_data(s.x, target_n[i,:])\n",
    "    line3.set_data(s.x, evolution_fictitious.v_ptrb[i,:])\n",
    "    line4.set_data(s.x, v_ptrb[i,:])\n",
    "    return line1, line2, line3, line4\n",
    "plt.legend()\n",
    "anim = FuncAnimation(fig, animate, init_func=init, frames=100, interval=10, blit=True)\n",
    "HTML(anim.to_html5_video())"
   ]
  },
  {
   "cell_type": "markdown",
   "id": "c20e85eb-b5b6-4729-be53-120d23884b8e",
   "metadata": {},
   "source": [
    "## 8. A full example: Investigating 1D hydrogen molecule."
   ]
  },
  {
   "cell_type": "markdown",
   "id": "fe903879-7d35-4bf7-ad91-f2f9eff13f08",
   "metadata": {},
   "source": [
    "Now you know all the basics of using iDEA to investigate and simulate quantum systems, here we will show you a \"real-world\" example.\n",
    "\n",
    "**In the following section of code, we will compute the exact bonding curve of the 1D hydrogen molecule, and compare it to a conventional figure.**"
   ]
  },
  {
   "cell_type": "code",
   "execution_count": null,
   "id": "eb87a7b5-9ab8-4418-bba5-84e61bdbb51a",
   "metadata": {},
   "outputs": [],
   "source": [
    "# Build the base system.\n",
    "x = np.linspace(-10, 10, 200)\n",
    "v_ext = np.zeros_like(x) \n",
    "v_int = iDEA.interactions.softened_interaction(x)\n",
    "electrons = 'ud'\n",
    "s = iDEA.system.System(x, v_ext, v_int, electrons)\n",
    "\n",
    "\n",
    "# Function to build the hydrogen molecule at each given distance d.\n",
    "d = 8.0\n",
    "def v(x):\n",
    "    return -1.0/(np.abs(x + 0.5*d) + 1.0) -1.0/(np.abs(x - 0.5*d) + 1.0)\n",
    "\n",
    "\n",
    "# Define range of bond distances.\n",
    "distances = np.linspace(0.0, 8.0, 50)\n",
    "energies = np.zeros_like(distances)\n",
    "\n",
    "\n",
    "# Compute exact electron energy at each distance.\n",
    "for i in range(distances.shape[0]):\n",
    "    d = distances[i]\n",
    "    print('distance = {0}'.format(d))\n",
    "    s.v_ext = np.copy(v(x))                     \n",
    "    state = iDEA.methods.interacting.solve(s)\n",
    "    energies[i] = state.energy\n",
    "\n",
    "\n",
    "# Add the proton energy.\n",
    "E_proton = 1.0 / (np.abs(distances) + 1.0)\n",
    "energies += E_proton\n",
    "\n",
    "\n",
    "# Plot energy curve.\n",
    "plt.axhline(y=-1.0, xmin=0.0, xmax=8.2, linewidth=1, color='k')\n",
    "plt.plot(distances, energies, linestyle='-', color='k', linewidth=2)\n",
    "plt.xlabel('distance (a.u.)', size=25)\n",
    "plt.ylabel('E (a.u.)', size=25)\n",
    "plt.tick_params(top='on', right='on')\n",
    "plt.tick_params(direction='in')\n",
    "plt.gcf().subplots_adjust(left=0.18)\n",
    "plt.gcf().subplots_adjust(bottom=0.18)\n",
    "plt.plot()"
   ]
  },
  {
   "cell_type": "markdown",
   "id": "96048e21-a1e9-4554-a02f-d34fcb036204",
   "metadata": {},
   "source": [
    "We can see this follows the expected curve:\n",
    "\n",
    "![Curve](diagram.png)"
   ]
  },
  {
   "cell_type": "markdown",
   "id": "4ff78ef0-fc02-4ea9-b8f2-8b87235bd12a",
   "metadata": {},
   "source": [
    "Now we recommend, using the tools we have walked through in this tutorial, you gain more experience with the iDEA code by trying to solve some of these more advanced open-ended problems:\n",
    "\n",
    "1. What does the bonding curve from part 8 look like if the electrons have the same spin?\n",
    "2. What is the exact xc potential for the three electron 1D lithium atom.\n",
    "3. Which approximation yields the most accurate density matrix for the QHO.\n",
    "4. What kind of field is needed to ionise an electron out of an atom in real time?\n",
    "5. Can you modify the occupations of a Hartree-Fock calculation, to yield the exact density?"
   ]
  }
 ],
 "metadata": {
  "kernelspec": {
   "display_name": "Python 3 (ipykernel)",
   "language": "python",
   "name": "python3"
  },
  "language_info": {
   "codemirror_mode": {
    "name": "ipython",
    "version": 3
   },
   "file_extension": ".py",
   "mimetype": "text/x-python",
   "name": "python",
   "nbconvert_exporter": "python",
   "pygments_lexer": "ipython3",
   "version": "3.8.10"
  }
 },
 "nbformat": 4,
 "nbformat_minor": 5
}

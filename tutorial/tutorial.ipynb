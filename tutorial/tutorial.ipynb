{
 "cells": [
  {
   "cell_type": "markdown",
   "id": "4fd05420-d58c-4cf9-abf4-5823d5ce66e8",
   "metadata": {},
   "source": [
    "# A Tutorial for iDEA - interacting Dynamic Electrons Approach "
   ]
  },
  {
   "cell_type": "markdown",
   "id": "0b7e5122-0f94-4090-ad4f-0ad7eec2093b",
   "metadata": {},
   "source": [
    "In this tutorial we will introduce you to the main functionality of iDEA. For more details, please see the full [API documentation](https://idea-interacting-dynamic-electrons-approach.readthedocs.io/en/latest/).\n",
    "\n",
    "iDEA allows you to describe quantum mechanical systems in one dimension, and solve them for the required quantum state, from which you can calculate observables. The method to solve the system can be both exact, or a variety of common and novel approximate methods. These states can then be propagated due to perturbations, and such evolutions can be investigated. This allows you to both gain key insights from the exact solution, and by investigating failings of existing methods, investigate why such failings occur, and how to create new more accurate methods. In addition, iDEA can be used to create interactive visualisations of concepts from quantum mechanics and condensed matter physics, to create engaging teaching material. Also, the iDEA code, and its minimal dependencies are composed of fully free software and are highly optimised, and so can allow researchers to release notebooks with their papers, ensuring papers can be reproduces at the touch of a button. This also increases the extent to which readers can engage with your results. \n",
    "\n",
    "This tutorial will follow the following outline:\n",
    "1. The \"Hello World\" of iDEA.\n",
    "2. Describing Quantum Systems.\n",
    "3. Solving Systems Exactly.\n",
    "4. Computing Observables.\n",
    "5. Perturbations and Time-Dependence.\n",
    "6. Approximate Methods.\n",
    "7. Reverse Engineering.\n",
    "8. A full example: Investigating the 1D hydrogen molecule."
   ]
  },
  {
   "cell_type": "markdown",
   "id": "ce5959e8-1f24-4fc3-ad68-315228f1fcae",
   "metadata": {},
   "source": [
    "To install iDEA, simply use pip: `pip install iDEA-latest`.\n",
    "\n",
    "Now we can import our dependencies for this tutorial:"
   ]
  },
  {
   "cell_type": "code",
   "execution_count": 1,
   "id": "79cb4524-80ea-4806-b35a-ed4c33cfbe50",
   "metadata": {},
   "outputs": [],
   "source": [
    "import numpy as np\n",
    "import matplotlib.pyplot as plt\n",
    "import iDEA"
   ]
  },
  {
   "cell_type": "markdown",
   "id": "7a290dd8-4d7c-4e1d-9e63-5e6bc934b772",
   "metadata": {},
   "source": [
    "## 1. The \"Hello World\" of iDEA."
   ]
  },
  {
   "cell_type": "markdown",
   "id": "963e8230-e547-46d3-8b1b-2cbd628045a5",
   "metadata": {},
   "source": [
    "When learning a new tool, it is always useful to try the simplest possible example.\n",
    "\n",
    "In this case, we will use iDEA to determine **the ground-state charge density of the 2 electron atom in one-dimension.**\n",
    "\n",
    "Firstly, iDEA has this as a built-in pre-defined system. Let us take this, and print it:"
   ]
  },
  {
   "cell_type": "code",
   "execution_count": 2,
   "id": "46cf62ad-ef5a-4123-843e-846e2f97bb30",
   "metadata": {},
   "outputs": [
    {
     "name": "stdout",
     "output_type": "stream",
     "text": [
      "iDEA.system.System: x = np.array([-20.000,...,20.000]), dx = 0.1338..., v_ext = np.array([-0.095,...,-0.095]), electrons = ud\n"
     ]
    }
   ],
   "source": [
    "atom = iDEA.system.systems.atom\n",
    "print(atom)"
   ]
  },
  {
   "cell_type": "markdown",
   "id": "ba561b4b-2527-4b9b-8dbb-9cd3426b93bb",
   "metadata": {},
   "source": [
    "As we can see this system contains two electrons, one up-spin and one down-spin, as shown by `electrons = ud`. And it exists on a one-dimensional grid from $x=-20$ to $x=20$, with a grid spacing of $dx = 0.1338...$.\n",
    "\n",
    "Let's plot the atom's external potential $V_{\\mathrm{ext}}(x)$:"
   ]
  },
  {
   "cell_type": "code",
   "execution_count": 3,
   "id": "faa500f7-e9f4-4dc8-8ac5-5c50b351d534",
   "metadata": {},
   "outputs": [
    {
     "data": {
      "image/png": "[encoded data removed]",
      "text/plain": [
       "<Figure size 432x288 with 1 Axes>"
      ]
     },
     "metadata": {
      "needs_background": "light"
     },
     "output_type": "display_data"
    }
   ],
   "source": [
    "plt.plot(atom.x, atom.v_ext, 'm-')\n",
    "plt.show()"
   ]
  },
  {
   "cell_type": "markdown",
   "id": "dcd4bcd0-76d0-4c1b-a507-b80e1940c775",
   "metadata": {},
   "source": [
    "This represents a softened Coloumb interaction to two protons located at $x=0$."
   ]
  },
  {
   "cell_type": "markdown",
   "id": "5d6a406c-b8c9-415b-b04a-44e0a47e3ab3",
   "metadata": {},
   "source": [
    "Now we have the atom described by an external potential, and containing two electrons, let use solve the system for its **ground-state** `(k=0)` to give the many-body wavefunction, which fully describes the quantum-mechanical system.\n",
    "\n",
    "Since we want the exact solution, we will use the many-body `interacting` method, which treats the electron interaction exactly:"
   ]
  },
  {
   "cell_type": "code",
   "execution_count": 4,
   "id": "4f8d4878-b4ac-4f62-b95b-6d078e4d3d08",
   "metadata": {},
   "outputs": [],
   "source": [
    "ground_state = iDEA.methods.interacting.solve(atom, k=0)"
   ]
  },
  {
   "cell_type": "markdown",
   "id": "4c2f3be8-314f-4d44-8520-a9edb227b7d7",
   "metadata": {},
   "source": [
    "This object contains the wavefunction of the state.\n",
    "\n",
    "We can use the help function to see what this object contains."
   ]
  },
  {
   "cell_type": "code",
   "execution_count": 5,
   "id": "0298af98-1bf5-4e79-92c9-90b429aec653",
   "metadata": {},
   "outputs": [
    {
     "name": "stdout",
     "output_type": "stream",
     "text": [
      "Help on ManyBodyState in module iDEA.state object:\n",
      "\n",
      "class ManyBodyState(State)\n",
      " |  ManyBodyState(space: numpy.ndarray = None, spin: numpy.ndarray = None, full=None, energy=None)\n",
      " |  \n",
      " |  State of interacting particles.\n",
      " |  \n",
      " |  Method resolution order:\n",
      " |      ManyBodyState\n",
      " |      State\n",
      " |      abc.ABC\n",
      " |      builtins.object\n",
      " |  \n",
      " |  Methods defined here:\n",
      " |  \n",
      " |  __init__(self, space: numpy.ndarray = None, spin: numpy.ndarray = None, full=None, energy=None)\n",
      " |      State of particles in a many-body state.\n",
      " |      \n",
      " |      This is described by a spatial part \n",
      " |      .. math:: \\psi(x_1,x_2,\\dots,x_N)\n",
      " |      on the spatial grid, and a spin\n",
      " |      part on the spin grid\n",
      " |      .. math:: \\chi(\\sigma_1,\\sigma_2,\\dots,\\sigma_N).\n",
      " |      These are NOT necessarily antisymmetric states,\n",
      " |      they can be combined using the antisymmetrisation operaration to produce the full\n",
      " |      wavefunction\n",
      " |      .. math:: \\Psi(x_1,\\sigma_1,x_2,\\sigma_2,\\dots,x_N,\\sigma_N).\n",
      " |      \n",
      " |      | Args:\n",
      " |      |     space: np.ndarray, Spatial part of the wavefunction on the spatial grid \\psi(x_1,x_2,\\dots,x_N). (default = None)\n",
      " |      |     spin: np.ndarray, Spin part of the wavefunction on the spin grid \\chi(\\sigma_1,\\sigma_2,\\dots,\\sigma_N). (default = None)\n",
      " |      |     full: np.ndarray, Total antisymmetrised wavefunction \\Psi(x_1,\\sigma_1,x_2,\\sigma_2,\\dots,x_N,\\sigma_N). (default = None)\n",
      " |      |     energy: float, Total energy of the state.\n",
      " |  \n",
      " |  ----------------------------------------------------------------------\n",
      " |  Data and other attributes defined here:\n",
      " |  \n",
      " |  __abstractmethods__ = frozenset()\n",
      " |  \n",
      " |  ----------------------------------------------------------------------\n",
      " |  Data descriptors inherited from State:\n",
      " |  \n",
      " |  __dict__\n",
      " |      dictionary for instance variables (if defined)\n",
      " |  \n",
      " |  __weakref__\n",
      " |      list of weak references to the object (if defined)\n",
      "\n"
     ]
    }
   ],
   "source": [
    "help(ground_state)"
   ]
  },
  {
   "cell_type": "markdown",
   "id": "947dd21d-6537-47e7-a884-bde3163db2ca",
   "metadata": {},
   "source": [
    "As we can see, it contains three arrays: the space, spin and fully antisymmetrised wavefunction:"
   ]
  },
  {
   "cell_type": "code",
   "execution_count": 6,
   "id": "92666f45-8158-423a-8e2d-47a2f11e7636",
   "metadata": {},
   "outputs": [
    {
     "name": "stdout",
     "output_type": "stream",
     "text": [
      "(300, 300)\n",
      "(2, 2)\n",
      "(300, 2, 300, 2)\n"
     ]
    }
   ],
   "source": [
    "print(ground_state.space.shape)\n",
    "print(ground_state.spin.shape)\n",
    "print(ground_state.full.shape)"
   ]
  },
  {
   "cell_type": "markdown",
   "id": "0ee93450-ab5e-4e84-9652-44a4255cbff7",
   "metadata": {},
   "source": [
    "As there are 300 grid points in our system, and 2 possibilities for spin, these shapes are what we expect."
   ]
  },
  {
   "cell_type": "markdown",
   "id": "7301a5e8-fd65-4af8-baa6-2f7f97cc9855",
   "metadata": {},
   "source": [
    "We would now like to calculate our observable of interest: the charge density for the atom in it's ground-state. This is simply done as follows:"
   ]
  },
  {
   "cell_type": "code",
   "execution_count": 7,
   "id": "940ef74d-b45f-4121-bb53-623fb79814d7",
   "metadata": {},
   "outputs": [],
   "source": [
    "n = iDEA.observables.density(atom, state=ground_state)"
   ]
  },
  {
   "cell_type": "markdown",
   "id": "82aaf0bd-a9d8-4735-adcd-99b66a103740",
   "metadata": {},
   "source": [
    "Let's add that to our plot:"
   ]
  },
  {
   "cell_type": "code",
   "execution_count": 8,
   "id": "24b6ed6a-fd86-4d57-b9f4-a7d2f4205dc6",
   "metadata": {},
   "outputs": [
    {
     "data": {
      "image/png": "[encoded data removed]",
      "text/plain": [
       "<Figure size 432x288 with 1 Axes>"
      ]
     },
     "metadata": {
      "needs_background": "light"
     },
     "output_type": "display_data"
    }
   ],
   "source": [
    "plt.plot(atom.x, atom.v_ext, 'm-', label='v_ext(x)')\n",
    "plt.plot(atom.x, n, 'k-', label='n(x)')\n",
    "plt.legend()\n",
    "plt.show()"
   ]
  },
  {
   "cell_type": "markdown",
   "id": "f4329f2d-14de-4c6f-b4d4-dfff1292aeb2",
   "metadata": {},
   "source": [
    "We can also compute the up and down spin-densities separately, and of course they are the same for this system:"
   ]
  },
  {
   "cell_type": "code",
   "execution_count": 9,
   "id": "8243b240-426d-406d-86ce-95b29a0ebfce",
   "metadata": {},
   "outputs": [],
   "source": [
    "n, up_n, down_n = iDEA.observables.density(atom, state=ground_state, return_spins=True)"
   ]
  },
  {
   "cell_type": "code",
   "execution_count": 10,
   "id": "6f2ccc10-f512-4cb5-82d3-4f43f11fec97",
   "metadata": {},
   "outputs": [
    {
     "data": {
      "image/png": "[encoded data removed]",
      "text/plain": [
       "<Figure size 432x288 with 1 Axes>"
      ]
     },
     "metadata": {
      "needs_background": "light"
     },
     "output_type": "display_data"
    }
   ],
   "source": [
    "plt.plot(atom.x, n, 'k-', label='n(x)')\n",
    "plt.plot(atom.x, up_n, 'r-', label='n_up(x)')\n",
    "plt.plot(atom.x, down_n, 'g--', label='n_down(x)')\n",
    "plt.xlim([-5.0, 5.0])\n",
    "plt.legend()\n",
    "plt.show()"
   ]
  },
  {
   "cell_type": "markdown",
   "id": "0d4d55e2-b3d8-46c2-9691-6862d19409fb",
   "metadata": {},
   "source": [
    "There are many more observables we could compute. To see the full listing of any iDEA module, use the `dir` function:"
   ]
  },
  {
   "cell_type": "code",
   "execution_count": 11,
   "id": "1cbd4518-d377-4423-be6b-64546228b98d",
   "metadata": {},
   "outputs": [
    {
     "data": {
      "text/plain": [
       "['Union',\n",
       " '__builtins__',\n",
       " '__cached__',\n",
       " '__doc__',\n",
       " '__file__',\n",
       " '__loader__',\n",
       " '__name__',\n",
       " '__package__',\n",
       " '__spec__',\n",
       " '_placeholder',\n",
       " 'copy',\n",
       " 'density',\n",
       " 'density_matrix',\n",
       " 'exchange_energy',\n",
       " 'exchange_potential',\n",
       " 'external_energy',\n",
       " 'external_potential',\n",
       " 'hartree_energy',\n",
       " 'hartree_potential',\n",
       " 'iDEA',\n",
       " 'itertools',\n",
       " 'kinetic_energy',\n",
       " 'np',\n",
       " 'observable',\n",
       " 'single_particle_energy',\n",
       " 'string']"
      ]
     },
     "execution_count": 11,
     "metadata": {},
     "output_type": "execute_result"
    }
   ],
   "source": [
    "dir(iDEA.observables)"
   ]
  },
  {
   "cell_type": "markdown",
   "id": "f7aeb6ef-5959-4800-b295-789d0b5f9397",
   "metadata": {},
   "source": [
    "If you would like to analyse the source code of any particular part of iDEA, we can use `inspect`:"
   ]
  },
  {
   "cell_type": "code",
   "execution_count": 12,
   "id": "5156d31c-8687-4988-b76f-47ba4fa2b2c2",
   "metadata": {},
   "outputs": [
    {
     "name": "stdout",
     "output_type": "stream",
     "text": [
      "def hartree_potential(s: iDEA.system.System, n: np.ndarray) -> np.ndarray:\n",
      "    r\"\"\"\n",
      "    Compute the Hartree potential from a density.\n",
      "\n",
      "    | Args:\n",
      "    |     s: iDEA.system.System, System object.\n",
      "    |     n: np.ndarray, Charge density of the system.\n",
      "\n",
      "    | Returns:\n",
      "    |     v_h: np.ndarray, Hartree potential, or evolution of Hartree potential.\n",
      "    \"\"\"\n",
      "    if len(n.shape) == 1:\n",
      "        v_h = np.dot(n, s.v_int) * s.dx\n",
      "        return v_h\n",
      "\n",
      "    elif len(n.shape) == 2:\n",
      "        v_h = np.zeros_like(n)\n",
      "        for j in range(v_h.shape[0]):\n",
      "            v_h[j, :] = np.dot(n[j, :], s.v_int[:, :]) * s.dx\n",
      "        return v_h\n",
      "\n",
      "    else:\n",
      "        raise AttributeError(f\"Expected array of shape 1 or 2, got {n.shape} instead.\")\n",
      "\n"
     ]
    }
   ],
   "source": [
    "import inspect\n",
    "print(inspect.getsource(iDEA.observables.hartree_potential))"
   ]
  },
  {
   "cell_type": "markdown",
   "id": "396c9e1a-410e-4a4f-b1e8-88ce06c81827",
   "metadata": {},
   "source": [
    "## 2. Describing Quantum Systems."
   ]
  },
  {
   "cell_type": "markdown",
   "id": "71c946af-5cd1-4810-bbe5-0bdeedccb6f8",
   "metadata": {},
   "source": [
    "In the simple example in the last section we used a pre-defined system. In this section, we will show you how to define any custom 1D quantum system. \n",
    "\n",
    "In iDEA, a quantum system is defined by:\n",
    "- A spatial grid.\n",
    "- An external potential.\n",
    "- An electronic interaction.\n",
    "- A given number of up and down spin electrons.\n",
    "\n",
    "We can see the details using the `help` function:"
   ]
  },
  {
   "cell_type": "code",
   "execution_count": 13,
   "id": "cd8114c1-2c8a-4e70-9901-2bcb5beac075",
   "metadata": {},
   "outputs": [
    {
     "name": "stdout",
     "output_type": "stream",
     "text": [
      "Help on class System in module iDEA.system:\n",
      "\n",
      "class System(builtins.object)\n",
      " |  System(x: numpy.ndarray, v_ext: numpy.ndarray, v_int: numpy.ndarray, electrons: str, stencil: int = 13)\n",
      " |  \n",
      " |  Model system, containing all defining properties.\n",
      " |  \n",
      " |  Methods defined here:\n",
      " |  \n",
      " |  __init__(self, x: numpy.ndarray, v_ext: numpy.ndarray, v_int: numpy.ndarray, electrons: str, stencil: int = 13)\n",
      " |      Model system, containing all defining properties.\n",
      " |      \n",
      " |      | Args:\n",
      " |      |     x: np.ndarray, Grid of x values in 1D space.\n",
      " |      |     v_ext: np.ndarray, External potential on the grid of x values.\n",
      " |      |     v_int: np.ndarray, Interaction potential on the grid of x values.\n",
      " |      |     electrons: string, Electrons contained in the system.\n",
      " |      |     stencil: int, Stencil to use for derivatives on the grid of x values. (default = 13)\n",
      " |      \n",
      " |      | Raises:\n",
      " |      |     AssertionError.\n",
      " |  \n",
      " |  __str__(self)\n",
      " |      Return str(self).\n",
      " |  \n",
      " |  check(self)\n",
      " |      Performs checks on system properties. Raises AssertionError if any check fails.\n",
      " |  \n",
      " |  ----------------------------------------------------------------------\n",
      " |  Data descriptors defined here:\n",
      " |  \n",
      " |  __dict__\n",
      " |      dictionary for instance variables (if defined)\n",
      " |  \n",
      " |  __weakref__\n",
      " |      list of weak references to the object (if defined)\n",
      " |  \n",
      " |  dx\n",
      " |  \n",
      " |  electrons\n",
      " |  \n",
      " |  x\n",
      "\n"
     ]
    }
   ],
   "source": [
    "help(iDEA.system.System)"
   ]
  },
  {
   "cell_type": "markdown",
   "id": "b2ef480d-bb7b-4522-9f8b-370b8a1e3091",
   "metadata": {},
   "source": [
    "Let us define a system `s`, which contains two electrons (both spin-up) in a quantum harmonic oscillator (QHO).\n",
    "\n",
    "First, let us define a x-grid from $x=-10$ to $x=10$ with $150$ grid points:"
   ]
  },
  {
   "cell_type": "code",
   "execution_count": 14,
   "id": "38fc9a10-82ed-45f5-8533-9312be57a60e",
   "metadata": {},
   "outputs": [],
   "source": [
    "x = np.linspace(-10, 10, 150)"
   ]
  },
  {
   "cell_type": "markdown",
   "id": "67adc168-37ff-4f54-a2e9-32db04e1056a",
   "metadata": {},
   "source": [
    "Now we can define the external potential of the QHO:\n",
    "\n",
    "$V_\\mathrm{ext}(x) = \\frac{1}{2} \\omega^2 x^2$ where $\\omega=0.25$"
   ]
  },
  {
   "cell_type": "code",
   "execution_count": 15,
   "id": "492ce275-b2e9-4b36-8b23-bcecd99439f0",
   "metadata": {},
   "outputs": [],
   "source": [
    "v_ext = 0.5 * 0.25**2 * x**2"
   ]
  },
  {
   "cell_type": "markdown",
   "id": "0b877a7d-ed65-4b41-bfe2-f0c758f1679d",
   "metadata": {},
   "source": [
    "Now we will choose an interaction for our electrons on our grid. As this is 1D we choose the softened interaction, but other options are available *(including custom interactions to build hubbard systems.)*"
   ]
  },
  {
   "cell_type": "code",
   "execution_count": 16,
   "id": "77fec3b1-45e3-4883-956a-94d1dbc7b4fc",
   "metadata": {},
   "outputs": [],
   "source": [
    "v_int = iDEA.interactions.softened_interaction(x)"
   ]
  },
  {
   "cell_type": "markdown",
   "id": "0fedd042-4e24-42e6-873b-c3d7b566caf8",
   "metadata": {},
   "source": [
    "We can now build our system:"
   ]
  },
  {
   "cell_type": "code",
   "execution_count": 17,
   "id": "aef64773-3a0b-45dd-a19b-7d4a87a03700",
   "metadata": {},
   "outputs": [
    {
     "name": "stdout",
     "output_type": "stream",
     "text": [
      "iDEA.system.System: x = np.array([-10.000,...,10.000]), dx = 0.1342..., v_ext = np.array([3.125,...,3.125]), electrons = uu\n",
      "number of electrons = 2\n"
     ]
    }
   ],
   "source": [
    "s = iDEA.system.System(x, v_ext, v_int, electrons='uu')\n",
    "print(s)\n",
    "print(\"number of electrons =\", s.count)"
   ]
  },
  {
   "cell_type": "markdown",
   "id": "04e1e3a3-aeec-41f1-a46a-376946306183",
   "metadata": {},
   "source": [
    "We can now plot our external potential:"
   ]
  },
  {
   "cell_type": "code",
   "execution_count": 18,
   "id": "68e3c868-6176-4804-8a7b-faf5c91b9745",
   "metadata": {},
   "outputs": [
    {
     "data": {
      "image/png": "[encoded data removed]",
      "text/plain": [
       "<Figure size 432x288 with 1 Axes>"
      ]
     },
     "metadata": {
      "needs_background": "light"
     },
     "output_type": "display_data"
    }
   ],
   "source": [
    "plt.plot(s.x, s.v_ext, 'm-')\n",
    "plt.show()"
   ]
  },
  {
   "cell_type": "markdown",
   "id": "671c3082-a4f0-4d85-a1ed-b0c43b46e928",
   "metadata": {},
   "source": [
    "And our interaction $V_\\mathrm{int}(x,x')$:"
   ]
  },
  {
   "cell_type": "code",
   "execution_count": 19,
   "id": "96be77af-6225-4b8c-88e9-23af912569fd",
   "metadata": {},
   "outputs": [
    {
     "data": {
      "image/png": "[encoded data removed]",
      "text/plain": [
       "<Figure size 432x288 with 1 Axes>"
      ]
     },
     "metadata": {
      "needs_background": "light"
     },
     "output_type": "display_data"
    }
   ],
   "source": [
    "plt.imshow(v_int)\n",
    "plt.show()"
   ]
  },
  {
   "cell_type": "markdown",
   "id": "6542e7d0-b98e-4af7-8544-c59e709154d4",
   "metadata": {},
   "source": [
    "And to summarise, the code we used to build our system:"
   ]
  },
  {
   "cell_type": "code",
   "execution_count": 20,
   "id": "5ee96fd5-e07b-4a11-985a-bdc4765b09fb",
   "metadata": {},
   "outputs": [],
   "source": [
    "x = np.linspace(-10, 10, 150)\n",
    "v_ext = 0.5 * 0.25**2 * x**2\n",
    "v_int = iDEA.interactions.softened_interaction(x)\n",
    "s = iDEA.system.System(x, v_ext, v_int, electrons='uu')"
   ]
  },
  {
   "cell_type": "markdown",
   "id": "913b8a18-a9f0-4585-bd27-a91f779cf881",
   "metadata": {},
   "source": [
    "## 3. Solving Quantum Systems Exacly."
   ]
  },
  {
   "cell_type": "markdown",
   "id": "e692b8e7-3630-4a6f-bb93-546b66b560b2",
   "metadata": {},
   "source": [
    "Now we have the description of our quantum system, we can use iDEA to solve the Schrödinger equation for the ground-state (`k=0`) of this system using the `interacting` module:"
   ]
  },
  {
   "cell_type": "code",
   "execution_count": 21,
   "id": "713ea7fa-7756-4e04-b882-0d67b84080e8",
   "metadata": {},
   "outputs": [],
   "source": [
    "ground_state = iDEA.methods.interacting.solve(s, k=0)"
   ]
  },
  {
   "cell_type": "markdown",
   "id": "56159b5a-84e7-454e-9e52-4d5fd9189a30",
   "metadata": {},
   "source": [
    "We can now use the spatial, spin and full wavefunctions to do any analysis we need:"
   ]
  },
  {
   "cell_type": "code",
   "execution_count": 22,
   "id": "97cd5a4e-ab24-4734-b548-e53f8712011c",
   "metadata": {},
   "outputs": [
    {
     "name": "stdout",
     "output_type": "stream",
     "text": [
      "(150, 150)\n",
      "(2, 2)\n",
      "(150, 2, 150, 2)\n"
     ]
    }
   ],
   "source": [
    "print(ground_state.space.shape)\n",
    "print(ground_state.spin.shape)\n",
    "print(ground_state.full.shape)"
   ]
  },
  {
   "cell_type": "markdown",
   "id": "e492f151-692d-4f7f-b917-66b64756aebf",
   "metadata": {},
   "source": [
    "Since this is a two-electron system, we can actually plot the spacial part of the wavefunction directly in 2D:"
   ]
  },
  {
   "cell_type": "code",
   "execution_count": 23,
   "id": "8f380f68-f085-4f09-b346-1e2100eaea81",
   "metadata": {},
   "outputs": [
    {
     "data": {
      "image/png": "[encoded data removed]",
      "text/plain": [
       "<Figure size 432x288 with 1 Axes>"
      ]
     },
     "metadata": {
      "needs_background": "light"
     },
     "output_type": "display_data"
    }
   ],
   "source": [
    "plt.imshow(ground_state.space.real, cmap=\"seismic\", vmax=np.max(ground_state.space.real), vmin=-np.max(ground_state.space.real))\n",
    "plt.show()"
   ]
  },
  {
   "cell_type": "markdown",
   "id": "ee261938-67c8-44df-82df-c1e54b6bf898",
   "metadata": {},
   "source": [
    "Note that this is zero along the diagonal, owing to the Pauli exclusion principle. (As an exercise, show this is not zero if the electrons have opposite spin. Hint: when building the system use `electrons = \"ud\"` instead of `\"uu\"`)"
   ]
  },
  {
   "cell_type": "markdown",
   "id": "e75770ad-9a25-45cb-99ae-f3fde907652a",
   "metadata": {},
   "source": [
    "We can test that the wavefunction is antisymmetrised:"
   ]
  },
  {
   "cell_type": "code",
   "execution_count": 24,
   "id": "1fa6a794-984c-4be8-9378-065a8fc1f9fb",
   "metadata": {},
   "outputs": [
    {
     "data": {
      "text/plain": [
       "True"
      ]
     },
     "execution_count": 24,
     "metadata": {},
     "output_type": "execute_result"
    }
   ],
   "source": [
    "np.allclose(ground_state.full.real[80,0,50,0], -ground_state.full.real[50,0,80,0])"
   ]
  },
  {
   "cell_type": "markdown",
   "id": "d46e82b9-a25e-4c08-a53a-0bf36205f2a9",
   "metadata": {},
   "source": [
    "From this object we can also get the total energy:"
   ]
  },
  {
   "cell_type": "code",
   "execution_count": 25,
   "id": "e8cb9c38-b52c-4715-8f78-9fca14d22e74",
   "metadata": {},
   "outputs": [
    {
     "name": "stdout",
     "output_type": "stream",
     "text": [
      "0.753177944467693\n"
     ]
    }
   ],
   "source": [
    "print(ground_state.energy)"
   ]
  },
  {
   "cell_type": "markdown",
   "id": "2e4f54ae-8f84-4d7b-a328-28a469083d9c",
   "metadata": {},
   "source": [
    "We can also compute **any excited state** we would like. For example, the first excited state:"
   ]
  },
  {
   "cell_type": "code",
   "execution_count": 26,
   "id": "0cdffa71-97f6-41a4-ae83-89cff38356ce",
   "metadata": {},
   "outputs": [],
   "source": [
    "first_state = iDEA.methods.interacting.solve(s, k=1)"
   ]
  },
  {
   "cell_type": "code",
   "execution_count": 27,
   "id": "f76dd082-5b79-48a2-bd12-c4ef07a31f62",
   "metadata": {},
   "outputs": [
    {
     "data": {
      "image/png": "[encoded data removed]",
      "text/plain": [
       "<Figure size 432x288 with 1 Axes>"
      ]
     },
     "metadata": {
      "needs_background": "light"
     },
     "output_type": "display_data"
    }
   ],
   "source": [
    "plt.imshow(first_state.space.real, cmap=\"seismic\", vmax=np.max(first_state.space.real), vmin=-np.max(first_state.space.real))\n",
    "plt.show()"
   ]
  },
  {
   "cell_type": "markdown",
   "id": "f3d4bc1c-b6c6-44f9-8f4f-7705fd80934b",
   "metadata": {},
   "source": [
    "We could use this to compute the **optical gap** of the system:"
   ]
  },
  {
   "cell_type": "code",
   "execution_count": 28,
   "id": "df9830e7-1532-4418-856c-e75d22e41142",
   "metadata": {},
   "outputs": [
    {
     "name": "stdout",
     "output_type": "stream",
     "text": [
      "optical gap = 0.2500000395902423\n"
     ]
    }
   ],
   "source": [
    "print(\"optical gap =\", first_state.energy - ground_state.energy)"
   ]
  },
  {
   "cell_type": "markdown",
   "id": "df007d46-7b84-44b3-92a2-e9a659f53f20",
   "metadata": {},
   "source": [
    "## 4. Computing Observables."
   ]
  },
  {
   "cell_type": "markdown",
   "id": "471e227c-8389-4fd6-8a0e-f1ec7c123297",
   "metadata": {},
   "source": [
    "Let us now turn to computing some common observables of our system, and visualising them:"
   ]
  },
  {
   "cell_type": "code",
   "execution_count": 29,
   "id": "dd21c7bd-0beb-483b-b608-932ce5453994",
   "metadata": {},
   "outputs": [
    {
     "name": "stdout",
     "output_type": "stream",
     "text": [
      "hartree energy = 0.7585662970835491 , exchange energy = -0.5146141349952208\n"
     ]
    }
   ],
   "source": [
    "n = iDEA.observables.density(s, state=ground_state)\n",
    "v_h = iDEA.observables.hartree_potential(s, n)\n",
    "E_h = iDEA.observables.hartree_energy(s, n, v_h)\n",
    "\n",
    "\n",
    "p = iDEA.observables.density_matrix(s, state=ground_state)\n",
    "v_x = iDEA.observables.exchange_potential(s, p)\n",
    "E_x = iDEA.observables.exchange_energy(s, p, v_x)\n",
    "\n",
    "\n",
    "print(\"hartree energy =\", E_h, \", exchange energy =\", E_x)"
   ]
  },
  {
   "cell_type": "code",
   "execution_count": 30,
   "id": "94d49d31-4ed2-469f-ba01-44bbf8ec31f4",
   "metadata": {},
   "outputs": [
    {
     "data": {
      "image/png": "[encoded data removed]",
      "text/plain": [
       "<Figure size 432x288 with 1 Axes>"
      ]
     },
     "metadata": {
      "needs_background": "light"
     },
     "output_type": "display_data"
    }
   ],
   "source": [
    "plt.plot(s.x, n, 'k-', label=\"density\")\n",
    "plt.plot(s.x, s.v_ext, 'm-', label=\"external potential\")\n",
    "plt.plot(s.x, v_h, 'g-', label=\"hartree potential\")\n",
    "plt.legend()\n",
    "plt.xlabel(\"x\")\n",
    "plt.title(\"Ground state QHO\")\n",
    "plt.show()"
   ]
  },
  {
   "cell_type": "code",
   "execution_count": 31,
   "id": "a248f5f7-13fc-4c9a-96b8-53133ab96402",
   "metadata": {},
   "outputs": [
    {
     "data": {
      "image/png": "[encoded data removed]",
      "text/plain": [
       "<Figure size 432x288 with 1 Axes>"
      ]
     },
     "metadata": {
      "needs_background": "light"
     },
     "output_type": "display_data"
    }
   ],
   "source": [
    "plt.imshow(p, cmap=\"seismic\", vmax=np.max(p), vmin=-np.max(p))\n",
    "plt.title(\"Density matrix of ground-state QHO\")\n",
    "plt.show()"
   ]
  },
  {
   "cell_type": "code",
   "execution_count": 32,
   "id": "4e92698d-f6b9-4837-9934-b81619a64189",
   "metadata": {},
   "outputs": [
    {
     "data": {
      "image/png": "[encoded data removed]",
      "text/plain": [
       "<Figure size 432x288 with 1 Axes>"
      ]
     },
     "metadata": {
      "needs_background": "light"
     },
     "output_type": "display_data"
    }
   ],
   "source": [
    "plt.imshow(v_x, cmap=\"seismic\", vmax=np.max(v_x), vmin=-np.max(v_x))\n",
    "plt.title(\"Exchange potential of ground-state QHO\")\n",
    "plt.show()"
   ]
  },
  {
   "cell_type": "markdown",
   "id": "d36e5edf-28a2-49dc-9fe4-45b5c7fe8b03",
   "metadata": {},
   "source": [
    "And we can of course repeat the above for the first excited-state:"
   ]
  },
  {
   "cell_type": "code",
   "execution_count": 33,
   "id": "e17f1102-aad8-4d02-a12a-facf34288347",
   "metadata": {},
   "outputs": [
    {
     "name": "stdout",
     "output_type": "stream",
     "text": [
      "hartree energy = 0.6990259617571023 , exchange energy = -0.4397489413446015\n"
     ]
    }
   ],
   "source": [
    "n = iDEA.observables.density(s, state=first_state)\n",
    "v_h = iDEA.observables.hartree_potential(s, n)\n",
    "E_h = iDEA.observables.hartree_energy(s, n, v_h)\n",
    "\n",
    "\n",
    "p = iDEA.observables.density_matrix(s, state=first_state)\n",
    "v_x = iDEA.observables.exchange_potential(s, p)\n",
    "E_x = iDEA.observables.exchange_energy(s, p, v_x)\n",
    "\n",
    "\n",
    "print(\"hartree energy =\", E_h, \", exchange energy =\", E_x)"
   ]
  },
  {
   "cell_type": "code",
   "execution_count": 34,
   "id": "8eb775b7-d6b9-4a29-8c00-dd6b91a59b7e",
   "metadata": {},
   "outputs": [
    {
     "data": {
      "image/png": "[encoded data removed]",
      "text/plain": [
       "<Figure size 432x288 with 1 Axes>"
      ]
     },
     "metadata": {
      "needs_background": "light"
     },
     "output_type": "display_data"
    }
   ],
   "source": [
    "plt.plot(s.x, n, 'k-', label=\"density\")\n",
    "plt.plot(s.x, s.v_ext, 'm-', label=\"external potential\")\n",
    "plt.plot(s.x, v_h, 'g-', label=\"hartree potential\")\n",
    "plt.legend()\n",
    "plt.xlabel(\"x\")\n",
    "plt.title(\"First excited-state QHO\")\n",
    "plt.show()"
   ]
  },
  {
   "cell_type": "code",
   "execution_count": 35,
   "id": "3971b9cb-9eee-4d20-8fea-0417dc4332be",
   "metadata": {},
   "outputs": [
    {
     "data": {
      "image/png": "[encoded data removed]",
      "text/plain": [
       "<Figure size 432x288 with 1 Axes>"
      ]
     },
     "metadata": {
      "needs_background": "light"
     },
     "output_type": "display_data"
    }
   ],
   "source": [
    "plt.imshow(p, cmap=\"seismic\", vmax=np.max(p), vmin=-np.max(p))\n",
    "plt.title(\"Density matrix of first excited-state QHO\")\n",
    "plt.show()"
   ]
  },
  {
   "cell_type": "code",
   "execution_count": 36,
   "id": "538870c3-98e0-44f9-b9f2-b663e81b8c20",
   "metadata": {},
   "outputs": [
    {
     "data": {
      "image/png": "[encoded data removed]",
      "text/plain": [
       "<Figure size 432x288 with 1 Axes>"
      ]
     },
     "metadata": {
      "needs_background": "light"
     },
     "output_type": "display_data"
    }
   ],
   "source": [
    "plt.imshow(v_x, cmap=\"seismic\", vmax=np.max(v_x), vmin=-np.max(v_x))\n",
    "plt.title(\"Exchange potential of first excited-state QHO\")\n",
    "plt.show()"
   ]
  },
  {
   "cell_type": "markdown",
   "id": "8a8a3138-ed3f-45ba-9640-e3f03871f7f1",
   "metadata": {},
   "source": [
    "## 5. Perturbations and Time-Dependence."
   ]
  },
  {
   "cell_type": "markdown",
   "id": "96f0e288-b0ba-49b8-97ab-955064767d87",
   "metadata": {},
   "source": [
    "Now we know how to; describe systems, solve them for given states, and compute observables, we can now look at driving these systems out of thier stationary states using a external perturbation."
   ]
  },
  {
   "cell_type": "markdown",
   "id": "611a1645-7c79-4182-b67b-87883b0265a9",
   "metadata": {},
   "source": [
    "First we define a time grid $t=0 \\rightarrow t=100$: wih $1000$ timesteps:"
   ]
  },
  {
   "cell_type": "code",
   "execution_count": 37,
   "id": "21f9048d-47a2-40a2-b8c7-c272c6863eff",
   "metadata": {},
   "outputs": [],
   "source": [
    "t = np.linspace(0, 50, 500)"
   ]
  },
  {
   "cell_type": "markdown",
   "id": "4905e03f-c525-4463-9fae-0b1a4a6b63d7",
   "metadata": {},
   "source": [
    "For our perturbation, we choose a oscillating linear electric field:"
   ]
  },
  {
   "cell_type": "code",
   "execution_count": 38,
   "id": "7992dbb8-ae1e-4121-a68e-d329996b1fb0",
   "metadata": {},
   "outputs": [],
   "source": [
    "v_ptrb = np.zeros(shape=t.shape+x.shape)\n",
    "for j, ti in enumerate(t):\n",
    "    v_ptrb[j,:] = -0.1 * x * np.sin(0.5*ti)"
   ]
  },
  {
   "cell_type": "markdown",
   "id": "0f680b90-bf8a-41b4-a0e0-416c2d945f1a",
   "metadata": {},
   "source": [
    "We can animate our field:"
   ]
  },
  {
   "cell_type": "code",
   "execution_count": 39,
   "id": "06716ac8-ef81-4221-a1bf-f9cf2e243fc9",
   "metadata": {},
   "outputs": [
    {
     "data": {
      "text/html": [
       "<video width=\"432\" height=\"288\" controls autoplay loop>\n",
       "  <source type=\"video/mp4\" src=\"data:video/mp4;base64,AAAAIGZ0eXBNNFYgAAACAE00ViBpc29taXNvMmF2YzEAAAAIZnJlZQAAXPhtZGF0AAACrgYF//+q\n",
       "3EXpvebZSLeWLNgg2SPu73gyNjQgLSBjb3JlIDE2NCByMzA4MSAxOTg1NmNjIC0gSC4yNjQvTVBF\n",
       "Ry00IEFWQyBjb2RlYyAtIENvcHlsZWZ0IDIwMDMtMjAyMSAtIGh0dHA6Ly93d3cudmlkZW9sYW4u\n",
       "b3JnL3gyNjQuaHRtbCAtIG9wdGlvbnM6IGNhYmFjPTEgcmVmPTMgZGVibG9jaz0xOjA6MCBhbmFs\n",
       "eXNlPTB4MzoweDExMyBtZT1oZXggc3VibWU9NyBwc3k9MSBwc3lfcmQ9MS4wMDowLjAwIG1peGVk\n",
       "X3JlZj0xIG1lX3JhbmdlPTE2IGNocm9tYV9tZT0xIHRyZWxsaXM9MSA4eDhkY3Q9MSBjcW09MCBk\n",
       "ZWFkem9uZT0yMSwxMSBmYXN0X3Bza2lwPTEgY2hyb21hX3FwX29mZnNldD0tMiB0aHJlYWRzPTkg\n",
       "bG9va2FoZWFkX3RocmVhZHM9MSBzbGljZWRfdGhyZWFkcz0wIG5yPTAgZGVjaW1hdGU9MSBpbnRl\n",
       "cmxhY2VkPTAgYmx1cmF5X2NvbXBhdD0wIGNvbnN0cmFpbmVkX2ludHJhPTAgYmZyYW1lcz0zIGJf\n",
       "cHlyYW1pZD0yIGJfYWRhcHQ9MSBiX2JpYXM9MCBkaXJlY3Q9MSB3ZWlnaHRiPTEgb3Blbl9nb3A9\n",
       "MCB3ZWlnaHRwPTIga2V5aW50PTI1MCBrZXlpbnRfbWluPTI1IHNjZW5lY3V0PTQwIGludHJhX3Jl\n",
       "ZnJlc2g9MCByY19sb29rYWhlYWQ9NDAgcmM9Y3JmIG1idHJlZT0xIGNyZj0yMy4wIHFjb21wPTAu\n",
       "NjAgcXBtaW49MCBxcG1heD02OSBxcHN0ZXA9NCBpcF9yYXRpbz0xLjQwIGFxPTE6MS4wMACAAAAJ\n",
       "pmWIhAAn//71sXwKasnzigzoMi7hlyTJrrYi4m0AwAAAAwAFUFPXgYh/zAT9WhYqCzKHB7ctq2Rg\n",
       "dxlw52GVgmoq7c30hZ3tvkmCAAADAGpN/73BPew1X0z7vABUY+w0wthwwi0OJjCDwQ07KRGhvglB\n",
       "M953Ww00VZkCewaR//V3NQkQNnFdHx+TlZuadCgQBgHEo8Nz+1vfQg4CegfHxXnMZeGoAARgQCfe\n",
       "SWyGFYI6NdhCsUwcYwPHJOHGQhMANafxIHGv3eAYB2YIQmk3HHuia61cmdqYWwshpOkduySJNRls\n",
       "ikDKtwfuokPAVLwN17uFqeYYKBZruxUr34ZsujvnfsvmDhuTJv2AuyQ1FAQbbC3S+4uCFRbX8aJT\n",
       "mw6p+d/V2OXACEQKaUGQRTm+UnIirQc1KsMuBiTGnbZo8sH+ygCIObEjfpSYuflrjIfTTt7ADiNO\n",
       "DlR1jXT/r/s1GlxmyfiTHX8+wPtXR//1r4qLsaBWeILEN1bu6IUAHPx/wKEfIzpFqZOuX3y6JwJh\n",
       "nuPh8lx5yxfBXzmHDWNM6OGMqWhGfhLZqnFWPzhdQJN6z7QYS1HpwCTG8frpNhdHhtXvnw4HI92H\n",
       "MPte2CkpVXqaujNWh1U3EtuHPyMDPVlNQYTTOYn8zztnQRQcnXE3vld/YOrXZyBJAlcw4eavLa7P\n",
       "W4ltsYFljURLwrI0d2PKg3putNTUgvalwKQ3OtX8L97jioO3U2wrB4ngVZhs/WASPaaBwlz+uhyt\n",
       "7qVbpaUARwCS+F9XyCg5RFAqGjE7hecd2EgiURmrc9p6gXSBSqJfbNwORwQlR6KicwAG1mNWX27J\n",
       "4nli/oYSbx+QIVanEfIRAxWtt8uSlmZkW3tUMrRxQ+fybsqP61Co4tkG55Nq6uIx3Zv8vSBFltMy\n",
       "5rix5GMeqvVOVwIgPtR4SJvtQwvMTd9eBEuZzIFjmvD5MTIOyWScbrbBbAo+wP0hsv0Jwp3mgtim\n",
       "/lusoBU2bgmKeQ0s41qVrxFDxolWlH7DsNEWmQy1PaqM0Aev7remd+jZvLcPd0Rg41XNnxZHfH+3\n",
       "rLFSFM5EvMPzgkxX0Wx3d/DYnadYzvHzPtPepN7BqG382ulx3LntExijIeZfYDbQug8b1cYWrVqi\n",
       "Cpm76YlDRZTBPBp3xCu6RSlqBxgwAnKIVEI4dZzBaaB9cnn58Z9F3Ht1yX/Elgtfh+vmq1qPnpvn\n",
       "LVbw5oyOPn8Bt2QsrUrrPJKPGP/fGGfSfFHnhU0LrtaJvaKVmygFCiM33zHZxa0iphhfwsNFWEHt\n",
       "6nG5XHGjv8HFaxCyLizjHGCMBwrmVAAX6U633jTwGsnx2kc0opkSofzE9JouTVAJTq+2MHOO5q23\n",
       "m1niEObIAIhfUzn6hTPjUBmMUItEzJ11QqBd2HwkYlsKADfGt5oVYHGxf753T/Y1lmNEj3Nv/9fA\n",
       "d8a+ZDwTTGF+eAjflqLsls/tRjXzz4ugxcSdZBTfW8ptyir2dCBcPCM+AO16lT8StbKlAXYL7IDE\n",
       "ZFwdpfJh/waFhjtoV3YFGYfwMA6BOYM6emr/s6EuYt9Lh41/ezXjtckB+hXvjVWbo6O5jtcKv4dX\n",
       "yzsdvNBe7QrNywJVsTaxrVEZtrKN21jYsn6DxFX+UNzKZ+bsFy9nDIqspzPiPCznz0DxscIiQW4a\n",
       "5o4s0KXZMlAwxq0HdR1lTS1sKAg6nqdPU91zVFqYeZ0Int5lWQ1CsMMURiKJYG2R/48cFgV2xOpE\n",
       "hTwD3aB9Mz6SCDVJcEW2FRZ8wtz4Y5/fPggGbnaTvJbkFYfyICPHjNZ5h9v+O7IxlqxsJPqslpHU\n",
       "Z1KhOGMrkMJ45Rfd+JRmKSG1HocuujO+auQx03uqZZGsEFy7DO8vLqUyT27XUazUniQ4KhxasF2e\n",
       "OJPuNv/XCTpzNoR779YpBnG9PLVyQPLwxJAWkpNgg9u6I27v7h2S20koryVkWJQ+HzAa97mzEGDr\n",
       "Oc1UYQvIdybYJM+kLUrSOFtf+bA7bAtXNA+n4RaF2/ywI/TwaUwel11jnGnVWvwaHdKLJaxpcs6z\n",
       "DIe2KDdxZIbJTb60mjbjybZVPq7gZgx089WozhVCuTGdBdY7k7V3w6v/TBRg+YUdeM58w3JC7UgL\n",
       "uktFylvfsTJciNtr9ZCCpWAh7lMSiMXscSmQu0d663EIyNaMJfi8BGn8jA1bLgYc/T4MkqFdFyXX\n",
       "d7UtdwO75SFQW7wN3yupdyCLR/+yaZGvtdOnse0ZSExoHRO0KjkL60ZxEOq/8a4TOFLop8uddLm8\n",
       "qUybZPmdIMOeMiE7TsC/pWMgkPqi09r7SCdpcJAVN4+B/Y43HzKX/BR263MrSLKHKVpBT/LpJJoe\n",
       "Ew3RrsgIV3P5P7cYiwhTs3QN/yX/oLoh0DwH9KfH3AEx5HINX998bfrsN1NsweOCedLMrklxuD0+\n",
       "Vq/cua3dLoyVYVZqEmikvXLY+PAyiW92XIH2MMooEK8GG2iaklWa3PID6JvPNMrbQ/GEb7vS37PL\n",
       "59Yx/71n53UBlySeRvPDB8wz8mpn9E6JucXzePh0z054nM1MpteGK+V5DtLWtHWO/qLyrz66CJdm\n",
       "nfrZvVVZ7A7TBCaS/li+JCWFCLUtRUcyuAVUNZoLo7ORo2HuHwFJvw0DrWzDPCIaf7yhVIRfocny\n",
       "vrGbt5zTS1cZDvBy4u3euS8pjjQMsvQ4V+poAKAGU+R5NiRE9qKbhXImObYxZD4Q0zKU2jBGVOSu\n",
       "dQROrWE5RVxIQj+FFcETuKKdgODQfBGxtd6glSlpSTaq1rvPVZRBe9nfrFXm54hTrJ643dCHLkl9\n",
       "jQ61fzh/HJ0/XEzBIe20W+7Z3HQzLoZGwu0d8+0ZSoFcA/2KEmCk+pu2nm8oeKkfzIvlqolF8XP4\n",
       "8RWNMFPlO157345id3XCwZ/U+ISsMthZAvBc/uT/DVaJIcGYsCKQ0Xa4hqv0RrXzebSKo2nJg7tx\n",
       "a0RTI+88Wtx+2QHpGzUy9XQxBmymn3+xNNiNdlpHi1VZmSEdhTyiF+Aao+Pxfs2EczFTYsiAjUaw\n",
       "r+ISfRnubLKHd7U5DV+ys/PUPDDRuKo2MObblVH8FzEDAifbjop8II2htstxuGzF8hYtcVjGbS2Q\n",
       "68W7ehLb2ba6GlOq1GDzVRAQ8N74ODrX8PX7OQjZXH/DGMfkSrE/2UZZ+ipGIAsx6Jg9QJA6DUrG\n",
       "gg6iitNSiZ+wfwznJ5jW7zMJb8NUYvkXUwq6TofTxIvUMyDs/fOlAC8dyjkgIon1q6vfoyO8UZDR\n",
       "QLYAALOmqafOA1JJY075JuAAR8EAAAMOQZokbEI//eEFZuqvcsDqB2tGWFJGrp0AAAtzk/oAGs7k\n",
       "bYnUwEhTf1c4lo8KjiP/AwI7HrOY3IYzryAcUVBgYfgLqmj3ROzhVUQ/VMvIXssPIenBAwHzmkTU\n",
       "g1rIqtnFtOvUGQO/PYjfibP9GjlNcmw5cBV9LMP+SnrxvRfZhCCoBGCHG2/lyhLJMS8r9FG14rIk\n",
       "6WqYr0aect9t0hE2no743jDjvx39lq44ee2tl+3izCbIXEw4hXLJTD3bO/W6EqPRxtCVvoXA4WIF\n",
       "o6Z3tTebh5k8mHyFN/KwzkPz+lbYqn1xMVAER5bReVlBxFgOUe3cv0D6CXiPe5VxjmPdVVwVy/Vh\n",
       "ZCNPaVb29rqDc9Dnxszpml31xLDuli/A8YuS3LBeYjeV9vEZT1sb9MN8xeNm0Dh4PBS5iqUl6JDf\n",
       "O5+D5gD0j1lHpG0tuA3vEc3Gf7cD7l4jfJogitdS15Po0KAGY2Yrk5c9ej5Ug8jBqdyti4+F78e6\n",
       "SbN4iLll0AuGCsGMApSNAzkvppGL7ZsyfjeKwSaMca4r174mIVEYFJXp6TgjsXPqzS4mmWpRugCV\n",
       "lXJX18awdwAJYTaGTIN/hvLLwV3w38XFePqU6LAQNm5EqUZfL0v1eHWvN27LNUVrvkY/3Ogyg5Rb\n",
       "U3pWbFUg+aBxiBRdiiVm5ilaehncZVXmu3Hl2RoH5Kfd6OnrOv1fs7IbHpq80gX/P7b5k9GFDpO8\n",
       "2A38CQ7c6bCXSB9sJKwQSOGW7qV4pFsa1L3yOXr1M+DrERuhfMclCIObJJ1KnPbsq253opsm41oy\n",
       "qNeJHT5I60kLljiCwgz7JxDG8ZwbOxyLR/cp1Lf8mNEF4o5Jw53aISxi5+yEImE6n0uGdFijVlbW\n",
       "9rdaRJlSJkeoPnSBZBLhZGQF5iXW0yloLLi+/QSmEtW6SmSrPM4EIh2cYHyXoVPeF2JbyHp1ON2E\n",
       "RGjG7FKBOC3WhY7UHJNS2W2GzdqhlG85mhP0urBtwlZs+alNBxzszoPRdTklAHsg/P7oXKKuIWM7\n",
       "UkunzlkTbdsAAAECQZ5CeI3/CYOQuH7YI4nHPFQABLb4dpH5bVLLF8gST18g81jluwIATf7dgw2N\n",
       "H/jRDm9F59l/5mx2OyH58Z/la720/wGxkf4d39/62soyPz/yRsgwIKQByVyOM9tAvCjBXwAuJuxs\n",
       "dW/CUUZ32abETlXg9YQFPRwJ+RCiB1ursfEaza+e3EPAcpHwL0Jla+6iLiB5gXRwlp0t3Np+PloJ\n",
       "DEsNOtuyW2gXZ/SGKo0zwmT4V6xAnhzMaTtRvgNVOy3eUzUsDFkbzzVRDRTmAW5gSQ/3enL6nruT\n",
       "qt6Sj7VoJZDrrVOU7XAEQl4XGkRyA/JYjIqlLegZ4XFssEvJLhpvmQ4HAAAAiwGeYXRF/wvOS6S6\n",
       "q5sPAAADAAAb8+tSrDGkLWZsSgaJnYAEPi3nvtRpMLt/wakIg189ogCtlYDlkD3B5AF4jhH5Aw1y\n",
       "bu3PB9D2XvFE7aT+R2H9FoxvGWMJAHKzrWFMZsA1OAcZsS4vdGEFPZ71GS6+yBCAQ2joICszUeAD\n",
       "29eO4HM2F0SNtj9qMyAAAABxAZ5jakX/CydL1Hzl+m2w38QBXHw3lXwAgnZleUb0MMbSBFV6NYyH\n",
       "VPaxQUEg/RrLJ55JjEATbChfdS57va/uO8O9K0YAeZTlls2Nd0cyHEFQpg/zkGf0X2RPzeV+lcEv\n",
       "ScmqNOaQmNT5+sUETZwk/aEAAAHNQZpnSahBaJlMCEf//eEAmnWyw89FUj68wAinLb1oobqdUJxO\n",
       "zJvQ04pHLvSdRkqhW1DM+YrQWDR4XekH1PXiM+cvuTGpgTsqUrvYXmKxnBCSbGC4fU9jrqKKnHps\n",
       "jHjOHWd4SPx58s9IzWfSnbgih2lUfZTVpFPLv5/OjNz82swWtwFqIHvuXgbyS+etPSWjdkV6vQVe\n",
       "67AnPXtICzFvMz212W4ZdsfSM8S/VSL2fZVdqfE5LsCtTDEsJn/loNoZpoE9+d2kCmxznY21WHJ+\n",
       "KjF98YihKDKLyVWLRURumu9tOD/brydaHTVX7+CnY2Xw8nvJT0goeuG7YKyeYNgpY3pw6E/E0TPQ\n",
       "8NnG0eVh6QNhAqt5zP967SSQULbSHcnh0sX+VToByf003V7GvMsLR3HSiG+S2F0o8NVzchlZODSX\n",
       "/DVEVQqrhE6OG4FeiippxRghh6JqHKi/U0/0mEsEeGK8QvL5kVsXuZjRxxzans/59UoSlsSpX6T+\n",
       "b9ilDnvQ4TbEiSTvx19VmWgP954v0+G2CdF9Y2oVjNxrnMFnOBrZFj7TxN3k4dPs6w9uf7JXEWQJ\n",
       "EpfJpWtqwKP/JUkOcRc12/uuiquU+tWJrWEAAACIQZ6FRREsXwstbvtujQWmKw9wRAqrReXrvvP1\n",
       "qLiDqgh22JztS18ZBzyeOqUREZ3rZ2nwOb3Ynj/FsUx1ZTbI7Gj5C26v5pdmkpIr3e65AAlr0xOP\n",
       "8X6NXgEUmGafK5hGCg6anheRPnyBtqqZ1vKOlI13U+bMLcV2No9Hc9AGPxkkcdSKusiVkQAAAGcB\n",
       "nqZqRf8LJ0vCm9v9zrc3AW58/2TuLZVH+DQtnNirzwAdy5fY60cdMYYdjEerZ6v8S5bpR6KN2CDW\n",
       "0BR1CPI6E4yiZjJPNLsvlqpzxHUKf9SL3pyvvxsRujVv43i4yXLNbzKevYsfAAABoEGaqEmoQWyZ\n",
       "TAhP//3xAEHCru0DxY6F7Ksabtw+8II92K3ZIycOfXBq4xjIQHywXc2l5Ya/UT+5rxotuqZfBtXq\n",
       "y9YwrPdh6kCXRthCcLIGCvlZAFZk+Oot3iuB3KBGNXTwin9UqNlBOf/wmR48UJxdkM5j0t+FRoyR\n",
       "I/EVb7Dqc12eUXhXJVIr83JsNhUaFtLVRIgOyTFYB0ymgvg1aZKaA8qigaQ16I70IFKAyvxu3RYK\n",
       "ix3mpdFIlBe/wyBQfV2xNHK2MXMuxQFbjQT8795Z1aVSzjHMOt+vik98aXAKBCSpbPCtceNMkkej\n",
       "U/Pi7RlpMqkWxwIhK/BMzdSAEZtEpqdh5B99oTNjMqgaTXq3ms2nVAFd5qvc5fpLU3Oc99hw0MfG\n",
       "UiPj3fIkpj6PnUWfaxwwEGUyc3qzPHB3Sf6/DM7uWRiDs/6un4YgV4cwQVeggL+bjEeNxhAcIvSn\n",
       "8PiGJbkvykYRTOioZy9/YqBl+p9rLeas7kOgVc8DOzFCW1mV9JRqUoujVLzKF+wHtCzQVQ2yc7eK\n",
       "xInOQ3C21QvAAAACCUGazEnhClJlMCEf/eEAAzbI99egCOAYn+fv62eLAt1ohw2/1PK7nfsYtnmg\n",
       "rfoJCzvz8dg0kHS51XZpbFwx98U0eUsFRsaVXORq9qmMRQezXsiNVMujfRMTiSCpO1kDDCdg7fPh\n",
       "3zFfz/WWib8gquvn2cPugUkoI/3adnWaNlSETHKO29sRE3L5B+y2Y4xUy6iUsA0IayAT1dwk0ZXV\n",
       "kzw6ciGNH7Xc1a756KXzeCJzx0o3nHQOpOfTCC8Abj22gskVOjvcQ7ozW/lkz8r1CGQkhbpeiYAT\n",
       "c7ox4vSkN4xxSxWLXcyRQLPeP24+6x5l7dJc1t3BMkmZMuhfznIWDhK1B4xellfPBXCOzCe+avAW\n",
       "rxx0O1Hrd0JYKyvqvM6q0eDpafUNldOW920g+pKPt+iofQfzFuoVcbeIyzRju8LULh6extgK8xOe\n",
       "Y2lZ6HZd1Ts0utI/aHoaKLytQEXf7UQ2mcg4bUh6eSLVVuvi5wobqLVngAM1heM+oSHKednw/36c\n",
       "jaTPNLzTS0PBcPKdxKavDzXGg/yFE/L+fGZMqIWLlucxyAy5ZEtDQN/N8DBOvxPdBXA04m/DgHJ6\n",
       "scLkVaydEi0W5LBwWt/EIzTpS2/9VV0HHfEqb3343Pp6pEsHnYOw/v92wxgiFwcLXU4uXCnMNObN\n",
       "kGCpKOVtseXVGIQ7TpBiz0WvzC1AAAAAoEGe6kU0TG8I7D9CBrgFJc614xiPgqxTd+9EVkocn8UA\n",
       "Et6hy7WmgzVy5q1RjCIFVJA6JynKyO47zoX0mf4sNoUjPM/jMvJzUdou3F/IHuXIGdhKgMFbpX2k\n",
       "HwCE6iaG2+krVbL/RM/96OCi1srPV/75nTZBGfFRJKn8tjE8ziRjgvvjNYqQhIOkAPkz4sCM76Kq\n",
       "uhvHu4sQXaRUkLWyHEUAAAB6AZ8JdEX/CxpIk8y7zQJwl2j8pQYhTPtQXsWPiLeyZPItxgAlNVOL\n",
       "+KGOd//3iWop6gB0OV6g1hdiw15DhpSIARg2QqtPcWD+zIvh5Cjz3iOSlM5HKJY72kdHOuARGGNt\n",
       "jqFNObOYsRJMwRDNJ6yz+JemDcIUr3AS7CAAAABtAZ8LakX/CydDfb5E7o3NjUAH09uuM6Uiyo3c\n",
       "I6afKBVkZmF7X1xf6OEa82LqeDFUHceSSr34/DX28KLfwv8BW2uMCoLcnW/XHFkkCFPlBfSQNma5\n",
       "m5J5MOs5VuBuP/gTWvxMZPrx1dVV+eTbcAAAAcFBmw1JqEFomUwIR//94QADOHgojqDpQAViQxy4\n",
       "32YKLn/Mdt6CHBkRYukByiT71v195NxG487Zri6VsEgG8i1Ruwi5MEU2m3M3J1BVUTP9Ifea0/hq\n",
       "m1VCNfx+46ceQ14bgd6DvxLP2M7D7aoGpUImd1oP4J8nw2XyO+jIANmavXq+N0B+NcN21d+Vk3Q+\n",
       "gAMqRCOq18v5C6gg+Lcx65bd4qB3GZm984GrrecBMao+PhK+uJngVFFb92YUtyG7zYnUHZaCQrbx\n",
       "/cEpxD8+meNcGe3cb8YHXehY4cfNpcFvigJe5NEz7wzayOOA/w6pRFgGgrdZeRJNyQdA51ENW969\n",
       "9N7CEQnQhoFfD7Z34VEMD3r8aNUWzSXNzViwIfMJonVlLp3TkJxSaHVfbp60mexHOtcu59HHW1R1\n",
       "eQadphI6jbt3ueq6EHx0uiKSpQaq21CtlANbYIvt8m+rWZ/VgS2uaniA/Gg+ifW65LLgVZ8JGK1R\n",
       "TeKT//vPDyVVBybO41OVu8x55aiyNJkeU+BhUdtKj6HQ6pkaHvG+8xuoc5BAPaYXf4oO5gAALIeg\n",
       "MTq957cstFXeviZCazR/uGLwlIpL4QAAAbhBmy9J4QpSZTBREsJ//fEAAg3zcUfI4vEGbvYAbKPB\n",
       "JEH4ICESfgg3EFuFsF1VzOCIcgdm8Uz1MeiifFA4QdyweYkGoWOnN4wwZoKbK3JDTLZl1zfBbyHY\n",
       "TpQG3KWU0rAZf0hXQ35ue4liOTAK4gTC4Uav6UZz3Cj+z+NIssZNovgsHVjFOEg5njqIDWzLol0i\n",
       "2fa1BdS6nPRiqyu6q9ExsaU55mJypEmrhUmJo9VtWkC5z9+YXnQfugzqITl6ihyREwQ0HLkzIZX/\n",
       "jQsss7sU3Uw2P5h6wDgTsab5Fmk8XTmFujgFpWiIVy9zHTpytivt56QyF5rg75b2JXPXpZf+KIr6\n",
       "v/cabLxss5dqbmY9hqxlGsGYpoU+CTeqbyOlytJz0VoyILs/PY/BBI0EC5Cj91B5zoDszJxTJIgk\n",
       "LceHZcDwmm+FrPnnldWiMJQ5Cb8S5i2BsU+IXcpB0ISqPBbsYhpa87b741DKv37czLomc5QHx1Tr\n",
       "cSn4nd549c/2s1Vjh84QmvZzxhQjeqHCwBObl7sSijFlO2iQK02F+fjYwy7divFgvzMxDqH4le+m\n",
       "51Trmnel4Ti2TQAAAG8Bn05qRf8ALWNDM4SO69qmd6AADwK8MyC5HQaUMJ/zncDS1XWIPG+mz7f6\n",
       "QGMjcAwdH6Rmv5ZMym9o00igA9XHM/vPouJ6oNzhFuuoEkeMB7SuWc2Bmhm3UdVhL5vaMggKUhjn\n",
       "qSFHSrTbwZ3NApMAAAHSQZtRSeEOiZTBRMJ//fEAAfxEpXH/cAEinurFK3HiuONapUXF4fEUUL1k\n",
       "WymXkeRUKoyqm0czpY9dt9ypEO79T9ORIDv8RGl/op+5see6V54TqY77AlQRMXCNHY2vw/YVbfOY\n",
       "CyV/NP/Nswmc1zs7JX2Uoc80XSf6EvhGd30zF2ZIn5Ag99cd+ahv5W/l3+ZGU9uYNp9eGPgBx+yJ\n",
       "51yxUcjFuTOiimdQNMt0yU4sQ0rmJUQ3+TGTnScOqcc4p98VlFJJ6YRIUizOejoeT/bdUg/kxdO0\n",
       "mMxtMvJqf09M4AY0LvtE2Pf1oYr2iu18NuKcBFrH9bZuzsF0DD//r1FIM95w5u4XhBK/1TSZSpag\n",
       "UjIhN3Ys7ASdzTnHJ4H/TnAPh17DSRVNFndlKquJdpZ34lTyQhRDENAbnXkKhLIpRZzadLF8zOTR\n",
       "Ed1Q1PjOZxN9jL2wz4W5NcY4+WRoUAgtR81n2S5TZMOChtQRpTdpF1vWdVmGYnkczKGooMhrkDuo\n",
       "8aL701Gd4qp8oL1M7zXgajxGVUVktA5unVXNzFbpBp8zpDh9MUgve6o3UkDDmMOMhAiAP4/U2Ib0\n",
       "laA32U8aroxHaQ6chyXw40jAymJ8zultSAAAAGoBn3BqRf8ALXm3mZZ+3CgA9pWXjJqRi96PDzAb\n",
       "2CgRD2Nv5CwdpmzvSPVWtIAHSFGPwpMm5oDEB9SiJfEvekzEIyqgMGMuiMFh7w6z35DSVSlkYZJS\n",
       "Z/aYToBp9VBoorXc8j59xTJ24UsoAAAB9UGbdEnhDyZTAhP//fEAAg3zc8CUuQAtCz2S+XqFF5fl\n",
       "8kEcY2HrxjkhfsCc+aH7eJIfnpJuNfoMj+/x5RDE4qb+QaXTFEggQ2w6oA1HFC5QugAb0w8mi12G\n",
       "w+xmgNH9yqAs7heQzpW8HLInf7GZWgkH2upoVHCM8bmqqr6cOct/11HmVVHozoIUQ+/VXQYs+hU/\n",
       "hPHnQKwtkJmsKlbtqczABACI3bwNXBwuNZYIkAUkTxsue5YlEvR44kx/5jz+7dkVTyhtuQziSP2J\n",
       "ewkLp1LWABDb+Ke3k7shaMxDSGr7oFL3ESBBZZiZgnEmgT82m9WXjxd3REL8JyFipzInlFC2IUc8\n",
       "9QPEtNzn5fgMl7o8f3aCyvatiNRTRtgnF4i+2dL/nBu3mWn40DEv5bYavT3xOmlin5Y1J7OEszwO\n",
       "qMaWrV+vI+DMB051q6djeqkCxdZnNKHWtrgC1StMQcBbMsFUE1Tr89Qt7aMnx2OX/1HpN/q56N2E\n",
       "6rLTruqVVrrUIh7/shNZPCGNUoJPZNVmKPNXlBzWFapcqC4/QDulPSDDKtk1tbh4IcsYd0GJq2y3\n",
       "it3RTxgFGQUKyvEAfYUosL5UcG1BFepY/PIfzo3GX8M6HPhbdT0s9jewtpOZl3RO3Ozkjdm7GiW+\n",
       "BhwROTDMZ2o7S2zfgQAAAJdBn5JFETxfAC2HO0gfCTu/VUZ2FMTACSX1fXe05HVAhg112cbt1ZoX\n",
       "5go/+x8KF9vnH1K83OcEBSz2HpJnY+sW1KUzr4NxWTGmTojU8I+twNQbWBHMH6b15kBjUSUbMWEZ\n",
       "FallRb9kX5UJREa25oLwgAsRFJgVKFTJgRpIT89O24P5S2WsHJ/9uURLE4jzMGVL5FamVdtQAAAA\n",
       "YgGfs2pF/wBWjr5CFCHWQjoJPIwxe9/JkoyZcxNdLJJLnNfGInADNaqmbwWMpVrPWR279TPsdL2j\n",
       "BH4oASej8NnRe0EpxfMjCBt6Yikv77AvlAIVPUJjqnRg+siCxmEtFipgAAAB9UGbuEmoQWiZTAhP\n",
       "//3xAAP3p+f3LwAWzy0Vuaawe5uWkwdEdiXC4KDObuKkwNmywST4aJoZAqTN51K+jClkadH787Nu\n",
       "bKDHSwQr99tLeWMxjfaZr9/UGfGIyYcyhMkVMszVI52VRTem5fdv45BF131/tForKWV3ZkK44uw0\n",
       "QZuzgOQPlMVfncKhAj40fRBv1xJ7WBM7Ob6TYWqenZmU3VOGvgPxQ8jdenTr1xrJ8bI7MJmNYCqC\n",
       "xdKhYso1NXX+/aEHnpDEwwwRYL6c8oV65tIsHue4jQqBqT2Kq2/wPHGyZzdQJgr3nfJFlTfcwrqU\n",
       "6dfN9goPt1boWCHy4pjrIEo/JUY9MCsTBTY2nWm6GB2/7rSTZYTf0ucF7qjpEMERzhn792zU344y\n",
       "HjThVHMxraid+hA3Xx5GBHkANq1AiM0GO4Lb5g2zDO7GdjtVvWg7lw9nX9EnqaRmcjbm+zB6osnD\n",
       "WV2Z4l+uqeDuvgidslBWt8C/4SddJUUXlPMDJyY8ZtqN8QPLgtlLC14ejVfFEoGh3GDGR3EkR820\n",
       "YqrHnmbslrZYBIvqSUWOcEDWujCF47csY4LHwJY3/seYYoPut2CkSzPK5FDtWnBesHegqvZt+QTx\n",
       "l3DYbywQ4+G0AbGG6MYT8ZbpWDhSlDLlv/KZptvcetZhTQAAAKVBn9ZFESxvAERql9k2p4AH85xt\n",
       "MP3mbCtEg3ISePEF3E3qjfsijoooJeUGmFMhbu/GxpUEH/jZxhJmgWIeTNK7uVnb2VINeXWAPhi1\n",
       "+id7ksuTdqwqjoN7NysF4B3CylQlbQoXuYFXefySEL3VlapeqeWxXI0DGkq6QHQe3raZWilfya1m\n",
       "JBfTwTLz8JwZ7a2zTIVRzhglcbWlKJYnXjjnWHW9NawAAABtAZ/1dEX/AFfFoe0rmDuf/81HNWlR\n",
       "9+6qn2OABKqBYgCtZ2/3pabDjqy60FgZjo2G5cs4PWllIy2+spd4tiq2IBK0JOVPqmsH476pEG/P\n",
       "Z+Xl7s6NGKA02Usx0tCO8+XWsri+H3mOg7SA2ke3cQAAAGcBn/dqRf8AV8hNPA9+i/WW3CXsdQAl\n",
       "grfmO229CfFDM0lc2H/G8dGe4O1rLuvFzKx1bg8O7VHWR8sFgUg5JCR/F/dFlFI3EdQUljyh9Y+m\n",
       "2jhlZ1UPMUcuTtqVz2IDcj8+c1RoSAXtAAAB+UGb/EmoQWyZTAhP//3xAAP3qMrBZgAXF8bCSiK1\n",
       "tkMl6jSdzQyFhu95J3fZBI4FoIlClbmW5uggtpDuQ2185snNXUoRJgIe6L4U85SP2wVB1EXD6JZ0\n",
       "F2JhdyxxdDarNSAbXUzJtc8T0fLEhz29naUNW1k1QlVjrmaZIi3/o4MgVUyNkhHkDUaXmHKpbCCI\n",
       "m8ldgeRiaLhDMLrOopwmXDKrn/3XwlmZP1gPoMT9pK7dPvR8V0eg1aSXjysZzn/N0kAp4nKz+cU9\n",
       "Wfcj/4hFAfXCq2Xgby1pOrYPVZMwQJyoNHdEV4Wo+eHKMRTWSYgohhZm4Dxb2dSpLgERnVf91rQy\n",
       "NDacGBUkCQvLF+9HG3xFk7zNsmgUhfm4Cqo+edE+7I14VwM95B3+2NVGJ/SlqKEbdedzdcUIlQN5\n",
       "w64eTblUVQ0km0y9xRVTKIROEogKW1aph+rF66nhYyD0uJsOGNz5ucEhTB10xRjGDEyI3tjTL+q0\n",
       "wylG+EoHLBYsLdJBkeIEhsd09nCZV/87HH6ITztgWbFhzuOuPgJW5CHWHNHKKKLF1uhjHZE8wKow\n",
       "pg6O7vdFzYZJHXVezetL51Hx7GQhHpdO5003rGhBFTIHl3N9xftBlyBNqX1JGzkJuraLzcqO9gum\n",
       "HIvDLBF7BP5Jh28EAaatEUBo2tQAAACKQZ4aRRUsbwBEapX/q7ZuAAWm5XNlxt8PFto2xnuqfRlh\n",
       "EimTnPH1N6P49ZxbOzPfvNvfAFJr/6Rq3yr+jsKGHjlmcr7XuRHxyLmZSlE8rsO0aBUwLZ9dUge1\n",
       "WcJF1kOiAGY4GNLeGgNXic3yuFVp85cGhrjZOjI4vIjPR9IT0J6E0uZqo1ViGjlBAAAAVgGeOXRF\n",
       "/wBWK2R4DUxMg3TxXRy2Bq6o7bPe2svMpRYnHH1D0Zacwz7K+OUAH6ezPaEl2LV9r+6rxY0tP48C\n",
       "HfRa8p8lwuYEGIsU4Y5iTsYAUH1gFpFQAAAAPgGeO2pF/wBWN8yU/qJDmXRpu6AC6dLl3SRFlXXk\n",
       "rSStyYOF3ywXQbhlolCq+p5T3/CYNmv446+Wb9ylVGbBAAAA9UGaIEmoQWyZTAhP//3xAAP3p9O/\n",
       "AA+pb6po3o57DWrBmRsB8ib+F2WuMQtegzYTZuuObP3BtIqHahtDEkdvOHWfZoJDPeo+7v/K05aC\n",
       "bBbs09HboCxBcUoHpOnHdgX/+RBwLzSiyVlPh9Pwq9fM7H+EVHW8UvOE8ZVx90ODdF4noqEDSw8C\n",
       "OTG0FEb9069rQgVBc/SliBpEbt9QeVQC8wGi/4Nap34r2rdy/oofxbUA+fPu3A0GHJf+yPID39yk\n",
       "HlgRQwEGSoqczlVKoLrev8ya62tIS8zW/9hY6qZbcYm0L83UuveqKJfmNPkJ9zmAXyliUIrRAAAA\n",
       "PUGeXkUVLG8ARVtb2tGdRFODqhXWJan0LuItYQYE20SFEJEcDVt38HUE9rha9BOgPDcKhHjXvo08\n",
       "wKonfpAAAAAsAZ59dEX/AFYxEBdRB0ujjJRBToveluuwjuuXe/Jg+fE3TtSVxNAFLva9Q04AAAAi\n",
       "AZ5/akX/AFQHDEQaiPbJCXsKSAtLQTiDnhZKFOa/6dVCVwAAAONBmmRJqEFsmUwIT//98QAD+M77\n",
       "ophABEC9lf2OtyvKVIQHnVMz+zvtJaezg1AxtvyanME2orZGEdm+HyFKCDM7Gys6/E6p3A/kgED0\n",
       "xZVwh80VgKTvtkJGnGWwzFZfe6c4JyYHolGDdGLvt9fYDlGzylRiwF4slMq8/0RQn+etjdHpuwSq\n",
       "z3PZwTgX4Pv1NgGg4CEFrFCXr3xxnY267S1S2lS/kBQh86PPskkFQsnAmAugtxEmZxV77iov/Zbp\n",
       "RNz+nr8DwI8UdkWIJz3SwydOhbpPMLLQ9hAIescKbcQbO9ws4AAAAEhBnoJFFSxvAERqo3i81jar\n",
       "f8+XkeNZgqYKehs5zNdXxe+M9WaQKkbSG3+47dEli4ikEi4TJ2W8JRcqjAIMyxKEG7r2l64e9c8A\n",
       "AAAhAZ6hdEX/AFDLtOIdaaElnzuGw7rYNY+1UbSpIZYw0pqAAAAALwGeo2pF/wBWbdXk0FyCzw/t\n",
       "QL2IEKsxWqwTp0AWX/4iEL++Wl4PkOXWyvvAeVh/AAABY0GaqEmoQWyZTAhP//3xAAP3p3uiswAG\n",
       "g0xWm+zvk+qpnDEUokkS9fhIvdi7dvOYDjJlT+sQSXS8/fCTjonvc1EWbNZd6LJ0XRSQJYllwmee\n",
       "lFJR3A5bSmYDft0Uua5MuEsV4eSO+pNJQSgARkyX+wDnz270K74b3sBLnOSV/qmgzs7Xm49iidCm\n",
       "VvvaricVAqzltWfACh/UaT9KDA9wT+BFECRbWA73SrgWBydNOS8aOl7h9Ym5SCnfTPSkxnd6JL0N\n",
       "X1j0i7+dBx8lGBjuQXxR7np360EeKfH4Y5697SC6dcZJl6ANvnHuaNMDmQyW2KW/rQscr9lJSWy4\n",
       "NBxiaSC6bfUo0u7Hxwryq+amoxd/EF5upLkaM32EhSj8/JMi1+8koh8ybZDiruzXAJYrV6Av8v/g\n",
       "9NmwKA3ELDRnhIKLlbfT8N/l0fUP/M+x+ueBLVd4WVfoz9wjv3DOD+Gp28aYe0EAAADAQZ7GRRUs\n",
       "bwBEcCppsgAIfHo63EOu4PsVkdgFAUBcwgoZpJr/QdAkxaHWGtoqV/eVHj0jQ1BX5MtzxAlXlWSB\n",
       "calXZAgAhpb9EEL69ACCuuvBuD023WdV6kWP70XZqa22X+y0LgdC24QUHYBS7H3yeySoEgdT37RP\n",
       "b8kTVywueuwUiBZUjBerkoe6iT/KNX+1JucaywDgNaV81wngeQpKO6ZMhZAsyLHPm0Rce72IKRi9\n",
       "1lDgnVx/UVVjaQSDRbTBAAAAQwGe5XRF/wBWWVstzCWne06uK4mbzTNrfMIH4O0e+fMphNgNgIz6\n",
       "X7550MMedFyhhSUwVs3gqRo2KnEE4M1HH/CLFdEAAABvAZ7nakX/AFYzyTCXT2I4ECDkACV+JYsj\n",
       "+2lj8m7gaJ0gIQB7USJjm1njCkwDLrznJVsnoXxhZsy7qjQFHXSXveOBfIoYIUWWd8cJh2O2jzYm\n",
       "usMRBCBM2H5pvGAeHCiGASbcubRD7nkeRaDTWB+wAAABa0Ga60moQWyZTAhP//3xAAP3xqLFmAE7\n",
       "ikTyY0aOhutv+U9bHH8A1X97foEkrRZm0KjT8Dhf2qTbW7PysXbg4KMHIEkd8iGO0UobGm1yixsY\n",
       "E+Qdc3kuJfuv5O2MTOblAv1zv3IR1iMThtG1whIq4TKsngiLeMdc0p+EvOK6kMt3xwZFFlJN93eg\n",
       "D5XUEeZsgWYonJAVKZKghQi0ghvXfrhCgRP8TdRMApHoFTBZHJ7O7wcFmA2Ykp3dYkiBi5FKKDTl\n",
       "nbH0RRGpTLF6X1h4lBmto+OIL6pvSp+JzvDkZi2NIgVOV3ODA/dgzXbVdUiiuBsq1YVYX97YaZps\n",
       "/CHDM2carB9z58+eYkBYgSW+KNe6O01dKJZYQ72ucgzoVBxiXFk8I/wrf+AxHQSvGDPSycSYumFU\n",
       "8SAjOAWMv0Vhpsvb8CNlDSGESQY3zS4YOBx+iAvHVg6OyN0LcUZNEIwLA/ES4cENZwz6s7nFwAAA\n",
       "AIlBnwlFFSxfAFfgkg40Mjm2a5x0YAaDWujy+uD0xgBSBJbCV5h1zR2LX2ywwHP2gFGKmr4uPD+e\n",
       "YtYH4x1Ht5QGm2SraNyrv2GWFb9biRTCcYxY91wHub3SIDJWBaOqdH65mNMIn7JkWQLKET7IkWwO\n",
       "xY+cimwiFWoLjp/ZHyboOzq+iD8mZR9rQQAAAG0BnypqRf8AVE6++8Fev4lp1I0ISgASit5+iafI\n",
       "ngaR5tbDQloSEgPswAZODVR9rnUSlKJIm1oedQ96/Tz7rzUGKt9UGGAKqd0uM3kKTVDxjOPZFI3y\n",
       "PmJoEsdmBcABh9oAC+DWF18fi2p5E5gwAAABOEGbLUmoQWyZTBRMJ//98QAB+/EPRY+ugk8udCFT\n",
       "AeAEyMJ6Qyqg/TQc/K/8jeGhi+r3CpdzQ4xBjCxE1tePzpMWCpEkLmUDTHxcRmVzE9i8LapjPxej\n",
       "tllGP/e9qGg2WjkIOgvx0LjCeuIEUr5sYdjfpAZZIs5eP3VUs/trq02WqdqibaSnqk2HR/ph/D5G\n",
       "vHbCPeS+q8GQouNZiKtV9Fb2hMYQPHSEHot7tw3wxIyT6u51AEGiFC2AbK2GMTwXOIwXGatWq7O8\n",
       "hxjqIX8uc20HSpWSdCCMxVhCX+x/RHfAa1q/Rtl7xp8Wlpwkol4ESrYPpvjOp23c4q6NGIxzC/Tt\n",
       "Qn/9R3E3nADjmiY20cZo13lwX/vyFt6fbwlqUqzzor13gLoTXmeFaSXvEJ671yjTP3sOB3k8IAAA\n",
       "AGMBn0xqRf8ALF5Y6nN2pOpeboYASO4swfSrTf/E2SDa6cpxjdDp4YGyMjrG2wG9LjssfejxtCBr\n",
       "1FUiVZREDcCF+dVUXW6SFSfvX9gnEBEVQm842DlI6Ff97nJLF1KSH6nn9vEAAAE2QZtPSeEKUmUw\n",
       "UsJ//fEAAfvvQTd2KQAMnnUXzkDucfQuwXceBBnCEZKIwjk4xAbJVFBbgyc3k65UTO2xiHpzCdKZ\n",
       "TxHErvyGtnV6XsaSjmqLxKJ5mjVUfZci6Mkmmp+qLbCQlTJy1FN4LXlN6UBDsXovhUjbGfa74MCs\n",
       "OSCoX0LdRbb7fK4g8IgxG4TruVuOAxvsAcF8PSFAdcP2jYbMjNRJoR6RbTQBdje48c+C9dAVGIOj\n",
       "Wleac2ZD10cG0+UKZIT3ugGoZoc0JI+5r5FgqHGUUjhRyLW7cBZTLBmdHuODFMAoJtCZC9cVR7mV\n",
       "MQBbckev8TY3TmypmRGHf5frHDtfwboWp9z1nChtL6dNwLrEf7Zx+rq8GWRsN7TEBgW8DU18eRld\n",
       "2OnFEE8N19o/iTYTg3SNcQAAAG8Bn25qRf8ALCdfbM+fI+PAB5qQz/e9iwcoCivKom86LqchjEuY\n",
       "E4tD7Pgi3CkFWVqeUGwuSXcOsbXn7lcD7j+Q46TotepcqjBDJyrnckm6vPFZL3N4CF8iEpv+BOVK\n",
       "PTAcmPxCCdEuhHLXyMCn4GEAAAGDQZtzSeEOiZTAhP/98QAB/P6UrrcqADLNjCVChwRnRZW1+CSg\n",
       "et1/Wy84E8QMgIlhe78imbooa/lMw+6vMATeyzFAFya2sG5KcbQ3Xoq98npFaAKD4aKMnJRHOOc7\n",
       "TbI2SpCla2+JHhcAegwz5dnqT+1rRFtDCqXkcKxbLYwGKSysTbUn4R7WLKVlBzgeFIPdQlqJ2gkP\n",
       "Vu9GPGv2IKNwHH0eQDahpxuu+Bf4bzQJ9Eg56JqqIFdZ6Bfds33xB1cxdiSULcTMTYER67pOBVxD\n",
       "dqqDGSnphIFaRNprfFj39ufgZz+npzKDzSBsnHxisqVgOqSHD62Mlf2x7Lj6ZFvqFz4jUotKdgtH\n",
       "cGP09XNpaAnnPhpkEMq3ayevMozrXgebBlG0ue4v979ILihwArJBiJRA0N0iaMcjLPjiPDlWYAKy\n",
       "k5VMxNrACGm7kJGnv0WgFZrjC02bxdE18kZn3vv0ZRBzL1Exl8Rq3x+dXkfTpgGw8t3et98rcOS1\n",
       "4iwZcrrOA8NAAAAAskGfkUUVPG8AIrabb0AJDhuMu0hsHwaRi83o+y8eEk5q9hHzM1E/FKC0x7kB\n",
       "RIwGQhK8atdTqGIGU7qBfe5KcLMwPLJbOnsj7fN64YFbQUxX1unJ7jMY/RSnQ46jYOLytefzSYtg\n",
       "iJ7p8TALqXWhD47chXreDWzMQBiIZslMPTPsYsY5ZIoqkhQQgk4xJEmuOyfKjOlmjIXZ67NpjuSB\n",
       "B+2z0za8z2tb3iYkPQZWEpPjAoAAAAB2AZ+wdEX/ACxoLY1r66HU43YASPLn8OwI0jh1AuZ27i1x\n",
       "3pqyCVdv88Soy3A5sB8eWTOnQL24bDkZF4XVHwlMFFnvnczMkrNY0ToQkz3PhDFbte0UAZ4N5iC8\n",
       "AOeNqBsI0fZxXmO80by/wEJ0Mk0hRuGGe1DiZwAAAJQBn7JqRf8ALGkaiPw7zviq8BgAEa2QNeAe\n",
       "Z8jg0UcKzOPS7goFQskkTIEix0baWyCkTOKGXhe1lIVnLH9mjh0Gg4WFLvH8WGeY+8C4BAXu4Qqm\n",
       "aXUFL0rx/66U08raM8SUhMCleQLMd1Bp3maYJ8fjJegOaS0znC069fKhqSGSMV4gWWGVXaWx/q4n\n",
       "MIT/atga6QVUAAABT0Gbt0moQWiZTAhP//3xAAH99PgANbeM1uzP9/h6pifXnD4AM3OxTqlrMdsj\n",
       "H37bM1hcXXjtiCU/uwruQHeEeUUET9wfznnYA77AfE9WozXwxEBSYKZLNkEMXxc5s7p/KbUgVdep\n",
       "y0l5XZ1dkwi+nNIA+f23pB2IkqhgP4dwk0VZ6dT4Cg2LipkDlKBg5z5TNzGj5TF9kmzf8u5Q0YbK\n",
       "Y5t7KVHiFten97QKsgdj8bRd3/QC/7MdBrTTX4dHgwdKSOfX/G7XPQyVbdinnVsoHz9BDaqLH4nw\n",
       "SkhPdRIHk5NKpCqWL+CORNdVK1WiRPI+3Qdk/cG6wKejsAwJLE/XXZAKehvKHEF0g2YZJVD/MmPe\n",
       "mXDUo7kjg0QmY+UO1/SF4znVmx4OYZ5uUirw1VYNtYDdSnBb3MT9gV8g7PTPpR5CfA9k7wZKEoC+\n",
       "XmlrGD38AAAAyEGf1UURLG8AQVvD/F8tqABm0d0oK/S9xfi0BDmVl23scADO50DIUr/dlxQAoQ8o\n",
       "ClHFkB+yXtvAgIKwlTZFYsSkBYDjxxp01vUwXQR6GYuh00ZIH5Hy9l6i0c4D8EcvPUPq/WJ+PjVG\n",
       "kpZ0PuBb0VoyjcwduWxQLv6vO8jPV9QCIFcB3dtHAUbL6FYKLyoTn2b9iNKNNXI+8X9Hcdd0KU8x\n",
       "X7mmGJoAwrrhSu0FZ7t/BWqIJkoTyiQcfZju5H5bWMExno7TMdPJAAAAfQGf9HRF/wBT9yEISVzC\n",
       "pq/PAsw+gHgKlJSFOls9caAEl8aDoxhYJqJIEhsoy+QrTKRgw+wyJPwOF1e0pBt2jEq9Yk+9NmZu\n",
       "ZrO/QCyOF6OgqE+R8+RAtAk0fGOB40ipnfX1Quq6ECpDa4ItEGxwE4Xx9zzQjX8BMEQ/YG/AAAAA\n",
       "fwGf9mpF/wAsXjeRAET+Ao+IeM4vU7+GIbAi39soUCpKVSmMNFSBmcG172GH4bnQAk9ojoliKJl9\n",
       "VouMpv2ltf376Lx6V6PwXEJEntkmBjzeHzV+4NboavjBCmueyvAwdsXnXZzbWcmFnBAaUo0r/LsH\n",
       "ynfM+4CHFJioCdqgzDkAAAFEQZv7SahBbJlMCE///fEAAbH03cnqcIs6zNUpn5ABdEcP2sEDaD/A\n",
       "kCuuFdLkRd+ZU2tN3eizJhXNOgtpt5svzyIThvSFcrLBosqMuQl4m74FNWilD33JfBRHjZfZjQcU\n",
       "nV4NjVO7ax1i4SR1k21+Zv3GZ/vUI1ZFYinyw0Q9hhDOQwEQuI7/JMJ097avhjY8BnilxCBU8c20\n",
       "bB95dKkUcvw77O18ec+qndlwAqBgNdgCERnyxyNqGTpkuGgbJexEudaAaXFm+3rkHDIThFNXoz0S\n",
       "nD28xp7UZSaFWh4Bap4EDLFsl6yYAf6zvzA9/iYOUy4lwOAAsG8u+kA/hAoXRWFhZp/lTq0vpPqT\n",
       "2B+MWHRK9UV+O7BG4EjDJCOdJcVBKBkyOc9F8w8IqvN1aFnebzu5cOW2RRSqpc2FG1FlqcrEGqKB\n",
       "AAAAv0GeGUUVLG8AHsB6gvDvVBqeIASKcFBdrZFiOO6n7ByKjQ92yaBz9RuVYulzosP3mthkL/ZF\n",
       "6KlTkZYzBiC9oLTHpcipPNvEYYJWaDcKE8fyweGahLGBlevgQfrbc6Q84uMZsvhEVzPAv6o5oWJJ\n",
       "f+0n5MZhJjXRHMDiRcMnceh+17xVT+OSxE3mrrFloxF6huQvqegYpxzoQx+ZsqmW6crANn6b8Sw1\n",
       "d9cdqukabncPfyhg4Wlm7owNSTz4t4YcAAAAfQGeOHRF/wAqpd0UZTS0iAcs+Z+gAB42Gh1cinBI\n",
       "jMaYxSZele4rxG8E6rR5kmnDxkbFD/2Gj+i/8R2LQkT2oAL5w4wwM8R5N9X0p9M9fd40waE9zh7N\n",
       "hDnYYLEJ4Dezqp+PWRRQYuGS5LT72vbm1YjtAIa7DieXN5scDqmBAAAAcAGeOmpF/wAo42Jm/1zd\n",
       "/AMjNq5lr2zXtkYgASonroGYwylxn89rN1Jpn/W3xvoxVg1MytC8Yve3/PAoo70V0SEBQxcoOTBv\n",
       "z0B8lVPBJKK+3tPOZAhNqCX7O/hQ0AH3SY7SNWYKtkGUKCfMn4rHiTgAAAHdQZo/SahBbJlMCE//\n",
       "/fEAAP0kJ4v8YQmI24ALU7cduc4+bftz1iLhE0uYI2CkMDO51lk7qEXDLltGNQgAkWLXmWL41w3x\n",
       "5GgAlhf4mPHkUMqx9SmbFDOYAjMfkdTI/71kq3TpBT/kSAKUuAzqLSqb9Jfb7XILlFmK5AVDHeKb\n",
       "7RzJnCj+40Atvvwvb+TsuWsPlG5ONeOxcc8rjBBrmsGqh4Gie3csFKdraB/N54SomxpoT3uwMLRj\n",
       "mq15eYrauy9Aj+zwWdNZokgUJq6+60t/HK/7ZFZ1l1KeZSt+EFXOi4yYXf5z4u30/xvgkCTOBCxg\n",
       "tg3QrwiecEiOk/ktpLAjoxP7kLVnwPmzxP4s6O1OdVou6cAjt5J7DUOfAYyoziuwYtRdnALogl+k\n",
       "+ftzsPISvcQwsJm7dyJzhUV53ZmQh6p9hj/HcYSdrMbxDe3nXs/tH0D96avExUnoxEOZ0T3ro/fC\n",
       "jdnGyjcyFHJOZEskJCLxgYpFaOUoZfdkukTjzh4g7dl5B8rGlGsHaQyYaiTmPU+0gZT8J+tOh19i\n",
       "vQcY/gwTxPVCezwO1TMLq/W8IYyUVlJSQb/afoVnwa8jGDULxIjwx6IR7Sj0rb0BOy+2723Z5/ZJ\n",
       "R7N5nKuGEEHBAAAAwkGeXUUVLG8AHx+4XSwmJH1OACDh0lINNP6fE8ydorKMRNnMOLL7UESZo9HQ\n",
       "8j+q0V0TgurgX4hAIlD8vWWhF2efmadEfZP4vXYFYEuDlf7wLzgZ0m+jpED89d7lFUk551ltUyhV\n",
       "qolwm3cLQqkwwQlI20p8AtKEYTOdnhg4v4NCRa3LDKGuv02SzAirbgBMlV0xWOFm6P7HNz6JlrR+\n",
       "k+IS2/2EaYWntgHv2Lxw9pf1UkKkSOwMV/gXIoGi1N3Wlea5AAAAdgGefHRF/wAnvBe/DPBMYsgB\n",
       "BH4sF/U4aOv6jhiwrAfJTNkDOEmcLc32EjsDuzI2yMeJLB69GB04dw3VSOwUQdmnp2thy3gtz5aI\n",
       "jPR+CsTNEplhu7RFNcJzDGuSvhtF14EOA8xfkrZ1brDL2DRjjfSucSpXkXcAAABvAZ5+akX/ACfZ\n",
       "5/rZDDoAQon2m6mZx1OmVXTkIH+6JBMmGOF5CZ6oNqdoaICAHDigKTYSMcOaYE9Ltt9PP6emlDdc\n",
       "HRw/cXxg+oaKbfFVw/DSX8IDXYsRGYM1RojzJQxW/3QsgKL2omdNZO2MSpaAAAACKUGaY0moQWyZ\n",
       "TAhH//3hAAGcTdbhdQAWsuBvY3Pdh1mcxHwwzWTdosJbdZGrnB3TTh8l2hXDWerRQt1WwIKEdphT\n",
       "hT+Dxc7pt7KBcsOCck42TX+mLHW5lCgWBn0z7qUm4lR992adlIbW+dWFXgqUzaiqQ51lv4laRYEG\n",
       "fOkm0BM05EoqHKMFhhHNXsjQFj1XtDoWj5TslgKRGSXpbLCv4DoC3/wXZx1llJvbnh7BJyMUd1r0\n",
       "lBWEdUIvG3Z++9RMdIYgk18EQK0hZaqN2dxWfxj3QmCOkebJt5gZwUPkc6tQIVEVu2W7UFGrjf2v\n",
       "aQZmx8vHJhtmEVovkp0/WwWPeU/Mef0y7HqYJxzPTmeigBTJ1oj+AXwhtCod4PHeoLNmzrtKyeuG\n",
       "RRF+mQWL7jgOHnnpX0kdPSD6/m3wQSOes06MFujVjle0MLRfPLXoc4E86FV5kBciDEvqc9rd6nK5\n",
       "UtAT+kNuudWyyWmfQ/+cyzHx7wLDemJjnSY+jPzwQJ2/MKqK0vzGBJYG1u8ojj/DW1TnFSy00WxO\n",
       "SEd5yL6M5DU3IjXTE7G4SDSXgzHvtOgYfhYnYhVat7koMY8jERQ3BAX+fVj2Ha+OjOuOAdcoC9Ua\n",
       "paW4iIcDVHOpSmPtTBDxY7Wt2UtYe4H7YQhzeJ4+HNoCJVJsOTUwXb7AXp3vPWlUcBUj6pE0Huy9\n",
       "l1KrvUdHFyk7Pby4PCNVOpOZ/VlnMYxJzznkh4r+p4kAAADLQZ6BRRUsbwAfH7h4RaDwUc3AKMM+\n",
       "DiqVY1JkafceXYiy/kRw1t2WfBwD93zUfROFcPSOquUNAIuhsMqNQzH/VPY7xgTaI/DP2cFsjLMg\n",
       "4wJhiLrWz7iUHXaSCLBRC5aSplscaPNeHnqIQZU3yH2PKaP7vLB7bO2RF83qZtSJItGFge1uwRft\n",
       "dfEFBrpRJwWKmhWNpUo2K+H9vP9xFZWcoWFQSL8Jma6CL1Fww+bvwJL8wP6SYDVNGPLr+hGWpLhs\n",
       "yqhk/BbneRFrtXAAAAB0AZ6gdEX/ACe8GJpZP+NztAIBJSBnKFzoJr2QJo+u1qHzHNP3rYmBix9D\n",
       "3DHLOAjyoak/gR8JJeMY6ahk74pZGDDjFnwqexsvSu/FLpe9+OVD2GAixpu0LkohHhhthdadXmMt\n",
       "Bby4ehwbuzl5/l11xih7Y0EAAABjAZ6iakX/ACfZ49cM178O65/wXHWurhQAmIveBZtxpwGvjklL\n",
       "YQWLUGDgg88rV2GJgh8SVhBFCAp3Nu/j10QMUDaRXjkB+7PZyhTw1YOy8sFz4/zeTzYGHZ11tSdk\n",
       "4H0fIJvAAAAB1EGapUmoQWyZTBRMJ//98QAA2P9N8tUteisUBsvzC1dx7Bo0eUNCGAjQIIubSAwe\n",
       "MKOF9d3zDyAhftg7XXPmLDJkquhW4+FiK/kmtmXpkfbZvb8B7EeyBxaLES9oa/2RYmfxcUlnbDIr\n",
       "r0zYvIv59KkUzvjrCF9kz+9xBZvpGOEPAdifx1WMh9LdNTUs2zIeIyfbprqPlpRfYBtwvu6r8jeF\n",
       "dus0AUuFv70bDPA/1DzywYDrRdy5dr2HpwKjnMLeRvXOOXQ/UuD4Z8aKnktZHuQr4EclBP6t28xn\n",
       "pbDS2Lf4IBPOv0YufUSZA1slU0JctYh2DXlHnX4uvzs7fXTuOJKiagEkvIe8LBVej/Z0L9YWIQ+j\n",
       "7aVhGvPWl42ZWPQ0ZQI8U3OostTQhMdfbUzuME+zJqUgCRJ5iJcX2QhgOHMRdCa6yrl21+06sVzL\n",
       "4+8u1CWf2gH7qfw6ZaiDVeZQ+JVOzwagvn1t38rFy8NosuMI4DMuJempsThzX1V0NfxDf1hQI8o5\n",
       "xHyaFLr5EF1gv1QmNamS5UzgDMrfb3u7n4qNzGUG+N9fxtHWC3ZpYafnDfU7cRFLsV0ojm6Vwdjm\n",
       "2aro4L+H3YxmxACRwPvffNMXYbUVwQAAAGUBnsRqRf8AJ+dvHpZY1IuLq2kYTp8jttChtnnCem8A\n",
       "HnaSmglkqMRVIlT6666IcYIgkwc7Br5DsJFUg6xFrdb4Ct1704RZQjnHasqzIMwCfSWV8E4JjKG3\n",
       "b0FcW1mSCKeiRSMyQQAAAhVBmshJ4QpSZTAhP/3xAAFI/sthgPZaKc4jdO/JGQYAbnm3z8WK11HF\n",
       "xo1tchURIlYrYeNh7kFM7lILsTGecK7kNj4Er3lymFqOfYVOezrRs7lsoZfIj6ZLOmJJTVhFDPTv\n",
       "DRemHHEudNOaJqRXtFbZhS5ukl9GkkmCeTvTiz1pO1qxL1hK6dkJFRbVuWz7ew9C9CdyVUNYcT4e\n",
       "XZFuzeVn1glSuCp2SNqvWqgqKw6WVrAlObEyJP9pqC/1TBt18La1S+RDTp2O0MHK0VvVBe/k35Dg\n",
       "a/uU8jMi+uTCUg4ihgdQS5xcY2Q972foOPUVfw0hUiTNCYrhYpKHeaWITTo1jjokmjku1Q5Klb46\n",
       "CVXu/5VSgT2kAO1sv6+6B8z4y7cD8FZevFm/hgolnr/NKnUMNQCDlHsOvJho3bisyAUSvFXdodeC\n",
       "LiLPCX0p3jUP1zyDi/EzdBToOXr2XqNubMQIyefACPVLOVPxqyyWhAzlv/lXaOxQ74aGFu3XGftk\n",
       "IrTksA1X2d9ietakseAuPdUnypMYWLs4apjRcTi9+sklyNW9fYw8TK2kRnaeOxNpFLbNabQhmzdq\n",
       "tb2hmpiRX2u1nVPsAk6yukJfYagXx8dFsShE41np06c7fYN5mz28//mNRkE+K8CqmkV/7epnQYPT\n",
       "88BhXPbNbEaosaBG17XQNT6BnThBdc+p67V03JAtKsEremTyNQAAAIBBnuZFNExfACfgv3KxnLr9\n",
       "rIKP5LPAneA1sSN/vgA8EemdiFyUSHTwd38bImI/bTdKR1yD1TjUrr4eYMKDycNFziknb8lBSOc5\n",
       "Z/+RJIBCxo4AJIt8ixX5qkpkrPy3vBe6Rx7RBC43QsEr/l3+ydXFGHs9j9H+RvzAcBOIE0Gn2QAA\n",
       "AIgBnwdqRf8AJ9nyV3jKJsrX62r/nwhxoLcdNgAE1k6ku0jDvEUgqchDJyKhcp34m/+5KG3KKptc\n",
       "NV4NsaSNvKhX+Vi0WsJwl2XIbfWwgDW4OPu4OqASh2e2987n9giBII1kTmOfwpte1oDbC2DTHFTB\n",
       "YdDYFCaXUsqRVotuqzWYnSd5OR/Cq/duAAABwkGbCkmoQWiZTBTwn/3xAAFP+hjGCJ8WkGYZyXGN\n",
       "eRxsUQuZq+ZyZTKzTfcHbJbyct3Tg4VBmifBy8A1nGGMU25/vFJvV1mVVpWK52uQOhZZVHxn873l\n",
       "v9aPb8vdi8weoIr6xTNfGvnVi9DMIQOUSB2vy33eJAsxdGJcv0kE2M7XJMBqbr6He6GmDjy+p45Y\n",
       "/l8g7hrkKvyQOHR4VzSCdKtt7KAgQWVSJk7ll7eHaDr0WGVkimr8H3gKLpuOW3VkKVD4/FgxfTCk\n",
       "hB/O4cIkiKsOJOhEuye+t1cUo9uXGqTPwPIXr5GAbrJnxvPrem5iSv+W/qFH/IKCiYMjtPVMRfGu\n",
       "jp0FDnCEHiR87sCi0EX+RPHwlFvFqAjV8ULrrM8L6y9ncRHSQ86zyfhXrlhUCCrh9bhgvXZ+NC0T\n",
       "BzHo2EAqOd58B/Y8fXkB2K1u+C2VNCm9G3DWubyBwMWjiG9M3L5mGJItXX2N/op8eIg9BgAXfavs\n",
       "5WUk5ojrFUT4LXu28dRuHpAZEf00nGypb/JgbcSigX5pwz6phSKCXXR130c2KZe0C4kxZiOvdNXA\n",
       "/EQBzpHEQ9y/1twxMJy0IlYvckVcIAAAAHoBnylqRf8AJ8MbseVRRzSSv33kvZhpczdOspE8x9Kb\n",
       "IVoASqgGC2GKtVUMKhvWCCQJpFdEY5+mw0coSUKTqjoclWbHuanjVlhwos5yydQPUtw30dxw+z7r\n",
       "kLOpiYEK/McvQ9t/j2OgmjAoMy8E6ufgib2Tx6Hv3e9fgQAAAclBmyxJ4QpSZTBSwn/98QABY+T7\n",
       "aF3Q2pL4twjVcAn4jQNvd8GA4ipAU3bbBzVoCIufGllG5gtWLWWLdFGD4zLNeHjXGO92J7z8px6g\n",
       "YiNKzVE865O6oFCEXoSohvl3kkGT54EXsCB71wSNZB/9idUBaBwJlVSd8PKHZQ99sNpuaoXl8lwz\n",
       "mOlCz/7qGWz0MWm1Ohp9uojaOJlKefLrmADhVOyE6yp17xUxxda9k1LoETCD/iYk5isf6oTbuFHz\n",
       "KlPcb/mecB9B+/mdtyc9iG/ZJW/H2yxoiHr7FXUbacpvW+0ia2fqNfG6FncdC1uQ0SRrc48xKyEh\n",
       "RsR3nqkmALe4s34cd6mJ+GEtIEXHShOmiFTlvtyAlVxqgFJAKe6pNQUGbBh20E5Bg4mAKjE7Eb4L\n",
       "sJ4Sm38VMyHE+pmG8mRcGpCGVZv72ddalUXOe94gxEnks+XnbrwSXiKXkELdoU1rzWK0kV3HIC9q\n",
       "HZJl1JfoRwl+wtrtXxfJ35UkRnrMwHt/XiXQbnXBLqLR6B8UsPtelU0nNSFqlifdgsD51UqOuNED\n",
       "babyOj6GB51Vi5EQ1D92Np/mfzPZFnbxwUxVPI89ghUZp3wWSKlBAAAAYwGfS2pF/wAcVqAlYGK5\n",
       "hKuaA5JFCfQ4ccJgci7wAlae/MHIotd2mHTFl+AY4b5R3GoRbCts5xOaS3zNPH4mojPhSlck20l7\n",
       "m3UokiUAnVtlcGSbw9LB7slhLzINbZMtAwKkWAAAAgZBm1BJ4Q6JlMCE//3xAAJt0TafGQixKNkz\n",
       "CPDybHNMCiobLSY7doXFHEBTEAv6RAWmRzRWpnSlRuMOMwMD1IynawMFYrFTo5nsWUIqqQgcMv13\n",
       "UAfOQ4ip9SJqIKJOF4Z9A36aUbLOGgIxPDe+Q21PdnWjVcX8GkIxv1SkQjD3X0EkDNGj5BqsdK+y\n",
       "uwI8FCPYXPwDVd2sr6kcdJJBmbG8TNwO7O1hD/GkpkMx/cnobDAVHHJziQzE1/KodgC1FPN5H0Cd\n",
       "YtuR7CrJYB6eOsCCIcER2LHsfCRtFCnw6ZtzqYnA6BRoPC+bcu5XnRkeMUQJIAA1pvIvry9rMz4B\n",
       "2tZNrC+in9wYSoL/hRCTe5AdZh3O6ILHM8iAe+Lz7uu7DbXGTt7NrcVpP7abGgCbCKDHTrsSna0H\n",
       "1iAnUXW2SAlPFf9qeGvzn4tfxeZ7/CEjPe+eeg3SawznSrPI2Pw5I3EWvRJTDwBEc9NLlhf+sCkq\n",
       "7vbaktcjq1l07M3aD3oosCqfkF9my7ZUt7G3ei5DxEbR8epQjc3lkNKn3GzjqhyA4kjJDaRpHYId\n",
       "TbiNKcVLzvhtktJfZlnyXv0oRhcsoHnNtx5BljjXagBujmSGOaBPVO2dA4J8ShM+fUxYMJ24e0LJ\n",
       "IZN/VB+JHqWnBLQ9lytVBi6ABJ8C9bafELOi/wSvd3W3nCGHgQAAAJJBn25FFTxvABiJQkqQX5uR\n",
       "cBhvLbmziNqQFzP9fbhEPabOR/gmCv4uWBNfgBYkqtkz2WiaIBkj28jYevNAJQglwOpArSxDKGs9\n",
       "mmrfnek1i+kizasrwkgd9Kiv4ltqklOAJ/IeGJHR6XeqcoAfHLN1k8mUqCuzbsxIFhk+t3s+Uktg\n",
       "/lUOecAYKbWZ3FBTzasiIQAAAGYBn410Rf8AHmuoa87E/WccY4dITAJDqJ3M9Dqgktymg/I9YAJ3\n",
       "el+HINhuUl73F799rLMj7lZrCWpG2qLa5qCMPDp7F9zbm5ret3IqWaAugI3XEh4RObHz698ZCV/N\n",
       "7IixN9XqEvEAAABaAZ+PakX/AB5w8Z22lgLIdB3MoCgASfDLGvVyg1fe3HPnt6az88je5dGe2SxK\n",
       "SKXTl69EhejdlWgCp0BVfRfsRdODEDuCGbbxubqWNQAHjqPbFGV7/Po06Qq6AAAB00GblEmoQWiZ\n",
       "TAhP//3xAAJpsX19AUadaAbe8ypt7lF0EiZEItz9OV3uQGPldJBEaUulybtF7Lb6FlFMs9BEwBYD\n",
       "/oWpQZUcZGznU3dNUZ1Ol/jwIeBi7/TwFqBSh+OgTYEYXViCRkVx/qiW1G+yxvx4X68qY1EKo4dy\n",
       "cPwqw43xmB6MWbZXjCHsC/dywiqRTTEwRPLb3L1s78z4UFrhRtW0k6ygn2aBy9M88E2rOOblqXur\n",
       "1yqqGMbUSvwo19d6+V4HMBF/gGnq0A1OMK3vIfgPVTBBB/+MO2r2A/53vDL1sRQFVqwok+xsfQQj\n",
       "utb9Z4YU3qw2N70//Bq7maDcvSV+twkPWNNjEpQaw3MazU7ODyQlsJgWu1LaADeuNHdFRQqS7EEw\n",
       "0+s7h/Y4jZvN+OhIKuBHI8gijWxhBezcPowZ4sx8UYHY6cHix6FwtxRbcidwbDgd/I5gVgVNbZb/\n",
       "NltvQ4IJX7OpFnCiPHZh2z9NLHnuGfEjbzqGC4SIOTIVenyv6B897xZgMYqsgeVL2bS4CVrWCfMe\n",
       "iPGPqvv5/r2Y5A+9TtImqXSIZ6mqi4u+cdWrUqQngmULZcCopKfvg7xR3CWi42AABSox/5CvpdtO\n",
       "WOMoAAAApEGfskURLG8AKiVIC9VSMMnjn2KBQAjQ2CGBTEK+2gbza431Hcqyu5/RENNCUv1AlZ0Z\n",
       "gcYEMxSkuxJ3F/iwS4f8jf7E0zYFdfgb7HeDmyvJ5ElG7f+4gjIO2v+BLcSIVD0tNm984ebfLBP2\n",
       "RiBRilBhd+N377tmskerekEk5uNdR+ocRMJZpfEaMC4OgmljFZcvJnCYdaUEJETDEfBSn+Mhe9KB\n",
       "AAAAWAGf0XRF/wA2GXqvwUDXH77AMUo5gjYAEqwD0Mf1SWKIuapS4g+yxV20i6x6qIv7VdXRmvPK\n",
       "kXF3mlMeEM3PNzsC2RCmNhQrlh6uwT3ENxULPy0u38T5WS8AAABSAZ/TakX/ADTR3Kw+26MeS6IP\n",
       "KFQAkg/OfGpLNYyMVOxsfHzMxtVZaRAxNiH7Hi8uADrEfi+0cTHq9KrX/uB8IVjG7cPAAcYSuk32\n",
       "sNa3ny6GwAAAAaRBm9hJqEFsmUwIT//98QACej7sLJkjeVlHvgtPmzxpcA4BETWHyqJQo+zq0p6o\n",
       "d06lg5F9/rSvq9k/evUzLQtiExWTSbQ1GnIfdgvBFldbKFyHpQRruIvIyJBGbhmDAALalhh4CuhO\n",
       "Ff2zyWFlXRc6Vu0lp3ynsE/y6KvwNI4Yp3Jm4rUdm0O/dksvUuF+YNlX3MBgA+C4r7+FwE0J4xg5\n",
       "Nf83HeHnCPhuI6nTQd5lekzbci2VX6j9YGqk1jINaGNt3HzMZNGS1FoJVsJ9dJAES6vBpkku2hRg\n",
       "OEDZw/x1XXgoiBN5paDDVxya2hVilYlPzj0PAyFpbGJoDLIUllyyG7lcSlqGXkcsbNKkZfmoRjLm\n",
       "ZoLuWCtI+IO7oEj1FNCMb00Ws+DVssKamqqxupfJiOetUd7CLNAtiJRg9pjdWB9xAg9vXjRMV3sJ\n",
       "YsEcBudZa679FKVDejpPGQxI/rRQeS9Mc9xj5yJx0YhhN26oh5jRXp4lGXlKbHJr7PkFoSB5hLeP\n",
       "K1wlDBQMD/itORBjvDuoEPw91wWLZrC4+2kXquzgifkAAACQQZ/2RRUsbwApf1nx0RWZu7UfsMEA\n",
       "DR5k9Jb9VmxaqScID/BRri2JvuO1MDllVPbwwf9Fmw+EtS6MhUv5+vHVtNYqQrTgTEV0GG7QeKLU\n",
       "dJGGVdpOdKc7cgZmrPvmyf4z8yUt3QeeuV9IyDfvk+XLHO+z3KTvmc6/a2t2Ktt3YwvXTxxQW6sK\n",
       "1oMNAoxwc1yEAAAAUAGeFXRF/wA3WhgY77sg/fKS1F4AICyHz9hWABKNOEAk7jpX2iSjqdShs9DG\n",
       "xGpZf1paOJAsqGfe1Yp6UwU98T1XGVn4b0OZi2CL8Lu6aZFxAAAASAGeF2pF/wA0rm0wQAw7WAUW\n",
       "eWlsU/c/8J2d1F+ObbKANtZqHk06CaUDJYAEqH56Yd57jOvOmgNQzaN0ZOyG3O9X/C81NPPhIQAA\n",
       "AVVBmhxJqEFsmUwIR//94QAD4g0e1deATXoq55fjo1B35QfcZBDxkua5WcVxjOw6XfCh6y/Hr4qv\n",
       "hcG1qSi3Laj0YXbkWBJINz9ws8YUy/p/XEHGDfx+mpjkxUe/Lh2WT6QTHLQ2RXJfnUnERzqYRTnr\n",
       "JJDk/3ZRQOzR9tB9KkJn/uaEPvO3ncduQTxv4WsLRzpJaJghhcEie3shmzp8v3xDWrH+dyYItBj8\n",
       "iEY9Ku+/qvLbpnB0Xk/NxVdais2F+Uxpbgq/NksZNlfsmj/3ng5h+Nmoqv/7HvO8xjlA+vmbnG4/\n",
       "IZoWkJ3QCjR2DUT9/k3vBZwR2gHkR1fXLUlNLZMR1RYxi2KoSsvKhclbbRMUl2lwsaepAzEVOu8Z\n",
       "6zEqkiHYrcAQjpOUM1bbuoMZNOgJce0bQGctk6LNHiZ6RPyEXqnYsl9aQltJOo2XBf7D9zmx5F4D\n",
       "OgAAAFpBnjpFFSxvAC14xMfCJQTzhE15ag24qEmX+Ip74tj8SdwqUSythAmbGHdEeiHDf7zIAI1w\n",
       "FrcfqHZrlYFUhpY155GGGw+ppuKiRqMs2lJOYJ7vw8j1WIBBJD8AAAA4AZ5ZdEX/ADi4pnIuBM1i\n",
       "8XNFdoTYEw3HyTnLM5DNOYbizRJ25gAlVRo7a47KxVJZlLWlazVQS2YAAAAsAZ5bakX/ADjCQR/E\n",
       "ba+ayiS4cuSX00ItSRYRjAWGEQJZwKiww2lk++FUlHEAAAAaQZpASahBbJlMCP/8hAAIqPm7Ivrj\n",
       "Om+H4V0AAABAQZ5+RRUsbwAtf/UrN7VjYh93LxoAI0bGhfdI6T9QXixbmITOb6qBQAH03yWVARAW\n",
       "sX1pl7D6MKeLF23Mj75X6wAAACEBnp10Rf8AN/Vgh/kszwOUkdYJQf4yhDbXoL4YmaEf0HgAAAAg\n",
       "AZ6fakX/ADf1X0GFiZNChBfwj0vl9iKdhYZUF7BNBA0AAABsQZqDSahBbJlMCL/6WAAdwsCgolsA\n",
       "A8LbMyCNiO7QvryDAZtfCIdDVMVM5Y+6JhB5uZCUHWcgBkYHupXUycpVcpPYlRyM9xekCHSi17/6\n",
       "WnacfprtIVRmGAaVRbxLITbG34XGuDgx0YOYaU3YAAAALkGeoUUVLF8AaXXTWYYW0vQXB+Xvg0PU\n",
       "ERxJtBUlkn5UJND7eQjkyDAMMisyqzkAAAAsAZ7CakX/ADf1ZdtTDzsU3lj9cQCAaVIwR+bn1oZq\n",
       "/1/rIAM2vTJY6qCA89QAAAe6bW9vdgAAAGxtdmhkAAAAAAAAAAAAAAAAAAAD6AAAA+gAAQAAAQAA\n",
       "AAAAAAAAAAAAAAEAAAAAAAAAAAAAAAAAAAABAAAAAAAAAAAAAAAAAABAAAAAAAAAAAAAAAAAAAAA\n",
       "AAAAAAAAAAAAAAAAAAAAAgAABuR0cmFrAAAAXHRraGQAAAADAAAAAAAAAAAAAAABAAAAAAAAA+gA\n",
       "AAAAAAAAAAAAAAAAAAAAAAEAAAAAAAAAAAAAAAAAAAABAAAAAAAAAAAAAAAAAABAAAAAAbAAAAEg\n",
       "AAAAAAAkZWR0cwAAABxlbHN0AAAAAAAAAAEAAAPoAAABAAABAAAAAAZcbWRpYQAAACBtZGhkAAAA\n",
       "AAAAAAAAAAAAAAAyAAAAMgBVxAAAAAAALWhkbHIAAAAAAAAAAHZpZGUAAAAAAAAAAAAAAABWaWRl\n",
       "b0hhbmRsZXIAAAAGB21pbmYAAAAUdm1oZAAAAAEAAAAAAAAAAAAAACRkaW5mAAAAHGRyZWYAAAAA\n",
       "AAAAAQAAAAx1cmwgAAAAAQAABcdzdGJsAAAAt3N0c2QAAAAAAAAAAQAAAKdhdmMxAAAAAAAAAAEA\n",
       "AAAAAAAAAAAAAAAAAAAAAbABIABIAAAASAAAAAAAAAABAAAAAAAAAAAAAAAAAAAAAAAAAAAAAAAA\n",
       "AAAAAAAAAAAAGP//AAAANWF2Y0MBZAAf/+EAGGdkAB+s2UGwloQAAAMABAAAAwMgPGDGWAEABmjr\n",
       "48siwP34+AAAAAAcdXVpZGtoQPJfJE/FujmlG88DI/MAAAAAAAAAGHN0dHMAAAAAAAAAAQAAAGQA\n",
       "AACAAAAAFHN0c3MAAAAAAAAAAQAAAAEAAAMIY3R0cwAAAAAAAABfAAAAAQAAAQAAAAABAAACgAAA\n",
       "AAEAAAEAAAAAAQAAAAAAAAABAAAAgAAAAAEAAAIAAAAAAgAAAIAAAAABAAABAAAAAAEAAAKAAAAA\n",
       "AQAAAQAAAAABAAAAAAAAAAEAAACAAAAAAQAAAQAAAAABAAABgAAAAAEAAACAAAAAAQAAAYAAAAAB\n",
       "AAAAgAAAAAEAAAIAAAAAAgAAAIAAAAABAAACgAAAAAEAAAEAAAAAAQAAAAAAAAABAAAAgAAAAAEA\n",
       "AAKAAAAAAQAAAQAAAAABAAAAAAAAAAEAAACAAAAAAQAAAoAAAAABAAABAAAAAAEAAAAAAAAAAQAA\n",
       "AIAAAAABAAACgAAAAAEAAAEAAAAAAQAAAAAAAAABAAAAgAAAAAEAAAKAAAAAAQAAAQAAAAABAAAA\n",
       "AAAAAAEAAACAAAAAAQAAAgAAAAACAAAAgAAAAAEAAAGAAAAAAQAAAIAAAAABAAABgAAAAAEAAACA\n",
       "AAAAAQAAAoAAAAABAAABAAAAAAEAAAAAAAAAAQAAAIAAAAABAAACgAAAAAEAAAEAAAAAAQAAAAAA\n",
       "AAABAAAAgAAAAAEAAAKAAAAAAQAAAQAAAAABAAAAAAAAAAEAAACAAAAAAQAAAoAAAAABAAABAAAA\n",
       "AAEAAAAAAAAAAQAAAIAAAAABAAACgAAAAAEAAAEAAAAAAQAAAAAAAAABAAAAgAAAAAEAAAGAAAAA\n",
       "AQAAAIAAAAABAAACAAAAAAIAAACAAAAAAQAAAYAAAAABAAAAgAAAAAEAAAGAAAAAAQAAAIAAAAAB\n",
       "AAACgAAAAAEAAAEAAAAAAQAAAAAAAAABAAAAgAAAAAEAAAKAAAAAAQAAAQAAAAABAAAAAAAAAAEA\n",
       "AACAAAAAAQAAAoAAAAABAAABAAAAAAEAAAAAAAAAAQAAAIAAAAABAAACgAAAAAEAAAEAAAAAAQAA\n",
       "AAAAAAABAAAAgAAAAAEAAAKAAAAAAQAAAQAAAAABAAAAAAAAAAEAAACAAAAAAQAAAgAAAAACAAAA\n",
       "gAAAABxzdHNjAAAAAAAAAAEAAAABAAAAZAAAAAEAAAGkc3RzegAAAAAAAAAAAAAAZAAADFwAAAMS\n",
       "AAABBgAAAI8AAAB1AAAB0QAAAIwAAABrAAABpAAAAg0AAACkAAAAfgAAAHEAAAHFAAABvAAAAHMA\n",
       "AAHWAAAAbgAAAfkAAACbAAAAZgAAAfkAAACpAAAAcQAAAGsAAAH9AAAAjgAAAFoAAABCAAAA+QAA\n",
       "AEEAAAAwAAAAJgAAAOcAAABMAAAAJQAAADMAAAFnAAAAxAAAAEcAAABzAAABbwAAAI0AAABxAAAB\n",
       "PAAAAGcAAAE6AAAAcwAAAYcAAAC2AAAAegAAAJgAAAFTAAAAzAAAAIEAAACDAAABSAAAAMMAAACB\n",
       "AAAAdAAAAeEAAADGAAAAegAAAHMAAAItAAAAzwAAAHgAAABnAAAB2AAAAGkAAAIZAAAAhAAAAIwA\n",
       "AAHGAAAAfgAAAc0AAABnAAACCgAAAJYAAABqAAAAXgAAAdcAAACoAAAAXAAAAFYAAAGoAAAAlAAA\n",
       "AFQAAABMAAABWQAAAF4AAAA8AAAAMAAAAB4AAABEAAAAJQAAACQAAABwAAAAMgAAADAAAAAUc3Rj\n",
       "bwAAAAAAAAABAAAAMAAAAGJ1ZHRhAAAAWm1ldGEAAAAAAAAAIWhkbHIAAAAAAAAAAG1kaXJhcHBs\n",
       "AAAAAAAAAAAAAAAALWlsc3QAAAAlqXRvbwAAAB1kYXRhAAAAAQAAAABMYXZmNTkuMTYuMTAw\n",
       "\">\n",
       "  Your browser does not support the video tag.\n",
       "</video>"
      ],
      "text/plain": [
       "<IPython.core.display.HTML object>"
      ]
     },
     "execution_count": 39,
     "metadata": {},
     "output_type": "execute_result"
    },
    {
     "data": {
      "image/png": "[encoded data removed]",
      "text/plain": [
       "<Figure size 432x288 with 1 Axes>"
      ]
     },
     "metadata": {
      "needs_background": "light"
     },
     "output_type": "display_data"
    }
   ],
   "source": [
    "from matplotlib.animation import FuncAnimation\n",
    "from IPython.display import HTML\n",
    "fig = plt.figure()\n",
    "ax = plt.axes(xlim=(s.x[0], s.x[-1]), ylim=(-3.0, 3.0))\n",
    "line1, = ax.plot([], [], lw=2, c='m')\n",
    "line2, = ax.plot([], [], lw=2, c='r', ls='--')\n",
    "def init():\n",
    "    line1.set_data([], [])\n",
    "    line2.set_data([], [])\n",
    "    return line1, line2\n",
    "def animate(i):\n",
    "    line1.set_data(s.x, v_ptrb[i,:])\n",
    "    line2.set_data(s.x, v_ptrb[i,:])\n",
    "    return line1, line2\n",
    "anim = FuncAnimation(fig, animate, init_func=init, frames=100, interval=10, blit=True)\n",
    "HTML(anim.to_html5_video())"
   ]
  },
  {
   "cell_type": "markdown",
   "id": "1e83a614-e91f-4c25-acae-101bda5881ea",
   "metadata": {},
   "source": [
    "To propagate our ground-state, due to this perturbation: *(this can take some time on slower machine, to speed up simply reduce the number of timesteps)*"
   ]
  },
  {
   "cell_type": "code",
   "execution_count": 40,
   "id": "1ac06da7-8f0c-4d1f-b575-a63042c6048b",
   "metadata": {},
   "outputs": [
    {
     "name": "stderr",
     "output_type": "stream",
     "text": [
      "iDEA.methods.interacting.propagate: \n"
     ]
    }
   ],
   "source": [
    "evolution = iDEA.methods.interacting.propagate(s, ground_state, v_ptrb, t)"
   ]
  },
  {
   "cell_type": "markdown",
   "id": "9a924c77-140e-4c1f-aee5-bf0a2f4f66fd",
   "metadata": {},
   "source": [
    "From this evolution, we can compute dynamic observables in much the same way as previously."
   ]
  },
  {
   "cell_type": "code",
   "execution_count": 41,
   "id": "5f4f5d5f-081a-4d84-9ea9-2ea774cb265d",
   "metadata": {},
   "outputs": [],
   "source": [
    "n = iDEA.observables.density(s, evolution=evolution)\n",
    "v_h = iDEA.observables.hartree_potential(s, n)\n",
    "E_h = iDEA.observables.hartree_energy(s, n, v_h)\n",
    "\n",
    "\n",
    "p = iDEA.observables.density_matrix(s, evolution=evolution)\n",
    "v_x = iDEA.observables.exchange_potential(s, p)\n",
    "E_x = iDEA.observables.exchange_energy(s, p, v_x)"
   ]
  },
  {
   "cell_type": "code",
   "execution_count": 42,
   "id": "dc14e513-c81a-4e5a-ae7b-9ead9da098aa",
   "metadata": {},
   "outputs": [
    {
     "data": {
      "text/html": [
       "<video width=\"432\" height=\"288\" controls autoplay loop>\n",
       "  <source type=\"video/mp4\" src=\"data:video/mp4;base64,AAAAIGZ0eXBNNFYgAAACAE00ViBpc29taXNvMmF2YzEAAAAIZnJlZQAAWB5tZGF0AAACrgYF//+q\n",
       "3EXpvebZSLeWLNgg2SPu73gyNjQgLSBjb3JlIDE2NCByMzA4MSAxOTg1NmNjIC0gSC4yNjQvTVBF\n",
       "Ry00IEFWQyBjb2RlYyAtIENvcHlsZWZ0IDIwMDMtMjAyMSAtIGh0dHA6Ly93d3cudmlkZW9sYW4u\n",
       "b3JnL3gyNjQuaHRtbCAtIG9wdGlvbnM6IGNhYmFjPTEgcmVmPTMgZGVibG9jaz0xOjA6MCBhbmFs\n",
       "eXNlPTB4MzoweDExMyBtZT1oZXggc3VibWU9NyBwc3k9MSBwc3lfcmQ9MS4wMDowLjAwIG1peGVk\n",
       "X3JlZj0xIG1lX3JhbmdlPTE2IGNocm9tYV9tZT0xIHRyZWxsaXM9MSA4eDhkY3Q9MSBjcW09MCBk\n",
       "ZWFkem9uZT0yMSwxMSBmYXN0X3Bza2lwPTEgY2hyb21hX3FwX29mZnNldD0tMiB0aHJlYWRzPTkg\n",
       "bG9va2FoZWFkX3RocmVhZHM9MSBzbGljZWRfdGhyZWFkcz0wIG5yPTAgZGVjaW1hdGU9MSBpbnRl\n",
       "cmxhY2VkPTAgYmx1cmF5X2NvbXBhdD0wIGNvbnN0cmFpbmVkX2ludHJhPTAgYmZyYW1lcz0zIGJf\n",
       "cHlyYW1pZD0yIGJfYWRhcHQ9MSBiX2JpYXM9MCBkaXJlY3Q9MSB3ZWlnaHRiPTEgb3Blbl9nb3A9\n",
       "MCB3ZWlnaHRwPTIga2V5aW50PTI1MCBrZXlpbnRfbWluPTI1IHNjZW5lY3V0PTQwIGludHJhX3Jl\n",
       "ZnJlc2g9MCByY19sb29rYWhlYWQ9NDAgcmM9Y3JmIG1idHJlZT0xIGNyZj0yMy4wIHFjb21wPTAu\n",
       "NjAgcXBtaW49MCBxcG1heD02OSBxcHN0ZXA9NCBpcF9yYXRpbz0xLjQwIGFxPTE6MS4wMACAAAAW\n",
       "YmWIhAAn//71sXwKasnzigzoMi7hlyTJrrYi4m0AwAAAAwAFUFPXgYh/zAT9WhYqCzKHB7ctq2Rg\n",
       "dxlw52GVgmoq7c30hZ3tvkmCAAADAGpN/73BPew1X0z7vABUY+w0wthwwi0OJjCDwQ07KRGhvglB\n",
       "M953Ww00VZkCewaR//ae7UKBXyeocUhp3CHJXeYA+PFsNfp8FmRIgyHp8tZFxH5+au0QLuPZVkez\n",
       "6KASL9pDK7YCS52Kocb0MjmTJYl6uITzqXcXOOIBcwiEqKaiXk98zeWyMs2GKWB8yehO+gFIRPW8\n",
       "wd/350QYK3WwFN7tiIYhJEbwSWwKVPeFlbZuOcnnrXkLt3o7bgSUjPJBe6joK1vPRGTxy3PMtQjw\n",
       "6uv4/WiiZkjFIa8nwhkyMuUe/9Jc1+qOLXHN21MtDL4GvsTKAmp3mlCu/GRmgaUw01O3B02/Jf02\n",
       "A59kayQW9sMArfxCaFZ5qaup0hMLm+0c55CzK/bSlGJNRInIX3jdzLWgulI0Murx2a9EZAAAWOjh\n",
       "JH4YBiCUS+2BiQMIcklb2p6eOB19gFjZ80eWGslQSlDPogKPG+gTjFZa3LE9GwQ9x8Bgokkp2Nmr\n",
       "jg+Fwf477+S9HAKP7YfTwA0scYQ8OJQwEDF6FAPHGpOWUiXm17pj8/gqUkOgpkfSbnupf/7zywTn\n",
       "cLTjaJ5po7q3z0cszWA+zBVTWzOfw5k+RE+i3LBw4AFVyYanAi4INthyjMFBlZdmG6OH5SLVRSQk\n",
       "jEbAR7Hz+Xn9R5sUhBj1PRY15A42UpR6pyRFr/ryHVvuFh7yPaBSncMy1rUE9T2F5t0aDBLmFRyQ\n",
       "xuc05ptvRh+edMM7aDRECS3fkyElSAFfbdV67RDuzX9QKcAS5dRbiN4fWxUiyXwSH26KbNQjGlfX\n",
       "dHmExwp73G8q5QzTMys8ZDvpXJntEHfe0mtxV7M+g/3dXn9fep8P6yvyAWDRA8RD37+C6EKilCki\n",
       "S7Egz44Pju4MeGBN04V+r3gd7M5PrpkcX5+2vKjJywDFrIcDjk7Oa5Qq2zmboVcpGFJXF638CdS8\n",
       "SAiH7Av4QzgBDKwq5Q3aQ9QwAMMDbZHRn3eV8FftitBpn7sPAf6EV3/bMf6j8zgXrH9hQB7uXW5F\n",
       "+L/OTnBf7L1UtAj2m7plio+pH8a6Y//kC59cI1l01d15MriQIJrW1OXxLGnmqA+6rSbZAVY0pFxB\n",
       "Fl7apkvbzb2DKPicTgAka28Yum4ECSaYLxgAMA8HWQbJXxK1+vm3ArESpfsUdiz1txF8qgM9upQs\n",
       "CWVAXC4/2zwy4uFotNbQFAXGa1apB4dsUgaYxO0oWE+7/iPxbiCw3MfVCRDWWRF583Pzme05mZA9\n",
       "hoTYJe/p9EXUZMCU6Q+kJg6igOvCaOhtkX0nAVsQj70MO5MjsaDfcZEsMA+vHGxPHYzgciteHHIP\n",
       "3LGSGOE5v99P5kVHSfClYwLUy1kNYnirWznehcN8Z7fGWZO9hwME89v+d8HOl1Thb9Ec3NK5nKMG\n",
       "Q6VLVxfStjwSitm/wQ1IllT26cmez5pSVs9sk1qd6G+3Ga9IyoAYoJttyBb0uci++8jBQtwyhThc\n",
       "OGwqtViNgGLoEqy1zJy3YWzO8poCFAAEIIq9I4T/1RtwCzOxrKeHcf3puDJ/oQ+KNZxs5jluq7o5\n",
       "MK/oXjjFAjB9xW6NFiknLbJOC9IBGnSYUVE+nEIuR/qqQA65LFs4YhPHCevbO0X17EXJKIIET/+D\n",
       "nEX5utvbJMXfWgZATLQUdkrRdxLTq08sdRsyiBKSVrr7pIIW4PxK0K4TmQxQosGGOq301/jFeqoe\n",
       "oT/Xs/YMo14E85T/ZP7mf5hsQc7hI0hG5YJDGOQVY//zZheKDt/mf1W9qGSNsdLILj96BJ+Iqld6\n",
       "M8XufRLIusRMv9sRUN+K9MAvBH3RSNdJZvjVSImFR31gXgbAzRHiqatKEUhj8FgxaG7CUJbLtHlu\n",
       "mF4dWSnkgPijqfRDt04ZOy+2Lxj68J7KVzz6I+xvTHh8uGNHx98Fd4PUI1fG+5sy2MgdgZNZSl24\n",
       "wMhjlObz4k4Dt18Fe6dbFHX8x0Wv/+X4zqRjSmMLAwyYkwD2gHYZVY2A8YYkK4A2t97I3asEELeg\n",
       "LDIjlV90wfa/u7mL8Fk9ruIAY9ClslVFeRDUE2donsTg0JjJQBjps3BH7pTjupXPyjQEnG3dkVtP\n",
       "2JAShAfzBGG9zenvIYKfWowEB7BPSmfuG3H4+srfcmEpYC0WhxSHdoU/sTB2tICA9KvhTVioy31t\n",
       "acntHu0zfP4MTu7C9kDHmttcSSkPqiBcRVu2zrLsT7PhEoxhMcpwoyQi5zjqqr71C6q1nkUnnKcE\n",
       "zlIJM1q67cb8jqsGgO7SnLmTSvPImTrl98uicCYZ7j4fJcecsXwV85hw1jTOjhiSf7O/bZogHgRP\n",
       "noL8sYVJtaNbWrLHFcCZgIUIib90kqdJ63lbZ0auB+Lnjm6rQna2BwcsTwy+HPNUU+YMS2K4CtT3\n",
       "0/XLfQIaAZ42EQddW/K4DPqTvASu+iYhuTJKnpTIAKLDlLUUCpZ0OS87D2xhmT1qw9ltY3AB2AAP\n",
       "js0BCkxg0lpYJJsAe0yaqjJ0/Q+osRS3GApcPqM+IslFGj/0xN0LaTFVyKWGmH0s846JZiAX5IT+\n",
       "YnyK/2T0OeOxBHmxoXxbvZIULohHjpcgE76fdBvXMG88LWP6ht3CaXJFLnduqwdxNMN5T+DaGTHZ\n",
       "EsUiL+nhiwoQazuJqhnEhRBnLyrdoy94j5Yv6S/kIlD8sGSR5tHf7ntxRZtCKWdfQDsLuAooOdjW\n",
       "9we6rOZEd5ePUGBqgg3GawlfO8u+qBkv+DfydeJmLFrVZqcTDZOfCnGwc9iF0mp+4H75GYqvsKO7\n",
       "R9rSAKM6i1CgAlm+qrCEnivVGdsVT53YExoNOVRe0Hji5FKaOyAy2CnVWGwjtifw39QNP9tsJkr6\n",
       "Vt/GZCdt4Fqcr05fOUajI+M53//yIrlBL/Cis14Yrp/ThWUA0cSv9HK/hjHLfHuXwu32/3DHbNsj\n",
       "6+z+sB8gpPOy0oBfFud7SKLg72Dtei/f8hJpHlDtCYa+wFNAEaiO+snmz/sBxz/H8QFX0s9Sj8aW\n",
       "NDJM1cuSBEd6Ho7UhKg5FjK0H6tngpLgOg4NrMQS7cbhd2+uWnuyM9i0XnhCzkEvxgULbceMbPDm\n",
       "OyIA4LQMC5zM0iE7Fa5XAiNp+D+msioMfoQ1Cp1LihKMpBlSAQXIJ68/5CmCjSFKr0wgOKXBV4Y1\n",
       "Niv8/tldWgVUww0U124zcBOVEA/HHhQm+eQcBmQE7eMGnCqa2QWbfb3TfLzakRPwAm7dmLk8UJj0\n",
       "ttHzT1qSQQze4ePUlr5m61fuuta9mnQu1BhAujMit0e+OrZ/uk0cWDQ5idjB80cO+YNivExuI+Ng\n",
       "2BbZpSxC88NmPVkO2Br6gjPj9jdqgWHVFyKcrxPcfi0nX8I+jmMVNl6QAGchtR7Mexj9UD0/m2Dw\n",
       "Yr/p2PEc3On4n1xVDGlkAG95s82egu5YA1aY23KYqV/d9f1GnlHWVA5+TdBF/bLeTUEuFkFb+Ukt\n",
       "b2JNZ/xBfifT8Yt9DR5kyp2ADKgWFRh+Nm+RTXzDpnLGqoGe7iW9pLx5UhhCGWeAViZ50J/AEaha\n",
       "Rc3FstUBBzY7MicGu1C3RgOKfjKFbHXFmN/u1Nr+SI2SocFfbniKsbcrFWhIII1wmnR8K2MB5DQN\n",
       "4t5EYNvPjX+uQHhNLCTA5N35icAEvcksL0I9+vp9id8FPGzMf0ElEFPNxJKRUo0sFRB4BvCCX4TD\n",
       "DS7b6SqtRppQizeul3m51ysij0F2Onl95T5Rlt78YcjqteWXywv52YGCNI4SDhk5jf8HQj+9yWlF\n",
       "xDKYAA1WYDn69J236oCD2whf4OVC8zeVudPVKvgaCf1oWOYxJP/k/4MMqqJ614onjenkLaCbQCPK\n",
       "IDZ+nJMyZ4L2CBieOG+VSwAA5qzMcoEUcdbaDs//m/Moz+MQDErgYqe8W0TZbGbmF7obWXBIIOip\n",
       "ROURY8+M7oMkPYKUMGKmSHRI89Z/djDMbsvW8kq7WoH8kkbhmPcEZYZub274hUha5G/ExxVDVLcM\n",
       "C7qU0xw6Adxdw1I2W8FNWiWZLshnoAd5+e/R9pIkXknq+Oak7mKtoqou7DxC5PUqWfWuN8aqNDmA\n",
       "HPmBrsa3NJvgFpddAwWA0v5/TBgjkFQwMw1sXCyahD9G+q1mqN0sGOqVEpqVCe/RJwADh2uit1El\n",
       "B5GEKOiWIGkB8jLnBOLzTQWjIE2T/EDfY2a0bYzXNmsWJrFVonvUF0bXZBIDZW2G/gXtryL/P5vl\n",
       "EOsr+xRdXhIhEOdNSlTl2N5K4FLNIXqLtRM+GO8GvUrTJFO/ILb/CBlKKFXqEm1YYbY0Vt6fDGRG\n",
       "mVpkociT4abD2MXO24/TlOPNwQFlZTTrYV4lyiaibP2wRNiDu74qma87sACWqvF7LzxuWsUqB2XK\n",
       "V4QUlpNrYkwbBLKnZ0X9pyfjMUqU6tOUj7LZ0Li6y3Rp8BDdl1vUn/djN6z8c3EtTgwev1/nsdm0\n",
       "9XtboJQpRhUUBA69+LgNvuXL231Ch2yzZyvxulQblw1tHdxY3RCtnRrVmUcxoW2fIlk3Fr4gPWpw\n",
       "hJW2cEL6Gg+2Ulk+gzwnCknMGk6f5ThPlpqr/Y3eqO0+HHLBaYi+F9VqeNJTemL035gAoQFnJIeC\n",
       "TXXAMRQhk4j8rHBrEBC9yqyYoYOY0StjpLeDzXy3c1ku6Wi7ukoA+hbPcSQaMeWGpL7R3lC5/nSC\n",
       "csofi8PaQi5d946npAiGDABanomshOT6fvR3FGybU4UwwoUGI8I35elVsknNiTPBYSiFwahrtvjM\n",
       "d+47HaWIDheZf921t482KdP65vivVmy2XRfmgkwxziaUT0osVOVtRVVg/3TN2Btpyfgy8Eyeb8iq\n",
       "cA2zLcrBvHs6C0SFtPZgonr/S+pqCazqWvV+PM4C+LPkDFloP+fIyJnA2j2r1ylaKgbeTmHpby+6\n",
       "gN7ACsU86Jqr64ABJhgu9x4umXb9auf0Sj1nxBuhYdLpA0rzJxV2wwdqEkCxNc43i5H/A4X6OF2Z\n",
       "TiV4gLMusH1uOsxNllQjHECcaYL807zrQf0mUs+8+OlxFEf3k3e+UOfu/s0p2YaOa6Ypn7KaI/uL\n",
       "tM/Hz8n1K2X5R70R+rPUqy1WxUCfgDyubrkSh+IwiVPzRcsBmc7/BczDA6YHvd6+/ZpUkGLCzEaa\n",
       "MLMT82Z76IVhxg95qZcyZA9wBaxmSjrKYh6lcJTDG02TDCHihoKJ2KKbX9uawvYSvOaHHegeZeC+\n",
       "e77hf8yMzVeo7QziCz+15GLHeicEP9v6WLVEkiMvDP20QbSQkjveQ11zqL1nYI59gKCFL5UYvvn4\n",
       "GQBmTwNaBT0mX7qMuWEKayyC3wislQKLdK/Dg6rxtqE/9wdlcaux8FwuBbYY0r9kFbB30Q/+PCW3\n",
       "hlFfeVCgEFpZemEamcIQ+IlTwpijfeSzhgMgjhWNSuPR4GPI/U6wX2JLGPDWV5O0QB2Y5GBuZxbr\n",
       "aECVN1pv1I36TyreKtexBVUqdToy7AVQHMp0PLCXtjp0JCiQZdYI1C/9AJqAG5pmWp1Fn4gADG6Q\n",
       "0uZJxJAhvPZQyNo5Gq878Zcj417waF4G7ovsBMOYaEviNKdZTUFpPfWqazEwh1Jw58OBvMZWSefr\n",
       "QeLGzEkkYt739UbjUanF8it7HC1kRVgv6kcqP7w/rruOf1E7NkIYLbvTjz0ju1ehvFQffBjdF3u3\n",
       "gRmkFz32+dQo1Nc2BSgjqojdi8N6sVf1aloSxW+XLz3Dd5v/2w03Ze3d9QEl8qDDWiyq+nbIQvnZ\n",
       "My0aL41QI3loQVs+F2oLRvv03i9w6a3WZi0sSnLTPos+Za9pqcuakeuk269jT+qM/cdu/V2Ee4Ub\n",
       "2FBt+DeEBe0Whm9jkk6V1jrQbbfI73iHdcwK9lGYjs9LYK7A1zkHzv7dWq0+DezF7uliB0flsv93\n",
       "mmtwFIf+6Juu4zG29mpseH0N3ygLNZp90jKM+j66ulRbFZAvS/gU53PenqcdX+xadrdBRgxxrfuo\n",
       "g9xIMsiw9UC31U1gZNwKu80sZYMC4lCbUrXlI8tK2Pa+y8vwU/Q7NouKV4R//Y/5hlbJ+FhXwmJ+\n",
       "7A/jjYs8j52iIoIGqI0oFB/vVZTNZMSXtENVCMKThS5a8fjDBAj6qoEpLl14Y6xz+OQRmBHTQmY5\n",
       "xEA2OcTVz4ycvOrAmfG02vSlZatdYyDaKuCIWV/e9U7t7/4a8z0OEBMyvngsbFZwWWcIAiw/xBDY\n",
       "99w9IQQdMw9Uk7gLw7OnlthXoM8CfOs54Od9yqHtZAmTCkA2sC20Kr/+ptUwQISHI3MTt28F7UT+\n",
       "kNSYh9eRu4Hws/+fiPvaZDYs6ZlT0gFpm7Ju8VX8NH8hdbBAqNhFzuAmkhQP4vvvxBEDaonEBwi4\n",
       "GZQ3edq74DBGddlxawCrZIy1uMcFRlUuxxygJcIdOQS7vzxatTSvbb2nMUatVsJk0ftSz982nf2M\n",
       "HXFLadusa+Ss4dCZaCtOfyKfVpSeIzfGS9u+0uMyeSaqdtDb5+suxeSY7Gcn4zFstsCyMulcs3Yu\n",
       "XoQ6nQVWuTG7M9n/6AltIDevVLn6Ce3EaN6eFIClqYEiYnCn5uWQQrB3JccZ2o1AaEueEup2BbOQ\n",
       "CafBKatr+U3rrVQNir6dg5NtI4OYE99eEAuUnp3Us3P5PuFl18DQtY5f9z/cz0dUsCnEUq4IrTkZ\n",
       "OlAat37n2chswQVXiN1e9Nt4tob6jMvVRsi9b7+SE4G8Ics4lt67eUu/EAKQmFuhu/1GQrwYfWoM\n",
       "kqzXkMftbbVIc0mQd/utx7fs8vn/sdQIWfndQckdwRs7brrh9n5NTP6nfIohUiePiaa+FCj3UhTa\n",
       "cWvjyZDtLaNlEFZ8oohSrgj05BOZIcljjJPEaweVpp2/J4XojaD+EUtvRF41383+3sWn8HrqF9zZ\n",
       "guNouRPaA8cTyn3c/6DpOj+uS5ooNo1TcHUDmqdj26KhrjjSUgEsjkSBA3eZBM4CtaHOM1GAiTHf\n",
       "Ybbuo8b6Gyzwp5XYUaZF2bUXGq1FsyaI/FCKB3IWfvZ3fVG5vvy5q5pq+I4ldXwMvz9591qzWQy1\n",
       "+CFBdNoyBT69ilrakekLnEwMyNZf5GDTH8aVT9cWMuY+l+3lOa5PSfIZ4E/N9z/VMeLm78lxNoA0\n",
       "pPqbtp7w5V+CyaMY8R79B6xSoRWNMFQrE8NUjxzE7uuGCi/02OoHVSBc49iD/Uv8tAvsPigWx/6A\n",
       "ZPDpsBDcMxpY4As7zJXJguUKvWZr0En6I+7Qxhjd62nY/iwHZX5WrhNoUtGZ0bLjr55GCTtBi9dc\n",
       "e/JDOg4K/ZsKmTLpLBNTA1Z3Ct5sH0IR82ZBdOJfE2dyXvL4wtgarjJ/gSwU+rILp8H0oCNJGUEr\n",
       "Tx2JpPRp0ZsoXuj5codk05Zby6Fozzt7NtNQRcWWQeaqIDYhwnkyszPih59q8PXj1kcYC4swGTmz\n",
       "qFkrekszN0R1vr3KuBvgIZ+zAIDo/YJzQv4VHZzk8xreAset+GqMXzCCmr1J0Pp4kRL/066mRccE\n",
       "qJVhQxARRPrV1iZCt81Qu4dU4kABMmxgAFu67K35gQAAAltBmiNsQn/98QBHmYXfilOoARdsciTa\n",
       "fjMj//v7lMNfxecGRcbxrKo4DcO/UWDXTWzm9C0HG7WQ7G0d2y9/Lvw736Wz0L3hprmitnZtzplN\n",
       "9ttgaZ/WFQIqAigb78L2CLd6gVfVI03/1zRvPTL+LN05oxeG7apmhjdb4KwRfKAV9F8aMbEL5gSE\n",
       "BkHOwcwpL+tWkuvKBLC/heqoZw4HPXdU9wcF3pAgMlcxUOpCPlH0Q6WSfAu0dnSnSj42ZzK+WXu0\n",
       "POwN6gUXqxNXaqsAGcZLkQs3S2FOj8iNEXGmWcOPzqWy98OIVAvGvaqWeWquTGTa5BZGAO0F8/Uc\n",
       "I/Uzb3RlHfN0yVBEdGLAkypdIgV0mj4OGZ+A072nUZhbvD/UsMlz6Dv4Pver32ZkCsiYhHVOE1LE\n",
       "GgyGDVHWmuYvkmUK9h98Faym5VefYlRUTR0HFEAKnH2mXI7di3//JHNONwiFQY8KqJrkSth/NNc5\n",
       "f2V5LwllwaQ6Ka3i10ogyjoVw4GtKX/qbfp9AhY5s9Yrb6hyKMBpmEgEOL5vp9SIp2gAckYJgnID\n",
       "tZR50pZIfJayN3JuFUSlJLbPuvf3EwgWSbHqO2mU6M0Io2RYv7/HeKcBISruJoLQuH/ndSGjJO8s\n",
       "ROkf4k/eBHr3A5mrOeAWqNy3F+fucwAFXLmfHYibwQELYXGbHYhboyx83sI9OKkhRhSi7a3fRAlt\n",
       "6aRa2e9tADPOjHWut/r8Jmz9SNNClzvHzmL2lsxEzIv1nK2zHd1En+8fvOPU5vm6c5CONRq4uG+7\n",
       "AEGfgC3wmJV4GTAAAACMQZ5BeIv/C5n8xFhO5gnr3iX71UMAAAMBVnEt5gA/nWqa3ylT0UkdrPqE\n",
       "rtqekWJuCKgKAy8hYRw4Vc1zSc8hIMP1SdXMmuJrPNxfnBb/MHslz6Ghq7WQlP9gONuOoiFxpj8R\n",
       "MO2YWR5lEFRjL4ro4URUjtJlb8lAnVXucNDG3i1bUd3Fnd7nJXQaeY8AAAB6AZ5iakX/C85Miwrc\n",
       "z0iHmAAAAwAAQ7Y1RdibHNqIe9i8vwAcizTFCvhV5eADZ1/MdPvmNdJYkHMzDb+xAdoLyGmcLAYo\n",
       "AjfjR9pd2vxUceXWxL8tK8GW6FfJph+NsCy2xIggz1vq0ouTDL13KKibSDrDQiPg8QoPsrAAAAHf\n",
       "QZpnSahBaJlMCE///fEDc2IjeJ4mA2Uys0vPV6GgAApSfd3UrQCBML6Ngr9VUtrFSoPSxopyVv3S\n",
       "pC5voaV6BIuhRkM17IaZ7bVNpyY5sMQ2HRdFxIev5ZCQdzUf4/6mBZpOfEXsBQQKpRABeyB3wxLL\n",
       "aUDtT6JTNSX/R/SktSiwM2FlJRw9duTRPLnRwWwcYPl/NLQcXH2n/fPaOfn0vR8fqX2ei4Il4ggg\n",
       "gALN+ZNGh+9XCBwdHUP9A5XTW5kMikVke0KNROsFOJfh6vfmO6S33gyneHXVqYWFIYDCwqyozlUI\n",
       "vIHx7vMLNfpf0TTy6MZeCn4aAxEBVB0pa3KLF3LWdwLVd6GbPl4SOdBAHZj9/ne+psUtOsh6c/ai\n",
       "skrO7Pqkpzw4/h88i7XOWLdUW9HgbkfySkI7YIE6VzSyboISe9BtDXWjGYTmhcoyExws8Vzgdadj\n",
       "LVGtUiGad9XvUVNJ3crTCoCOEUxe/sZ0SxJ76Vx/7dGSK+26B/I+rQWDOjDUsZUp51wDK5eS+VYi\n",
       "e22Wr5HIvOEkFV1vfZgKna3v8Lz7m69yVhl5mjt8VDM5AqyDCqLloLSY/5oAohjvGdYG3h1omRP6\n",
       "V6Akeyj6LOxGvnUAAChH6X7FON2xe3EAAACNQZ6FRREsbwmy9kc9UBCkAAAa72918BwstStjMrmk\n",
       "o/KzwnwAP2mhqTObwht/J8byCLqhQx/c6L5xOwBOnnaAwiY3c8QTl5ZSuVSQ4cJaJMMzSfIS96+F\n",
       "poNI+JgrCgEKuHLd1YKtxp0kcgcc3YjakWjdbCgHmce29Eyt1psC66fDfDyF+Wo4AeW5xaCdAAAA\n",
       "bgGepHRF/wtYyI9LOFsPAAADAAbnYO8BVM0ihkv0dJTvEAIcjrXn/gNUoJzwLft9JlI6Ny0ie/48\n",
       "3H9iXuHKRD5jys9GnCvXa0A/oRBvn+HHpCBTodF2MyoPjLv9u9Q4sYWOwiNUZ29nShd3bgChAAAA\n",
       "WQGepmpF/wtYyctM2fyaLudheZ9zLKMTF5B5ykY4ytZ1ByiGWUBGuigiybfKYs4CzxatTHMvnXho\n",
       "S+P0wckb5xqXK3s+ab0vOsnicCL0gZmLNLjMvJ+CyniTAAABbUGaqkmoQWyZTAhP//3xAGK5OxQd\n",
       "04LMZFdZsUQXiEmfXy25xCtWgmthvtycpSjMq8u56l5pQgDruLgekE4KJnTDzzeYz9qvvlrF2XFl\n",
       "6b7wgR6Wc9SuO7s9lbN1zrSZXqjGurC5d4i8LHBJGDlW5JlesBqk8gWJ4Ze4/rvKV50ztiCTa0E5\n",
       "j4oVVsxzXQukrlROlgr5sQ4x55wJBfB2XPdIcDTWTFxrIdm1ywpK69qg2rtNzFwq6Spm2SQqOM+p\n",
       "OZ1HzclSDztWXJ8KlvUSO6jrmgT3pbI4kQGL7R5CEj3/zFwBjaQOo1K3HvcPUzyqpe9Br2cnZ81R\n",
       "AvPfqdK3HMcB812AuZNflykPKZwwJPD2Fs79LgWQaffl6iFLy3UQI1PEZCBaV3QmVDPd1aPeEGWU\n",
       "Pt0/6TSUy9UfIlU17aBsQBJuKTIwf4PKY5RWTs5aDZqAEUraKvkvjKqwP4DxDEmg5AGTSXQx8g5D\n",
       "T+f4AAAAaUGeyEUVLF8LWMnLTNpLEy1PbnT0B5ATmFxwSNZjQtXiW6+CwwJdYiQ+8hDk9myzLy0i\n",
       "f4OgGCfMapavrlvKY+Xrsmh9xZTXUwotIbMkOeyXWqXbzgIhnPtQOxNyePlONWk5mENDPYPpYAAA\n",
       "AEMBnulqRf8Glk5XRkDPWpOjBEzTb+zhhJgpSI8Es2TbyriO6PTScQisBgQIty80Q6aYmKqrBJN7\n",
       "Qryrzz+gXzlVgFtBAAABb0Ga7UmoQWyZTAhP//3xAESeJRTSk76I+lrV+TAB/eM9+2vttd9dYDC1\n",
       "CymhssuMaF0xnYVbQgap0UJSv7rBps+GlU8E7UNlk5C3+gHMLshWxr8lAL21TH9qlN6niMKbpcH4\n",
       "F/UxA1/3k6/4VDflaA76sun32qhhO9Q9AoxKMa3nmCPQWdlNVFkcjt4UvSAwfFuZGIPM3V+2tEjt\n",
       "GjvybR1+K3iyXNsSaBmHPe532KGOyGbej5rHN0apcv802CTmXfr/wb9OatHXStsWZ3wHN8q2OSvZ\n",
       "EkZDsgYW72klVW79fb+30c3h6/bczEO+gZT+tGIReYYUdPy1jFYRoQATVx5MQIRQ8FDiVfLFYLSz\n",
       "FOdDp9mp5FNkG8YQMTFvPbAy6yDwc/zYG5LAnATq/uGMYD39R4LvCAhF3ZAgZFGpuVG0qrcS0iqt\n",
       "itVTw/PzMrMFf4YwT0eeKUdglHROoipy7s9GyH/k24fMf1Tl6JaMYfwAAABjQZ8LRRUsXwtYydHk\n",
       "KC4K8SyKlD+YAFPOEmSktqPHfC372pbppjgUeNhOXVxQjmGmyMITZQhtjuPreeG5t0EmbddAuyuV\n",
       "C4AHjXgEHVGZkFGTam4kWoOCzBDiCAdroTxAAHpAAAAARAGfLGpF/waWTldB898+28bFPmb1Kp6Q\n",
       "FVCBSCswhYopDOgusE9Fido2OGrcMBf5NG1Vz4qL5Y5QITSA7xXIDCN3wE7BAAABYUGbL0moQWyZ\n",
       "TBRMJ//98QBiuTsTBG75RNmXdcjucAIC+xpPHQnYevvpmOewFfKsvLEneVXiZeCatLvHIGsZCRd3\n",
       "YqdGhbMUM9Gft7uht1g4dT7dOkxnBVdvNoWLV+WK87bL2lLd0tdI85FEqkZM7S1cuQn9iUwE9Ax7\n",
       "5XAF7/47GnLSkeU/sVE13kWa/AHyOXxs/VLnsXwUkQU5Fk5Q8HPkmDs7m55L4DmzyRTQ2GvmPsov\n",
       "vjg3pm5Eth1sY1moMq12slpxU6CsScJOhc6MTxlVtwCdQTH0p6PefWaVmbRYjlNxO6bx7f/DOUn+\n",
       "2BdERSQgd+EMoCI3jydb6GpfAgH1wIEHaouOUUoRUq1r7GVC8WJsNuGszWqw7/4HcE+OpKWncJmO\n",
       "GvUwQTZY1+aBl28qBbOMU4NPpyYmJrHfPVilXK53NGQCF4z05nc3pWpVeduWFuAcp11rE5bYXaZI\n",
       "+/RBAAAARwGfTmpF/wtYydHkKKP1d2ANlpeBMl2xI9t9ucFEdeMptLeMco0/qLuqbj7qfbdJFtDw\n",
       "nJr9srRCLicvz7HZlxR9fAptMnudAAABrUGbU0nhClJlMCE//fEAaLk7BNGPy9ADcMjnr2rJS1PG\n",
       "IIHEJ+Y/tj331HHEwUq2rzu9n0cR0KwA8E0b5bKzGBHwSXivMM31Qu7VN9tLX1ua5DCPJLTiXQ9m\n",
       "jr+6ppRl1huM0BNnixdBm3EpkQZ8DO5uJEyIcaVBt2/V1PXUFiacC5exdK4u8Cm2nmukfOBy8F7z\n",
       "gSk6xvf5wzKDvSYFSZ7HvsnaSe891VzcQypa2eQ4Vx/4kVH9ohYGHdUPtN3N4JJzE3BbPLJMEWIF\n",
       "8flYVtbXqoisBTP+hH8v/a2OJaTPc9e2eTWSOuFfa+Og/1AUkDt4hSCHBKJIuyCj0j+uGfsSDJgl\n",
       "oHWL3AcU0+2D87w0OWmHRuZptHEGxTEVMfmBtZFefg09yXzyzg5q2CeGFCKBZIz02ZOR6Z5Q3EWc\n",
       "vPFB2DKbrLCdB5PXRVp6Milv1rDofsXV0pi/cgPDlQ5wU90n7pkzAzhu3Fp9mgO1nH1aLgjBl73L\n",
       "mtMH/HIDWdz2aecYtt1k2B4XM13egLsljadoyD9TVAcZszhWEmkz2u4jKpJWBgaHsKoK+beQ8AAA\n",
       "AG5Bn3FFNExvCRuQ/ZKQP0bHN7+8Lm0OYmAYkkT6JtU5uCr+YYGtLeWnxCHzfS7gg0Jln0ss1zew\n",
       "oI85x4I+A+7LRcc+KuDLyzn8BkVl+0kszfM9h4kB3LnyAAQ5b3d4XHRRZ3eeY7fcobcWpFgAMAAA\n",
       "AEEBn5B0Rf8LiiyPdRvDSJD58+nvMsWOh3Q3EENDtlD7J1lPvx8pqkkb8B9/g+PtZjLqzYLwnD0r\n",
       "j2AGTOE8CVYFMQAAAEUBn5JqRf8LlzK7Haw8Ad7S9dvMkmKiHb4nU+D77aZVpMOEJRKqY7i7ORAM\n",
       "t0nq9OSmdhf5QRRispPNzW3r04XDuFAcjLMAAAHKQZuXSahBaJlMCE///fEARWzzvgSzmAT8rG9V\n",
       "2IXZGrZXQndwX+o6+B7Wc8pcEnAR7AAubG5+V7k35e6+F9s6pvn0soM8vIAAEC/8gF88xeI69JrR\n",
       "rCVGYKTFwMbuSTPy6o5kR0oTWGbjh1ckQrOaMQShGXoz4HO1aCnMS7hv1m+JJft6fRSJCpeIbRUv\n",
       "Fvzx4pWLMtRwfEgQfuWrDRTVoRVaBLB1nBsdLPx976Ipl51H92RXfABsxKXr6P3zcsm8s+Ea97H9\n",
       "JzXYgDfCrDHPQf39lEaL7Nh5fvePi2uKGu3uALtFWwDDbuSTfzcdti+8tmZ+eNNVWP29hMuvQr2N\n",
       "5nPhFa2FulLeHwxov+nJsiSaiGfKmyl0/p9xyeyoQIP1hDgMlBibKAlCU+fuLKQ45R0c4+5IGFIw\n",
       "cPJ7ZQvRcJVX/GNQYE7zx8W/Rlq4jswVyaUzsqLpNw/UOVRV0vmu8s2fYW0eMvgzIqx0X+p7MY8o\n",
       "/rZaYT7QDuAOY0VvdIEhP2j4jZJTUdXaHIml6Ud0xa+0fW/+ogESSN9uIXxYFuCZ+bHvVh/KTWXL\n",
       "W9KV/rJLUDUVbu8fvGKB7stYRp/uctQ7AY4dT8PNdsQAAABWQZ+1RREsbwlWFLgmHmhPnELrvYW4\n",
       "I2kDe8c6Z1T5iYYhmT8TCGFb6a3+571fY3jOkiihhT1CgWIvfVhVkao7M/b0O3Mg5PQ9L1eptsAp\n",
       "719pwAgnLcEAAAA4AZ/UdEX/C4oQL2dXdTlkfnsJC72yOQ5+Wcc/Wy3j1FafNXovOPWC9xWFWeWF\n",
       "t0PI+Bw1swIqJVIAAAA6AZ/WakX/C5cp37qivYlob+1RuH5uWqd6VbhDxD+NWnEkjF8ISMf+4s1J\n",
       "7XGGam3yO4MUeSdpC08xYQAAATFBm9tJqEFsmUwIT//98QBouTr70nmlwBOS3APjETaaHu3Z++Sq\n",
       "CPXwJpgy5cUHh9WBZC7l3c4faSgyG68Df2Ff08wNOHwksHDeWhjkII70yNxN6D27DREBm82s7GYc\n",
       "igETU4YDXokd9otRRkDO34tLNZ4vSZmql0M1RS9O2KFCV0cYp90hlCRBKpqDSglK0ab5fmakwOkg\n",
       "0tXBzO2KbJHdKgt7tPSHtjEoLJ4SwUCl4d6NiYucNa4LZezPnEPEtbkaq17SbkVWZbbpbkHPZAwt\n",
       "8QIOSPxSRvWnSn9uKNoP1gWCgfuSXzJi1gd/RjwGAc5hmirUVPMtZwCxzDtaIyoYJkVFDazD3T69\n",
       "DmvUXMQsODyOwiMew0HAftoX11quOZ8GefFkOqYQknHzDfJh40FBlQAAAFhBn/lFFSxvCVYT+OzD\n",
       "lno9hOItK4Xj/xQ9wsKMqWIAEb4h2bpDpYaGx/ZYMsEsgYYdpFP7qbKKRtyLrIs32q0rMOCNgWoW\n",
       "yVmPxNB1yEfs2pBzQOL/GlEgAAAANwGeGHRF/wuKD9Tcp1sQyQ5aQGmWFgAq7P0YMUc5sAdWOIGh\n",
       "a92C+izyvjRl/Nm+OWO8Aaqhp3EAAAAoAZ4aakX/C5cpjKv9Tf/J1CBNfI40WdMwd+DTwh44/fYq\n",
       "mWQJc24TygAAAQdBmh9JqEFsmUwIT//98QLxgGoCRyEOfEJ0vIBOvpjHUMka6Nxda+jJW1vgD48P\n",
       "uWOD9yBB+fshUN3XpwblJMEOwi9oAAADAa/aAj7ohr4wP550X3kd/7P2GTuk/pkhXGPoafyWwZfG\n",
       "cfHuKTgwQs0gkDA11s0KZdLYHHJJ+hsMxiwaeowMOZO/hOO5kP7i2/FUCwanAML3+D/h7PzWgs+4\n",
       "pK4CYae/djw1tkscPN2qGwDRNqteDw7tyJqLMxpDeXqjfAGbgqzbU3rSodjJkYOuCzu/25i+EHN9\n",
       "gY6a/2sgxtMuCnigud0HP/Jw/wM7f4AcJ0Lcuy67Nj1mHGiygPdDVD6sdYo8YQAAAD9Bnj1FFSxv\n",
       "CUr742iJhddDnRqmn+kJi1AhDGTcxYFEezOS3hM9tW6NFBL49bdothFHwc3gnBPa3igBGppZZiUA\n",
       "AAAlAZ5cdEX/C4oQNFzEE4L2C7YWngnTOmUxzjo+sOTKABb3sH1ggAAAACIBnl5qRf8LJ0WMFwXX\n",
       "VD+FDIxpLvTuNClhAt+tBP+tL+OCAAABF0GaQ0moQWyZTAhP//3xAGi5OvvQuDTHz9WADrXI1HC0\n",
       "H0N24adMSqBuKkRuo7owaaAeb7E2J+qUhoipm6wZzwMS5K9KOwKw2LMqSVlYFaHRzqXaSbDu+1mY\n",
       "RLctZlHVsvzktGmzJ1m92ZbjSLKfKu6lVX+HtvWM77X4DoCEqvgnzLqkFqoHAcqMapDVoqLn6B0Q\n",
       "UEewdqICK5JD+rjpq7/BrERC3Brs8I3V3GxOfeK5UG/XpirJ2tQAi042qPPmeTaBanN2ndeq63/V\n",
       "l+SuQhnJAYexMh0ZuR5VQY1V7xvz82oVUFQVspYIgEdswe2glzxSPoBX6mwD+NQDPFkJh3VCAH2B\n",
       "6CqZ8SKwi+Up7qqUOU885HhXQQAAADlBnmFFFSxvCO4cICYPLNdL5kvief+LmojwBemSk+ptZyvh\n",
       "DA/Rs7Q+F4ry61cCOfA6+5R/AaVD7oYAAAAdAZ6AdEX/CxpU+EM6vwC0Yakbge8gpXgBOg7WKiEA\n",
       "AAAZAZ6CakX/CydD1FvLJ+o2QhSkTCHMEdwl5gAAATNBmodJqEFsmUwIT//98QBBid5a/gmhOq2y\n",
       "GX5TKGr5NzPMD7SAIkAAAAMAuvjhUIMVDWGE4F7o/IABHsFLmct+1Q6nXXjmTDLBfVu7Zk26taql\n",
       "NSZI5xkoxoa3e4k0EyN0Ht3C96FT/n7gIJPUhSwh2noQ7B1XAvoLlMiPb/uulDhXVxnW+p5YLVh4\n",
       "d9pismv6XZ2YrnEGKvYKwJcL+jjLw9o9vEu7i22OXiEGh6+42MEXcixX/NJH8dzfZU4Bo/+akyqY\n",
       "hsAf4XmMOVRWckF4h02Ynlx0E/NNrxjom7SM8L+77n1cqJ0awpeh06AZZohpFwnLDxwzqL2BMgEH\n",
       "wD37PnD6suTZ0K5cNXDyCbWbCpZbL902Gf6F5puaFXa5E7ITovgvzIsT07Qnw1MUxnEiA6YrAAAA\n",
       "VEGepUUVLG8I7hpbz8nGWwP/7C2HGlH98EldPRaNUVq/of+XufvkAwEaoGAWngSVTHj7ca1lMhOk\n",
       "erGZMagSpFxmezZKf+PFQ7V0EPNhvzg5LEcFmwAAACUBnsR0Rf8LGktOrPp3AzAgnyRcNoXRH+P8\n",
       "lGehKZUvxkXuAIOBAAAALwGexmpF/wsnQgVpXd9tNbyv2+q6x26InVGoxzE2fILNwBIBbEm00EAT\n",
       "3zt8qRvZAAABckGay0moQWyZTAhP//3xAEUoBBTaGTPBjRrGtGVTfO07UeX6Rts9xX763MUgARjE\n",
       "fdWth24TQn2KK+lPPSlzGrIKvqnGxy2BWCDMqmvym7N94KgGZzhC/zw4UBw3sPkWIJLf2gQ6ZF69\n",
       "tJEb1Gdx5yECBn/+3G5j28idxw7drg8TIuT3PBrUAwp5T9AkW9Sx5F9hXEQqlczbdsmz79gyTfwK\n",
       "6wr0S7DJj6bvvymTqk4ItLl4J/T83EaGhxoE8kvA6Y0nudpPfv5/Dnhi6+8F9Lr4g7CLdUOmuGED\n",
       "6KMD6PWERPvZbUF4AsW7SAPQMImIBRWmNLmZXEksuSsRyJFiMRzwKq9RqShkP++LJTYuIKFIT+aI\n",
       "3J/OjHXJW0eNQLNMcFCs1GkpUgR0vyftjBUa5G5E0KSkXJh0yP+h2k3LbrnZrfQp2kzts71mQFiE\n",
       "IIq/DW+dAHY4Xc/d5byMExo6WFZ/FIZsgbUbKIdA8pTP5sRsjgMAAABiQZ7pRRUsbwjuG0RQhO4r\n",
       "ISRIyaJ4CW1506bkqwMpTYQWTgatnhq88/Mi/Iq/wsEd6sBZhEw2F5U2s4Pn89rm6ZyPcfisoAgk\n",
       "y2/Xnxw+Cdh6C9kib0+tzfgRH9IshSDDNeAAAAA2AZ8IdEX/CxpOx8uH4lm6/hoAK6kxDFEnOTEC\n",
       "MVPr0FiPMPw3FUMh4frhYLqt86qfgCulRLOBAAAAQgGfCmpF/wsnR+t55rF3A3IN0cSenO4TG4dR\n",
       "4GNAGgHGE/lBh6APsx9L95OIGL5hlOVQmXnqUOGW3YbwsBpB9zBExAAAAWVBmw5JqEFsmUwIT//9\n",
       "8QBEoBaqdIEAKR2qCWEhqZdz6cj5BH9jBiHR1LXIRCZM1rhIUCQD4u7mAcP8OyWmRV31MhCLkcsW\n",
       "5fjzvzBxHUYBRuBR03Yw/7K/WJhHlUokB354PqOC4hhJAzlUJ2wFSyp2J4xZbGq/3nPQUB7MsleU\n",
       "Vq56BA9Cc4dr73OZ8c21SX4xrV/je381RbV9f0gbYwJ+ggdR1ZQsZb81PGxdshlKAuJLLJYxeoFb\n",
       "SLh2wIi6t6wWuRcDW1XWgEh5n3Nc5EiII67mi2xhkGrBlv2c35zelY4J8ycbAT1LW4oknyDE9neK\n",
       "dUN03ERwTRkWcbONKgkOB05siv2AheZTzrppTF9YiQXeTv5A2mEgRkcvwxvEGdJFUYAH6eT2Ivpn\n",
       "YRI6aXRYLvYLVdoSOFKZPZejUN3ilj8c6yB+TTXxKp3QvvLFmV/P8UC2nuptu+SLv22fD4rbEetY\n",
       "6B0AAABQQZ8sRRUsXwstbbIpM7IoORAUcyCMHwz+Nod9cLUn4+Fz157McdRiMi91zP/JC9s72Rec\n",
       "F6CT9fSTyLgvIv+EgsNPjkjHxbid0qLDDT+Fer8AAAA9AZ9NakX/CujJvzDS6OuNrjxjuMDacn9z\n",
       "gjIeIGxI3nWNorqg28EMVI33uwEaP+G5YoHcAYJ9Q5hCIJI0XQAAAY5Bm1FJqEFsmUwIT//98QBF\n",
       "MD4333iwAZ/sK0C+WKxEILdzAAADAADMLtpeDKKc5VxeOPHUlU2qaf9uNeANI24ywgJALyQXNmLt\n",
       "hTAtRIDDXw1Jy1T9judTYKZsXikxxi6rTQR+X+Fj9Ium0mtopwAD6lbeJU0SsCjHF7kvOZvJ7JiS\n",
       "taNW9BsSfDK+7IoAQ4m9tjoe5gwRh/STDmew19uYONQsV8q7wYr1kJg6cK8bReyRbMp2qpKvdcss\n",
       "NwJfrR7xG2tQVJ+chflDiJTQ4V9teHyFsFvMO/vl4UQji0AG83dkbna+Pk8+vF+08jJFISlAaiec\n",
       "8mfPAHWyGbHB8FLCdnzF4EKnp+tyAgSE2l4vuSFeh3hsXYU4mrSiVcwZde2F2gv4eD6ypvzVCs38\n",
       "deeU+3pBNHysCr+AL/z+tVrj0A5sa6RQwvxIJKuSqHwgqJdQwxrVx71BgbGDHC+EzkBDcn7/I3rx\n",
       "WXeQNTIeYUkRBs7gXEGjQikm3eUfGo8QLoguBMLaw2qEkBkmpyrXQQAAAFRBn29FFSxfBWN3okro\n",
       "wXJiun3qijAHLy/2D3kHjmaC8M9/d1erLbC/9xkA6VP1rBIFMRGASX66Wk6xwX5Sfk62arvC4o+T\n",
       "03RQCPysyQ6q4IEKp4IAAABHAZ+QakX/BWOg6Gbt3qdZN8JqezsYTUDcAPlqO0RsHrQ74Qot3+Sa\n",
       "bUEXyua/uCYtRtE2RnfvCwvOVbl/EGEMCMkBt+AesI0AAAGaQZuUSahBbJlMCE///fEARJ3mDwAq\n",
       "mV2/EVz6lJ3ox/j8KJnbhfUGVNMpMcGbBv8gAmpNMCnbCqAnIFGsQKzXk2JotJ+2Qq7BLD/2K1B4\n",
       "32rkIai8TPNaG21mZ+C7qKRy/AOFQ6CD2C+8AWR3Tel9Ir59O4n3oQXJINU3NLlBiwCd9s7y1G0V\n",
       "t0dYbQH/fEzp+8jgQE2lXE2UFUQ1Z5keV8jw0wtwdoYltiKSxjVMkmwlY4s+1FVfK20UI0g+Bqr/\n",
       "2vY2B6KONzIAGMRoqoQRPwiUtVLNHNE4R3aJAxtDbksrJEgTO6GUnpJVSIMQFwN9e4kkktMd2RCZ\n",
       "pAXmnT3jHDrwEp11lomTStr7P75BRunJvTxyVw2u4egtLaApQIXGI5byZ1V3KWKH99WE1CagIAqK\n",
       "7OVc8tcETBNWgOMfE1wXQsOzyZ7qkGTRvq7QlOa9ZxlTd3m7GWbMk3JwKBCiEE9XO5cF3VND2Tl4\n",
       "k+tvEVv8bzcByMdkxpCf34sv0mJQ7n65Qt8rQGeMavLB1oRY0zGxLW1kD4CgzYEAAABrQZ+yRRUs\n",
       "XwVjbptiP3Pfg97uH+fqfUw1jECX/uHAcOW//Q49ko25Bp4N4h3tMZhedeezWNEa7GiLtXEIDxh9\n",
       "Ikw2vFVbvu2PX8H5Zn5+QFACRBCNYXU+lOdcHfptR5K1TQR6naARrtZHdEAAAABPAZ/TakX/CujJ\n",
       "v4UXK7+Uogt+NvBTYPSzZt3M011+GOwQ9q6Gr75Gd1Iquhb5OTXbIbX+HRGA3PRsHzZ/wxTPNnUE\n",
       "rfvDMWPpwBNQHVpjeQAAAZNBm9dJqEFsmUwIT//98QBEng8RtGdRvhgeEDy7yM21pG3ADNYbr0BI\n",
       "bIrpKg6QqWX5LBTkHRGqeIrc9SmD2ih56J6jcPSPz8r1KW5CbfOuTzyz1qrXM3BCFhe1mQACU6lN\n",
       "OkQ84xIjWXJOElGxjhsbMnceUvh04oEmG4UPCck2RhS2XCxb3vszC7E2ukBZM8jY9+GaOjtV5/RY\n",
       "uC8BtwgEkctcC3GCtsgkQ/iWU5OKAbv6mzRTFy6q1GR3fptnloB2FTn6LdZRyJTXSnUpY13xl60+\n",
       "v/FWLd+RDq7zpzlOG5QNltt+6pN2tjGejKKh1OZrCvx2oak8zaPLh4V21nx3qqDtW/Eyx/mYPaXn\n",
       "acgPQc/Zekc4B2BP6o7Oq56GyWggaak+iz0P5aJE2ZsYTebRum9GD4vyF1DCtCvsFqAL1hoAqppo\n",
       "J0Cx6Sz4EmLoTGcr8z1Z6t3QgtJRcsOnwp0Cl65Z58wOrlweEkID/CDpVE7emus6E1YbQFICdJVL\n",
       "G1pv5d7L58hfy3fyJPOYuVYE3e4JAAAAZkGf9UUVLF8FZuOSdUfKnh1hcP9ApOu7PVTtmTt5CFxg\n",
       "8gNc5xGNHuumrhkxYjobrSHf6foIzfFFh7AMGHI4Gsbb/L0KVRhjg7p7WWHjk9BNRdkrcIIW5cie\n",
       "88+SphWcAvP9Nfw0sAAAAFYBnhZqRf8K6MnVG+CJJnFhImGd242pM6aue2Mc8JIdnUlQ6Tq4uD2a\n",
       "uyZ/kZq7DW8A6Zgr4+LAq4AwUOMyVtAGqP/dlnSnfxj4g5NrxG7ycpkO8BjggQAAAZxBmhpJqEFs\n",
       "mUwIT//98QBEvwzAH48ow48jZyQ8ABMWubR+LjdudewTTwmlwMeo7JosMDXCp4VTRKgpqSaDbWMP\n",
       "BTv1QTf/CMU7tRxUkocw4Jdg/dKtrESnZ22kOe14wqoE5HB4UWAzz6tWeV1u0YgZgpUAAAMACwKe\n",
       "vc7u4YEelabhv7sMePFzcZu9dCMt8prg0obMLAOdX4B4Viz+dOl7RW04WVf6a84mEwiEtSyK5tBk\n",
       "FppQuvBDwz4NpN94GjKalQAYnOeIPBeSDMEDdjgnX/V0AZHa90FDkhEsswd0Y228mvdeOe3uJKVO\n",
       "o8E3empn/ICViLjQAJUwaKnejtGyuh+mWodq/lN7gYV3OaDsmR0SiAD5yb/BF5whhf0NnJN/bbga\n",
       "fmn9wEIwgPgOnP43htzmygevuxVFYNAPPpdiKFknIgilu26/NVZYaPch9wuakpYfk1tBlnah+6z0\n",
       "eQVziG8Ch48LB58HOaMFb2EEHuW0P5pbpW9ndlmM86ri82oyU4CPfN5gDsrCGSWpQexXNxNPFKuL\n",
       "1tm/F4F/AAAAekGeOEUVLF8GWjuHlG7TG2oxR6+YhQ5Awy8PDDebRpcfy8ADQLH4+noEBXT4ihnv\n",
       "ZvnptjQKLAU0vBK0AL3xo3yRvCm0G/+lMRSRFMI7+lCEbdxwo8OkqM8+PxPdSkU28cbdodNCoOHM\n",
       "9L6+B662K/CVNwIYrlUrvmQgAAAAWAGeWWpF/waTEjBTcXMYa+Si2+0VtW0z+Wb/RTiEdh3g4ITW\n",
       "IGwGPYAWpbFtOADZ1L4PTzuo8allLtrkugx1ziCO9ByPnvMCDUFNOhL/A2yjG1NA9f+w0TcAAAGt\n",
       "QZpdSahBbJlMCE///fEAR8a7gARBy/Hn4j5uO0iYmBFatthUVs/a6ZllJ3tsMv7t7rKcPtV4HLyP\n",
       "y+5zAv33/Q+5DOXXQaPPKnjO8epHBG1TmgsYRn+oSUK1TwQ/3oPg5Lel3I77yTz0oH2JYaunSzjP\n",
       "3TCfSCyK7F4pGHMatEXe2Oy/lCG5NvyaJgHq9XVcp7SjWiroCngAS7G9Wus9XTy38WA0+SAV/CIo\n",
       "xdSc47mWueQNyyrOIkJaV9PcHeVW83q6liHJ7teZfwGzJYprS+Bri2cA6AT1Vr/Pwlq0nwLla15/\n",
       "PFS2O/ATLd87nqvk9ePkd+HNtECSNwwgC4897kUCYvFwTg4KEXgzlyAM9yUCf9eAh1cgS+zMf+Za\n",
       "W4CTS36oLaY+jlj3d4bXJbOEEBNXunYwvMhSKJjQz61XJio6hyoI6HzJq1/1F3E5HDWJ26gE7BI5\n",
       "0cOdFtiLtyyA+7XW6YZziyV4JQ8x9HQW/HbrRjfLHmMVvxaVmc9MNw8TF0afE3bVPavi136hkrSH\n",
       "8YGIGz6ar0m7Ld10JYfHYPJOYQNkOyguOA/xXl6SAAAAd0Gee0UVLF8GWjuKlrpveRjsw251XYAC\n",
       "56IN4Z0TcngTJ3pElIy/nUVSNAw4wPn2umaDApAbCZ6YvXRLJoeT0E7UA155/DNldt0LeeSunGr0\n",
       "kIbmiBVE4SwRXRxgzx+82JQ7cIBtvOCJBWDw8mH52hGQL9m/gIGBAAAATgGenGpF/wV3Xx8ipO7K\n",
       "VHGPWgANnX81Av+gkKoK9l/YLaqJDcsh8qWsd1kFPhpTkWazqgXeZp+34gx4u857KJH5gIaaz48O\n",
       "1JnQuMphvQAAAYVBmoBJqEFsmUwIT//98QBIE2SzwAbpFnGSCH/FUcuVz7gTOLXhynRn5W5gqKnW\n",
       "3Qy6Y7vgcOrR6ad6iIU7DX+e34iegMetONT+QRxzlxOWzhtfmXtNOg0+eg7Dxu49o+RMc3U5oQ3D\n",
       "fiAKyfyHKPjmroslCPiDhSfDU9z7z+tntcJnhCcLF9VL0o1f3OR/EXidDvp05Om28uN2C8eaZuhf\n",
       "kP8x7nMbLsSW3TGeqDdP3NokCwKJNvS9vnJP+9PyXAz1LJUoNVfO+sulG9i4i3Ho197xXYYmO0ap\n",
       "+m29KoRN0pAf2yz20LU0U+MwbnuCdI58O951eGekrCekorPz6/ypFyVVtGvmYF80Eg7fH4HVX/PW\n",
       "T1KUd/83yu2L4vSddgeQ5KsooKguE5ZXITJSFW+GOUtTK7jYq2yAHmHChufmP+1ai48pjxAo2WzN\n",
       "cy1ILfK4Mj3zlB2oDLOUn4WsDsNVURhH/rT1RpPHsW1oFnIytUXgRSO0vyB9Qiaj1GvAXz0UDodn\n",
       "fAAAAHRBnr5FFSxfBpdY2iWftm4bqomj/q8AJYRZFe5UdlMTBlaZTHllT4c2xrFB5jxprsE6QVn1\n",
       "Z8MQFpX4PQf9oDepRQImlKRPVUXFyL0a2ypoIZDJzuZrjmu9IiawjsGV3DK7Z2k6GG+ePalTiAAq\n",
       "eYAObR4g4AAAAFIBnt9qRf8MI6SifGm2rzskWI4JpOrcPSgNuvXq0WrGUSEvJsVWibxqt/v5jRrK\n",
       "RZ5CCEQbAUy2fLfhQWtbU0gdbU4VgMorsVy7nFnHfLYIlUiBAAAB0UGaxEmoQWyZTAhP//3xAGK5\n",
       "OyFDDFHoAJxzu1WbXuJNUOZH3fMpLZEZ5EXcvEm7h9IMfs/PyTkRU6uVLQzvjr9qKO58QhUaraCk\n",
       "3ZCprceFsJnQB+KOXspS7fZrhBe+tT4iDUPz5wxASkAA/W1qUpIVs14p5bTwGeHmkUe+fS3oWDa1\n",
       "I7VaLLKl5iZbFuKZSCm0vxMjlnUjjZhn7jYrDR0bEKKFSvsqKytfIUbjGnOcGtvVoUWMURwnZz0N\n",
       "W+IOOfzAWPrZ+1fWTO338TXpIRfojWl/dBB73t8DArmgAW4DnX7BpT2My69BjpqjQRRgxoWe2Q8F\n",
       "RD9RYbWxBR8OE8ugawV3zy9F8lZ/3sR32uROIalgB+WVSR3earDdTryWwlijyhiVe0uPIQn6au6U\n",
       "oq/sXazoXNJZLL66APB6bOJcK1Wu3KDCEWtzrixNCSayn4ph1iDVlOB4eUxmfghOLGsM0ZClIR6c\n",
       "EKf5KRJr4MD0712/OX4fwkFObIdYIqW20JAyYRV6B+AO1xfD/jmzYarxdwAmUg+KWKp1KG9VbXJ4\n",
       "Gro2b0zfc6sAtostR0dyvVj30STHL6hfQZdKQ4qmjAs08cUmvAEsFl1SbQpfK91jrgAAAKJBnuJF\n",
       "FSxvCYOPJr88VLegcpwAE7E6npNhF+vfhECu9zx2fQeMDpHvr6WNlUSyX/DzxkrRT/+DtK3Sa5sv\n",
       "Ns7U1cPzIj5adzDdw3fe3UqnOhxxynffnGhDHrX6QerX3TavdRPFFGWDC3C3/ZpP/++dH1N167VC\n",
       "HcFrk9sWvUshukhD+BKimV7YEn6M+pDqg5TVb9hhRU8UtVWXhwoB+H9tMkEAAABVAZ8BdEX/C85L\n",
       "p2Bc/Fituy6okJaEZDBN8PuVSyrrUYUxCvOuOCsSEfvlxNkDIpT96wYWi3O16lHZ8EAxNaqHgaH9\n",
       "AwLsTr1wvSUJG0WspRHfAG17pAAAAFgBnwNqRf8LzkxSQUptJ7/GcsEWhiOoIwqkzE4QWDQ4tQPI\n",
       "Vbca+V3bfV/qy9PGPXkzrnoUEQYVTJ42C0M4fHVZXzY/ia//d1PFEmvPQWHhYlvPwLYOl4qRAAAB\n",
       "tkGbCEmoQWyZTAhP//3xAEeUnN/svr7dACuZ/9i3QUCw72oc2Xm1ZOHpiqLp5NiJfz3R/9r5YvlV\n",
       "eKsXKzupD28anTT8gBpwo51h1u5/SFlzn1Qiufdbo/M0LauYYBGAlnaGt2a6qxw7rFVzLoAQebJx\n",
       "tNe0j/u+QVwCLRX5WClHFR7bVtAMBtVDPder20x5wFjNhQ2qBl19gUqRf/Zgt+omo7A0YOzsQQC5\n",
       "2cnEtN5lRE7TXrY68KYQFh9+iDQdNoFe42POA+ab7OU4cxRCldb8kJrTjMRdlJX6tnSZZ5Il8dvo\n",
       "k1hCQ7pu6ZrpFwnNQJOqOZASUHplJaCX2W14b0Wuik99aCejDpyFMR6J+kzVOvN148r6SE3oDCTs\n",
       "gAClZJcrtniPyAYDxifm+AH2C6P62c3ypYuxQ8lHs4FpmIJbVKLqpzX4TcYxoPakO4p3+VPf4E7D\n",
       "rwX1MYn3WZKnNzG1dU3NYQQVwqGP1MC1/SvsF99gv5R9Mc8ukyhU/uwYD3KWE09c7Rnv2e+jRKhf\n",
       "RR3sg2ZuScC5EjesU+hBLmF22Po9FLbk5wV8H41H0VrrM3n8cCCDgQAAAIVBnyZFFSxvCVYbQElx\n",
       "cgdb+PAHS2JSldq9CFRuHtX9DzW23LukGrGJae86Qlv6x8ORhZZLj9GYW6jJRxXEjHxToVAB3Dtv\n",
       "mDwnxyr5rnfCf0MZ3xREjy9JktUNljAA2NHfv5YWCxVuurm/n9SgEEooGaQCW2acItnPjTzwSMBj\n",
       "ZB91AVxhAAAAWQGfRXRF/wvOS6iAjJKGSezFsN7ARuavuY5lZzDc/CWR+bIh6CIxEnoFQWOluNRJ\n",
       "7VodTEsp1ZyZvRURlTB9GzyKKqhpF0acF7yHYrpDDuBQv+q/mxC6PXyRAAAAUwGfR2pF/wvOTFK/\n",
       "X5K7/qjVnzaq2Wl8uFBTwJ2nod1Jzy3Qi08rUIdSF3QdzP0r3L4tbVBNzm7ulxk0SUfgLPB5L7iH\n",
       "regoa0XKByt7FXSNVMg3AAABgEGbSkmoQWyZTBRMJ//98QBIcWZbe9hblhSIAghqWBUJq5UAUgFl\n",
       "pQHyh7O0O4cuiureNbXzWChLMFFsHjLA2JfY3kJ07d5nPZSgdKSOiAAAAwG7BeGd2xOhlpa2jYVy\n",
       "pvVMakvjAnvtuUEjmzXPXb2SFBGcY4soH5hDHhbRxDuo4LhByPpGvoWmSqoJzk2IZG7u/ilSsOjI\n",
       "/RXSQ0rExElpDDxPKryvdqbhec59U518sudUKWQGyZSo7nMknMhsqJdzhvCqGxmwVF6HqJpLZQGk\n",
       "gW3Qcqjv1Cm1wUlK8v555lL0TeK1fJ0ZvIYbHSdFM1421kvzV5phxWu1TaavMZB0iYDGJyR/GNb5\n",
       "BJ8NBbWmnW+NxRIDgV2YdGGTzhNVb4lPBaM7Rmh1MkPdAHUaaUI+5SNmFp7DGLENwlMYpcsAxMP0\n",
       "2moDnzFVRujTrpMYB4iyT8v6NUz8PiV0/gnSVbQhPry5MpwpjrshRDeoz2zOfgVauqpp72QG0jCm\n",
       "dsqIgAAAAEkBn2lqRf8LnW5cMZV3acSDuFhClUkODq5XgoXqH7ou9Vz1/nsGgWmCub1odJ2qTTJC\n",
       "hGezebJgLj5ztTh3b15kpneawR3mUgSBAAABrUGbbknhClJlMCE//fEAaLk6Y0rzspC3dfy+0roU\n",
       "LMXnIciIMQAz0SAPeI23/SUc1gy3wl0Of2W0jcH4XruCy/VT1Jj0LPymuNE3toUZKH7w6vVG+EJq\n",
       "2yyjLkCzz2nOKlahKuaalKvOeEanpO5pFPEkSYLERKZnYDrO2E4h9Tc0JTFfmZH0N37UIiqw3tQz\n",
       "iRv4b0TWv75pxt8GwhV7hlAD3I9EbkVT0rhnD7rIyQsT/WclQsYKy6UP2KJEotN/PbwLwuJA+hzC\n",
       "RS/iK0JkcAzQD8EWnSbrSA0UXWslSO4jx3BoR52MYZiN00DKcg8F8CbawSaK1y2jvYgEhsOTe/kN\n",
       "fndBwMFifQcZTJYxpkToAGYB41efX2UG8KK1NwZU5Nu/uVeSjoNigtYYLS8BNNVpG2nhsYGPFQxh\n",
       "LOhWBQJV0mYGfLOmH6CcCiNXDIbxJBhzVIvBpeW1E1Vo+Lm2TK+7k6ywEzGwsNuIEYLlGld8Rx1V\n",
       "cxSn8yWQmGvBQexwSJ1Vz07u5Yhp4Fip7cXRVgI+U1eLLdSXyFZT3MaNEBrYySnhLHrf8QYFWSRK\n",
       "wAAAAHJBn4xFNExvCVQ//v3yTIdpbhrRj254tSlw0usih00JGaSrKWV+2d2IHAFwaVmbqvsMDFu+\n",
       "tnlSRoK9I3MUs710wTitDaebvrd3UeVFGPZhl6IlgHybAAIVAEuQHki0aqJGRSy4LGDOnUCcBQiH\n",
       "4BmsSnAAAABAAZ+rdEX/C1jJ0ZFTy8S0k7yC+79dJjluAiWB7HzWkL1RGKqnMgSV4vQiOT8dva76\n",
       "11rjPvS7/q4hCzKaPo/jjwAAAE8Bn61qRf8LWMnRaiyMHQkmqpe5RaLB54cn9amCt7zVvc5F7UDL\n",
       "w0IkgFerwzlxDB7pLkNsjz0fqKwRwCrF4zp7tloJFzpoet0yAPID9DYhAAABkkGbskmoQWiZTAhP\n",
       "//3xACk57FGC8h5MNVSnozjVgcbw3JuWLo10nSYgLe6F0VnTFfkYL5SuIriUo7P4JaqUlhEoFfO6\n",
       "mbHS6iC5NPepQZXmH3R6LvTlsv+8xqPWTeuTi9ZRJuwnDAEYnKWL0c5ngS8CcmiPFaoA3SmyyPgo\n",
       "qRtlXRoWFGby4wY1sMKx0P2UQGA5hXZb1yoopuyB+CFieIKxsZidjU/YpQpF323INZE3Ploxw586\n",
       "ffEGYpGGAIuoHN6lE8RmRdoeRGxxVQpCn0r5xWomBCJYGvmuaCiW89hXfqIXGFHDXGwewsFfKF+C\n",
       "9VsFKNJhA9XwlHOghr7b2uu2m7JAM+pl9Www5O662zCU2H7zRTURL6Zps+tq5C7i2mm6PdPGISi8\n",
       "qwa0NeAyjN0c6uYEyMYodrFdpTQ8ICDCnz9lJuYqB1eFJZ91OCifYG63cJm+CF6oxuLyoqAYKXGX\n",
       "xWxguGhG1hCqvmD0y9IIblW9f4H7uUExXmiGzGGwFNXVhOFIV/u0u8knoaPZ/NhSQQAAAGFBn9BF\n",
       "ESxvCRuRqgPFCYMYhMf3lMmSUV4rWLSUuEOL71uf/LRzuPESyZFzH+912O1oiIUZXYhNbIPJG2I4\n",
       "f3toTxmv2yZrEQEOQeZnRWc8N9Cfk40ihCgQDZB624Nof+psAAAAQgGf73RF/wuKVNsVBdbO9Aso\n",
       "jcn7tlFEm2IQmZLCdQnj8S5aFUliG42O7drYzFJXzgxOFBJ2mEbjd+XD9AJpi/BlwAAAAEcBn/Fq\n",
       "Rf8Ll0zMwMiGtIqDEbdB2QjWHqxuthygknIO9a7FsjmY4gu/TdVAvkum3Lpg1MLrpemFxO4J0qR1\n",
       "n9c/1OeyDrklwQAAAVdBm/ZJqEFsmUwIT//98QLxgGn0ANJ5kZnRJeKfgBmVJ8pyvb8D50JxI3SZ\n",
       "EDeJLgI8h2yFXL2jKH8KB7w7H3mgrOMp9qmPzJfbqPARkNB0YmVM5vvnWMtZ0gpxJXljEUAKH/sJ\n",
       "Ig0gzKdhNzjkPDGOT7MRagJwizMvr5R/eXY3/aXnI5twFLlopVytAa3loMtRDVluzIqWP6vJD/nc\n",
       "uhxhhtPh44cD7nkfyoLqmWUFKK5qzXigyz3BHGcBA9FRMAi5kimWBbvXJXcWwbJ4F/pWXmttAD8W\n",
       "l/ttfpqD2ifuueksZGx3NhpgyLqpOcFw4geQOw/RF5/NJRQoPidAVY3R/KxDzTwiGfU4e17sawQn\n",
       "B7+WLCCJg8Y6IlcHgQ8uARp6QnVbeN/VenVWg9NWpCIsHtRzv37W5uTN7jY/a34z0EQ/2dAoBMaV\n",
       "gUOcC3uuubntcVa4rYKAAAAATUGeFEUVLG8JSyIg6yHdK3CTvlBXcYbwTaaxOY0aXw/sflAnVImD\n",
       "hYe5Lg/qcuaUc+qU9XwIaLmHbRhz9w7fgntdsgW0ysMnpKY3LdKAAAAAOgGeM3RF/wuSbfsbmdkw\n",
       "OmecbC3EuO/6NNqrTN3DwHsnDiPVYjKUCLoSwp+fw1KZkyXcs0YgFrpq11EAAAAwAZ41akX/C43t\n",
       "AJ8BZ+mFoBPClZVgaXCPHvWmZYpvkFj+a//97KvbH+8/hT+AQyvgAAAA1kGaOkmoQWyZTAhP//3x\n",
       "ACjvuIyMeUunwACWyU0X7MhmVN0+OKszV1sfMjWhodLSrteiMHFFRWALV3U/+c4dG3rUk/R0JMN0\n",
       "98zpTrxSZTC8T7spxIrevKUD8M2qokmVispCxgxzFOjb8FGO1R2GG89C29AWKTdDW8LVK5/pvcSY\n",
       "DbDtWaIxM1cNz2AQGwUnlxwZ5nb8hgH/7PjSNlXk3wR7iolDPqQF0cfq00wRvs9ndKvKKTU0JoLK\n",
       "kjvnS7uviqRvd/ytz5X8J55EH5svndXk8BuzxMEAAABLQZ5YRRUsbwVYqtIo3DlgEEZVYNyGPhR1\n",
       "kg2ukrCjPNlILywK2Q7Ks9WXYI410m/Bb9d14sRcFucBZvlYHuNKNl6hRTgYV5aUeUV9AAAAMwGe\n",
       "d3RF/wa56YbUpnUfCBZtQYmGGe+5L1xEVzbqYXYvOBdghBM95DPXviQU8RfAExFecgAAACYBnnlq\n",
       "Rf8Gvkg1VhQDmg7Z257+dNhT0YANiaHB1fAlAEmaYAGKFQAAAJpBmn5JqEFsmUwIR//94QA/BOeJ\n",
       "fB3tI8aRbtX3WAFpKK6K22znmZfFc0YURLtnVjaz+gNr1opLHhGMd42yR5G/YtWVrVRnOUBXh4JK\n",
       "/tgSFhAn7Iitz99lOKILJf0ZDsWg0q0j+15wYsZixpobKwBoq5nd7VectSRh2g0ingAZ3bHXIe3k\n",
       "rDVghCBjgNXntq0J5GbXtTRFULawAAAAN0GenEUVLG8FRkPNDPmNgWZqzHjbNPL0Km8LPbdSFThq\n",
       "OqsKjrUYHirShXDe7GA9nEMpQvbYoKEAAAAWAZ67dEX/BrnsnMOYlgRlIp5sgg1SdQAAAB4Bnr1q\n",
       "Rf8Gvkg5ohFBGsyEPk+V4Zgce78roAQKjqAAAACAQZqiSahBbJlMCN/6WAHoIOE92rtdTjZPONyH\n",
       "kMpCZR23wSq2YSpu15gXN1rPTyghOK+HzcC5o1uhF3eIJouwAhAMP7pUIlEBu+L3u/iqjrNsivld\n",
       "qo0cA+FzJ51jIooWpKGcsCSQYiF4m+5vJu8STB6SlMFWAwKhG/de0XTCqOAAAAA9QZ7ARRUsbwV7\n",
       "BCto+GwSCYmCETD62hRX40oJZGjgNiN9vtqybgPcYjt92m4RbQ3gruHbOfwELIvxXX0cwQAAABsB\n",
       "nv90Rf8GueqpE7Tc7b7ZPo5q5xZJLAFODegAAAAgAZ7hakX/Br5HBrvnWBVmKzDpg3h98WvGUjoA\n",
       "8Vevx8EAAABKQZrjSahBbJlMCL/6WADt+aHZc40CXNJ5ztxLBf4Uw7UHoZPJp9cnsmgBBYrrI6a8\n",
       "5jEmjv4WhigsC2d+qmBHE+CRTqKVYZZouv8AAAeSbW9vdgAAAGxtdmhkAAAAAAAAAAAAAAAAAAAD\n",
       "6AAAA+gAAQAAAQAAAAAAAAAAAAAAAAEAAAAAAAAAAAAAAAAAAAABAAAAAAAAAAAAAAAAAABAAAAA\n",
       "AAAAAAAAAAAAAAAAAAAAAAAAAAAAAAAAAAAAAgAABrx0cmFrAAAAXHRraGQAAAADAAAAAAAAAAAA\n",
       "AAABAAAAAAAAA+gAAAAAAAAAAAAAAAAAAAAAAAEAAAAAAAAAAAAAAAAAAAABAAAAAAAAAAAAAAAA\n",
       "AABAAAAAAbAAAAEgAAAAAAAkZWR0cwAAABxlbHN0AAAAAAAAAAEAAAPoAAABAAABAAAAAAY0bWRp\n",
       "YQAAACBtZGhkAAAAAAAAAAAAAAAAAAAyAAAAMgBVxAAAAAAALWhkbHIAAAAAAAAAAHZpZGUAAAAA\n",
       "AAAAAAAAAABWaWRlb0hhbmRsZXIAAAAF321pbmYAAAAUdm1oZAAAAAEAAAAAAAAAAAAAACRkaW5m\n",
       "AAAAHGRyZWYAAAAAAAAAAQAAAAx1cmwgAAAAAQAABZ9zdGJsAAAAt3N0c2QAAAAAAAAAAQAAAKdh\n",
       "dmMxAAAAAAAAAAEAAAAAAAAAAAAAAAAAAAAAAbABIABIAAAASAAAAAAAAAABAAAAAAAAAAAAAAAA\n",
       "AAAAAAAAAAAAAAAAAAAAAAAAAAAAGP//AAAANWF2Y0MBZAAf/+EAGGdkAB+s2UGwloQAAAMABAAA\n",
       "AwMgPGDGWAEABmjr48siwP34+AAAAAAcdXVpZGtoQPJfJE/FujmlG88DI/MAAAAAAAAAGHN0dHMA\n",
       "AAAAAAAAAQAAAGQAAACAAAAAFHN0c3MAAAAAAAAAAQAAAAEAAALgY3R0cwAAAAAAAABaAAAAAQAA\n",
       "AQAAAAABAAACAAAAAAIAAACAAAAAAQAAAoAAAAABAAABAAAAAAEAAAAAAAAAAQAAAIAAAAABAAAC\n",
       "AAAAAAIAAACAAAAAAQAAAgAAAAACAAAAgAAAAAEAAAGAAAAAAQAAAIAAAAABAAACgAAAAAEAAAEA\n",
       "AAAAAQAAAAAAAAABAAAAgAAAAAEAAAKAAAAAAQAAAQAAAAABAAAAAAAAAAEAAACAAAAAAQAAAoAA\n",
       "AAABAAABAAAAAAEAAAAAAAAAAQAAAIAAAAABAAACgAAAAAEAAAEAAAAAAQAAAAAAAAABAAAAgAAA\n",
       "AAEAAAKAAAAAAQAAAQAAAAABAAAAAAAAAAEAAACAAAAAAQAAAoAAAAABAAABAAAAAAEAAAAAAAAA\n",
       "AQAAAIAAAAABAAACgAAAAAEAAAEAAAAAAQAAAAAAAAABAAAAgAAAAAEAAAIAAAAAAgAAAIAAAAAB\n",
       "AAACAAAAAAIAAACAAAAAAQAAAgAAAAACAAAAgAAAAAEAAAIAAAAAAgAAAIAAAAABAAACAAAAAAIA\n",
       "AACAAAAAAQAAAgAAAAACAAAAgAAAAAEAAAIAAAAAAgAAAIAAAAABAAACgAAAAAEAAAEAAAAAAQAA\n",
       "AAAAAAABAAAAgAAAAAEAAAKAAAAAAQAAAQAAAAABAAAAAAAAAAEAAACAAAAAAQAAAYAAAAABAAAA\n",
       "gAAAAAEAAAKAAAAAAQAAAQAAAAABAAAAAAAAAAEAAACAAAAAAQAAAoAAAAABAAABAAAAAAEAAAAA\n",
       "AAAAAQAAAIAAAAABAAACgAAAAAEAAAEAAAAAAQAAAAAAAAABAAAAgAAAAAEAAAKAAAAAAQAAAQAA\n",
       "AAABAAAAAAAAAAEAAACAAAAAAQAAAoAAAAABAAABAAAAAAEAAAAAAAAAAQAAAIAAAAABAAACgAAA\n",
       "AAEAAAEAAAAAAQAAAAAAAAABAAAAgAAAAAEAAAEAAAAAHHN0c2MAAAAAAAAAAQAAAAEAAABkAAAA\n",
       "AQAAAaRzdHN6AAAAAAAAAAAAAABkAAAZGAAAAl8AAACQAAAAfgAAAeMAAACRAAAAcgAAAF0AAAFx\n",
       "AAAAbQAAAEcAAAFzAAAAZwAAAEgAAAFlAAAASwAAAbEAAAByAAAARQAAAEkAAAHOAAAAWgAAADwA\n",
       "AAA+AAABNQAAAFwAAAA7AAAALAAAAQsAAABDAAAAKQAAACYAAAEbAAAAPQAAACEAAAAdAAABNwAA\n",
       "AFgAAAApAAAAMwAAAXYAAABmAAAAOgAAAEYAAAFpAAAAVAAAAEEAAAGSAAAAWAAAAEsAAAGeAAAA\n",
       "bwAAAFMAAAGXAAAAagAAAFoAAAGgAAAAfgAAAFwAAAGxAAAAewAAAFIAAAGJAAAAeAAAAFYAAAHV\n",
       "AAAApgAAAFkAAABcAAABugAAAIkAAABdAAAAVwAAAYQAAABNAAABsQAAAHYAAABEAAAAUwAAAZYA\n",
       "AABlAAAARgAAAEsAAAFbAAAAUQAAAD4AAAA0AAAA2gAAAE8AAAA3AAAAKgAAAJ4AAAA7AAAAGgAA\n",
       "ACIAAACEAAAAQQAAAB8AAAAkAAAATgAAABRzdGNvAAAAAAAAAAEAAAAwAAAAYnVkdGEAAABabWV0\n",
       "YQAAAAAAAAAhaGRscgAAAAAAAAAAbWRpcmFwcGwAAAAAAAAAAAAAAAAtaWxzdAAAACWpdG9vAAAA\n",
       "HWRhdGEAAAABAAAAAExhdmY1OS4xNi4xMDA=\n",
       "\">\n",
       "  Your browser does not support the video tag.\n",
       "</video>"
      ],
      "text/plain": [
       "<IPython.core.display.HTML object>"
      ]
     },
     "execution_count": 42,
     "metadata": {},
     "output_type": "execute_result"
    },
    {
     "data": {
      "image/png": "[encoded data removed]",
      "text/plain": [
       "<Figure size 432x288 with 1 Axes>"
      ]
     },
     "metadata": {
      "needs_background": "light"
     },
     "output_type": "display_data"
    }
   ],
   "source": [
    "fig = plt.figure()\n",
    "ax = plt.axes(xlim=(s.x[0], s.x[-1]), ylim=(-3.0, 3.0))\n",
    "line1, = ax.plot([], [], lw=2, c='m', label=\"driving potential\")\n",
    "line2, = ax.plot([], [], lw=2, c='k', label=\"density\")\n",
    "line3, = ax.plot([], [], lw=2, c='g', label=\"hartree potential\")\n",
    "def init():\n",
    "    line1.set_data([], [])\n",
    "    line2.set_data([], [])\n",
    "    line3.set_data([], [])\n",
    "    return line1, line2, line3\n",
    "def animate(i):\n",
    "    line1.set_data(s.x, s.v_ext[:] + v_ptrb[i,:])\n",
    "    line2.set_data(s.x, n[i,:])\n",
    "    line3.set_data(s.x, v_h[i,:])\n",
    "    return line1, line2, line3\n",
    "plt.legend()\n",
    "anim = FuncAnimation(fig, animate, init_func=init, frames=100, interval=10, blit=True)\n",
    "HTML(anim.to_html5_video())"
   ]
  },
  {
   "cell_type": "markdown",
   "id": "c59430f7-b6d8-4f7b-a8f7-06825e3725d3",
   "metadata": {},
   "source": [
    "## 6. Approximate Methods."
   ]
  },
  {
   "cell_type": "markdown",
   "id": "e2eee005-c9cd-40c6-b8a7-7e100de19c93",
   "metadata": {},
   "source": [
    "As well as the exact solution, we can also compute everything we have in the previous sections, but with common approximations. To see the current list of approximations (more are added each release!) we can use the `dir` function."
   ]
  },
  {
   "cell_type": "code",
   "execution_count": 43,
   "id": "23f80fdd-aaea-4830-8f18-841a576924c7",
   "metadata": {},
   "outputs": [
    {
     "data": {
      "text/plain": [
       "['Enum',\n",
       " 'Methods',\n",
       " '__builtins__',\n",
       " '__cached__',\n",
       " '__doc__',\n",
       " '__file__',\n",
       " '__loader__',\n",
       " '__name__',\n",
       " '__package__',\n",
       " '__path__',\n",
       " '__spec__',\n",
       " 'hartree',\n",
       " 'hartree_fock',\n",
       " 'hybrid',\n",
       " 'interacting',\n",
       " 'lda',\n",
       " 'non_interacting']"
      ]
     },
     "execution_count": 43,
     "metadata": {},
     "output_type": "execute_result"
    }
   ],
   "source": [
    "dir(iDEA.methods)"
   ]
  },
  {
   "cell_type": "markdown",
   "id": "ea833c6b-b8f5-4e75-9266-033e10d1ca0c",
   "metadata": {},
   "source": [
    "We can investigate a given method in a little more detail:"
   ]
  },
  {
   "cell_type": "code",
   "execution_count": 44,
   "id": "ff7dcf47-ccd0-4b37-bcaf-b79e679c66fd",
   "metadata": {},
   "outputs": [
    {
     "name": "stdout",
     "output_type": "stream",
     "text": [
      "Help on module iDEA.methods.hartree_fock in iDEA.methods:\n",
      "\n",
      "NAME\n",
      "    iDEA.methods.hartree_fock - Contains all Hartree Fock functionality and solvers.\n",
      "\n",
      "FUNCTIONS\n",
      "    exchange_potential_operator(s: iDEA.system.System, p: numpy.ndarray) -> numpy.ndarray\n",
      "        Compute the exchange potential operator.\n",
      "        \n",
      "        | Args:\n",
      "        |     s: iDEA.system.System, System object.\n",
      "        |     p: np.ndarray, Charge density matrix.\n",
      "        \n",
      "        | Returns:\n",
      "        |     Vx: np.ndarray, Exchange potential energy operator.\n",
      "    \n",
      "    hamiltonian(s: iDEA.system.System, up_n: numpy.ndarray, down_n: numpy.ndarray, up_p: numpy.ndarray, down_p: numpy.ndarray, K: numpy.ndarray = None, Vext: numpy.ndarray = None) -> numpy.ndarray\n",
      "        Compute the Hamiltonian from the kinetic and potential terms.\n",
      "        \n",
      "        | Args:\n",
      "        |     s: iDEA.system.System, System object.\n",
      "        |     up_n: np.ndarray, Charge density of up electrons.\n",
      "        |     down_n: np.ndarray, Charge density of down electrons.\n",
      "        |     up_p: np.ndarray, Charge density matrix of up electrons.\n",
      "        |     down_p: np.ndarray, Charge density matrix of down electrons.\n",
      "        |     K: np.ndarray, Single-particle kinetic energy operator [If None this will be computed from s]. (default = None)\n",
      "        |     Vext: np.ndarray, Potential energy operator [If None this will be computed from s]. (default = None)\n",
      "        \n",
      "        | Returns:\n",
      "        |     H: np.ndarray, Hamiltonian, up Hamiltonian, down Hamiltonian.\n",
      "    \n",
      "    propagate(s: iDEA.system.System, state: iDEA.state.SingleBodyState, v_ptrb: numpy.ndarray, t: numpy.ndarray, hamiltonian_function: collections.abc.Callable = None, restricted: bool = False) -> iDEA.state.SingleBodyEvolution\n",
      "        Propagate a set of orbitals forward in time due to a dynamic local pertubation.\n",
      "        \n",
      "        | Args:\n",
      "        |     s: iDEA.system.System, System object.\n",
      "        |     state: iDEA.state.SingleBodyState, State to be propigated.\n",
      "        |     v_ptrb: np.ndarray, Local perturbing potential on the grid of t and x values, indexed as v_ptrb[time,space].\n",
      "        |     t: np.ndarray, Grid of time values.\n",
      "        |     hamiltonian_function: Callable, Hamiltonian function [If None this will be the non_interacting function]. (default = None)\n",
      "        |     restricted: bool, Is the calculation restricted (r) on unrestricted (u). (default=False)\n",
      "        \n",
      "        | Returns:\n",
      "        |     evolution: iDEA.state.SingleBodyEvolution, Solved time-dependent evolution.\n",
      "    \n",
      "    solve(s: iDEA.system.System, k: int = 0, restricted: bool = False, mixing: float = 0.5, tol: float = 1e-10, initial: tuple = None, silent: bool = False) -> iDEA.state.SingleBodyState\n",
      "        Solves the Schrodinger equation for the given system.\n",
      "        \n",
      "        | Args:\n",
      "        |     s: iDEA.system.System, System object.\n",
      "        |     k: int, Energy state to solve for. (default = 0, the ground-state)\n",
      "        |     restricted: bool, Is the calculation restricted (r) on unrestricted (u). (default=False)\n",
      "        |     mixing: float, Mixing parameter. (default = 0.5)\n",
      "        |     tol: float, Tollerance of convergence. (default = 1e-10)\n",
      "        |     initial: tuple. Tuple of initial values used to begin the self-consistency (n, up_n, down_n, p, up_p, down_p). (default = None)\n",
      "        |     silent: bool, Set to true to prevent printing. (default = False)\n",
      "        \n",
      "        | Returns:\n",
      "        |     state: iDEA.state.SingleBodyState, Solved state.\n",
      "    \n",
      "    total_energy(s: iDEA.system.System, state: iDEA.state.SingleBodyState) -> float\n",
      "        Compute the total energy.\n",
      "        \n",
      "        | Args:\n",
      "        |     s: iDEA.system.System, System object.\n",
      "        |     state: iDEA.state.SingleBodyState, State. (default = None)\n",
      "        \n",
      "        | Returns:\n",
      "        |     E: float, Total energy.\n",
      "\n",
      "DATA\n",
      "    name = 'hartree_fock'\n",
      "\n",
      "FILE\n",
      "    /home/jack/projects/iDEA/.venv/lib/python3.8/site-packages/iDEA_latest-0.1.6-py3.8.egg/iDEA/methods/hartree_fock.py\n",
      "\n",
      "\n"
     ]
    }
   ],
   "source": [
    "help(iDEA.methods.hartree_fock)"
   ]
  },
  {
   "cell_type": "markdown",
   "id": "a6196509-990e-45e9-9afb-43ff1df2ad74",
   "metadata": {},
   "source": [
    "We can solve our system using **LDA** and compare this to our exact result:"
   ]
  },
  {
   "cell_type": "code",
   "execution_count": 45,
   "id": "822036cb-3652-4114-b5d7-908faead067c",
   "metadata": {},
   "outputs": [
    {
     "name": "stdout",
     "output_type": "stream",
     "text": [
      "iDEA.methods.lda.solve: convergence = 6.9333e-11, tolerance = 1e-10\n"
     ]
    }
   ],
   "source": [
    "ground_state_lda = iDEA.methods.lda.solve(s, k=0)"
   ]
  },
  {
   "cell_type": "code",
   "execution_count": 46,
   "id": "5a5856da-d1c7-4a59-8ce4-a9c7649439cb",
   "metadata": {},
   "outputs": [],
   "source": [
    "n_exact = iDEA.observables.density(s, state=ground_state)"
   ]
  },
  {
   "cell_type": "code",
   "execution_count": 47,
   "id": "831de8bb-cfcc-49e9-8a3f-11d3849d1aa8",
   "metadata": {},
   "outputs": [],
   "source": [
    "n_lda = iDEA.observables.density(s, state=ground_state_lda)"
   ]
  },
  {
   "cell_type": "code",
   "execution_count": 48,
   "id": "7b5043c4-7c22-4100-b2f7-0a250336dd62",
   "metadata": {},
   "outputs": [
    {
     "data": {
      "image/png": "[encoded data removed]",
      "text/plain": [
       "<Figure size 432x288 with 1 Axes>"
      ]
     },
     "metadata": {
      "needs_background": "light"
     },
     "output_type": "display_data"
    }
   ],
   "source": [
    "plt.plot(s.x, n_exact, \"k-\", label=\"density (exact)\")\n",
    "plt.plot(s.x, n_lda, \"r--\", label=\"density (LDA)\")\n",
    "plt.legend()\n",
    "plt.show()"
   ]
  },
  {
   "cell_type": "markdown",
   "id": "7fc503e8-10c0-4f81-a107-a2eb49ae86f0",
   "metadata": {},
   "source": [
    "`iDEA` makes it easy to compare many different approximations. For example, **we can compare the first-excited state charge density, for the two electron (ud) QHO for all of the methods using the following simple code:**"
   ]
  },
  {
   "cell_type": "code",
   "execution_count": 49,
   "id": "279f6731-5ea0-49a3-a03c-72bf21e2b378",
   "metadata": {},
   "outputs": [
    {
     "name": "stdout",
     "output_type": "stream",
     "text": [
      "iDEA.methods.non_interacting.solve: convergence = 9.021e-12, tolerance = 1e-06\n",
      "iDEA.methods.hartree.solve: convergence = 7.6081e-07, tolerance = 1e-06\n",
      "iDEA.methods.hartree_fock.solve: convergence = 7.9506e-07, tolerance = 1e-06\n",
      "iDEA.methods.lda.solve: convergence = 9.5944e-07, tolerance = 1e-06\n",
      "iDEA.methods.hybrid.solve: convergence = 8.8926e-07, tolerance = 1e-06\n"
     ]
    },
    {
     "data": {
      "image/png": "[encoded data removed]",
      "text/plain": [
       "<Figure size 432x288 with 1 Axes>"
      ]
     },
     "metadata": {
      "needs_background": "light"
     },
     "output_type": "display_data"
    }
   ],
   "source": [
    "x = np.linspace(-15, 15, 200)\n",
    "v_ext = 0.5 * 0.25**2 * x**2\n",
    "v_int = iDEA.interactions.softened_interaction(x)\n",
    "s = iDEA.system.System(x, v_ext, v_int, electrons='ud')\n",
    "\n",
    "\n",
    "state_exact = iDEA.methods.interacting.solve(s, k=1)\n",
    "n_exact = iDEA.observables.density(s, state_exact)\n",
    "plt.plot(s.x, n_exact, label=\"exact\")\n",
    "\n",
    "for method in iDEA.iterate_sb_methods:\n",
    "    state = method.solve(s, k=1, tol=1e-6)\n",
    "    n = iDEA.observables.density(s, state)\n",
    "    plt.plot(s.x, n, label=method.name)\n",
    "plt.title(\"Comparing different approximations\")\n",
    "plt.legend()\n",
    "plt.show()"
   ]
  },
  {
   "cell_type": "markdown",
   "id": "ceaccf84-033b-460d-ac08-210e9a58d32a",
   "metadata": {},
   "source": [
    "## 7. Reverse Engineering."
   ]
  },
  {
   "cell_type": "markdown",
   "id": "1ccfddcd-d694-4f30-8b57-11bf5efca6eb",
   "metadata": {},
   "source": [
    "`iDEA` also gives you the ability to reverse-engineer charge densities. **This tells you what fictitious system would need to be solved using a given method, to reproduce a target density.**\n",
    "\n",
    "The reverse function provides this functionality:"
   ]
  },
  {
   "cell_type": "code",
   "execution_count": 50,
   "id": "8c5a818c-faa8-4771-8cf4-72a0f4d2da2b",
   "metadata": {},
   "outputs": [
    {
     "name": "stdout",
     "output_type": "stream",
     "text": [
      "Help on function reverse in module iDEA.reverse_engineering:\n",
      "\n",
      "reverse(s: iDEA.system.System, target_n: numpy.ndarray, method: collections.abc.Container, v_guess: numpy.ndarray = None, mu: float = 1.0, pe: float = 0.1, tol: float = 1e-12, silent: bool = False, **kwargs) -> iDEA.state.State\n",
      "    Determines what ficticious system is needed for a given method, when solving the system, to produce a given target density.\n",
      "    If the given target density is from solving the interacting electron problem (iDEA.methods.interacting), and the method is the non-interacting electron solver (iDEA.methods.non_interacting)\n",
      "    the output is the Kohn-Sham system.\n",
      "    \n",
      "    The iterative method used is defined by the following formula:\n",
      "    .. math:: \\mathrm{V}_\\mathrm{ext} \\rightarrow \\mu * (\\mathrm{n}^p - \\mathrm{target_n}^p)\n",
      "    \n",
      "    | Args:\n",
      "    |     s: iDEA.system.System, System object.\n",
      "    |     target_n: np.ndarray, Target density to reverse engineer.\n",
      "    |     method: Container, The method used to solve the system.\n",
      "    |     v_guess: np.ndarray, The initial guess of the fictitious potential. (default = None)\n",
      "    |     mu: float = 1.0, Reverse engineering parameter mu. (default = 1.0)\n",
      "    |     pe: float = 0.1, Reverse engineering parameter p. (default = 0.1)\n",
      "    |     tol: float, Tollerance of convergence. (default = 1e-12)\n",
      "    |     silent: bool, Set to true to prevent printing. (default = False)\n",
      "    |     kwargs: Other arguments that will be given to the method's solve function.\n",
      "    \n",
      "    | Returns:\n",
      "    |     s_fictitious: iDEA.system.System, fictitious system object.\n",
      "\n"
     ]
    }
   ],
   "source": [
    "help(iDEA.reverse_engineering.reverse)"
   ]
  },
  {
   "cell_type": "markdown",
   "id": "d6eade5e-4063-4f32-8df0-1cd527930602",
   "metadata": {},
   "source": [
    "This is a general method, but can be used to perform many common tasks in condensed matter physics."
   ]
  },
  {
   "cell_type": "markdown",
   "id": "dc77c517-c358-465f-b125-e8e926482f3d",
   "metadata": {},
   "source": [
    "For example, we can determine the exact Kohn-Sham (KS) and exchange-correlation (xc) potential of a system, by asking: **What fictitious system, when solved with the non-interacting method, gives us the same density as that solved by the interacting method.** The external potential of this fictitious system is none other than the exact KS potential, from which the exact xc potential can be found:"
   ]
  },
  {
   "cell_type": "code",
   "execution_count": 51,
   "id": "f2b25329-3650-440e-b7b6-628058ff978a",
   "metadata": {},
   "outputs": [
    {
     "name": "stdout",
     "output_type": "stream",
     "text": [
      "iDEA.reverse_engineering.reverse: convergence = 1.0131e-12, tolerance = 1e-12\n",
      "iDEA.methods.non_interacting.solve: convergence = 6.8384e-12, tolerance = 1e-10\n"
     ]
    },
    {
     "data": {
      "image/png": "[encoded data removed]",
      "text/plain": [
       "<Figure size 432x288 with 1 Axes>"
      ]
     },
     "metadata": {
      "needs_background": "light"
     },
     "output_type": "display_data"
    }
   ],
   "source": [
    "x = np.linspace(-15, 15, 200)\n",
    "v_ext = 0.5 * 0.25**2 * x**2\n",
    "v_int = iDEA.interactions.softened_interaction(x)\n",
    "s = iDEA.system.System(x, v_ext, v_int, electrons='uu')\n",
    "\n",
    "\n",
    "state = iDEA.methods.interacting.solve(s, k=0)\n",
    "n = iDEA.observables.density(s, state)\n",
    "\n",
    "\n",
    "s_fictitious = iDEA.reverse_engineering.reverse(s, target_n=n, method=iDEA.methods.non_interacting)\n",
    "state_fictitious = iDEA.methods.non_interacting.solve(s_fictitious, k=0)\n",
    "\n",
    "\n",
    "v_ks = s_fictitious.v_ext\n",
    "n_fictitious = iDEA.observables.density(s, state_fictitious)\n",
    "v_h = iDEA.observables.hartree_potential(s_fictitious, n_fictitious)\n",
    "v_xc = v_ks - s.v_ext - v_h\n",
    "\n",
    "\n",
    "plt.plot(s_fictitious.x, s.v_ext, 'm-', label=\"V_ext\")\n",
    "plt.plot(s_fictitious.x, v_ks, 'r-', label=\"V_ks\")\n",
    "plt.plot(s_fictitious.x, v_h, 'g-', label=\"V_h\")\n",
    "plt.plot(s_fictitious.x, v_xc, 'c-', label=\"V_xc\")\n",
    "plt.legend()\n",
    "plt.ylim([-1.5, 2.0])\n",
    "plt.show()"
   ]
  },
  {
   "cell_type": "markdown",
   "id": "b14f21a8-83e2-48fe-8e76-7a20552ce305",
   "metadata": {},
   "source": [
    "Reverse-engineering can also be used to determine what time-dependent potential is needed in a fictitious evolution, in order to recover a given target density. A full example of this is shown below:"
   ]
  },
  {
   "cell_type": "code",
   "execution_count": 52,
   "id": "b62d3572-305c-4e7c-ba97-bdd33b649490",
   "metadata": {},
   "outputs": [
    {
     "name": "stdout",
     "output_type": "stream",
     "text": [
      "iDEA.reverse_engineering.reverse: convergence = 1.1004e-12, tolerance = 1e-12\n",
      "iDEA.methods.non_interacting.solve: convergence = 2.7785e-11, tolerance = 1e-10\n"
     ]
    },
    {
     "name": "stderr",
     "output_type": "stream",
     "text": [
      "iDEA.methods.interacting.propagate: \n",
      "iDEA.reverse_engineering.reverse_pro\n",
      "iDEA.methods.non_interacting.propaga\n"
     ]
    },
    {
     "data": {
      "text/html": [
       "<video width=\"432\" height=\"288\" controls autoplay loop>\n",
       "  <source type=\"video/mp4\" src=\"data:video/mp4;base64,AAAAIGZ0eXBNNFYgAAACAE00ViBpc29taXNvMmF2YzEAAAAIZnJlZQAAeTVtZGF0AAACrgYF//+q\n",
       "3EXpvebZSLeWLNgg2SPu73gyNjQgLSBjb3JlIDE2NCByMzA4MSAxOTg1NmNjIC0gSC4yNjQvTVBF\n",
       "Ry00IEFWQyBjb2RlYyAtIENvcHlsZWZ0IDIwMDMtMjAyMSAtIGh0dHA6Ly93d3cudmlkZW9sYW4u\n",
       "b3JnL3gyNjQuaHRtbCAtIG9wdGlvbnM6IGNhYmFjPTEgcmVmPTMgZGVibG9jaz0xOjA6MCBhbmFs\n",
       "eXNlPTB4MzoweDExMyBtZT1oZXggc3VibWU9NyBwc3k9MSBwc3lfcmQ9MS4wMDowLjAwIG1peGVk\n",
       "X3JlZj0xIG1lX3JhbmdlPTE2IGNocm9tYV9tZT0xIHRyZWxsaXM9MSA4eDhkY3Q9MSBjcW09MCBk\n",
       "ZWFkem9uZT0yMSwxMSBmYXN0X3Bza2lwPTEgY2hyb21hX3FwX29mZnNldD0tMiB0aHJlYWRzPTkg\n",
       "bG9va2FoZWFkX3RocmVhZHM9MSBzbGljZWRfdGhyZWFkcz0wIG5yPTAgZGVjaW1hdGU9MSBpbnRl\n",
       "cmxhY2VkPTAgYmx1cmF5X2NvbXBhdD0wIGNvbnN0cmFpbmVkX2ludHJhPTAgYmZyYW1lcz0zIGJf\n",
       "cHlyYW1pZD0yIGJfYWRhcHQ9MSBiX2JpYXM9MCBkaXJlY3Q9MSB3ZWlnaHRiPTEgb3Blbl9nb3A9\n",
       "MCB3ZWlnaHRwPTIga2V5aW50PTI1MCBrZXlpbnRfbWluPTI1IHNjZW5lY3V0PTQwIGludHJhX3Jl\n",
       "ZnJlc2g9MCByY19sb29rYWhlYWQ9NDAgcmM9Y3JmIG1idHJlZT0xIGNyZj0yMy4wIHFjb21wPTAu\n",
       "NjAgcXBtaW49MCBxcG1heD02OSBxcHN0ZXA9NCBpcF9yYXRpbz0xLjQwIGFxPTE6MS4wMACAAAAT\n",
       "mGWIhAAn//71sXwKasnzigzoMi7hlyTJrrYi4m0AwAAAAwAFUFPXgYh/zAT9WhYqCzKHB7ctq2Rg\n",
       "dxlw52GVgmoq7c30hZ3tvkmCAAADAGpN/73BPew1X0z7vABUY+w0wthwwi0OJjCDwQ07KRGhvglB\n",
       "M953Ww00VZkCewaR//V3NQkQNnFdHx+TlZuadCgQBgHEo8Nz+1vfQg4CegfHxXnMZfg03MA9N3kg\n",
       "X+jnhjvNG8sqW3syQmtJkwA/Zj25t9Q9Sy+UqAdm46ziansFQ1bJ+ypBhfVHZ5uT7zMJiQaZvMEL\n",
       "haH71JMlKQGGK4Mk51r6oLeuh2SeNniOh3VNRD/aUG+mNCEZ5RNJp0YckcnMVlbPv79dcmu3rIsr\n",
       "uX+TNbGygx6x7FYQOMq2ptHdW0eyQlCHzTGa38piWwe4EkwlKJVmWxKquO4OI3i/+Q/2IJsA6FYX\n",
       "XsIGlS5WC1nVvZsTvliWiK9fzQ8Z/yXEH+p5WXVagJEJGEk583ounDC2eiItGWvMruGkEPwAPKH8\n",
       "sIv+/1U54BFKbShwhRt1fXfjMjw5/KdHrxHd/kvjxKNsbdgJVaa3NPrGZISajCsYqmj1dqNGlmTj\n",
       "YuH+ur2R32EoITIvLb/NiZTqK3c6Yf9W+N8LW1scqHXo+WyrKmPrzDnQzGp+KuraDVMvyr4M5yTc\n",
       "4nfGeKQckW4e8QZ5yRQrkG/gycpSvCqYxGVwjm1hgGkOTS5Yp5WIR0qp7JpslMqwvvIj9tfGuaSS\n",
       "p299b0G1R0QuFRd8YOyfp94PYi1ax2vkNDDdpWQzqXFDbyH+hVfpfvTQ7RN8EYEkKWuUKojF3USg\n",
       "pea5ZbmQFqO4HHpipKEsaIP58txuQEUaxYzktEp1+j2i6oaFegl/jerEMS8AGFxw/VLStABEI2Qz\n",
       "aPa2KC4z2dXqQ+yS7OI823jVSEK+sM9/wywhNJ3mPnmR33WlLVYC/PQlVKe5MOxelRHCl/ubyoNO\n",
       "NREouJ8Wh4N8pgYRI6vbvtEMay31y7FIdFC1fvxb9gxs1MW7K/RkAbt2YSK1jW88TE37uQ0X2d7+\n",
       "UmjjwvJde8K8ceBzYiF53/XA4/Dc5cnsIzm43DyCpHPuZE9WU0uunpuC5GbV5ia8knun8QVJLSFC\n",
       "h1dFyM4Exf4cteMDbKM0fvDq4Nj8jbl9hDsztxY9lzSKUoNnTD+gYoIrOt212dbDp7UePwLBpF0f\n",
       "NhPvQpJyCBI5X83WFmlZMkbqow7XPP2o4XSWfRRaWvfBYAKrCuHZLPyxC0X/xT94wAIYKMTqRQmW\n",
       "ZrAfTr2meHP4cyfIQD4x54aMejfyjIaigINthyjMFBlZdmG6OH5SLVRSQhcRUoA0y0yEO3kJOtUx\n",
       "pEugy0bC7bzRws+epTOvDA/a/ejVwG+HJcJibB/6OxgvnZXgb9ZvmChA75sR9uE/A1XeAPXIpbaQ\n",
       "RSmYTWF+2jlFdDnfchtA9CfGh28B3ehirBkoAYW3L3n3hSyOM4s0LYr7eEzdajs0+eQGW/To/m4C\n",
       "9woj0KyjYwy+Gp+4LWclO6G4sSOUWgzukTcIwyZ6ojHimPnNsCGCZLnCo7Jys+PxRDiyptGJxwfM\n",
       "i6VO8CCK1NQ/wz4NP/x/T3l31uy9thVnXty2tT83h+dpISGrVT7bvBM76jFvh1A7DSDZbar3r+Vs\n",
       "upPv3mYLSY8yqaHT/v69iJaTcLnxFlqP4KFCpeERzIY0/L1ACQ71beOl+2v2nqkZDbdqZWOgengB\n",
       "t81sTGDj6LDnrtoBGO6P3u48deOoLiZP4UzFSeQk8CSaV9hgY3YXEL9ncMRPXoUvMolvX2pUNbo1\n",
       "batoVUPuAeklvwIF4RuD7UIAtLosIQcXvvIm5kJDwW9U4Mu8ODVDXs0vxT+vQwbor1dWvTTCJdn/\n",
       "U5IYuwdLIFECn1hZnu6NzXpWX/2M/U8uTjfZUBLoOFpGR4TYO41aBkkzKrqhjSrEd6kIH0FLP0g1\n",
       "pIvSUn3y79suNug+1uYHzRPEQA7cEfC+o6wPF+mpYHPkVd6OOxlLEChDHt/HxSwHNvLtjLznGho8\n",
       "guUJmAD+qo6LqqyaWPuxDNcfPU2tlnDbXrLXe4xnci5kqtmwe/DOmN3UnI613ydY0elkC2h2x6I0\n",
       "JTeux9qJp2lmBzh/tERYO69HHSRegVlwtclfyLVTDgSevCp5pjJ9aOD8YJU4/JO9A8jqKu9At7/8\n",
       "n94ZvdG2Y1+g2uzNeDXQIQXFXPtOjTXY0JkWCmLkas35MviS87dINPbWn3YvL+1AAlGhytV0xYzp\n",
       "0qjCO6Xrpnfkd6dhs8DwqgBGmezTKHRBD7xzSiVjjC2wElWoQpGA0tWezL5Q+ewopz5ZO42STZmN\n",
       "QjnkpR7pyggUCQcVZ0jOeYFp5q2zCkR4U6nKfUlZqWvtAEqMj/wpVviI9drkBc3Pn5PCYAM+WQUO\n",
       "gDs6+qpxb5GAvKfmcVCjcrcXOynmzlB8CsNYwaoNjYOK5EVsConHcJt0tku0FCythudBYcTAe+GL\n",
       "sSibDB6wmVCrjfRyCbK3Qje1KzhzSWsiq1K9NqRc+eP1D74eiVMl1Dcquo+2Lk987gHHh8+IybAU\n",
       "wH+uU0Uf3lIgCL2be9sRkvEe5HfvArK3ZGRzLf3iUlvhvD3rz6cJJ22g6BQZqGAnygzT3PHqgs/n\n",
       "nr7RmxrQBKOEZD72ff/j1R1czQ4Bu5CK362Kb/EVkdY/FlZfKmpYK9VAKEoAaQrbbQeCi+7AJiiy\n",
       "0S0m1W9whYGo0cbnsoWFwAXQKNOkRhlijzuPTGkIhlRy5xHF1oxc/g8Wi6SG49DVVXZQ2u4UZFca\n",
       "PNX1GbUXi2+p/8ZcFyK5klIgaYxPETRi+NCOvFuILi1DU89xQAai5nP6+IEmZ6025R+hFl7SQmeR\n",
       "1y8ngsSjTicHWNbWipFGgi5s1TjPc7UoxbfKnq4dRl70uzp3AbvryodfVqx4A8D+9iVGuE1CAA7e\n",
       "ZIzRnbt+LWmatnb38OjFnV7oU95QGE6y4WGuOarIn1++vVg+W3seToEyHY/q3XebCOASvAgDX52M\n",
       "wYoNk7RyflX2cvUNWr1ojG2DtZNgTZ9Iv6j+FeumBdbodcIjCRkj55TgvvvfGriUkuFV5GX5rjgL\n",
       "J84XG9UdhqVe7tJXqEQQiMzePgVflXEfW34fugFGkWVaC+nourI/j6PFsbFcXQvGm0DxwOePhkJf\n",
       "rZ1N6pwN8FyMd6oXipow+GTl8DIqIO/2HsXJJqJFXT0h2qnV89Rdc0pVJB8S3+qur/boTyFXvRMa\n",
       "Ew/QpciZOuX3y6JwJhnuPh8lx5yxfBXzmHDWNM6OGOxUpJtuGkxj6AUpjAKhUaIu1XRVKaEBdz/7\n",
       "fTUO/8UAUgOii+bJD7A591a5zT8KEdJfDaQE3cMC3301/ywKCGFh2kEBA3Ize3n9ysdC9/jzaM/F\n",
       "qGD6Nfg/LEosxe8/u9/TXMv8zgrkRRt5swP7ra3vmqeKIZvLF/2XW3bjfOJe6nOjZBalyW11825+\n",
       "p1PgUCXQs9ukUMAhDI1EeyjLNDj02H/hKFpoe9oKGMMNdKe21EaXfMAipQO4x/bEI/h7tZAgUDyh\n",
       "XgZ7GCmROy2O3Py+QbMvvbyaTd8SOEwE+P13o+6Rj6EYcCy8kZYn+e24+G3YehsrHJ4K8SS5Zs76\n",
       "ahBL+k5SNvInPyP4eesNvQVAH0fHdCKEXmfAULCR8WelI2ejABOlgBS2+gABpg4Sd4dQoQXhOVIV\n",
       "ePF9ZmMKedJcdmWDjUq5lXnLlKkcScCEa+C0AS5+rOkVZvP49wb/R7tAVuTfq3GewdBbPBs9Fni2\n",
       "4FOExkCSA8vQOvVCkobzY8XYGFAVJgMNGGH9Ctg3XPi9wYWta4XpM5+9rpEV0/TB3ZwiOxxgZUye\n",
       "KDvN+HDo0S7D70ol8h+O8wxsqfA0em+HOAildgnIRUhdVQ/AhjempTW3PF6TtJomN1TMGAZbICG5\n",
       "kU5PwVltW8Ns2AFQg0W9HrtIpZeNy65MTNHMYdeAOl8a+IUqWO7ZKoqDPofjqYlPojbcqxwVoPT4\n",
       "UYEcCcYL8bf46/wwrycNdI6CbxV0TGVvWqOAj78EYGw+yjwBR6w+CKJDcuecf9/xpQL8cOG8KreJ\n",
       "7+S/aZ0BNfVGW4SXZnqrqZEVTLc0+E70jcFmoIQE1Y2oewVCYe6J5gfZd0DWy8mojVefiyjpkaMZ\n",
       "apEO7I4odYUkJlBd8kDG0NaIVX2j8vhYiwGD0/70pT54mhtj2yztDTZP3uk+V59+GBktoExvCZ8E\n",
       "c0y9aSHiCVQfu96R2p5o5Gs/x4QInnjMDXRc3XxTaoPy5l1AqKZdJmDj84LyhI0kQwH0a7jNUqh/\n",
       "4p+wn+ueFfcVk5h5tNQZM7BLNqjCtVPZxIS6Wx4zq5LhuTRAI1uudxyuNrNofeFA886gSv5e95cc\n",
       "7oL6eEkkHGEROvsE3gXRksi1nGwg+aJ49yYYqFljoxiEXk5CgVGiU3DK8Q3Dw3weStGmoAiIv6ss\n",
       "zQnVUMBZV7jq2bf1Iw31XBSYtnG3g9kq9tr0RlIPNBOiVKYfKkw/7Er9xhYmNov/Luiq1q5gcgA0\n",
       "Wfz+sSl4IVSx7FHe9Ro/gAcZx3KIqYbAfi6B5c+Qu/IiGLWJTK8S3df/Is6o+v0jrHpqFNeqXGWu\n",
       "a0obeq8aR+pTm8TY3c8f9G046nuEszKAl+veMOy5GTa3stP3CZ1HlyjO7AAAAwGR2aHY+x0DheZf\n",
       "T0+p9q2R7lJoqFeyqAycZDm94qKQhNCi3cxiHQI7KxaXcxABAi/ziVNcqZ+t8RrRMyXpSA5Aqcwb\n",
       "67HaYAAOCJNMGOdZrD/UD1f5zcWcoPeOy7m+sRxXh/710j47w7jLYrraOWOz9c/wOx8PXnMMmAX3\n",
       "w7Jn4aYO/HhGrdRgWBciMQ5H1cXEsdKps+hxFuxVwYvTokWp8rcEV6o6aFkixsIRzh+2AieWj1lz\n",
       "Je6s1MpxIHutSuQE3NwfezXjtclhnAVhfwmzdHR3Lrdmn0zXyzsdwYQgYCUzRjCldIso3k33F1MG\n",
       "ypZJN3Y/3dT3+0eHvNGA3hwH/pEGJCU5nw+mDqhBSvGxwiJBbhrlsv65BRDWw++brDiNZsDzTxHl\n",
       "3c5OQm23uNdwQGO8qft1sZ0SHhRAUBUE8HQ0v0X4TvZAkw91zPamkVwdi9O6nkQKxo2TZ6iFlchk\n",
       "LA1uqfBxVboJUlXcYwwrD+Q/J4MxA9DvW6+OESjLVjYSfVMsBMgn1KhOGDmT7A7OljQxlkuF5HDb\n",
       "jXlxLrLNRcLSN7Ljm+PLdXLr70ymlLQX3ImWy+8UCIwlGYQTA2CXapbtUf+KN9AwQxRmW2Y8vrJL\n",
       "c8p+SRm0Qs5QIvP3AlvSK8zVF0QnG7BOHxNw0yuDJnkzGmuY48ow0kuQt7ZeHF7Ijbg9/VhANtFX\n",
       "/IDzugvQn3oNeiI15vCYsg5uDJRQ3jHjaPlbVa/BoBshr9v0CCPtXiBymZ10ch2nyRp1dQM7w7bI\n",
       "BEKB/F98W6SkcDOYigpdEdigXcpuYyQmOZYjB8wo68ZaN43JC7UgLulXponmqNXJu3X7hR+TOo+u\n",
       "MdvRxdxCVM8r/nKbMaBGEt58G05X1cABHu4d6vqTxAgJVmyKQU61j3vq00p8W5Mk+2pltMtPXQpy\n",
       "au93dj2jX2unT2PaMkPAWAKWF6a2Hj8gNgIm/6Be3YFwYROG8sI6eA44OjzblvtVJI1vM4X19Kxk\n",
       "EfX0WntfaQTu272bO9IRMHRGMfMmX6PQrrcyt5IvYpWkFP9JuM32bY7cvZAe1Xc/k/txhV9AfOt2\n",
       "X/ab+5fDNElRj3Pigbv6dhMg1f33xt+rZXeWzB44J12UDWNkQExUmUp+5c1u6XRkqHYHUJNFJeuW\n",
       "57iCMR3bsuVZNLxeG4bb4EplYkJmFt6LQy2EZh4W2h+MwB4ooxcHl8/yU9gbJ96kYYsknkbzyv2Z\n",
       "R/JqZ/PgQ3kKkTx8OnOBSC5mplNrwyxrtnNL01o6x39FeVefXQRLs1LklkXu+aQHMuwzSX8sXxIS\n",
       "woRXFqKjmVwCqQQdBdHZyNGw/KVGyb8NLVAyq4hENP95d7M4L9Dk+V9YztvOJSWrjKoSAE/ZbsoS\n",
       "C7hIHqT8chX6me8DFb0jvuGpF/2opuFciY0tjFkPhDTMpTZn0ZU5K6G4jqtYTlFXEhCv4MZnoCwl\n",
       "p2A4NB8EbGQFqCVKWlJNsUwxSpG2zmmvnfmSvNzxCnWT1eu6EOXJL8B99CaQ4VHJ0/XE7hIe20W+\n",
       "7Z3HVzLoZGwu0d8+7LioSupSYoiUpPqbtp+76vXS8mjGPEe6j4Xu0EVjTBUVUYee9+OYnd1wpmc1\n",
       "LxUgsZuAnnwXP7k/yduXDY7BwsnsRV2eear9H6683m0iqNpyX+7bttEUyPvJVm/6awqyRn/QfV0M\n",
       "QZspp4/sTUXKWvVUUlFWZH5HYU8oXulYLsUphcjgeeY7iHD1zrFGCYyfPDgtON6L931y9h5MG/Dx\n",
       "Hafp9wUmkXsDCi9zM3rJkrtOMYWoVSVLByv+5qasz9/D0vGRtLZDgCgVGedvZtsKRIuSVGvNVEBE\n",
       "wOq3Lj9Z0E/fuEbK47YZQyqaYLE9laWfoqRiALMeg+w4EgdBqVjWAdRRWmpQk5f4Zzk87DH0fbuR\n",
       "sfB79n1v9ymS1lPu72jfZkMyUWQHuwLdNJ+AidvgPu5gqrFwbVHAxbAAABGM+I3sO230WaezcAAy\n",
       "IQAAAhVBmiNsQn/98QNzYiN4niYDZTKzS89XoaAAADrNKhMAnQLCtidTGy0t/WQWWjxWnsXh310a\n",
       "zlxaEAbPpCy9rwAN7Lc7eJV0AsZ4ZrgA4CgirNjMiphWIRL6MfedFeTluJelfqFGQ1Sr6kvCpd4F\n",
       "1dYycIVa1N5OubHgnyQtY3DaIhvw/WpXq3PmWoaEQ40+IU2bLuBIByZm5FI+75/81Ci+RV34ynem\n",
       "Dv8ZwpkKk3844FT3C8mRlQdhBlaHwcjwAjxh8DO5WkPFi+/nhmWWEgqV1jh0my63Q3CfIEMuBec5\n",
       "roNUPpo5vc12AWw/kt6r4Wwh95aA+kkDc8v2mII7E3QCJr/95lhe40IgLxL3Uf2MHqt6BshIeRfY\n",
       "L6+fmP1dwPXZQBFRLPUQCSJnE/sff3ANO7WqVbvmvcGmmnzOBSEn4K3gTMlryxDTTgBzyIgFxoQc\n",
       "wJRfRSMK8Is7h1Pdf1rfIoQnCPdHeO2k5MMeqA9RAQyiOwuVbhje5ssidu/6kXjoC/fBbYdPgb/j\n",
       "gFpwu7PqK3261BLOy2akVQO1/etmdo4+p9mMGuLYn77Gb/hEmxzAdbKTXO5PDAMSpgZTMrhn3f1f\n",
       "lZ5V4aRZq7QQ0aTKtHie00aQ9enZNRSiCf9Dosqx/0pcdhs3D4RuSRNhUkmDywE2gTQQ/mFCPevt\n",
       "+jHfA24en8xlfjI2VUrgkrTGbi+khEv8DAAAAENBnkF4i/8LzkvUthgkyAAAAwBXL7VMv+6QnZne\n",
       "PTyKdXa5pp8oYPVF+i/F5FjpWfLa+af6irT+AaMXQerjv0xIboXlAAAAJAGeYmpF/wvOTTFJmljp\n",
       "nAakbgJurn0qkGmQQgmR+DumiEz4/wAAAYJBmmdJqEFomUwIT//98QAuxFfO0vAMz3iu72MIl4yA\n",
       "CduRiBuB5Te807r/1WmYKa/y8VbaYBrzeuyO70Me8pqtgBgm33TrdFv8Hgl+ihbX16w2DQ3sYf8e\n",
       "gvIQhyxmvk9YgeliAg43V3wtgxdV584Jhlt4bZND8ZqzuGCzRCjFLmQv07UQso4Q8z5C72A5FEcC\n",
       "hm1VYtSCfISBY0r1zl46XqjNBN44jLACwwrrmBvP9Umb+Kg6ZIb/1wYe3tXY/oOb+OLUJ1aZywiY\n",
       "XBePiQ/DHPEEzbPoFHljhBOJqjoRlNojKLjQOC00LW9X5q5X0RUzIqSU13k5vyE0pJfQISAJN00f\n",
       "DDf35TqmzF9LOUKKOqhb+iR3pT6bvK4G+wD0xIEg1sXaT/tct4DVYBj5ZT8n3l2tsGZTK8oPrR0J\n",
       "SCreTezZ2/o6fX0h7nDDo6HDK1+y/jby+KgQSw7r+n7OBA/UrG7IRl6JJp5JgKmNJn+pEfGToxQT\n",
       "DXZRAhNXF6xx9lZsuQAAAD9BnoVFESxvAxvH8/QPzI9lpQCrHK33D6CgRsoXkma6YnGcvTivCAV9\n",
       "B80twCOJ66cHi+HxC1PIN9TkXkdg9YEAAAAiAZ6kdEX/A+Hkcimswkt6Z9knqV5NCzTJddd7Zwof\n",
       "g4Kd8QAAABwBnqZqRf8C1j691mvsZO+0pYXw3+H/sefJ/Ic3AAACtkGaq0moQWyZTAhP//3xAAD9\n",
       "mGvgAbFgEqIrC4JwjXb2bD/bIHsjdZ/WQ6t6UUgVwwUxFIBy/9v0A7nYNYyVi9sl3w9KbCY4j58D\n",
       "9ehQmlVL4qtjRx1SUWFCO/HAyKOlU5gt4va7oVq7pk6Jdp/R4Z7JTOAUz3xjKZkmct8fZJbuLL7X\n",
       "qv/oZ3Zl2OGepNR6w/gh4puYHhnx/xDICIqL8WEeFJU/0XpVKskTNWAq8C2kBLV0n8xPB1YeJJKd\n",
       "U8X98DF4ssRipo0fxTfo/ClxnjnRSJ8AlM2BkL//akX8EwXpfX4pLAY4M1d09Liiw1iKDGJOPuhG\n",
       "Qed9f3blfVv0+Pc3fSHF78dMRwcg9fgFaiK3bbxAnZbsstkWSY3AKV5qngocFGOTSRRJJrxXpOwu\n",
       "hJKExeJuQZqrqbbR87nUAKAhmzvO8Dw9jFMuhf/SUfiCgQX44M51ZjakZwCAA7gJ3sWR8CFetx0H\n",
       "ldniu0DRX77YyqTPFnxIxlGVMawaNm23qZ+V5ssGt53EirBmZP6E4l2aCPZS+qG8A4y67HZyWafI\n",
       "Zt58TLNZxWaUZV3ytgPzu77LmQiqVlcscfnzZvJTplwQYhJNCZ8JbFEziXjdVERUDwFvtpXvGPqB\n",
       "cT1RPb5FEjrekBx4KzSErOKLESYkAYVbd4B5bkapqLZy/vwzvdA27L8kepfxcc5wAZbXXGOSuYo+\n",
       "2LaF6VxvzIwGsjhRqLIgZk3CTtE5QLX9MWNLNuB6qhvzwnKJIfkXqjx8ftnLN/Q+O3oFNK1cBCch\n",
       "rlXInx5vEzuJIZQ4YFd7YXm4+RRN2OVI3xjv14SkMaulYPc0YHBmmz/F4ABJvd9wNr9q7kwDOfly\n",
       "wtRlayEFXadDCixWoJ83to6xrsh5Q1bnmHQB/9u804fZTYtII199wRA56i74dIfvNmAAAACfQZ7J\n",
       "RRUsbwARTLKvFYAD+cR+VbO6q+fh0LHtYDOfzkryf32u+JWsBhdqWvGPvA9wwYoCk6bIS+clijWw\n",
       "kXLmsUaGkTpab1djW8Ax4XArE1LDMg1VmTOQBDwDwdHHJuHfdpCWPURCKW+aa8dtNV6lUkgKTWhG\n",
       "5NtFP+u5DP/AenoIMnAdS10TFbr1Jw2v3qpvHTFtjJpZ47xaZk62bM2AAAAAIwGe6HRF/wAM2+wX\n",
       "zvzzC/cNpO2EZMjJLI8dO2a46ugBc8y9AAAASAGe6mpF/wAVrD2gA+pM++M1pTCYBe65z2YhiP95\n",
       "Lgni9UTtGYRCx6KnOdKKhZRToSwYttyfP3075QqX7WOua1PHK3muX7EGgAAAAoFBmu9JqEFsmUwI\n",
       "R//94QABnJ4Wp3bzAC3jZkflbdTS3P26YmluvW3Or9wFPuO7u9BjEXpx191v85JiS9JyyPoKAQPC\n",
       "/TzF/cIDkZBeVeXXcUMvoSFgvgcqFae6WPJ2rNNlso2PF/qkdRmEe+IJFRmhv/byyL71nPb7oE3z\n",
       "BpsisgsQKlDiWjnbPhW1X77GrcE/0X72yF0CgHb3UCiM2yL31nzaH2g2VjeYN7kKgaet4GTrY2u0\n",
       "0C4t/+0jsbY6L0+4jKdumCxPvph1smAZtX+XVgTQMfS6LsbRLw6xRE8lp8Ui3UaVs2a+/pqTiwTn\n",
       "vX/ckcBUEJ6G0UyFSAVKs5RLaVnsbwKnwDNyYGw79atUsQBrhUubPqyFKO0oRyaI0Fs932Crd652\n",
       "lmJR6xCWLSc7WIck3EDBCVW6rEUCLdZOkjuJmJ9Ic8OVAQXr9dyQ88IKzJxG6GUF7DUERQTGko8d\n",
       "uX1RhdqoYQyS6mJjITqHd70TkEoaBL4T8C+H75YUZTTD8fmabm/zPYVzyjkAUzihjQ0vxkhq6bsU\n",
       "p7gJkSdz/OHcASv1V/GWLyFyiVTR5pbxVs7loKW8xPjxZjnCGFKC/6644yIwvDnXnknnt607fddA\n",
       "t0sqZXsI1yIy9TIbYNm58e+URBj4fRhtSZp4ZcP9IMBAJn/t+2pUNP2OvOEoDw2FO+1aOOM09K4s\n",
       "lCRuiLjms48lnq5gKhBABjqEWKTWSA4lbnQIuTv0xJiSD5I3RkM7bVrxykf4MfXquHs/spCmlYJU\n",
       "4U02Kl5pHY676ZN2jQlEKbFh5yMkL7YT73zyJx197Ie5dezY/7eufe87Z4ke1AlRUPJ4T94G8djC\n",
       "ksNCWgAAAP1Bnw1FFSxvACG+rzfMHmgLoAD8CR3OW7729IgyvXdhCdLNfDSDs9jkEaGCj9CuKihh\n",
       "BD1yL0d1MACfMqpM2V8mDYC3KOLvr61Tdiu0hurjnii7hg62EjW6TA70Q2HowFmYsh2tZwMIrhC1\n",
       "83LYPaMxW3g4f14IgtoAI1vBFCU0fxFEyhcPvqYgqyg4pJS9/cETUAHstqU/iGB7WO2E6rxsQhGk\n",
       "CItgJKhQwkQrZqhgZy7ehXPk3yrB9vu/ICGMcAZMiIguPSwwEyJUeBHDeJ84TCFLclu3Uy5OiBVW\n",
       "uBpUVIBdfCPaNp+geIsEsI1/F7S2SqBP8IHd4wmwAcrBAAAAYAGfLHRF/wAV6/Lq3MQAbAUcQvk+\n",
       "T0hdqXgud2y8ikJkcc5vDCktd58dRrzL0FVbwK0Qc7/wcIIiuYwKeBoc+XiY4QXnQ4V9+PE5ecZC\n",
       "baiijcWJFG17e2q0pZkvf1lE3QAAAHsBny5qRf8AKzmj0GGA+I0ACFw2orzPwcH7tmuRgrllWZ17\n",
       "T3lD2vd9r1n7T3UI+iwHv4WFRSQwyFMpmHow2dIHx+Oqg2A6R461+f14NuiRi6pYDRw4YjveJD26\n",
       "6ySdOAQZgPMopHr/zOMQQZEwHZEtTBuMq23UlYq189MAAAJEQZsxSahBbJlMFEwn//3xAAHy3/bh\n",
       "6jdmlf6AFrYO+GAbyiQyQ4ZClpS4JPLf+2fPoIRyo6qreoOBavLBU0OME0uc06aQfzVVPT6/4YKZ\n",
       "g0kbeC56CfzoO+jEP0CsuE6gw1uqhXo1wO7lFAOoU13hsrGnkAJARsHwHXKQ2EkAEX9W3v93alF+\n",
       "G7d8pa6QoWA35mdtH5odbrWONWyRUGIJEwmwweLky9mQswKrKjTWty7kMjbm5DcZIEoWa/+zL1XX\n",
       "y3A0j7yz4piaNaLtC20gf0g2ZP0Wlogn12KWv00VgamzmRZXG/TRa0aXtGYuAuzCO2YKj/OTfDaB\n",
       "EJzv5DScmY8l6ChH4Hur9uT0dMWAkmEMN3zgYTVTOg4wZL3xon78+4xVqP/hCGbDZV4cJNsY3WmQ\n",
       "kkblHjeOivGXbNI0JVrC+S9EEMicXTsqFjX+OM+CBy5U7JO1wkzsAhQYHv6B5xLYLQKnMpcCj8ie\n",
       "ILj9WMpl7hjFfZRlCGB2OxKQnpHiyxcyV+naQwgNEsnyycO7KW3RN024A2rBpWmY52pXwxElpizR\n",
       "0rmVcMty8TC+gVpOLHfTkQteDpmEGyuzo0Ffp5V2yeyvg313Msx2pneUBEVHKABQSF92TjO9F1Li\n",
       "yg1lnfm6Ydehw2e/oCQSuTP8W/WNm4H1KqSUTHSNtJHtlKO9owaen0ebkIPv+asUj5WjR4s7cGU7\n",
       "Ut0ZM3LuDFVcRInf6DnLUKJ3gTlU22CHAkLIqOkEboxkQbfEPOB/kgpQnw4IgAAAAHEBn1BqRf8A\n",
       "KyOF4WzDrbyxKK+5eUag3f0AH8bP+0L4UplkaRouYJZ9jGtBP7KtxabqEtZavcI6JipIgdbHzpcQ\n",
       "Z0F9Ux7ZzSMHLExr1rWozM2xOLog+65MuNXXBfVe9+kFZGaICQAbymKhY9t6+WVn4AAAAlxBm1RJ\n",
       "4QpSZTAhH/3hAAM2yOTOgA4oWkoPbFuh+8ZO+QumQM0vH6NamARTu2iMia3oYAA7DViELflPrbB4\n",
       "s+kToZHjnWOVlBSWj3k9j0FC3jlOTRWbyTsz7WiPgda57pGYtLkX7F83DkYOQrAb29OpN9yhBnzr\n",
       "N/ci8mLykqfCdCNvm4Obn6zpFXwbg9UPtUKLZejcB/agcIwrlwd+gDIZm2QO3GQGFOedea9uvARF\n",
       "gr7qiFFBtqNZBURS7wVeaCtD/CivxEu2N9uPE6FencntazUcKvhW/iqhRkLZ5stpp7oAsTt+Wyk6\n",
       "3hthFdh91Vb9wFSVZdyuc/+17gcQkgo2i8gf9pRbZ1oFVO6B3cPt/QL0Bp+JEBZEdP6E96HqHMbn\n",
       "JiywxgcjJA0qJ5xHX9Ijyk12Q/4lrlkAVqkGzJsS9zTa8MgmzaR/bONtqvFl2I3OmVyPvjTJH6Rp\n",
       "hxklZnOYFjt4uRCM5jMGJOXIlfqc7DvQ0do6N9Lr2hn4P68uizQG3KnziiOMYDRc/0fP3KTkaLOd\n",
       "eRAKz0wfx428Eb/+DizarA81FAIl4ltxfkb9N31Qwt9Rv1Brbiuz/6Zqb46U5FHluiidB2rBjoHV\n",
       "F0LNPAS0ySX+NVut71QradoGzYlOcWXYS6VH0cRdxkd85tH5RT3GkBaJAG/ekbsraSsD0bWcp9UO\n",
       "fXNuEJzRzLxzpRBRtnp8Mm1RmuAGCZGp9LHoDFBA713ny//XojjbScPb3Zs/231eodkvVkRmdvGA\n",
       "ZgGwEJtbI/UHcfxGB+CuDiTnQqyVgt3EC6ziZ66PAAAAlUGfckU0TF8ALFmjdcE6Bte0HIPwXz+t\n",
       "QAfTy0U2oFG5lauGuG+vp+AGbQf9AE5veSMU2eeqmkXkhGZm2A176dVfVVoY4NyZgHt/lamXXj2W\n",
       "vT1Ja1I5o+oo2OfHZRZTuQM9R7TtS8ki4dTZ2MrLYhedZd4awjluqjQOUbEL70yNrtYP9Lzqhamn\n",
       "sZflwv4Z+MuWy/ITAAAAZQGfk2pF/wAsTzBV7/G+ViSbqsRvTpCIAN9uAdX+v5N4dwAZyT7VIRu5\n",
       "7B0/T2/hfmPKLKc4hgHgQGjo2jsDn1Z3urSsno8TOzr31VKGIxeMtvj8z90ZkyEyd62QO1m5ImI5\n",
       "f2ElAAABiUGblUmoQWiZTAhP//3xAAH7DWMx7dNlgAtlGlb2H/02rU1mRF3zeHFCUDlXIA12LbxR\n",
       "gH+cylNP9vPPHNR8DO2ANACLbiZRPdIxarOem0LhH7dFVsaDK4sg42csdGDch6+Moymt8f3sMDcD\n",
       "EoAje6YH1Rn0oQRkue72OEL6UktEAG0wZ41uLibfvCA0wmc+PIEbFZW1uv/WRGNVInnydGIj3QY0\n",
       "7tuT9470yaEW66Jk/GByWeiclUbU4X9rIBaDXOs+AAE1azk8p/t59XyIRGAvLg2DhoRqRIYIkh+e\n",
       "x9FiRrZBXpsCwx9p9ptx3chhSQhZKTWYiHVmUs4M/SnMX2k2MIpMMWdx54q18q80PGImfScNtKPO\n",
       "4hR4qGy7ne0xkqUscTBvC1eR1akAT7MI+fklRcb+Hh++SMKDVCiTtfJCg3LhGCMHQNbR3Vva7WhS\n",
       "rzfEfMkFVg56i6awGcTQlN3DqkqRG1/Uz7SWan/Gms99EgXUQuLsDO6apBRmSYNXcgdlopgKFEYu\n",
       "4QAAAtJBm7lJ4QpSZTAhP/3xAAH78GF2/XcALJJAOoyA7ECMxDpt8A582DfQEa7rhpa+em9msrSb\n",
       "yCN5ppBvBsnwN6IJvFOW7xjLEiytiGPIJ1JS385TNzYfFhSiFC3ASHh47OoXI3Rm0QC2LQ5ndq//\n",
       "/X9URNZezY1m4QoBfDkEhsHcNlDKS1TEdPhSyc99vmXgj9PR1ozW1QxiEyhUVdOPJkRn56Ie608D\n",
       "RMzNxAHLnNNqsrBgmPBcAucCN4nUp+HxHPurSUyr88/GKunJLVc3HvlFuawYfy35lI/utgsdK7/v\n",
       "knwGLX6z72UrF6zC/O4rmymxR03OVXBfPEis1pXg2WQu90WWyG4sWmFC3dQq25gQbJzMM9wccH95\n",
       "9hUx7vcmHds9Lu7DVIfQESjwVTZNvuqQow1NqokmwCeM7iKd+awSX0AFJxo2rKwV1VxsV00WsKhg\n",
       "tBLNObVEgHIeqCL+CXUKF+ZlrQ5B3Cl/bi/sE1GCSrmRVKTNoE0AtxovoL6PEUq9wzH1E4GszvVc\n",
       "FvDAOKX32LQuzIRjq35hq7wrXbEjPRQyjTtfFS4iUV1mWL+dduS+5KVVgxXeY0zXdSzgzWWUDEh2\n",
       "+8Vi4L5onBQqJjX7UpSHxUU6Glq5SxvMDTI/QzKXg/taI6Kt35oZxa7NxHIKy9ITN3Bv4Ta5vb/G\n",
       "xu7LijFfKY6Aqa0Vpya1a7glu75f5+KWO9xt3N8sBIam7GVHb7zm5IKccAr+z0xAV9mqAc7q8YBs\n",
       "fHlSB39lobbRE7jzEP9Vtq7OgJR2g3w/e2t2U/GW5vJAsnmzQgcxf86PcfrBMNuJ12xZ5qxKkLLe\n",
       "QHgWsSAdYEyE6IqL13yDWruDFfqSWrZDzw8KVeoiH/Hno8QyDQrn2OgqpaLzuSHZNJ/op4xuZKah\n",
       "EAQwcgbAqpLnF+nLe3qnEwE8oUqd+9BJyFexIg5sA0/VU84z4qzGJRHSwAAAAKtBn9dFNExvACLC\n",
       "bzgT7oXnyVa9Wta6l2AAC2Mo+/g1mZYMhiGvXN3fJT0g5odE2vKDAlvd/0Q0NQ0HVOTFxW2/6a/0\n",
       "o+bYfd/B0li0DhMceG5SZNJflmEyCJY6xHap/lj4hbDmYUq1oFyWSoDvorA/sZBCQR1O5buDt+bO\n",
       "ApumYgh0zOK5oDsZNrgfLOw9krNY2yhuXdXwBQ+cYZiTxVK4tBux3cUE1oqMevkAAABgAZ/2dEX/\n",
       "ACxn1inHIPJioNAlSYywQFRGXur59+fUCH5xoMgJVnM/RkxuXRAUitfkL3dgAJtDcA3voO/JPll0\n",
       "QyjE3GG/71MvX9k8FvEb3hasmBZo32B/NmqWbNR7pQoJAAAAXwGf+GpF/wAsT2SBUzWJACYGbnAv\n",
       "JG8ADuRNXRTJU4TvsrfyvYrTmublPWnPP2mn2x7PLMmrF8oIP9sESJz2lh/tfFqqJeARBlQ1hoV+\n",
       "BKsLXfw+mx7YITlD7Pnf9an0AAAC6kGb/UmoQWiZTAhH//3hAAZtDPoAdI2ZGfQgKWHK61eGM3Ax\n",
       "r4uL5dywEGE13i4CFrlkaA1UcwU7mkx9bckb+xzisnldoACrEvjXkKl7JxhevJJW1Mu72L+Et7S5\n",
       "1y4D8VxaFJH7AK7Ta//H+5Ip/lxIiHe40F3/w+VdcXtdUhoQdJ/ZyyXgHlYU6EUfEQXZkVpQZRTy\n",
       "k6L4cftFZVws/Srwht+Beot1btmzvRbffowk+gB2hbAwDOklbhDjBnoev+mHyNV1qZhUamV9J53T\n",
       "iDJEWDDys44nvbOkZdot3NFr5U39GxYO1dQJJgS6IuIWn+RUVpZk3ObKPfFJkBv3BEr5fWy9w7vQ\n",
       "PoMOVJ/tvd7JN3PGD+Jzh1/UFNrCpNVIlvGt8zoq7uy8K3ThQGxAcAvBc0YWPHgW7Hvnw99fll7y\n",
       "YqF2lVc6eEW4IiA7Z9YWcJcL1sc85RIX10K6rl+KnHeLk/hwyUlRNd4IUBRh3hlrr/HNyvRbCXUY\n",
       "//wCjHc/5sJcADgqMnfaCtwHUeJX8LOLZpq9CboLR24UXmrHyUVDSVbgTUYfsBnQlJs+QUBA3w7/\n",
       "eXaycqyOTbMmjaJWMFJAyzU0T8HlU9J0TmG0tqGnm5+0YATtaGji+SKFDI/8PcRO7UWCQneo/fiI\n",
       "Y2tpgPvdgie2cyXp3Wepg1N5uyVJqzt9YyIFGABxnBteAl+RXw3axLKwhNX3KIjKVsu3ntL6X1Tr\n",
       "N2vkFLfjDnut6Hzxtt3K32kcXALliSZ05bF7Z7ATxIblQT7EDLU63sZ3E9mCovaan2EkMgFsxvto\n",
       "sq0aQiuW9bNrPiUqfPspxyk745i/QcpUgfdonEQWu53QReVLxWUYSL4XYJC08ThaDx7uR1cqQiHA\n",
       "IUB1FvQLJPUsve5+rXDeBYNBrWHbdjtwZpEQBlJRBUOrtPcdPf86ErCdu2OunXueU8xcPAautlUb\n",
       "vKPGobSJ24Ptw2SIl2GoOkWKxThl8lL+vUxpAAAAdkGeG0URLG8ARX1dnSYO3aT/dEiaHNb7zHxD\n",
       "HU/7y6CH4/Q7NwFKTyADuWFNH9dOxlAaK/kCCuWakcIgPXLM+9XAnALDIm5xiPEcimj9EmugDWIh\n",
       "Po7UWbz5jzkpwAvxaMUMF8BoIpRjIBxtyOKvYmRxeJVrpm8AAABZAZ46dEX/AFQ+2CSP9SpKdxTP\n",
       "wNvRg99mvrvGFCN/cw6AVA1agtVgdWK8MWJ9jiLQ8WswAB/OakggIHcWOgf79fJjT0klWZZMlpcV\n",
       "r8b3VQJxTWasxrQvEM0AAABUAZ48akX/AFfQ1NisfWeVnMVej76GIy3I0s18tgqAB/CI9bgMJ10g\n",
       "q8jyCEOdoo0ZKH3DNcsu7pOx2xRGhipD/G5lZM9WtBhSOaf/WjaKEtrODThBAAACHEGaP0moQWyZ\n",
       "TBRMJ//98QAD98eZbwAv3HQhDA4F2Q2PUuJJhChPo7KXNTWjloh8W5A/r2T/YZd1whb62S/VMdjk\n",
       "l7j3lcxQhcpzk8xebYlKY7y9GUCJw9y1kh/psu2oGOw164xZNXPfLWQL7d7RODeckNq4v9KKCT9q\n",
       "LL0XTuPjW6K0Izpqnk/qTqsuWMpCeZTl89N/7nsQka4muKR67P8ssMDCL7miv3CXZ6wAVD4FraTQ\n",
       "XI3LHy9nMVV/sQbxC2O2TaXh4BzvIcg6fKB3sdfL8L5H33czmtF2wx1xSRo6n4C2azcIzggnef0f\n",
       "sPjVi4FNuApYwz8tTxpJKW/INLKpuNp7Ymtmj3/qOTQ42Lx+sX/V0nxB/l52tsTsJVsSwkWwsEkT\n",
       "MFiADVKoaHZR+FysUlGuXoBJ89GMEa71KJYHP4UfZv9Mp7Od2np6oIw03f6i3txytJeixz+b1jfa\n",
       "0wfXRV/MxILjsCYkQOfk+cuiE221hoKZEL403ktedNSrtUddKdnKTUtehtYyl3rrU+LTvRNYmoE/\n",
       "IQWZaBzbL0ILjA2CNyMMh5B0b6njKYMZq31Ni00ghRIumYmhEHL44cfpDyzo+9ypWdSQVpcCKPOx\n",
       "mkztq2vY4J4VJGU1fahFmGs/uCDIuOgKCJ1LfWt8ay0OHr3HzBGMUqNKAid9Gpp3DLv4GmNuPDRH\n",
       "qce7maIUs3WUz+s2k0vXo3ockAAAAD0Bnl5qRf8AVjMY82GHf24UDlsvYFDoxiZyb7m/g76C8Fs0\n",
       "3ldzAXEZklXamRSoO01522HB/Jlcmk52kEWQAAACW0GaQknhClJlMCEf/eEABmrUfHoAUAHK56No\n",
       "4wvkfl9k40kWqsV9zgUvvil9kIOU3XqeW3GsWOUWgwCUc4KYWprLw4AQbuHcfCzcvqlAJkpR5vde\n",
       "14Dz/37IYke6J5WalO838W2Dm4bf0IcdSSKTnduktTTsecxwOf1C+LmYYXyJGYid7hGKrJfkjk5K\n",
       "0dL3IpDpstVcEtA8wjcthzS+rKG79/Sa8xmcTC2KV2OFQ4ISiELl7KICiL0zhjqFG3kVtV4DbHty\n",
       "2T3LHcZbuZQd2BoA16rtv8fAcRmKA1BpU02Q7mweUCtc381TIxitTHaY6zLEmHwrxgRqs1dISpqO\n",
       "bRhJrTMnyW9ouBTSjFGKrN/SGSjpT/J3WFpjvP8tGprRZsSE9pWBjfJ7OTP9Xe2/DHwFpRT03x6O\n",
       "bLCfMY1QF8Z62bn71rKtDvPReSqbhm35E8/fiVX2byEcKoS5lcUNMvNJAkp/rlFAg+MHaHpwA/kg\n",
       "QGFVF/MDKRmMFl/FgifY2tFCeHcXNjCVQhQOUHPHgYGRq2ZkNQFb1/1pIw5+INiUfM8miLKkoaHL\n",
       "1wvE58N7AOy76PitIRqwIvNsjC5fRizPzvHH9J6kd+4q+xon/M5DzzsU4sdd0DmZ1ku+Ou+hKNzz\n",
       "RxmSeCsMaHCbeYj9q7UvOO+NWjveYq+poCn6f1iUXRBl0LjkiAt5q6gDvFxp32hmRu/JVaEdzZtH\n",
       "981TbC+j0+6SnNnkTrjBGdS4w20eD7IRI6xUGD/ylIyPv5FRHOo/oql1X2bPJzxmDK7capMHTiT4\n",
       "ba24cAn64QAAAFJBnmBFNExfAFdvXp5Pb6DtXW6MPbBTe9//1Z2nS6gJZGkxoKMkpiWQG7RTcVJu\n",
       "keIe2Z3jQp6vYqvGGdw44nwBDfhXufTiOKsF2P4SfD5cBvPAAAAAJgGegWpF/wBWOJh1/zfXY9Pz\n",
       "hjxlVxNctDpJQA6G2pN+sy3+cP2xAAACSEGahkmoQWiZTAj//IQAGSG8IaGQBMKILbNnzhxOtvxa\n",
       "pOLHXBCKK+8O2CWswAU0z/SmK0t5DdzNPPLwcljGZ1uHaUFQa8ZxdJplmqS8MSRtoGtLK9Q9NGiN\n",
       "myQod5PTwv26WNBjoeSb5PUbzNd2PDe6VTuWNY23Dis5TOgljpr8VQaJgXHRJqBe/55APcobevWk\n",
       "YhqsLdZ5sqvFhm+skgGYSziWr+II5Hv4pKudw97tBskHKw8T7avNNzm5j3gOCuLFYPUYrHHFhTl3\n",
       "AAcrl8hyo1JrkPnHj5OLuYm3q6U0fOgpksZiFA2I6AZrN8S6iGAk4DflUoOHXPAkUkquFVxo2vnf\n",
       "jGRZDe7KAPqNHml9hbxnyqlB6fHV+CUfIUe89NZBDzbxNCI0+oBQsv7eInkc9pRl8y1p+dHPWyL1\n",
       "ROhyaCku/2JhnMiSP7HnTT3k20HHlPFf9PM8r+KmyN4lYbiaarP/9xupzv2IiGScD2hPOXtLXKKr\n",
       "Y0UlAup+0eHpgjQ7AGNsvkupCL9USE26DyEnM5+B5BY7+C6zlhj+76bI+d+HijMND/zCI5UFwRRY\n",
       "JVyIqN2BeSXyI8HCNt5ACbNQWFNqfVOPmsKcB/wBz3taWJcYkxe09UYVLRP9rEqgFx7H3q2UXopb\n",
       "dxyUKg/zzicmRZdtJgnLf3SYKnU80poSDt/dgu9aK7loGVI/HGvet5vdO/hM94l5a6nH5exETlFA\n",
       "TDcffj1sU4CV8SCmNYkIUNPd4LkTmwW/+KsvG5vSLPmcfnbOwO5YAAAAMUGepEURLG8AP59vQW2a\n",
       "zTQfYUm97Tp+t1JdQMr+BgEmMkshkIxG0qDpitCchBjv0eEAAAAjAZ7DdEX/AFG4K5Tdv5t2NpZn\n",
       "5FhrdbksOhKqTthQrOH6iAkAAAAcAZ7FakX/AFHzyha2zlcEGzCaghHSFdDT8x5dQQAAAG5BmsdJ\n",
       "qEFsmUwI//yEAAw5maBE6nfc4ECF0jXe/F9jBab9ZH0pm3jQEA6YuTsOZHKzqh6vkptwPlcsauaB\n",
       "r/uBvZFhRMcNFHnJjMUL9Zp6v2rEZCnoYDEnIx+P7kuYke2ecZSdy0h2NX48+8a5jwAAALVBmuhJ\n",
       "4QpSZTAj//yEABkThwAFAEWJMdF2EOqE+JXth+ufV62NAbL9Z3f8pZTSBxThN6PGurF5emSKhNC1\n",
       "apQBU7dWuuxq+++bRSV8EIHIEf73+rryaLaj77UuqaK2khS0YeLlO0QAV7CcRF9u8O/Kh43PI/rx\n",
       "RNsMLs9JlpAiXgH5DgqAjZ+elPmsFv8PE9T/I4nB7pPfQCw1XP/0zSUPUv/k9rZ6cFIYTih+3iIM\n",
       "Pjub0NNwAAAAnEGbCUnhDomUwI///IQAGRO+ABCHlUXhRbEofeA7PFkwl/gM5lfMy4vrsldMF/sJ\n",
       "hfRHXszbX4KzWrHSz6k6eAeUgoTrumeVLfeHjDn6MsIsMgrX7pydaBhcyZRLOQdHwlPoU+PMXi50\n",
       "u3DBTUChoUAKYdyHwXryu88DcVk3O+Qt6dtdIPjCRhmXMZcvrOz+e1+NWmJLQjixfaj84AAAAJNB\n",
       "mypJ4Q8mUwIR//3hAAZD8v7o3MxID1rgESRHQIPK8F95SbGCK+AyHsH2gFCfBwYxjf44mWV4h3In\n",
       "QOem4xa5BUlCKn8jHmTIXEyU30jGEvPGOfAdNWZKBgdS3/ojL839Nf3Ozhr6ghzUhz2r9pnu8DZX\n",
       "MtkmfeOaMdmby0zXP9uFFFslZjL8iqOAAPUywtnfd20AAAEtQZtMSeEPJlMFETx//IQAGRPLQASt\n",
       "My7fBvnDnMy344ZcQlLl9tPmZ4rdU+IjMdub1sOEbiS8RE1OES2tWlx+J4SuL522H9YumFyO6gom\n",
       "neTvhYmyAgogJwXhEhMRrFEvGyW3L2QpXxsm5y0qHHrUyYw2YcR21QD5V0b/mcjbNEym3STA0AA9\n",
       "4tLxo8mnA8T6lazfU4EjAEfxx3fPfazVzkCn4fzk8RA/8uGC2SlZSNpkmxUMYvMMXJSjuBfZVw8M\n",
       "PAuZyGh0Gy/EsKxdCit0VdmNAwmdcZ7LpvrBkhACsbNFRm/2SIgHLPAseSLvFYvoZuvbIJ0dJzj0\n",
       "cmgvN7hXp0UT6wcoyIadDDE3wuok+qgZ/TI6tczDyocpY+IgEbqJZ9uEsSmI6VgSp68YdwAAABkB\n",
       "n2tqRf8AUMu1ZyPV9B9sWpmkx4AtWnDAAAAAeEGbbUnhDyZTAj///IQADDuiwASgICiOpNlgCZZm\n",
       "BkOStStoWveqJTV2/+ZOH8DQUSzjVN2cLBtwO2yJUgBd9oEuy64mr9b6CDlStcB17OH/+IJRx36m\n",
       "qq5xcGSfMugbyniCbFUJuesikFnOkDqjHN6dD0aDs+2Z6QAAAI1Bm45J4Q8mUwI///yEABkT8FAE\n",
       "1tEQLHv+yJzZDL2BjyNCFNNBKSyNsWcWnF3A8dngr54qmJUcL1YxJrV8tW2A7/z5NepRNccJ/fbl\n",
       "Di5+131EXyzsXLdg3F5cXC0cfshMUBR4lbpLxgNMotHoLHI7ULmB7WtosMsMydkB/rFQ1oLwrCHI\n",
       "mtgeHN/FKh0AAACxQZuvSeEPJlMCP//8hAAYZabatcAmrXLAg3bImfbfk7e6At53Dcncl4yGUZHf\n",
       "n7h9fL0ofwEssomhPJjs/onfWO6XKpjGEOLhgyNw/S9l9lCwpLV8A2K0P2svi9CbxvvvkUBmbkZD\n",
       "XuIkzRg+dnwbvhxxYwmZlSRKLueAAsXXRUzDbUBPvvDHLjbIpY86VCKFarh9e3jjsfFxawNDArw/\n",
       "Aa3furCsKxhYHxVWamT3oAIhAAAAxUGb0EnhDyZTAj///IQAGQTgNMcAPqaUHrhcxi2KU0xU8yrP\n",
       "W167bHBlfUpQNKNT6F3bLw+2C1ORe+CgTCuY1VJm/eHPfyaM3+hJS3JU9JHWXSZCMaJbWsGv4Lu+\n",
       "8kMMqsfEbVBDHXVZfe7ayp5jeKdScD7n5r9P6htOUZ9Ym6u9LvTaL4Xk44+s2kzDa07xkchxdMXZ\n",
       "rY2n8nVMlyoF8rY/u9lwq088ocFnguWoRRoSVWmgc0yEygrCnZ0eZKZKgEOxS/dAAAAAtEGb8Unh\n",
       "DyZTAj///IQAGHO+AA9YuTGf4wuo9/yznIQsz5M0g2arbKIYAaOOwXBsJiFOUi6+SWydssy7PvIO\n",
       "XhXEwu3b/oB6nnPJS+VbuMQ1B7GENxyqCkrXS7DXOIk3Zl3t/7jankZp9KuC4whyHAlGQo3CEPA5\n",
       "bO/je686F55LV+ltTiPMmuWmIZfC4M9z1+OOXVT2HIxozI1ynYZmrAyNJfMJGAeqDIfMNDzV4w3H\n",
       "j+2NdQAAAPRBmhJJ4Q8mUwI///yEABkTeiAIpeDxZp4JKT4AaFHjYZpFZwVVgUdEb6uIpgtk2wvk\n",
       "lW3ksWuMhaBt2tKHaKITf0/i/DtTdVzTYhP4y3tmI3P2sQNyqqIt47qVHqy/1DtuXnTWrCvoMvnL\n",
       "3kIKK6yte2ndrBy4XmqnheP6IqWuGAT8lTDj0/5dV21pA82fKWcrPvEsplKBPXmUrMD6us/6VMKG\n",
       "kEcFTkMe4o4rsLzjajlwNYyWGjlyenrehrXB4gZmU4JJ/IdqDtJ5M7bcRGVSGPUXs+dkAABDnD0O\n",
       "ramb4VceOva27V2ntLgafaMzwLZ9rSHBAAAA+kGaM0nhDyZTAj///IQAGHPffAJnWE2AlYwPYaIA\n",
       "SQ051FoIqP/Y0omvyyoGCbv7HTuiQX/uA5pY6yyrFbtE2q3BpCGD6LQ3HJ68zKiIWOhTxv8OwkJ2\n",
       "wNtTGgHDv8+wVG3bAxqJHOQ3Afwc8ztVpKnwbPj3LBuyrGD9Te4sb0MTPaMRaK6bmZDJH8dxnIxT\n",
       "j1qu4rwf2lIqcHDoskiY23S7tgHL1DdsBKE+q30nV1M/JWlXgypzyBsm1dUTPiUqimUko9tcuwmD\n",
       "G+X3jiKwhFVhMVJcNWlehx5Wysr7BAWtlTFyXYkfcbvyLNv4yWtwE+GwdgqWbI/bRXwAAACzQZpU\n",
       "SeEPJlMCP//8hAAX0Q1zbyvgkQSDqwTo5mTNMHIBb++PFA48aPjq+ljZ80U9vV7NzKv4u6lxXiTp\n",
       "+cuNxU28ptgGYZxlXfzhr//ch2skLWxuNTCIGqWdEN3MabuG0UTNSC/0jO0y2WrbOBo6jRm+pVY6\n",
       "sbjBnq3SvyPlAY5BJjggTQHXtzjKp6HwrSlca2mG1NbzyE5kwBP8u0SZcV5BuuiUE25ZWoegZhMH\n",
       "61fbM2oAAAD8QZp1SeEPJlMCP//8hAAZE3ogBsPCpRzsSSAcbezdrG1zZh2IXW1gOj5i35Xk7gD3\n",
       "4IU6BSpFpRKdWXUGhiCmyUa9um8xhsx1YxGwFu9NUSySuMPgtk42cKnG5eOwZQ75RKpGCmgqMdnn\n",
       "w8YLGUMNh3t5/H8dWd4QEimEYWt1GFqStZ9nxQXKkfCP3DbqtgeJBqTc8TxzToiF2y/Xw2K9bneg\n",
       "Fkub+sMLgqx64Of+f9AfDgAN7wC01Le/Ae/TDM12hk7Rw2Nc4R7saKvuh/t6J+u3zBO1QrvuS/6u\n",
       "z29IkJU1tYXoIH7lsxG6oWwbI9myB643f/jFZJ/3nTthAAABG0GalknhDyZTAhH//eEABkUIrAE8\n",
       "AXAk36c2PdR64H2FBiIwHVoKRXX2Ndx0cGV4ioAC84HvjfKZa9y/PjMgHqU2tn2j/nQ9FSw15reG\n",
       "DTRkRmfqSZHxk3lo++fuU0bhLGIRfmJLtnQuywbuJkgZXiqAzdZi+kPMKFUKCrY9AH8lapao3Tgj\n",
       "EgCO0Zr+IZqcGFXxW3umiI3DsC28RxqldMTP+ChaWQ+dPEKCIv4jjzoXTVjSPXX41AdRmfiHTzsb\n",
       "vrPwi0142kHJuIpolzpIGlVFT/L/Y4lIqQ+N0o76j3L07D+WEx+8HrNYOT8UwApJGbDVGSnhxZ7q\n",
       "0Mahfq+BWoJKHCPkWehgZylZQVQOE3U1LrbVfatgZV7bx0gAAADiQZq3SeEPJlMCEf/94QAGbP7i\n",
       "AH+ZD/Jp7oSv4ARYpebTQUNzKLiv+L3LGb84sORh8aXVb+cbYeY3NTDvF3NOx2H69UesyxCUdLxl\n",
       "6fvFnSyumaNJ+wbnWggRhlCZLSEw3Dss3PrF5+ABATLWN0OvHFIEx0n4Obv7PUGH8S7CfOlf0xdH\n",
       "XzsS0CrSSKvaspIvPM+ZVqTyeYGg0GWw1tjiM5k11B31Blw9YVX7MdqHL+KaquP1sCyIAHmhJSCR\n",
       "ZyKSTCRwojVIxWV2Pz3YKbxl9qn1gzBZ827dIA0NF89Z7u/M8QAAAS5BmthJ4Q8mUwIR//3hAAZt\n",
       "Eh0AKtQuypXZePH9lsu9myiCq4huh9K97O+cwIjEYf+en1VBMjS2DSmC0WOg3V9KZ1ayhDNlzEyt\n",
       "dbiKGZopDk6r0sx2bV8q0HxSGZKmcz2obd7K8NYw6Jmi8YuPdghdaDMG+hbAPEmZaZpkSin9b03q\n",
       "Ct3lb5i5pAXNZcU5iEa1NnHGaZ5Ie7lRudaTgK0V1CexpViaoCFKEJ9GLJSzsgGrXaPccX8ITV4r\n",
       "mNvaCgiS9w61ne+ZhRThgjj47Zimq1LmSHBpi5bWMkyJ9I2aojlMX7g+0J1N8v4w3pJ1MnRuJxS5\n",
       "Sbc+7ngRvRsVBtWeSAEERSSZmrn55+hucfhsTulQuDoxgSUmOyOL2hgRTF0MUisVQoJGqO+O1Wzn\n",
       "MQAAAoBBmvtJ4Q8mUwIR//3hAAZs/LwBSDF+elfPA1R1qfc6NqPTSRJa1vk50e75KEcRKop1FUB6\n",
       "sOYq6BwUAhYrm/mz8AcNeu9zeYJwBG3IjsrLcXTU/V6naugne44Q4r8XwXJcXl3SQjbyNj4/JtVr\n",
       "oyb8IrnfSLE/hs5051WH5kuuqNcXkyY3uWzyLFWQNcZBP8qOVUDJIsS71Y1mUb0mryIye7TkvlNj\n",
       "FhbnVSYzTg3A8bCv14xtLnmzYvsaO3XQf7q2wc5m12T5CYaRTNwo3Z+jiF4l5QMGG/MFptGtT7Tq\n",
       "aN+7SvTNIvM5eoe6DpSFwr3+bhwfkmiGkIiMnFdXX/LgJlEngpbUfkeeNzPLqhOzMORIn7Q0hMDZ\n",
       "vqjXf8Y7nNl3WZF0WDVgqtVCkpKdJfaBpHRLcR1fZD8a9Ma6C+vLk29ml6T+e1x9bOVGCh3SqyHd\n",
       "BgNapt12KxGWblMguKYrREs649fX/dCckxtv0WNVaX4rRt473fpqhlzGhVebYpapupP/CvENHdKL\n",
       "149dfh7IcNbXDxQuWdhl4n30wzL0OP5QzMQG0rF2Bs3UKazSoVFwHSurKG95wiZNxuGjqCjAjgPL\n",
       "0xd/y9Y+rPRObaiSMW/WX7OFrhjDZ5jLnZLxZbZIRzz2wjsHjmAMygTufNjv+k7XGy1p+Ai8ZlaM\n",
       "59/nYROGLYmrV8iVK1h0iHAXgdVsiKMK8W1rwse0Un+tQ60CcVggfARtFLzcoXGgH7xFOiUiTREh\n",
       "5PCL/nD6OCc6zt2e5HUY2CYR1EJhfn+T7AJ7gBAJ6zqkD9z9zngp2ry9lms4FJjJk+Mla2FqZ0Jc\n",
       "Wo3bRGyoV+ZE4c57heZPLCXkAAAAJEGfGUURPF8AUMu1eEzjmlwSJRHxao6hUqE3gTsGal0PcpKb\n",
       "jQAAABsBnzpqRf8AUfPGC0rcHyn7jCbG3YuoHDtMXEAAAAEDQZs8SahBaJlMCE///fEAA/XJYABs\n",
       "tO3FPj0Tu+Xjqmu1WeRO7ggBv5Q5bvXkReVqE+q/1U0hdrokBT9aVCPie8NH1fc2abyQsszmuJzs\n",
       "7m4phJfQUAvynkmzjO2ZH6VVdRXJbN9Zb9aWf9tevP1ZmrVbdI5+SeyVt2o4gLQFUSTSY7Rg59Dm\n",
       "cW2DE3IIBinQMxQwd7CigCIqTvfSqSh1CC82mMkaMyEuyKo0pt8qLkSuXJAslipyTtpibZRrZ+HQ\n",
       "Qklz32kkLCDT7gNA+JEO7rDaoH0OgiluDrqh2IXJ2nlAfd9ic8FEm+eaZ6IRLSnOj3nHWoJDnXdG\n",
       "IBvIlHSJCjRF3QAAA2RBm0BJ4QpSZTAhH/3hAAZwty8gBD2/sPd0SWv8/A4bq0otMtjxgjbYX3O9\n",
       "PDyZXghKQ/Zj63K820jJwT5P4Oi0M3V1gLI+6lV5q6S+TY4eNFuL23hEp7nFLOgXPGSSQYyCJ/zw\n",
       "0JJUiyFDuakdHptmHnFhlSqdcqfXJw+QJ7sWS8py4zg+liPVOOVuk3t05C4/qAJMKIwiS4Nn++4p\n",
       "PyEw4I3hFkQcuauFr7o4eP4TPVa045lJKWAnScmun+SBJZQ0aLMkYMD8+Fxsy4drB9QrD3nKex09\n",
       "V9Zgdezu1IfcvLVlVRs4WptJ43HUO4LiguO1S+y7e3hHbqwPo6Kn1V2lqhpxtsA7oK/krcMNWb83\n",
       "BNSQl2mYF3kir/QMtmP4B2T6S12ubStYwPLq/2br4Cb94afu8FHfBSormFdspvH/F/ysFHRFKLcJ\n",
       "7bFB2rbWo0GR+XOaQdhs6NjfJlXBopPvGT45JIa5LJTuZCnZCOnXUggDztE0h49hH+twSb/0oOjd\n",
       "nEpbtYK5Dc0448rHvzfyjkreQZdHDCbVF22c2vojmWK+gRt3EguDFHo0yBYUP+bXpY6Ifi8Kv+j1\n",
       "GtnZ4Wvsnn1vWYQ/wpM+Vi1Ob6P/dEwTWOVxOF9zPUs03oCwA7+P7P73kr0LcBAX9ae+VM2d1lv6\n",
       "w40Cl1Q0mOpLV+ISmhwRv/xYvT6J0KOklJJNkV2EXuypLlCwfJqMm4f/RiepgfjtF5palMHamhod\n",
       "/AyIDCe/Tuw4YH55ejL1ljBsL3iMX23LbfMR5mhREm7t2rnjoCSGW3JQ9eGmYqyBbV9kTL3HUImL\n",
       "3a0efKlLk/ih1AYYwzmG/pfBpl8WhhpmTGdaf99GXcjSMIbZZaRSqJxsvYL47srHUlYo9Xc67a1u\n",
       "QTBKzlnchqfkpX21H2u1HIp0Ly55tlaA7LCJfg+kAtgcN0WS0p2M1lr5SH+tpoCc4yye17bjFvlJ\n",
       "DA74XX+/Rn/QznuiW4qTbcm0CjCvm6wwXjL1GDraW21izxyneuLi7Dsa6UZb6LNaptBo9tZ8gTi9\n",
       "LPtBrAS02Lh9lTCXCacamcvUpU33KMLOwgBSPr3OMtq/YsQr8u2wygqCauA5lIHcOCC7aYTEI2km\n",
       "2YSZXV3HTOqXB8CYSFdpoIGZDYSnJP7wcDphAAAAJkGffkU0TG8AQVIvsMjctJ2dqnqdo8+0EqF8\n",
       "XiRjBgzW6eg1qreAAAAAHQGfnXRF/wBYeM4COzcP+4rpy//tPwpAzZQd4BUwAAAAGQGfn2pF/wBR\n",
       "88YKaEdkvO9ejxg21KQsq4EAAAC6QZuBSahBaJlMCE///fEAA/XNdQArYPrWdlCXAzd1nC1NnoH2\n",
       "WTNUAyo1Yt+l4Mwa4+axGJcOhOV4ANjbk7r0GCYpFOBKFlNPV0tJxcEcWlvJETmOBQwsUm3CL7kN\n",
       "HrImWrL6uKFaz6Vd3cYOf7/uAh1IkWEPnCSeML7H3do3BTjiQVMWH6wi+5pML1zr4HtkEgWKlljw\n",
       "MZ+TU3RTpQKGALbMAaBLcgtx0TR+9DHEYrWYxRyKJyqn/rFgAAADD0GbpEnhClJlMCEf/eEABnS0\n",
       "MvQAioDrimzMZoDffTZ3jCB3qQMaa47OHNMevX3qKRlZWgneGLhouDjEdKfwOeUpZgdrfqdqtRLF\n",
       "MijxxxPhVnvoLxDAXDVFfHd3g0NoWwmtuwvDWJyZQpCBhxjtul1sl0kAO/dmok/E7LjY7sJROuo1\n",
       "4cAfKieooQ0JP/wzDZphJhi1oHt50ViXiCPwz8dQfc7ZDGQl59AldAp2wOHbYWRJhv41gzHzWjRk\n",
       "ZXGapUhhqpigrMN9sTyAjg/yo0wb2sWXncDQJwPUAyhHeTXXiR2M5TvPAM7iGRAOLIhGn2TtS5lf\n",
       "TizMzO5CroO1HUsKVEgYOdaYf+dz26FkbYSuQNWjboYThXESJRN3IzAz04mVJbxc3AOGhMsjhmd8\n",
       "AYJFAPHo5YWZa/RiGpBDBCWyjZ/LrZQmW337sjOkbC81xwhfi5hDMthbuJv4z2yL71PGolK4Bvz1\n",
       "cC8T1756y9IqE5YA9PcOyqe4xNjoWV5Wf8ywkN7lENDb/kW+Shf6miriEpn0sp0yBu5WPzEcMRHX\n",
       "5Zmzi5OZkS1IEMaRosGXxaxftymhC1kmGm2iUerpOrZ236pS1Khlmdv4Xwwy5hI6hyC+c/tPMsCd\n",
       "Q0hG5XQWLSygIAdaFhWcPzE+3JAnCrE33dp2isWqiGic13tfRVo82FGEcn5XgzkHbp4keaARoGgt\n",
       "9RO6+i6i7/UgOY5naq16jQ/HS4k5g6NB/M9mnfQaT6Ggf0ftMlNBbOOTcwtaxtZq/sLZ+J9HdT5N\n",
       "3eV1RToYf0PHNAmsfDCXiCj80U95Pq/CUESRFaD0BZZuxlw16AnaPKZJBXcoCAS9+1syi1dOUXQB\n",
       "qMEkkuJaNS6l4j2aofUzHYHTEwS7U81n5p9F2D2woqW9ZpimvAYs0FdKD4Zkv2GcBXvw9nlpbGZ5\n",
       "efXC/Fwz7TVFacOgbdk+N4cNFRW7m5Gq1XiLR6ceVokf11KYmM8r7P4bGgdM1skpj5e/ximpkXII\n",
       "QKnojFKi7C1p7cwu/eOg0fHtBRhJLHllnwAAABlBn8JFNExfAFP3LOWIGlRGcJHcmYAtYsCEAAAA\n",
       "GQGf42pF/wBR88XB7MoqNUIomP361bUIU0EAAAMBQZvnSahBaJlMCEf//eEABnS0HowAVrz7ypfa\n",
       "uP9NGfUIVk/cMQjVUEWGHzMTCKWwTzIp07ZQsbFjb4RGCPSxdL1VqOw5+Xvywv4EJenzNAD1N7SB\n",
       "GVS9JXDWfg57vd8JWzpmemM0gybNln9G299J2w/QPWJSwNcupXBzq7uFca7r90xpbRah+ux7s0Rd\n",
       "wCt1zJM0DWOv+Nb1MRKkZM9PviPCSyd9qLirM5nO+5+DRIwRbZGsiYz9HcGM2GL97ZY0CM+3mxRU\n",
       "uBVM+i17ItrQFDsSJkmDNFRx8CATvnwJznS8MrD099CY2+Q2dufKZ87NfhDpBITgviUmeWp3hM11\n",
       "1K/hyPVW8Zddq/dPgsi8GX7vVh78u+na29oL+GJuncbIvYrDe6sg9j4LenbRho0j5V9npr6QUPIY\n",
       "Z1K17J+fD6Mt6kOcssu1WmIn0rQjEfRtscR2+JPgtZA2Q2zCfJ6kKbCfCCdP5+v4pAD+jc1FRKfp\n",
       "pcb71sOXmK+NFZquuLRlXJ04EQZlxiGAZvG8RbhoVkqtBi1Wc0BwZzpCg3VJPJier/+GcSkiFwgS\n",
       "mnOA67U7/AefLDooGwkLTVdqYdVeqMoHswj86CX3w0JzKG394QeYLMah7NIAJiQZBSPDc4P+tWlV\n",
       "KqiN0ESJl+snJdIHBqV8wWel2hC5LEr60VQWh38/vP5ZqCPGr4pji4BBipYRhJaNgImnZc53pkhf\n",
       "Q4vOPzml49JTjMZM9mBADJfmcN80YiAOyaMZrh7JlNjuHmSnxBYFMNCEFUaN5en9/dL5c1uWXvWY\n",
       "62dkBGBB/maI7NPkrKdHEbYV+uBh/dXYp4tF3UYhmQDOIy9hW61JfhgdJBWuS78B9lwwkZqzRytB\n",
       "YN+7IcHWcri0SAGftHwoZG8q/J8P2SafbTRqf4sHmM+1rGXO2ayFAczs2MrgKTYWxS3HtYcS5/tw\n",
       "lvUWNWj6BS20FHw1NFmyYSyBsAH7cTNDRG1KdAVTLc5n0emIpETw159o4d0eAxWj1DxfzF5viyun\n",
       "pQAAAB1BngVFESxfAFP2sja7oe72trfX3F7WbrXBAMJ3ewAAABkBniZqRf8AWIliFBcVLuE+g6Uv\n",
       "mdjq/BbRAAACQUGaKUmoQWyZTBRMI//94QAGdLAhgoAN1lTgDsOQHg2NWxZQg6mISGmp3maUoYCY\n",
       "a9zwCaoB/Yd8VNxPbgCoTMP+tA0C2dcUsKXJHGRjt9Bj6v5HtZStI2jiHIJgwhaaCbc3fCK3a2Of\n",
       "27NExZyfFOPRoBLigB33Wt5FEMQ+smATbHkrlEBYtcTVr/yUHdAIVi69/ULCFB6ISed3i0VUHu45\n",
       "j9xX+zV/GXGTUqJ9r2XjInKI8yxZmM3VG4/k2mgMOTH6PDKuj9VMSFiGSQGsw9RPidsb+j2YIACh\n",
       "UBDmywewev8yMA59a03MJS1bXMRiZG5TbwpceAJuzO6uT3Ge9rzPXpTZwUXtH0sYcGeFBb+YH3th\n",
       "6+vy/iN7v2tgMiQ6PeCo358jo/66h61ek6VhcM3KVhpwct8zWDMn4Z897IqMn6pmjAnBbnM1k8n1\n",
       "gifWZ5ISYk7davJqgsG4h0HBcK9PoYJAL1tyBbDk5fARpEn4uQuzmdaDTGCC8XCu+xnYJgrdNOMq\n",
       "7oZjwcY7bdTCUz1pwubTBA0TSyZrdYngXOJi8N4nxEhJ23GgrpYpwuFvvGlfh/+CNRhUwlzOQqrx\n",
       "XnHGpjzrrB7QKcV7MF+6NhNqcogfhEsdPB9SYeL/DAVdyMJudk3Bbt4s3EOFRCErhYP0/QNDuNJh\n",
       "PVBJZ0xBEHNz0pu+Da3u85/qnpmiOpopAcpWMtWNQoOld+p6WqVaFOORwU3any5UMLB4LxVqNtKN\n",
       "KfD4b4WxFxcaFPDKMr1mjZgAAAAgAZ5IakX/AFP4mH8twoueTvBmhEU731X8p8gJIEBLWaIAAAFf\n",
       "QZpKSeEKUmUwIR/94QAGdI1/IAGyLBBktVNaK+nQhvX+wARH37Xe4+0n7dh6DPE3FnBTcMTQlA3K\n",
       "FM1qhLh14batsFFUlxS32GEONuIvjiX16/pYtd9fgMntF0vJ/hXks2e/E9WO9GgZSOOCSVELaUHt\n",
       "YcEpNJU+8T7+23llv6c+cXgir3b6bbXSTFVnWX6pfAC0mUnprSwr6zgmZqiVHUtv/Q8G1tZ0D9K+\n",
       "TfvMn2YW0vSThZ+3OGhRGMASwBanttsF09wCKfTZI8oCzBZxvD3P1YtRsf5OQTHFqWBEm+YR/798\n",
       "Uw5RwyRfoF5kNxUu7f0uZYRu2rNfRcA7+k3yuxmzw9kxxMQlcM3m37iV2Cl+1tVJg5H8Wkvr1ryJ\n",
       "UpkE/4S8cwJJv1r7m8hH7Ef/Ux+wb17PmShnUnFsU21ggzQy3esg04y7r51SN6gxo2zCy2Cuej1Y\n",
       "MkeF49Eq5Z0JAAADFkGabUnhDomUwI///IQAGQT3fm/BETQAiW56Z4oEgXRwSLnGWyMc6D4FVvON\n",
       "H6WpkNEjU39Ob82QA68ipNKtUql5C7McocMZ1Mxf6+xO+DNglh8vmfrV2J4nPoCJr7PeGJSz9H6P\n",
       "glHKsrhTNhBmcsgSR6Cl1CXW8/7uD4YUGieGBEkUu2RygCaIuigPXb1Q3ZxkS8Ip8pfEh8ibuPxJ\n",
       "Ji5JXgP2eJUzevg4D6z74ZTdUmPMcv5iRUovTKvZqDcn1hknIXxFsfVvMknVeob3aR++1g1dMjzO\n",
       "B2cf9jtVKwSq9QJB4DcXudYxRDXFj0ghNYAD1XLR+6vn8Vje4L3x1m6vZfIlAl5Ea4Nyvi1FTkwg\n",
       "o42MyTCNqGx0IxNruuC85Z0vuiOkeiQbWJ2AgTOy+sFhhCbmvLicoyvWg2ic5RFbDtkTbgbhxsbr\n",
       "VwWeGAM1Kqx+9wwSYJ0I7rj+PQdeT/AxsTLcctRGZePr3MqExscVUIfCee5BvmPlPz0ORgqYJkwD\n",
       "XFiG13l4zbzF+I4E5km8dcKEWT6012r4edlbeqLKcLfg31T6TA84mTl5+JbvBCNMykcyICpgPVvs\n",
       "lAmfQuuKdXK3xQvK3/IA7flWVWft+byzl+bnVW6SjpLGaWjALcGuWukMoCBODsor00KkNEyw+hhK\n",
       "tPoJx8poHTABw872CtQWsH3O/vawzQ3jfFRcEKxUFSy/TJt/yLV9CV1tR0F8y/9ZdJfZ0eZM8Cjc\n",
       "yfpNWnYxSpe2GDI8oWHDF+bpD0vruoAnYFS9xGscmEVtJxitPrFJhKjRzm0tRL2sbwiw5QMDr5xh\n",
       "NbpsmfuR8gRYf9c5bOI3wB+QjMOCt3kAciIecc8U8knWUKCcEU3eScoh6oHHwNaOzWvBCjtxdmnE\n",
       "oye0maiZuqH5UT1klAFwTazF4OqRBHkXfmQ5YUyYAauLmQDOi2GLpXC20N38LA8KwjSWShwZfSYw\n",
       "CGOtUgtQ1osxxBU5fbkMBUUVws+rh18MnEVj49syhO4pFsCwrBerMc7PGRWD4yWxq+rLP1w9CS9k\n",
       "CrUmU0AAAAAmQZ6LRRE8XwBT8tEs8VoZaAR7EpGPSNR43FaXv8myi3lFeg7doOAAAAAUAZ6sakX/\n",
       "ACO9m0MD37/2LbuehAMAAAEjQZquSahBaJlMCP/8hAAZMfoBUAIczdk7RjyS6qGeLv6sZgR46mkz\n",
       "K+B03Ob/Vnyrm24UnxiihKPF0cwZi5ggMMjWC70Bz4yMXRp8SQJTz7tj+GhqNmT7QD6FWBhWS3CT\n",
       "OaYYccHGZT7/nLOLiHW6J3Y9E6eNlzQqGwzVsDRez+4Kt1d9ddX11UN3OB9rHoKHXAdp1XB22HXd\n",
       "urRR9nnGKq+8SKdrOIIEbuo75TZVleyda/tujGvNSRyFOZCH+C+RqdiPs4d//tfr9ThF28cg/Hyw\n",
       "Mn0aWp5aTgkTY+Gu11iB45U1qP+Ou+IOEBAnW0ySLto9ZO6pVU6z67XQATdwIyKn2lDfnDKawCmC\n",
       "x97OZ/TaUa65AzHj26SM6IFrSyml0KCBAAABiEGaz0nhClJlMCP//IQAGTFkLYAA42EA7v9shOjr\n",
       "w6oK9iGP6szJENsjNE4csmbAGYAUAIWJ0c0HihHeSQPSUzzh8kpiGiofuOKu4MN4JNBf4yDwLn+g\n",
       "avTzbdgfeH0XsLEmcuo8ifUHfESnQuAT3CJ98vfJwJDDoYpNjHI9Qwv24UU+sBfENfrt7CUmPYpb\n",
       "W21JTtIMkxtwA9EVQsay29bynn8JIz9Gg1B1Ox0VTc6DnEBY+bNkNjDxURVp2FtxouVvvyOSmkdh\n",
       "RTJtTGtihvY02xl4BUxN8luUcfZ2G2WNHuxYSLPyxUtCygwL9hJyCWkdryABOaPmnj9jz8EK/ZgY\n",
       "8MbAYQSrStPoJOZ0LkfDu4sZcivi840y7PtMJsCQ9/xtbZKhqXla4bONnx+DeXJWU/fhXZRShJ6q\n",
       "wT86med+Z7nqXFJTKVcA1cnJGgv7YEaSyYJwxym2puLE5dyTBVSkGUED/m+0Vz23cC7GknYXmLl+\n",
       "/uOuDRAodZBfUHW/ESqbuI/zeJqRAAABbUGa8EnhDomUwI///IQAGTH5isAM4wkQDP+8YLrr7DUa\n",
       "i4MJM2po5cSMvYUz9xU4RJrmer7yj/M2ibZayBXN6CD1D/6ivdCROABUL6/iA+IdKDUVd+eZMKhp\n",
       "CxzMY0ZhSSTFCTO4eGGXR6vL/XhGqf/vHcVI0ZvflsICpnkBNytwvPp2w7NWmPAx3yfnLR3ZlfQR\n",
       "+n+P8fpfzeITJTKsc8/WaG3W/GNfNzA8BE6CP41iLthTK6wbkRDfrJNu8WUVkr4O/uZWPMiiS118\n",
       "L1PxKwVdurQEip+nO498H+BWQ6ezwA9UMykX0/UTT0uW+zIiV7IqUq8L9cxWC50qPddkU0oXG6Sw\n",
       "4o2tNbsoaD0P+sR4VvkYtq6+iuAT2/8FAwlJBHv48230BVzoQZFIc5e3FQVHz1V12eesFFhw1y5L\n",
       "j6MtLLbQn76iGslu45TPXnf7BjQHB0x3o4z3MiJhT38f3Rk0zymyQLykXfpYpgNSAAABpEGbEUnh\n",
       "DyZTAj///IQAGTH6vMADiZQqlXjQpk2mbBlbduepcqfOJSmJZH83EzqPhuUj8xARId/8CKx0PrJr\n",
       "aqO3yoo9P/nb8LoyhmXgkHG/ROhfo33s4CizA5KEOEDhlBdj5pa1r23C8YCPhW6BfUVtPA+uM2Oq\n",
       "OrnbKnlS8UVeQ29XBIrruP+wY6nk9MGb+7kXM15euYad89FO0gO5v/Rwz0Y0pUK7QNFyf70gV4rB\n",
       "NG5uzwI4N1X9SHiz3MLIH7+4tcK41Zyn0b1AO3udlQqDtydTBaRSQNXtJHnNMpn5tHi3mY0bAO/v\n",
       "gP+oV/A2Q1fZQAvJRUzmZ5PjigejHgwOtCki0ODucsw5qAthwLlyDBrygTDBqBjFjUhLSlcl0sdN\n",
       "kpTxPmtVFyQow/cA/DcU3GtwfkGhTVx4rqTT55PvbUeAWKKONDm7YS2KXcqg7oMC+lOuDDzPrrNP\n",
       "7Vl3TjV2dyo12Ty87AG4jkHUdRMh7de4i4FhnL3qsPhvHqLPihx+z64k9qwlYHyR9hQ7CFYhUxTI\n",
       "xVG9gMgFTKAlAb6jwmghGwAAAZ5BmzJJ4Q8mUwI///yEABkx+5X+AEZEw/OXZwTH/pYf5N9Wy0ss\n",
       "iPXKiy1Kxcc0RVyVFDqRA6KTh/1uq9+zRuur1o5FAJuz1vHfz50VwWLBI/oN2tUQ6IlgnGoa6xPi\n",
       "FGrGhvi8xnE7BJiTRX4EAHfWcxQGpsU4JfBiEbUU30EuMclBbpcyUE+v/Clb2mRCTbRglFVQuTQr\n",
       "+XfitKzDBcBCMuD4YzwSc7Z4KCAz4TyKbMMOBCvQ845PujSQOVJ4zZrQdDdXIXR+51JbbJAOvGMQ\n",
       "VdopwyCERAnzRE9BcNbB65Zje+cpHVSZaNJnJwxFhm6GsylvjxGfckRN5ONmM5MRsHPO2QrahDJF\n",
       "XKQhSMh5qP0JRwZRV4pMXWFyutzsqp8VMXU55rPTEQPZbWKhRIWt0/5sIVUzSL+PDCELi6zrnDEu\n",
       "h+9tz6mK8Y56z7bgjyxPcoPVK9eKJOz0sH9KCsZxHn1xuqjBIBV0jpNrJgDEkrfR3cDnxdtuD+Ls\n",
       "hS+qSxATIUaniZISJKp3SrT9EYJFzxYsOaoVLwVuDuocBn0AAAFuQZtTSeEPJlMCP//8hAAZMfj6\n",
       "rVSQAG79C+sxtmo6ajNdNMcN8thFZfd6/GdmX0BMMxl9QCMN3BrYY30Mq8xdP/wRKdspNulyQu5E\n",
       "ck1yESVBneohiKwMu9Owfx31+j0BIN1hhkPi9kHP2SyaTd8DgqBUyXZpwKXy3UsINfLEUrCTrKPk\n",
       "j9lcoVQbu/UzltmjayzT5iOU+MwoBtlEfqZq/SYQ/z6BraYH+aMBx4437yhAccxuJabNoGf4qeSK\n",
       "pNpjeE5eRBlXfeYxrua6jQ3nv8VMiFKOgjYjgUbKN7IvzxxOupQKwn0HEDodHUdbfpW3BPkTrxea\n",
       "kwcscFBROeeR9ycFhvUZJmTIj+uiuIOyrrddft7z/jEahZWL6fWpu4j+2TNhfOgSeRzSiQKoFMiw\n",
       "4TwBi4wlXunWj7XEUm+ngug82gnbOif4HPzd/D3z+CLs+et/y0JmA27ZYaFytPLd0TBAztQqAdwA\n",
       "vCiqlnGLAAABfEGbdEnhDyZTAj///IQAGTFgPUgCIHaWmO/qxlCRdxPkF4jY0KfLR0cWhuEyCoNe\n",
       "0yLl9KIVB+NL5IprQVzyRUhMCaP2x2wRWRDXs53M/E9mh+dLDtlXYx7nkY7Ar5EqDXQbtbw5yHzp\n",
       "yo9Zjo47COi9LF0SQ2MZRxPHKpiP+sEy5vEYw33OKYSiQjBrtNkJb3xwHGXZpadJ655YDDAWSuGu\n",
       "jRu0LHd+k3Eg0v/7m3QZqH7qRkpErHcfkU5EUheqF/zv6Ygf3r4/zTz3mqAUQR+ZQrKsUtvKQN+h\n",
       "HpPa36b823GRza6E/0OobgOZCSQuGqIVU3HXD3J7A4CGf2bT3rf9pmTFkOEnYTcP3+UFodR8HAOS\n",
       "/s9ZICeIAk9kKAU7p5YLdNp442+OysPAd9xigCeCj49wjhjJ4OeinFOMQk7VaZ/gCT3e0+LXW/G2\n",
       "N3hI5+Uv+smj/kN8JejjiwcXY3UCQIfj1Kv5IdZrQNovYbn/OL7YglqQYTaKaAUkAAABZkGblUnh\n",
       "DyZTAj///IQAGTH4+/3XfAFL9SZNtfjeW/V4QhZV8mpxoaftJRqHC7hIbxQNzq2GChfBYxmL5fCJ\n",
       "ITTj5H039OnKjz2fnv4KwiftDru6Z6G7fClgyaENO//dy+UjmO85FGeHBMg2wqbpyJkOPftYxrK4\n",
       "JI6uv9UMY/Xd2xP+48IPvzlqg+mxT5queAOM4ooicGjTeLXfEHxoxZHG0hoxzz4JiKKWiurMQyiM\n",
       "AIjr0es5ZTKnbC09CicVnIyxWAhh0Qitm3o+IOsI6s35Xl3nZE8qCuvt8pPxvclBsex3dAS7mnV/\n",
       "aB1QWNr4ZvOjcqqAwrvbUFg7egrJi+XcjhZ77gSUykQAoxz36bLEQTjHoe9YoGscdo6FiKfpjwuE\n",
       "3GmF5A8MoO20nhBUDi7srPFs5H5pxNnPc0SLkbbOBQ/tPCFxzc3sv+0K2c2a269jFXY8nNeDdNCi\n",
       "NUmsaam378eHc9sAAAFWQZu2SeEPJlMCP//8hAAZBPpgLvuf4ARirkGtwstW8SiJ1zJVDAHdlFWI\n",
       "eBJcK2l3/IYizWjPx7xHq8d4xzQpHoF8Cpxc4GmYCe1C98r8Nc5oQnaj6zmp4s5BBOPpLqKF7YFQ\n",
       "L/jxy0/2PNjHdQJtD2O2rI9k2mzAaco5cpF8sREArqAcZ6JEMLR2CIx6hbPgWKPSpo6O7gHJDygu\n",
       "Sh+PeITjrDPwGuagVGEubwJ9yRVTW7uQ1i9VGn3f7Va3Cfj4Jw7x/3JbXj94mkKlDFfub8Lgxtn1\n",
       "XxSU6b7riqKNZO2u6DRjtI3ZdtCw7Y6nDwjuMxRsM7GDIopWsMwJ5PDlW/6vtFuCZmkGCQ1xBWF2\n",
       "fnw1A5oMcTXhjtZwJp/rWsvY707EfbI7fwUCQt8dp4Lp3NbT8aDOveChXxNseWdTIKm3rPvASYP+\n",
       "s/nkf7jo0qx2zJ0tYcFTAAABQEGb10nhDyZTAj///IQAGTFgV8ABC2kJW9H/D5O4Rd30NHriDgO9\n",
       "d3wgp3aIj4Tslbv/BYXc0pUhoZgxmljSWnvVvy0GdLLbkOppSN0GczwXTuiOobZYe1M+GBwd7kdY\n",
       "mBMcpZs+lA7IegaxyzWdq+DsHwjVyDR5ikI0Hrl+C6m2AqZ37fvYHkxjFtwGsNADDh4bS8xZmqHH\n",
       "QENA/JApzmwYQeg6PVLEy+k7apN9FsQCiP4HzXW8r5TUqcXMZxbBk41CVV5bJxcIw3a86vOfW9F+\n",
       "pdTPy1B2S2uI5ZiS77HaBFK9aSlKdqnC1flRzG71WyAYuCJG+l+/nU/AwWN8oDB4/Z9PKSPp3cDV\n",
       "oohPFFo+YnyWkmlPEZPyC2c03hC4pNkD11UhzrlQky7nsgQvGafMdmc1EPKy42Gt+fxlGdixAAAB\n",
       "EUGb+EnhDyZTAj///IQAGTH6y+oAcUGAeAxOltSQ7mhcIaibVFA0vsiCXREgjxtjW+zu4MfCGp8z\n",
       "Fl4BAjsWkk4kwuULyGwKiBpYWBFHgIXr2JNu/B5ttrhHXRZ+QNL8i7kvWwNL5Ux04r0lZFJAQ3Pp\n",
       "eoscpVPNW0zMqSzK5U3PC1+ymZDsh4Vr7+zja5Im48Kihn7wzbgg4c3AbY4t+e2/ANPVZ0ajV2FR\n",
       "PlAT/zguBWbBrWaSr8ECM8JIIAcvG+2tJFxm2c2AbYxOOm3BgUvxWsQbBVYNCw1NF4WnLxORYRjw\n",
       "TUX3VZju3/oX2nmqcweK6TcHC3PFAfpVa4Qr+QY/TtpxYJZKwH17G1vOEMoCHwAAATNBmhlJ4Q8m\n",
       "UwI///yEABkxVwqsO4AFRxgIcQu1UXPeg+O7SbvmFaJSiht/9EcD6DnlJqgKlJe9RuDNv1A4OXkd\n",
       "vd1jdTYLU0JR18zYBtWbdl7UmUZH79mzmiPA9EkAF11ZNkSB8S4m+gOs9obJWWs2rxDD2NSjFsmz\n",
       "lRbeGanrnYd3oW+IDlbkOdmGVofdhreNI8Ezyip3pJxQhC91DHr1hvtefCu8wPZQm1LGyDgonGND\n",
       "SyWbfLdp3YshQ7hssdOeq6yYMiaJSZQUofrRyjsnGcYowpyBAN1SFSgohWR+T619t3hZ8JEdwfQh\n",
       "UE4dT5RMCHld7jpkQgKyhGIqkKNJLZn6xA2lV6gRKFU8wTUVvUr9HoLHN8x9w+JMX1UZpI2UH/zM\n",
       "2pvOK6BbVP2YuAopv4O6AAABEkGaOknhDyZTAj///IQAMT6KLszuQc1JwAFeV4X4i+8SMWsauw9r\n",
       "SVeRI1hWJSwlTBMFIN2+dZjazwKP/X7swfyp4VUYJqpifaZ0pPF/vEUr18cwdT8ViJICwOMbhu3e\n",
       "isItxBDNRxjI3B+4JR7+KAWIOGoF95z7mWw5TXu1sWZUiuz5N4DcI6H6cZZMgIRLTm0RIFRwccr0\n",
       "uQgmAit8m99hMlKKv6XkDV3HBkB4vUNo5/WC6Mz9GxeVLCTyOuV8vQdtpUsjzryYXjUbLXB/48Kk\n",
       "TjBhd0wwqsTht26CR1jDfeBrSuCad4CmV18E1il6cUWLwkzAqFOtSLKCJqRToYnItShs48lmeL7j\n",
       "gKC2iWcADMkAAAEPQZpbSeEPJlMCP//8hAAyLUOu5AuABFO/ovsU8vKhS3X+VHYktLla4v0eOhb4\n",
       "1j7BqOyEEr85eUfVg8Q5w8dtZWNApwl6yAbxZlPp7a32gv6Pz/jM7kvcCcXnVOQj6zDBywMACBVz\n",
       "PEWrc/JcN4zO3c2ONmcwaqoC9huxNMscxDkx+sqSrerT9qXwDd4gQshLTlAMyfZ6+WQpu+MgfdAa\n",
       "EabUc0VlFYda0dpkRh21WmnHBsUeb14fFNWOYAzOl/m20d7Sfj0KkrMrM0GKt5dnvw1GmVJHr7Wc\n",
       "T/p0RTUbvx7SlR0WefSeXEosmByj3R8pIEX7jk619PcJt5okQ9WXWhbVjMbfwTUs+tSB6EnTKgAA\n",
       "ANhBmnxJ4Q8mUwI///yEAAtMysBZhZ6s/2qUuADjv0Hyi4HssJSwOU4qljrVEAKqis3bmU/UrISR\n",
       "0VyKDXRvKlLjat3cbgEOAYUzXCg+CU9I1ewYp36I+CuuOski1WII3EPjw2452WE/i0JuGheWWMNv\n",
       "imsIclZZ5RZCoMy1HXbKV5kKY2GMhMo6PX7pHOcU2S1MFamL+c2x7gvveRo14cUA33f4veGawu6q\n",
       "71OnE5SUMK1FIAdL8sGYDzHKZjILekclsmhxO3rYMSPi7ikXRv4vcZCz+0nEA9MAAAEHQZqdSeEP\n",
       "JlMCP//8hAAX3rMzMt2VQcCI4AA4D456dZqlS/gExp2NHLoLkRj3RPvsbE12fSSyKjbjzkWtGBb3\n",
       "Fehkv9XBCJB2LZhLFFsKqpDXMwbkDQMGgGLUD1vH09+94p4sxYmEF2rWm5l5w7gkbz2Z3D11PB0h\n",
       "qS8HZgp58rBN38kCEBQSvBIvi7p1rBSj4xt2lVtfU2hYCkyAMZSZRNVFGEZe+ZW5HP8nL2MS7FEG\n",
       "YEe1ErKL32xARyH3D1ZGrerpsdJwzPxSq0PZUYOuQ4JpWMxzALdLI/aBLMy4ySCzUsb/ATGDAULb\n",
       "BUQiLB0BS3zpR72JOULsGNU/Qy3u9V3MN+/fQMEAAAE9QZq+SeEPJlMCP//8hAAZMZoUPIyVyaOq\n",
       "HUAQxAE7Q7NfbJm4RTubVy7t9YMgcD5J9Y2+BDGgeTsMOf9/wDKOJ0Z4hBYoT4Fthx6Tc2j7EDT/\n",
       "0XeqrHK/HbF+xVNKFk+vt47iONYL1meYjPvvbvfW+hi52ygCIcPbKZMPq8BJd9Oy8NzAthkb4J34\n",
       "ZuuB5E+Ywbz7diiLtul2TBgj4OIjEpMbfUfSQQoCeQZGqb+Ysafe1XZSVnI4Fm9GxbE+D6FL8btB\n",
       "aWDvJvM9z6N61Uevwy54hZ094gGe7bMa9Ll3pT8tHpH66U8eX9LXg+qiiIDqo6UUUP8MI4+gMBV7\n",
       "xYmZNDjdTgBkj0CWtpRwFO9jDdLnh0khfR8lsH4gXuCN1Fz4TnK7y8u8L+cJO4Esi8MJVJP1g07h\n",
       "EG2lGHpoJmAAAADGQZrfSeEPJlMCP//8hAAyLXrE6bb9NuHbplHmaVpx5GADiuUXHRn6X0ZnjbxC\n",
       "arUh8vHrS3QVME8Bxn4Ozb/BjBRLRVFrPF1OT/9Sllv4PbkRdR0T4NDHM83AHUUJkZuhbMp12n6K\n",
       "rRyGj8T4wWuHRpAso8TC16+E6fcZHSUQbhjsuWv3SnU8+j5ADb5zNaEhPQxZdowcO0gruMbnN0Mc\n",
       "Q+//Wld9mSaSAlkGrtdnYieZzYu6Ls5mYotoUlUf3jtvaDYuAKcsAAABhkGa4UnhDyZTBRE8f/yE\n",
       "ABkx4Z2Js2gAA/D+MgjgUirUG/qAJPGfTs6JLVjXL3025J12lw1OrW/lh3w8w2jAFz6FyAZ+H9/M\n",
       "epm5RRhzHa/erCvbifsj+78Q7qybbCB/pWxa9AAeKTbRw2BNHBhMa1ShCI/xdPCoD+bqsst9qXv/\n",
       "vZGc22z6fLmUBM/1GfqOU5prvfvM/OYZsZAfi8H6IMKKh2Gip4PxhfSrWS5mEguzWLI0I8l1ZPqi\n",
       "XpVorQLaYa602IvFh3FWKtrrlkgneiy0XnWE0ClHey802OwuMylgRb7W4J6wm66ARM0gAUCVxNSU\n",
       "uL88fJOPV6NCrg66G6KSJ0jCHEva7DpD7HZwFwgKbG16XVRpXuZSmV+xzjJrkIdHE7iKDNSmOimn\n",
       "PCQ0yp6dWIELqsuSi5EHALewbXPbN34DwCWcsDAr17gMQkXohotfOkm8hRQZzRCzgSCTKQI1OUDW\n",
       "Xp5dhYXJpdY4Zd3Gq3zgtL2QFz3Rxf1x31vO2MT4VBsz4QAAACMBnwBqRf8ArxdrD+DdP/xrYtGL\n",
       "C8SvrZL/ba/3QB2kDYI+YAAAANlBmwJJ4Q8mUwI3//pYAGM8xZAOhBrmnuqgAt9R0nNiXABhPKMV\n",
       "8g3cW4ldrLXhdCSiYAyGq7mrLCJ4H5GrX2y9bNlZolaFlTW16PwP8o09N6KOeHZyA4F4crj0o8lz\n",
       "1NcROp1ZeD7TiqwSEBnUUovIxdv6hXfO8/LTQekFVo9/Yr5oo8fOnsTrSSmO/CXTpBrMH/zvUKEo\n",
       "vrRXo0lftAHPPI7PuwjTL6YkF05zRaSdszbkTvzgSzIeZnpneJd9dfJFzEZUIv2LS4R6B9KOMUIQ\n",
       "EBZs0I+36YFlAAAAokGbI0nhDyZTAi//+lgAMYPVZEnT4gBJjJaPo8UcyY2e3BbOntrTyDh2noQo\n",
       "0YKraX4Sjv6A2DOcloJZrJ2R2PI9+J6FtuVnd62nLYO+gY/+oYXzKiGk+m1gX2Jk7JomWtw7WcvK\n",
       "mB/uvIuHsougF464ZPxwl/6dpa9cbMOdydh8795wPHjWadGy+lDRKDgbGtr2pxv6rk77TDsiE6kw\n",
       "c5Y77gAABqptb292AAAAbG12aGQAAAAAAAAAAAAAAAAAAAPoAAAD6AABAAABAAAAAAAAAAAAAAAA\n",
       "AQAAAAAAAAAAAAAAAAAAAAEAAAAAAAAAAAAAAAAAAEAAAAAAAAAAAAAAAAAAAAAAAAAAAAAAAAAA\n",
       "AAAAAAACAAAF1HRyYWsAAABcdGtoZAAAAAMAAAAAAAAAAAAAAAEAAAAAAAAD6AAAAAAAAAAAAAAA\n",
       "AAAAAAAAAQAAAAAAAAAAAAAAAAAAAAEAAAAAAAAAAAAAAAAAAEAAAAABsAAAASAAAAAAACRlZHRz\n",
       "AAAAHGVsc3QAAAAAAAAAAQAAA+gAAAEAAAEAAAAABUxtZGlhAAAAIG1kaGQAAAAAAAAAAAAAAAAA\n",
       "ADIAAAAyAFXEAAAAAAAtaGRscgAAAAAAAAAAdmlkZQAAAAAAAAAAAAAAAFZpZGVvSGFuZGxlcgAA\n",
       "AAT3bWluZgAAABR2bWhkAAAAAQAAAAAAAAAAAAAAJGRpbmYAAAAcZHJlZgAAAAAAAAABAAAADHVy\n",
       "bCAAAAABAAAEt3N0YmwAAAC3c3RzZAAAAAAAAAABAAAAp2F2YzEAAAAAAAAAAQAAAAAAAAAAAAAA\n",
       "AAAAAAABsAEgAEgAAABIAAAAAAAAAAEAAAAAAAAAAAAAAAAAAAAAAAAAAAAAAAAAAAAAAAAAAAAY\n",
       "//8AAAA1YXZjQwFkAB//4QAYZ2QAH6zZQbCWhAAAAwAEAAADAyA8YMZYAQAGaOvjyyLA/fj4AAAA\n",
       "ABx1dWlka2hA8l8kT8W6OaUbzwMj8wAAAAAAAAAYc3R0cwAAAAAAAAABAAAAZAAAAIAAAAAUc3Rz\n",
       "cwAAAAAAAAABAAAAAQAAAfhjdHRzAAAAAAAAAD0AAAABAAABAAAAAAEAAAIAAAAAAgAAAIAAAAAB\n",
       "AAACgAAAAAEAAAEAAAAAAQAAAAAAAAABAAAAgAAAAAEAAAKAAAAAAQAAAQAAAAABAAAAAAAAAAEA\n",
       "AACAAAAAAQAAAoAAAAABAAABAAAAAAEAAAAAAAAAAQAAAIAAAAABAAABgAAAAAEAAACAAAAAAQAA\n",
       "AgAAAAACAAAAgAAAAAEAAAEAAAAAAQAAAoAAAAABAAABAAAAAAEAAAAAAAAAAQAAAIAAAAABAAAC\n",
       "gAAAAAEAAAEAAAAAAQAAAAAAAAABAAAAgAAAAAEAAAGAAAAAAQAAAIAAAAABAAACAAAAAAIAAACA\n",
       "AAAAAQAAAoAAAAABAAABAAAAAAEAAAAAAAAAAQAAAIAAAAAEAAABAAAAAAEAAAGAAAAAAQAAAIAA\n",
       "AAAMAAABAAAAAAEAAAIAAAAAAgAAAIAAAAABAAABAAAAAAEAAAKAAAAAAQAAAQAAAAABAAAAAAAA\n",
       "AAEAAACAAAAAAQAAAQAAAAABAAACAAAAAAIAAACAAAAAAQAAAgAAAAACAAAAgAAAAAEAAAGAAAAA\n",
       "AQAAAIAAAAABAAABAAAAAAEAAAIAAAAAAgAAAIAAAAASAAABAAAAAAEAAAGAAAAAAQAAAIAAAAAC\n",
       "AAABAAAAABxzdHNjAAAAAAAAAAEAAAABAAAAZAAAAAEAAAGkc3RzegAAAAAAAAAAAAAAZAAAFk4A\n",
       "AAIZAAAARwAAACgAAAGGAAAAQwAAACYAAAAgAAACugAAAKMAAAAnAAAATAAAAoUAAAEBAAAAZAAA\n",
       "AH8AAAJIAAAAdQAAAmAAAACZAAAAaQAAAY0AAALWAAAArwAAAGQAAABjAAAC7gAAAHoAAABdAAAA\n",
       "WAAAAiAAAABBAAACXwAAAFYAAAAqAAACTAAAADUAAAAnAAAAIAAAAHIAAAC5AAAAoAAAAJcAAAEx\n",
       "AAAAHQAAAHwAAACRAAAAtQAAAMkAAAC4AAAA+AAAAP4AAAC3AAABAAAAAR8AAADmAAABMgAAAoQA\n",
       "AAAoAAAAHwAAAQcAAANoAAAAKgAAACEAAAAdAAAAvgAAAxMAAAAdAAAAHQAAAwUAAAAhAAAAHQAA\n",
       "AkUAAAAkAAABYwAAAxoAAAAqAAAAGAAAAScAAAGMAAABcQAAAagAAAGiAAABcgAAAYAAAAFqAAAB\n",
       "WgAAAUQAAAEVAAABNwAAARYAAAETAAAA3AAAAQsAAAFBAAAAygAAAYoAAAAnAAAA3QAAAKYAAAAU\n",
       "c3RjbwAAAAAAAAABAAAAMAAAAGJ1ZHRhAAAAWm1ldGEAAAAAAAAAIWhkbHIAAAAAAAAAAG1kaXJh\n",
       "cHBsAAAAAAAAAAAAAAAALWlsc3QAAAAlqXRvbwAAAB1kYXRhAAAAAQAAAABMYXZmNTkuMTYuMTAw\n",
       "\">\n",
       "  Your browser does not support the video tag.\n",
       "</video>"
      ],
      "text/plain": [
       "<IPython.core.display.HTML object>"
      ]
     },
     "execution_count": 52,
     "metadata": {},
     "output_type": "execute_result"
    },
    {
     "data": {
      "image/png": "[encoded data removed]",
      "text/plain": [
       "<Figure size 432x288 with 1 Axes>"
      ]
     },
     "metadata": {
      "needs_background": "light"
     },
     "output_type": "display_data"
    }
   ],
   "source": [
    "import scipy.special as spspec\n",
    "\n",
    "x = np.linspace(-10, 10, 100)\n",
    "v_ext = -2.0 / (abs(x) + 1.0)\n",
    "v_int = iDEA.interactions.softened_interaction(x)\n",
    "electrons = 'uu'\n",
    "s = iDEA.system.System(x, v_ext, v_int, electrons)\n",
    "\n",
    "\n",
    "t = np.linspace(0, 10, 100)\n",
    "v_ptrb = np.zeros(shape=t.shape+x.shape)\n",
    "for j, ti in enumerate(t):\n",
    "    v_ptrb[j,:] = -0.1 * x * 0.5*(spspec.erf(ti - 2.0) + 1.0)\n",
    "\n",
    "\n",
    "state = iDEA.methods.interacting.solve(s, k=0)\n",
    "target_n = iDEA.observables.density(s, state=state)\n",
    "s_fictitious = iDEA.reverse_engineering.reverse(s, target_n, method=iDEA.methods.non_interacting)\n",
    "state_fictitious = iDEA.methods.non_interacting.solve(s_fictitious)\n",
    "\n",
    "\n",
    "evolution = iDEA.methods.interacting.propagate(s, state, v_ptrb, t)\n",
    "target_n = iDEA.observables.density(s, evolution=evolution)\n",
    "evolution_fictitious, error = iDEA.reverse_engineering.reverse_propagation(s_fictitious, state_fictitious, target_n, iDEA.methods.non_interacting, v_ptrb, t)\n",
    "evolution_fictitious = iDEA.methods.non_interacting.propagate(s_fictitious, state_fictitious, evolution_fictitious.v_ptrb, t)\n",
    "\n",
    "\n",
    "for ti in range( len(t) ):\n",
    "    evolution_fictitious.v_ptrb[ti,:] -= evolution_fictitious.v_ptrb[ti,int(0.5*len(x))]\n",
    "\n",
    "\n",
    "n = iDEA.observables.density(s, evolution=evolution_fictitious)\n",
    "v_ext = iDEA.observables.external_potential(s)\n",
    "v_h = iDEA.observables.hartree_potential(s, n)\n",
    "\n",
    "\n",
    "fig = plt.figure()\n",
    "ax = plt.axes(xlim=(s.x[0], s.x[-1]), ylim=(-3.0, 3.0))\n",
    "line1, = ax.plot([], [], lw=2, c=\"k\", label=\"target density\")\n",
    "line2, = ax.plot([], [], lw=2, c=\"r\", ls=\"--\", label=\"fictitious density\")\n",
    "line3, = ax.plot([], [], lw=2, c=\"c\", label=\"driving potential\")\n",
    "line4, = ax.plot([], [], lw=2, c=\"g\", ls=\"--\", label=\"exact KS potential\")\n",
    "def init():\n",
    "    line1.set_data([], [])\n",
    "    line2.set_data([], [])\n",
    "    line3.set_data([], [])\n",
    "    line4.set_data([], [])\n",
    "    return line1, line2, line3, line4\n",
    "def animate(i):\n",
    "    line1.set_data(s.x, n[i,:])\n",
    "    line2.set_data(s.x, target_n[i,:])\n",
    "    line3.set_data(s.x, evolution_fictitious.v_ptrb[i,:])\n",
    "    line4.set_data(s.x, v_ptrb[i,:])\n",
    "    return line1, line2, line3, line4\n",
    "plt.legend()\n",
    "anim = FuncAnimation(fig, animate, init_func=init, frames=100, interval=10, blit=True)\n",
    "HTML(anim.to_html5_video())"
   ]
  },
  {
   "cell_type": "markdown",
   "id": "c20e85eb-b5b6-4729-be53-120d23884b8e",
   "metadata": {},
   "source": [
    "## 8. A full example: Investigating 1D hydrogen molecule."
   ]
  },
  {
   "cell_type": "markdown",
   "id": "fe903879-7d35-4bf7-ad91-f2f9eff13f08",
   "metadata": {},
   "source": [
    "Now you know all the basics of using iDEA to investigate and simulate quantum systems, here we will show you a \"real-world\" example.\n",
    "\n",
    "**In the following section of code, we will compute the exact bonding curve of the 1D hydrogen molecule, and compare it to a conventional figure.**"
   ]
  },
  {
   "cell_type": "code",
   "execution_count": 53,
   "id": "eb87a7b5-9ab8-4418-bba5-84e61bdbb51a",
   "metadata": {},
   "outputs": [
    {
     "name": "stdout",
     "output_type": "stream",
     "text": [
      "distance = 0.0\n",
      "distance = 0.16326530612244897\n",
      "distance = 0.32653061224489793\n",
      "distance = 0.4897959183673469\n",
      "distance = 0.6530612244897959\n",
      "distance = 0.8163265306122448\n",
      "distance = 0.9795918367346939\n",
      "distance = 1.1428571428571428\n",
      "distance = 1.3061224489795917\n",
      "distance = 1.4693877551020407\n",
      "distance = 1.6326530612244896\n",
      "distance = 1.7959183673469385\n",
      "distance = 1.9591836734693877\n",
      "distance = 2.1224489795918364\n",
      "distance = 2.2857142857142856\n",
      "distance = 2.4489795918367343\n",
      "distance = 2.6122448979591835\n",
      "distance = 2.7755102040816326\n",
      "distance = 2.9387755102040813\n",
      "distance = 3.1020408163265305\n",
      "distance = 3.265306122448979\n",
      "distance = 3.4285714285714284\n",
      "distance = 3.591836734693877\n",
      "distance = 3.7551020408163263\n",
      "distance = 3.9183673469387754\n",
      "distance = 4.081632653061225\n",
      "distance = 4.244897959183673\n",
      "distance = 4.408163265306122\n",
      "distance = 4.571428571428571\n",
      "distance = 4.73469387755102\n",
      "distance = 4.897959183673469\n",
      "distance = 5.061224489795918\n",
      "distance = 5.224489795918367\n",
      "distance = 5.387755102040816\n",
      "distance = 5.551020408163265\n",
      "distance = 5.7142857142857135\n",
      "distance = 5.877551020408163\n",
      "distance = 6.040816326530612\n",
      "distance = 6.204081632653061\n",
      "distance = 6.367346938775509\n",
      "distance = 6.530612244897958\n",
      "distance = 6.693877551020408\n",
      "distance = 6.857142857142857\n",
      "distance = 7.020408163265306\n",
      "distance = 7.183673469387754\n",
      "distance = 7.346938775510203\n",
      "distance = 7.5102040816326525\n",
      "distance = 7.673469387755102\n",
      "distance = 7.836734693877551\n",
      "distance = 8.0\n"
     ]
    },
    {
     "data": {
      "text/plain": [
       "[]"
      ]
     },
     "execution_count": 53,
     "metadata": {},
     "output_type": "execute_result"
    },
    {
     "data": {
      "image/png": "[encoded data removed]",
      "text/plain": [
       "<Figure size 432x288 with 1 Axes>"
      ]
     },
     "metadata": {
      "needs_background": "light"
     },
     "output_type": "display_data"
    }
   ],
   "source": [
    "# Build the base system.\n",
    "x = np.linspace(-10, 10, 200)\n",
    "v_ext = np.zeros_like(x) \n",
    "v_int = iDEA.interactions.softened_interaction(x)\n",
    "electrons = 'ud'\n",
    "s = iDEA.system.System(x, v_ext, v_int, electrons)\n",
    "\n",
    "\n",
    "# Function to build the hydrogen molecule at each given distance d.\n",
    "d = 8.0\n",
    "def v(x):\n",
    "    return -1.0/(np.abs(x + 0.5*d) + 1.0) -1.0/(np.abs(x - 0.5*d) + 1.0)\n",
    "\n",
    "\n",
    "# Define range of bond distances.\n",
    "distances = np.linspace(0.0, 8.0, 50)\n",
    "energies = np.zeros_like(distances)\n",
    "\n",
    "\n",
    "# Compute exact electron energy at each distance.\n",
    "for i in range(distances.shape[0]):\n",
    "    d = distances[i]\n",
    "    print('distance = {0}'.format(d))\n",
    "    s.v_ext = np.copy(v(x))                     \n",
    "    state = iDEA.methods.interacting.solve(s)\n",
    "    energies[i] = state.energy\n",
    "\n",
    "\n",
    "# Add the proton energy.\n",
    "E_proton = 1.0 / (np.abs(distances) + 1.0)\n",
    "energies += E_proton\n",
    "\n",
    "\n",
    "# Plot energy curve.\n",
    "plt.axhline(y=-1.0, xmin=0.0, xmax=8.2, linewidth=1, color='k')\n",
    "plt.plot(distances, energies, linestyle='-', color='k', linewidth=2)\n",
    "plt.xlabel('distance (a.u.)', size=25)\n",
    "plt.ylabel('E (a.u.)', size=25)\n",
    "plt.tick_params(top='on', right='on')\n",
    "plt.tick_params(direction='in')\n",
    "plt.gcf().subplots_adjust(left=0.18)\n",
    "plt.gcf().subplots_adjust(bottom=0.18)\n",
    "plt.plot()"
   ]
  },
  {
   "cell_type": "markdown",
   "id": "96048e21-a1e9-4554-a02f-d34fcb036204",
   "metadata": {},
   "source": [
    "We can see this follows the expected curve:\n",
    "\n",
    "![Curve](diagram.png)"
   ]
  },
  {
   "cell_type": "markdown",
   "id": "4ff78ef0-fc02-4ea9-b8f2-8b87235bd12a",
   "metadata": {},
   "source": [
    "Now we recommend, using the tools we have walked through in this tutorial, you gain more experience with the iDEA code by trying to solve some of these more advanced open-ended problems:\n",
    "\n",
    "1. What does the bonding curve from part 8 look like if the electrons have the same spin?\n",
    "2. What is the exact xc potential for the three electron 1D lithium atom.\n",
    "3. Which approximation yields the most accurate density matrix for the QHO.\n",
    "4. What kind of field is needed to ionise an electron out of an atom in real time?\n",
    "5. Can you modify the occupations of a Hartree-Fock calculation, to yield the exact density?"
   ]
  }
 ],
 "metadata": {
  "kernelspec": {
   "display_name": "Python 3 (ipykernel)",
   "language": "python",
   "name": "python3"
  },
  "language_info": {
   "codemirror_mode": {
    "name": "ipython",
    "version": 3
   },
   "file_extension": ".py",
   "mimetype": "text/x-python",
   "name": "python",
   "nbconvert_exporter": "python",
   "pygments_lexer": "ipython3",
   "version": "3.11.7"
  }
 },
 "nbformat": 4,
 "nbformat_minor": 5
}
